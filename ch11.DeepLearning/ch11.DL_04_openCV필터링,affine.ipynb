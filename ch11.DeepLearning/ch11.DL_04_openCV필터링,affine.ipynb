{
 "cells": [
  {
   "cell_type": "markdown",
   "id": "a7485674-b621-4693-9554-27c7ed86b4e8",
   "metadata": {},
   "source": [
    "# openCV 필터링\n",
    "#### 영상에서 필요한 정보만 통과시키고, 원치 않는 정보는 걸러내는 작업"
   ]
  },
  {
   "cell_type": "markdown",
   "id": "0626970d-26da-4ff2-99e5-17ecd337530e",
   "metadata": {},
   "source": [
    "## 1.이진화 (binary) : \n",
    "- THRESH_BINARY를 기준으로 큰값과 작은값을 0과 1로 변경해 흑백사진으로 변경\n",
    "\n",
    "![nn](./img/opencv/result_binary.png)"
   ]
  },
  {
   "cell_type": "code",
   "execution_count": 5,
   "id": "8a531202-71e6-4c54-b7f0-df1c285d42ae",
   "metadata": {},
   "outputs": [
    {
     "name": "stdout",
     "output_type": "stream",
     "text": [
      "133.0\n"
     ]
    }
   ],
   "source": [
    "import sys\n",
    "import random\n",
    "import cv2\n",
    "\n",
    "\n",
    "# 영상 불러오기\n",
    "src = cv2.imread('./img/opencv/namecard1.jpg')\n",
    "\n",
    "if src is None:\n",
    "    print('Image load failed!')\n",
    "    sys.exit()\n",
    "\n",
    "# 입력 영상을 그레이스케일 영상으로 변환\n",
    "src_gray = cv2.cvtColor(src, cv2.COLOR_BGR2GRAY)\n",
    "\n",
    "# 자동 이진화\n",
    "th, src_bin = cv2.threshold(src_gray, 0, 255, cv2.THRESH_BINARY | cv2.THRESH_OTSU)\n",
    "print(th)\n",
    "\n",
    "cv2.imshow('src', src)\n",
    "cv2.imshow('src_bin', src_bin)\n",
    "cv2.waitKey()\n",
    "cv2.destroyAllWindows()\n"
   ]
  },
  {
   "cell_type": "markdown",
   "id": "0720fdb2-fd52-4964-89d8-a17750d98f87",
   "metadata": {},
   "source": [
    "## 2.외곽선 (contours) : \n",
    "- 1. 그레이스케일\n",
    "  2. THRESH_BINARY를 기준으로 큰값과 작은값을 0과 1로 변경해 흑백사진으로 변경\n",
    "  3. 외곽선 검출\n",
    "  4. 컬러 영상으로 변환\n",
    "\n",
    "![nn](./img/opencv/result_contour.png)"
   ]
  },
  {
   "cell_type": "code",
   "execution_count": 14,
   "id": "c21abf43-e85c-4598-a81a-ddea0498f18a",
   "metadata": {},
   "outputs": [],
   "source": [
    "import sys\n",
    "import random\n",
    "import cv2\n",
    "\n",
    "\n",
    "# 영상 불러오기\n",
    "src = cv2.imread('./img/opencv/namecard1.jpg')\n",
    "\n",
    "if src is None:\n",
    "    print('Image load failed!')\n",
    "    sys.exit()\n",
    "\n",
    "# 입력 영상을 그레이스케일 영상으로 변환\n",
    "src_gray = cv2.cvtColor(src, cv2.COLOR_BGR2GRAY)\n",
    "\n",
    "# 자동 이진화\n",
    "_, src_bin = cv2.threshold(src_gray, 0, 255, cv2.THRESH_BINARY | cv2.THRESH_OTSU)\n",
    "\n",
    "# 외곽선 검출 및 명함 검출\n",
    "contours, _ = cv2.findContours(src_bin, cv2.RETR_EXTERNAL, cv2.CHAIN_APPROX_NONE)\n",
    "\n",
    "# 이진 영상을 컬러 영상 형식으로 변환\n",
    "dst = cv2.cvtColor(src_bin, cv2.COLOR_GRAY2BGR)\n",
    "\n",
    "# 검출된 외곽선 모두 그리기\n",
    "for i in range(len(contours)):\n",
    "    c = (random.randint(0, 255), random.randint(0, 255), random.randint(0, 255))\n",
    "    cv2.drawContours(dst, contours, i, c, 2)\n",
    "\n",
    "cv2.imshow('src', src)\n",
    "cv2.imshow('src_gray', src_gray)\n",
    "cv2.imshow('dst', dst)\n",
    "cv2.waitKey()\n",
    "cv2.destroyAllWindows()\n"
   ]
  },
  {
   "cell_type": "code",
   "execution_count": null,
   "id": "a32b95c0-fafb-4e7d-841a-405d582d0611",
   "metadata": {},
   "outputs": [],
   "source": []
  },
  {
   "cell_type": "markdown",
   "id": "e00388ec-fd5d-4250-ae85-bcaeb8b78fed",
   "metadata": {},
   "source": [
    "# 명함 detection\n",
    "![nn](./img/opencv/result_namecard.png)"
   ]
  },
  {
   "cell_type": "code",
   "execution_count": 15,
   "id": "52202729-3fb7-42f1-9423-76355202459b",
   "metadata": {},
   "outputs": [],
   "source": [
    "import sys\n",
    "import cv2\n",
    "\n",
    "\n",
    "# 영상 불러오기\n",
    "src = cv2.imread('./img/opencv/namecard1.jpg')\n",
    "\n",
    "if src is None:\n",
    "    print('Image load failed!')\n",
    "    sys.exit()\n",
    "\n",
    "# 입력 영상을 그레이스케일 영상으로 변환\n",
    "src_gray = cv2.cvtColor(src, cv2.COLOR_BGR2GRAY)\n",
    "\n",
    "# 자동 이진화\n",
    "_, src_bin = cv2.threshold(src_gray, 0, 255, cv2.THRESH_BINARY | cv2.THRESH_OTSU)\n",
    "\n",
    "# 외곽선 검출 및 명함 검출\n",
    "contours, _ = cv2.findContours(src_bin, cv2.RETR_EXTERNAL, cv2.CHAIN_APPROX_NONE)\n",
    "\n",
    "for pts in contours:\n",
    "    # 너무 작은 객체는 무시\n",
    "    if cv2.contourArea(pts) < 1000:\n",
    "        continue\n",
    "\n",
    "    # 외곽선 근사화\n",
    "    approx = cv2.approxPolyDP(pts, cv2.arcLength(pts, True)*0.02, True)\n",
    "\n",
    "    # 사각형으로 근사화되면 외곽선 표시\n",
    "    if len(approx) == 4:\n",
    "        cv2.polylines(src, [approx], True, (0, 255, 0), 2, cv2.LINE_AA)\n",
    "\n",
    "cv2.imshow('src', src)\n",
    "cv2.waitKey()\n",
    "cv2.destroyAllWindows()\n"
   ]
  },
  {
   "cell_type": "markdown",
   "id": "64b1768b-4a7b-4795-83d8-9aa5f7e2162b",
   "metadata": {},
   "source": [
    "# 명함 detection 후 원근법 적용해서 이미지 crop\n",
    "![nn](./img/opencv/result_perspective.png)"
   ]
  },
  {
   "cell_type": "code",
   "execution_count": 20,
   "id": "e959e605-f84f-495d-9855-e6930dc9aad0",
   "metadata": {},
   "outputs": [],
   "source": [
    "import sys\n",
    "import numpy as np\n",
    "import cv2\n",
    "\n",
    "\n",
    "# 영상 불러오기\n",
    "src = cv2.imread('./img/opencv/namecard1.jpg')\n",
    "\n",
    "if src is None:\n",
    "    print('Image load failed!')\n",
    "    sys.exit()\n",
    "\n",
    "# 출력 영상 설정\n",
    "w, h = 720, 400\n",
    "srcQuad = np.array([[324, 308], [760, 369], [718, 611], [231, 517]], np.float32)\n",
    "dstQuad = np.array([[0, 0], [w-1, 0], [w-1, h-1], [0, h-1]], np.float32)\n",
    "dst = np.zeros((h, w), np.uint8)\n",
    "\n",
    "pers = cv2.getPerspectiveTransform(srcQuad, dstQuad)\n",
    "dst = cv2.warpPerspective(src, pers, (w, h))\n",
    "\n",
    "cv2.imshow('src', src)\n",
    "cv2.imshow('dst', dst)\n",
    "cv2.waitKey()\n",
    "cv2.destroyAllWindows()\n"
   ]
  },
  {
   "cell_type": "markdown",
   "id": "2b60edd6-1207-40fa-8d43-2b7022427958",
   "metadata": {},
   "source": [
    "### 함수화 "
   ]
  },
  {
   "cell_type": "code",
   "execution_count": 24,
   "id": "6ebd792a-2378-42df-a2f4-d37eb90ffa61",
   "metadata": {},
   "outputs": [],
   "source": [
    "import sys\n",
    "import numpy as np\n",
    "import cv2\n",
    "\n",
    "def reorderPts(pts):\n",
    "    idx = np.lexsort((pts[:, 1], pts[:, 0]))  # 칼럼0 -> 칼럼1 순으로 정렬한 인덱스를 반환\n",
    "    pts = pts[idx]  # x좌표로 정렬\n",
    "\n",
    "    if pts[0, 1] > pts[1, 1]:\n",
    "        pts[[0, 1]] = pts[[1, 0]]\n",
    "\n",
    "    if pts[2, 1] < pts[3, 1]:\n",
    "        pts[[2, 3]] = pts[[3, 2]]\n",
    "\n",
    "    return pts\n",
    "\n",
    "\n",
    "# 영상 불러오기\n",
    "src = cv2.imread('./img/opencv/namecard1.jpg')\n",
    "\n",
    "if src is None:\n",
    "    print('Image load failed!')\n",
    "    sys.exit()\n",
    "\n",
    "# 출력 영상 설정\n",
    "w, h = 720, 400\n",
    "srcQuad = np.array([[0, 0], [0, h], [w, h], [w, 0]], np.float32)\n",
    "dstQuad = np.array([[0, 0], [0, h], [w, h], [w, 0]], np.float32)\n",
    "dst = np.zeros((h, w), np.uint8)\n",
    "\n",
    "# 입력 영상을 그레이스케일 영상으로 변환\n",
    "src_gray = cv2.cvtColor(src, cv2.COLOR_BGR2GRAY)\n",
    "\n",
    "# 자동 이진화\n",
    "_, src_bin = cv2.threshold(src_gray, 0, 255, cv2.THRESH_BINARY | cv2.THRESH_OTSU)\n",
    "\n",
    "# 외곽선 검출 및 명함 검출\n",
    "contours, _ = cv2.findContours(src_bin, cv2.RETR_EXTERNAL, cv2.CHAIN_APPROX_NONE)\n",
    "\n",
    "for pts in contours:\n",
    "    # 너무 작은 객체는 무시\n",
    "    if cv2.contourArea(pts) < 1000:\n",
    "        continue\n",
    "\n",
    "    # 외곽선 근사화\n",
    "    approx = cv2.approxPolyDP(pts, cv2.arcLength(pts, True)*0.02, True)\n",
    "\n",
    "    # 사각형으로 근사화되면 외곽선 표시\n",
    "    if len(approx) == 4:\n",
    "        #cv2.polylines(src, [approx], True, (0, 255, 0), 2, cv2.LINE_AA)\n",
    "        corners = approx.reshape(4, 2).astype(np.float32)\n",
    "        srcQuad = reorderPts(corners)\n",
    "\n",
    "pers = cv2.getPerspectiveTransform(srcQuad, dstQuad)\n",
    "dst = cv2.warpPerspective(src, pers, (w, h))\n",
    "\n",
    "cv2.imshow('src', src)\n",
    "cv2.imshow('dst', dst)\n",
    "cv2.waitKey()\n",
    "cv2.destroyAllWindows()"
   ]
  },
  {
   "cell_type": "code",
   "execution_count": null,
   "id": "148cb934-4e35-4407-acfe-0839f693bdbd",
   "metadata": {},
   "outputs": [],
   "source": []
  },
  {
   "cell_type": "code",
   "execution_count": null,
   "id": "fceda7ef-2358-4fac-8f68-f6873f4f455c",
   "metadata": {},
   "outputs": [],
   "source": []
  },
  {
   "cell_type": "code",
   "execution_count": null,
   "id": "30a579e2-e3c5-47dd-bdf1-6cdacc15193d",
   "metadata": {},
   "outputs": [],
   "source": []
  },
  {
   "cell_type": "code",
   "execution_count": null,
   "id": "6101ef31-4a76-445d-9217-d9b6f98846db",
   "metadata": {},
   "outputs": [],
   "source": []
  },
  {
   "cell_type": "code",
   "execution_count": null,
   "id": "1f61a2e2-c14c-42cd-a906-efc3164f7fce",
   "metadata": {},
   "outputs": [],
   "source": []
  }
 ],
 "metadata": {
  "kernelspec": {
   "display_name": "Python 3 (ipykernel)",
   "language": "python",
   "name": "python3"
  },
  "language_info": {
   "codemirror_mode": {
    "name": "ipython",
    "version": 3
   },
   "file_extension": ".py",
   "mimetype": "text/x-python",
   "name": "python",
   "nbconvert_exporter": "python",
   "pygments_lexer": "ipython3",
   "version": "3.11.5"
  }
 },
 "nbformat": 4,
 "nbformat_minor": 5
}
