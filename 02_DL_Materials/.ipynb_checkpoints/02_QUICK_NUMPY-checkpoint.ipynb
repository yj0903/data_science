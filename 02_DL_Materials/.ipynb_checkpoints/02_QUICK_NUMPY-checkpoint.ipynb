{
 "cells": [
  {
   "cell_type": "markdown",
   "id": "c9dd0955",
   "metadata": {},
   "source": [
    "<div class=\"alert alert-block\" style=\"border: 2px solid #1976D2;background-color:#E3F2FD;padding:5px;font-size:0.9em;\">\n",
    "본 자료는 저작권법 제25조 2항에 의해 보호를 받습니다. 본 자료를 외부에 공개하지 말아주세요.<br>\n",
    "<b><a href=\"https://school.fun-coding.org/\">잔재미코딩 (https://school.fun-coding.org/)</a> 에서 본 강의를 포함하는 최적화된 로드맵도 확인하실 수 있습니다</b></div>"
   ]
  },
  {
   "cell_type": "markdown",
   "id": "fe579e0f",
   "metadata": {},
   "source": [
    "<div class=\"alert alert-block\" style=\"border: 2px solid #1976D2;background-color:#E3F2FD;padding:5px;font-size:0.9em;\">\n",
    "제 유투브 채널로 본 강의를 포함한 데이터 전과정 로드맵과 관련 커리어를 이해할 수 있는 영상도 참고로 확인해보시면<br> \n",
    "학습하시는데 큰 그림을 이해하실 수 있으실꺼예요. (괜찮으시면 구독과 좋아요도 부탁드립니다. ㅎ)<br>\n",
    "<b>- 데이터, AI 커리어와 데이터 전과정 학습 방법 완벽 가이드: <a href=\"https://youtu.be/vsoAyh4D-zw\">https://youtu.be/vsoAyh4D-zw</a>\n",
    "</div>"
   ]
  },
  {
   "cell_type": "markdown",
   "id": "06b731c7",
   "metadata": {},
   "source": [
    "## Numpy\n",
    "- C 언어로 구현된 라이브러리로, 고성능 수치계산을 위한 기능 제공\n",
    "- 행렬 기반 계산에 유용한 라이브러리\n",
    "\n",
    "> PyTorch 의 문법은 numpy 와 유사하고, numpy 도 데이터 과학을 위해 꼭 정리해야 하는 라이브러리이므로, 정리하기로 함"
   ]
  },
  {
   "cell_type": "markdown",
   "id": "478cfb1a",
   "metadata": {},
   "source": [
    "### 파이썬 리스트와 numpy\n",
    "- 파이썬 리스트는 행렬 기반 계산에는 활용하기 어려움\n",
    "- numpy 행렬 연산은 C 언어로 구현된 내부 코드로 실행되므로, 파이썬에 비해 속도가 빠름\n",
    "\n",
    "> 머신러닝 및 딥러닝에서는 행렬 기반 데이터 가공 및 연산이 필요하므로, numpy 와 같은 라이브러리가 유용하게 쓰일 수 있음"
   ]
  },
  {
   "cell_type": "code",
   "execution_count": 1,
   "id": "1f6db7ec",
   "metadata": {},
   "outputs": [
    {
     "data": {
      "text/plain": [
       "[1, 2, 3, 4, 5, 6]"
      ]
     },
     "execution_count": 1,
     "metadata": {},
     "output_type": "execute_result"
    }
   ],
   "source": [
    "data1 = [1, 2, 3]\n",
    "data2 = [4, 5, 6]\n",
    "\n",
    "data1 + data2"
   ]
  },
  {
   "cell_type": "markdown",
   "id": "028613bd",
   "metadata": {},
   "source": [
    "### numpy 의 일반적인 import 형태"
   ]
  },
  {
   "cell_type": "code",
   "execution_count": 2,
   "id": "0066347e",
   "metadata": {},
   "outputs": [],
   "source": [
    "import numpy as np"
   ]
  },
  {
   "cell_type": "markdown",
   "id": "8df06ea7",
   "metadata": {},
   "source": [
    "### ndarray\n",
    "- numpy 의 핵심은 ndarray 클래스\n",
    "- ndarray 는 다차원 행렬 자료 구조 지원\n",
    "- ndarray 와 파이썬 리스트 차이점\n",
    "  - 파이썬 리스트\n",
    "    - 리스트내에 각 원소의 타입이 다를 수 있음\n",
    "    - 내부 연결 리스트로 구현되어, 각 원소의 저장 위치가 다를 수 있음\n",
    "  - numpy ndarray\n",
    "    - 각 원소의 타입이 동일함\n",
    "    - 각 원소가 이어진 메모리 공간에 배치됨\n",
    "    - 메모리 및 계산 속도 최적화"
   ]
  },
  {
   "cell_type": "markdown",
   "id": "1dde4f53",
   "metadata": {},
   "source": [
    "### ndarray 생성"
   ]
  },
  {
   "cell_type": "code",
   "execution_count": 3,
   "id": "ededca1e",
   "metadata": {},
   "outputs": [
    {
     "name": "stdout",
     "output_type": "stream",
     "text": [
      "[1 2 3] <class 'numpy.ndarray'>\n"
     ]
    }
   ],
   "source": [
    "data1 = np.array([1, 2, 3])\n",
    "print (data1, type(data1))"
   ]
  },
  {
   "cell_type": "code",
   "execution_count": 4,
   "id": "0e64088d",
   "metadata": {},
   "outputs": [
    {
     "data": {
      "text/plain": [
       "(3,)"
      ]
     },
     "execution_count": 4,
     "metadata": {},
     "output_type": "execute_result"
    }
   ],
   "source": [
    "data1.shape # 형태 확인"
   ]
  },
  {
   "cell_type": "code",
   "execution_count": 6,
   "id": "01385f7c",
   "metadata": {},
   "outputs": [
    {
     "data": {
      "text/plain": [
       "1"
      ]
     },
     "execution_count": 6,
     "metadata": {},
     "output_type": "execute_result"
    }
   ],
   "source": [
    "data1.ndim # 배열의 차원을 나타냄"
   ]
  },
  {
   "cell_type": "code",
   "execution_count": 13,
   "id": "b35fa15c",
   "metadata": {},
   "outputs": [
    {
     "name": "stdout",
     "output_type": "stream",
     "text": [
      "(2, 3) 2\n"
     ]
    }
   ],
   "source": [
    "data2 = np.array([ [1, 2, 3], [4, 5, 6] ])\n",
    "print (data2.shape, data2.ndim)"
   ]
  },
  {
   "cell_type": "code",
   "execution_count": 8,
   "id": "f8a56e97",
   "metadata": {},
   "outputs": [
    {
     "name": "stdout",
     "output_type": "stream",
     "text": [
      "int64 int64\n"
     ]
    }
   ],
   "source": [
    "print (data1.dtype, data2.dtype) # 데이터 타입 확인"
   ]
  },
  {
   "cell_type": "code",
   "execution_count": 11,
   "id": "880ed27a",
   "metadata": {},
   "outputs": [
    {
     "name": "stdout",
     "output_type": "stream",
     "text": [
      "3 6\n"
     ]
    }
   ],
   "source": [
    "print (data1.size, data2.size) # 데이터 사이즈(원소 갯수) 확인"
   ]
  },
  {
   "cell_type": "code",
   "execution_count": 14,
   "id": "51744cc6",
   "metadata": {
    "scrolled": true
   },
   "outputs": [
    {
     "name": "stdout",
     "output_type": "stream",
     "text": [
      "(2, 3) 2 float64 6\n"
     ]
    }
   ],
   "source": [
    "data3 = np.array([ [1., 2., 3.], [4., 5., 6.] ])\n",
    "print (data3.shape, data3.ndim, data3.dtype, data3.size)"
   ]
  },
  {
   "cell_type": "markdown",
   "id": "95965e39",
   "metadata": {},
   "source": [
    "### reshape() : 배열 구조 변경"
   ]
  },
  {
   "cell_type": "code",
   "execution_count": 15,
   "id": "73819f91",
   "metadata": {},
   "outputs": [
    {
     "name": "stdout",
     "output_type": "stream",
     "text": [
      "[1 2 3 4 5 6]\n",
      "[[1 2]\n",
      " [3 4]\n",
      " [5 6]]\n",
      "[[1 2]\n",
      " [3 4]\n",
      " [5 6]]\n"
     ]
    }
   ],
   "source": [
    "data3 = np.array([1, 2, 3, 4, 5, 6])\n",
    "print (data3)\n",
    "data3 = data3.reshape(3, 2)\n",
    "print (data3)\n",
    "data3 = data3.reshape(3, -1) # -1 은 열을 행의 갯수에 맞춰 자동 계산\n",
    "print (data3)"
   ]
  },
  {
   "cell_type": "markdown",
   "id": "3054641b",
   "metadata": {},
   "source": [
    "### numpy 데이터 타입 정리\n",
    "\n",
    "- numpy 에서 지원하는 다양한 데이터 타입이 있음\n",
    "  - 주로, int 와 float 를 사용하지만, 데이터 타입이 무엇이 있는지 참고로 정리하기로 함\n",
    "  - 데이터 타입은 numpy 버전에 따라 다를 수 있지만, 기본적인 데이터 타입은 동일함\n",
    "    - numpy.org 에서 데이터 타입에 대해, 버전별로 설명된 자료가 있음 [참고](https://numpy.org/doc/stable/user/basics.types.html)"
   ]
  },
  {
   "cell_type": "markdown",
   "id": "d655c7ec",
   "metadata": {},
   "source": [
    "### numpy 데이터 타입\n",
    "\n",
    "- 크게는 정수형(int), 실수형(float), 복소수형(complex), 논리형(bool) 으로 분류할 수 있음\n",
    "  - 숫자형\n",
    "    - 정수형(int8, int16, int32, int64)\n",
    "    - 부호 없는 정수형(uint8, unit16, unit32, unit64)\n",
    "    - 부동소수형 (float16, float32, float64)\n",
    "    - 복소수형 (complex64, copmlex128)\n",
    "  - 문자형 (string_)\n",
    "  - 부울형 (bool)"
   ]
  },
  {
   "cell_type": "markdown",
   "id": "76021d68",
   "metadata": {},
   "source": [
    "#### 데이터 타입 지정 방법1: dtype=np.Type 으로 지정하는 방법"
   ]
  },
  {
   "cell_type": "code",
   "execution_count": 16,
   "id": "9b78b9ba",
   "metadata": {},
   "outputs": [
    {
     "name": "stdout",
     "output_type": "stream",
     "text": [
      "(2, 3) 2 float64 6\n"
     ]
    }
   ],
   "source": [
    "data4 = np.array([ [1, 2, 3], [4, 5, 6] ], dtype=np.float64)\n",
    "print (data4.shape, data4.ndim, data4.dtype, data4.size)"
   ]
  },
  {
   "cell_type": "markdown",
   "id": "1e50b4f1",
   "metadata": {},
   "source": [
    "#### 데이터 타입 지정 방법2: np.Type([xx, xx]) 으로 지정하는 방법"
   ]
  },
  {
   "cell_type": "code",
   "execution_count": 18,
   "id": "ea6e4176",
   "metadata": {},
   "outputs": [
    {
     "name": "stdout",
     "output_type": "stream",
     "text": [
      "(2, 3) 2 float64 6\n"
     ]
    }
   ],
   "source": [
    "data4 = np.float64([ [1, 2, 3], [4, 5, 6] ])\n",
    "print (data4.shape, data4.ndim, data4.dtype, data4.size)"
   ]
  },
  {
   "cell_type": "markdown",
   "id": "c6726258",
   "metadata": {},
   "source": [
    "#### 참고: 데이터 타입 지정 방법3 - dtype=Type Code 로 지정하는 방법\n",
    "<img src=\"https://www.fun-coding.org/00_Images/numpy-type.png\">"
   ]
  },
  {
   "cell_type": "code",
   "execution_count": 19,
   "id": "1a015bc3",
   "metadata": {},
   "outputs": [
    {
     "name": "stdout",
     "output_type": "stream",
     "text": [
      "(2, 3) 2 float64 6\n"
     ]
    }
   ],
   "source": [
    "data4 = np.array([ [1, 2, 3], [4, 5, 6] ], dtype='f8')\n",
    "print (data4.shape, data4.ndim, data4.dtype, data4.size)"
   ]
  },
  {
   "cell_type": "markdown",
   "id": "635d6f49",
   "metadata": {},
   "source": [
    "### 데이터 타입 변환 (astype)"
   ]
  },
  {
   "cell_type": "code",
   "execution_count": 20,
   "id": "82625ff5",
   "metadata": {},
   "outputs": [
    {
     "name": "stdout",
     "output_type": "stream",
     "text": [
      "(2, 3) 2 float64 6\n",
      "(2, 3) 2 int64 6\n"
     ]
    }
   ],
   "source": [
    "data4 = np.array([ [1, 2, 3], [4, 5, 6] ], dtype='f8')\n",
    "print (data4.shape, data4.ndim, data4.dtype, data4.size)\n",
    "data4 = data4.astype(np.int64)\n",
    "print (data4.shape, data4.ndim, data4.dtype, data4.size)"
   ]
  },
  {
   "cell_type": "markdown",
   "id": "4c15c66c",
   "metadata": {},
   "source": [
    "### T: 전치(transpose) 행렬\n",
    "- 행과 열을 교환하여 얻는 행렬을 의미, $A^T$ 로 표현"
   ]
  },
  {
   "cell_type": "code",
   "execution_count": 22,
   "id": "2de0131d",
   "metadata": {},
   "outputs": [
    {
     "name": "stdout",
     "output_type": "stream",
     "text": [
      "[[1. 2. 3.]\n",
      " [4. 5. 6.]]\n",
      "[[1. 4.]\n",
      " [2. 5.]\n",
      " [3. 6.]]\n"
     ]
    }
   ],
   "source": [
    "data4 = np.float64([ [1, 2, 3], [4, 5, 6] ])\n",
    "print (data4)\n",
    "data4 = data4.T\n",
    "print (data4)"
   ]
  },
  {
   "cell_type": "markdown",
   "id": "c9a45d07",
   "metadata": {},
   "source": [
    "### numpy.transpose() \n",
    "- 원하는대로 축을 한번에 여러개를 변경"
   ]
  },
  {
   "cell_type": "code",
   "execution_count": 28,
   "id": "c324568b",
   "metadata": {},
   "outputs": [
    {
     "name": "stdout",
     "output_type": "stream",
     "text": [
      "[[[0 1 2]\n",
      "  [3 4 5]]] (1, 2, 3)\n",
      "[[[0]\n",
      "  [3]]\n",
      "\n",
      " [[1]\n",
      "  [4]]\n",
      "\n",
      " [[2]\n",
      "  [5]]] (3, 2, 1)\n",
      "[[[0]\n",
      "  [1]\n",
      "  [2]]\n",
      "\n",
      " [[3]\n",
      "  [4]\n",
      "  [5]]] (2, 3, 1)\n"
     ]
    }
   ],
   "source": [
    "data = np.arange(6).reshape(1, 2, 3)\n",
    "print (data, data.shape)\n",
    "print (np.transpose(data), np.transpose(data).shape)\n",
    "print (np.transpose(data, (1, 2, 0)), np.transpose(data, (1, 2, 0)).shape)"
   ]
  },
  {
   "cell_type": "markdown",
   "id": "acaa27ce",
   "metadata": {},
   "source": [
    "### arange() : 배열 생성\n",
    "- np.arrange(start, stop, step)"
   ]
  },
  {
   "cell_type": "code",
   "execution_count": 29,
   "id": "e2b08f05",
   "metadata": {},
   "outputs": [
    {
     "data": {
      "text/plain": [
       "array([0, 1, 2, 3, 4])"
      ]
     },
     "execution_count": 29,
     "metadata": {},
     "output_type": "execute_result"
    }
   ],
   "source": [
    "np.arange(5)"
   ]
  },
  {
   "cell_type": "code",
   "execution_count": 30,
   "id": "a21d82e0",
   "metadata": {},
   "outputs": [
    {
     "data": {
      "text/plain": [
       "array([1, 2, 3, 4])"
      ]
     },
     "execution_count": 30,
     "metadata": {},
     "output_type": "execute_result"
    }
   ],
   "source": [
    "np.arange(1, 5)"
   ]
  },
  {
   "cell_type": "code",
   "execution_count": 31,
   "id": "b45f5a30",
   "metadata": {},
   "outputs": [
    {
     "data": {
      "text/plain": [
       "array([1, 3])"
      ]
     },
     "execution_count": 31,
     "metadata": {},
     "output_type": "execute_result"
    }
   ],
   "source": [
    "np.arange(1, 5, 2)"
   ]
  },
  {
   "cell_type": "markdown",
   "id": "3e99f808",
   "metadata": {},
   "source": [
    "### linspace() : 범위 내 균등 생성\n",
    "- np.linspace(start, stop, count)"
   ]
  },
  {
   "cell_type": "code",
   "execution_count": 32,
   "id": "ab8b9be7",
   "metadata": {},
   "outputs": [
    {
     "data": {
      "text/plain": [
       "array([1.        , 2.33333333, 3.66666667, 5.        ])"
      ]
     },
     "execution_count": 32,
     "metadata": {},
     "output_type": "execute_result"
    }
   ],
   "source": [
    "np.linspace(1, 5, 4)"
   ]
  },
  {
   "cell_type": "markdown",
   "id": "fd0fa84b",
   "metadata": {},
   "source": [
    "### zeros(), ones(), full() : 특정 값으로 배열 생성\n",
    "- np.zeros(shape) : 0 값으로 shape 모양의 배열 생성\n",
    "- np.ones(shape) : 1 값으로 shape 모양의 배열 생성\n",
    "- np.full(shape, fill_value) : 지정한 값(fill_value)으로 shape 모양의 배열 생성"
   ]
  },
  {
   "cell_type": "code",
   "execution_count": 34,
   "id": "346a4002",
   "metadata": {},
   "outputs": [
    {
     "data": {
      "text/plain": [
       "array([[0., 0., 0.],\n",
       "       [0., 0., 0.]])"
      ]
     },
     "execution_count": 34,
     "metadata": {},
     "output_type": "execute_result"
    }
   ],
   "source": [
    "import numpy as np\n",
    "\n",
    "np.zeros(shape=(2, 3))"
   ]
  },
  {
   "cell_type": "code",
   "execution_count": 35,
   "id": "81502444",
   "metadata": {},
   "outputs": [
    {
     "data": {
      "text/plain": [
       "array([[1., 1.],\n",
       "       [1., 1.],\n",
       "       [1., 1.]])"
      ]
     },
     "execution_count": 35,
     "metadata": {},
     "output_type": "execute_result"
    }
   ],
   "source": [
    "np.ones(shape=(3, 2))"
   ]
  },
  {
   "cell_type": "code",
   "execution_count": 36,
   "id": "87c23925",
   "metadata": {},
   "outputs": [
    {
     "data": {
      "text/plain": [
       "array([[5, 5],\n",
       "       [5, 5],\n",
       "       [5, 5],\n",
       "       [5, 5]])"
      ]
     },
     "execution_count": 36,
     "metadata": {},
     "output_type": "execute_result"
    }
   ],
   "source": [
    "np.full(shape=(4, 2), fill_value=5)"
   ]
  },
  {
   "cell_type": "markdown",
   "id": "ed170490",
   "metadata": {},
   "source": [
    "### random.rand() 와 random.randn()\n",
    "- np.random.rand(shape) : 0 부터 1 사이에 균일한 확률 분포로 실수 난수로 shape 모양의 배열 생성\n",
    "- np.random.randn(shape) : 기댓값이 0이고, 표준편차가 1인 가우시안 표준 정규 분포를 따르는 실수 난수로 shape 모양의 배열 생성"
   ]
  },
  {
   "cell_type": "code",
   "execution_count": 37,
   "id": "451a4750",
   "metadata": {},
   "outputs": [
    {
     "name": "stdout",
     "output_type": "stream",
     "text": [
      "[[0.59404086 0.14153949]\n",
      " [0.9772792  0.08514612]\n",
      " [0.33257765 0.97136387]]\n",
      "[[ 1.24535455  0.51410866]\n",
      " [ 0.39318511 -0.71699316]\n",
      " [ 1.12595999 -1.33072075]]\n"
     ]
    }
   ],
   "source": [
    "print (np.random.rand(3, 2))\n",
    "print (np.random.randn(3, 2))"
   ]
  },
  {
   "cell_type": "markdown",
   "id": "6489e8cc",
   "metadata": {},
   "source": [
    "### ndarray 연산\n",
    "- 본래 행렬 곱셈은 앞 행렬의 열의 갯수와 뒷 행렬의 행의 갯수가 같아야 행렬간 곱셈이 가능하지만,\n",
    "- ndarray 연산은 shape 가 동일해야 하고, 행과 열이 같은 값끼리 연산이 됨\n",
    "\n",
    "```python\n",
    "data1 = np.random.randn(3, 2)\n",
    "data2 = np.random.randn(2, 3)\n",
    "data1 * data2 # shape 이 다르므로 연산이 안됨\n",
    "```"
   ]
  },
  {
   "cell_type": "code",
   "execution_count": 39,
   "id": "cab0ad2a",
   "metadata": {},
   "outputs": [
    {
     "name": "stdout",
     "output_type": "stream",
     "text": [
      "[[ 2  4  6]\n",
      " [ 8 10 12]]\n",
      "[[0 0 0]\n",
      " [0 0 0]]\n",
      "[[ 1  4  9]\n",
      " [16 25 36]]\n",
      "[[1. 1. 1.]\n",
      " [1. 1. 1.]]\n",
      "[[0 0 0]\n",
      " [0 0 0]]\n",
      "[[1 1 1]\n",
      " [1 1 1]]\n"
     ]
    }
   ],
   "source": [
    "data1 = np.array([ [1, 2, 3], [4, 5, 6] ])\n",
    "data2 = np.array([ [1, 2, 3], [4, 5, 6] ])\n",
    "print (data1 + data2)\n",
    "print (data1 - data2)\n",
    "print (data1 * data2)\n",
    "print (data1 / data2)\n",
    "print (data1 % data2) # 나머지\n",
    "print (data1 // data2) # 몫"
   ]
  },
  {
   "cell_type": "markdown",
   "id": "414dfa93",
   "metadata": {},
   "source": [
    "### ndarray 연산 (브로드캐스팅)\n",
    "- 두 배열간의 브로드캐스팅이 가능하기 위한 조건이 있음\n",
    "  - 두 배열에 있는 각 차원에 대해, 끝쪽 차원부터 다음 조건을 비교하며, 앞쪽 방향으로 진행 \n",
    "     - 각 차원의 원소 수가 똑같거나\n",
    "     - 둘 중의 하나의 차원의 원소 수는 1인 경우\n",
    "- 주요 브로드캐스팅 가능 케이스\n",
    "<img src=\"https://www.fun-coding.org/00_Images/numpy-broadcasting.png\">"
   ]
  },
  {
   "cell_type": "code",
   "execution_count": 41,
   "id": "e487d5b8",
   "metadata": {},
   "outputs": [
    {
     "name": "stdout",
     "output_type": "stream",
     "text": [
      "data1 [[1 2]\n",
      " [3 4]\n",
      " [5 6]] (3, 2) \n",
      "\n",
      "[[2 3]\n",
      " [4 5]\n",
      " [6 7]] \n",
      "\n",
      "data2 [[1]\n",
      " [2]\n",
      " [3]] (3, 1) \n",
      "\n",
      "[[2 3]\n",
      " [5 6]\n",
      " [8 9]] \n",
      "\n",
      "data3 [[1 2 3]] (1, 3) \n",
      "\n",
      "[[2 3 4]\n",
      " [3 4 5]\n",
      " [4 5 6]] \n",
      "\n"
     ]
    }
   ],
   "source": [
    "data1 = np.array([ [1, 2], [3, 4], [5, 6] ])\n",
    "print (\"data1\", data1, data1.shape, '\\n')\n",
    "print (data1 + 1, '\\n')\n",
    "data2 = np.array([ [1], [2], [3] ])\n",
    "print (\"data2\", data2, data2.shape, '\\n')\n",
    "print (data1 + data2, '\\n')\n",
    "data3 = np.array([ [1, 2, 3] ])\n",
    "print (\"data3\", data3, data3.shape, '\\n')\n",
    "print (data2 + data3, '\\n')"
   ]
  },
  {
   "cell_type": "markdown",
   "id": "747980fe",
   "metadata": {},
   "source": [
    "### 행렬 곱셈 @ \n",
    "- 앞 행렬의 열의 갯수와 뒷 행렬의 행의 갯수가 같아야 행렬간 곱셈이 가능"
   ]
  },
  {
   "cell_type": "code",
   "execution_count": 42,
   "id": "c4f1807c",
   "metadata": {},
   "outputs": [
    {
     "data": {
      "text/plain": [
       "array([[-0.02861351,  0.18740863,  0.09539108],\n",
       "       [-0.99904126, -2.54368919,  0.45894837],\n",
       "       [ 0.51271169,  1.73399542, -0.10010191]])"
      ]
     },
     "execution_count": 42,
     "metadata": {},
     "output_type": "execute_result"
    }
   ],
   "source": [
    "data1 = np.random.randn(3, 2)\n",
    "data2 = np.random.randn(2, 3)\n",
    "data1 @ data2 # shape 이 다르므로 연산이 안됨"
   ]
  },
  {
   "cell_type": "markdown",
   "id": "061406c6",
   "metadata": {},
   "source": [
    "### ndarray 원소 접근 방법 (indexing)\n",
    "- 배열의 특정 데이터를 가져오는 기능을 indexing 이라고 함"
   ]
  },
  {
   "cell_type": "code",
   "execution_count": 43,
   "id": "11467abf",
   "metadata": {},
   "outputs": [
    {
     "name": "stdout",
     "output_type": "stream",
     "text": [
      "[[1. 2. 3.]\n",
      " [4. 5. 6.]]\n",
      "5.0\n",
      "[2. 5.]\n",
      "[[1. 2. 3.]\n",
      " [4. 5. 6.]]\n",
      "[[1. 2.]]\n"
     ]
    }
   ],
   "source": [
    "data3 = np.array([ [1., 2., 3.], [4., 5., 6.] ])\n",
    "print (data3)\n",
    "print (data3[1, 1]) \n",
    "print (data3[:, 1]) # 슬라이싱, : 는 전체를 의미\n",
    "print (data3[:, :])\n",
    "print (data3[:1, :2]) # 슬라이싱, :1 이란 1 - 1 인 0까지를 의미하므로, 0, 2 - 1 은 1까지를 의미하므로, 0 과 1"
   ]
  },
  {
   "cell_type": "markdown",
   "id": "ba7ad43d",
   "metadata": {},
   "source": [
    "### boolean indexing\n",
    "- 조건 필터링과 검색을 동시에 할 수 있어서, 유용하게 쓰이는 인덱싱 기법"
   ]
  },
  {
   "cell_type": "code",
   "execution_count": 47,
   "id": "1d2f6640",
   "metadata": {},
   "outputs": [
    {
     "name": "stdout",
     "output_type": "stream",
     "text": [
      "[[False False False]\n",
      " [ True  True  True]]\n",
      "[4 5 6]\n",
      "[4]\n"
     ]
    }
   ],
   "source": [
    "data1 = np.array([ [1, 2, 3], [4, 5, 6] ])\n",
    "data2 = data1 > 3\n",
    "print (data2)\n",
    "print (data1[data2]) # True 인 값만 추출 가능\n",
    "print (data1[(data1 > 3) & (data1 < 5)]) # 다중 조건으로 &(AND), |(OR) 사용 가능"
   ]
  },
  {
   "cell_type": "markdown",
   "id": "2da5bab6",
   "metadata": {},
   "source": [
    "### fancy indexing\n",
    "- 다른 배열로 배열을 인덱싱할 수 있는 기능\n",
    "- 이를 통해, 복잡한 배열 값의 하위 집합을 빠르게 접근할 수 있음"
   ]
  },
  {
   "cell_type": "code",
   "execution_count": 51,
   "id": "4aa2c634",
   "metadata": {},
   "outputs": [
    {
     "name": "stdout",
     "output_type": "stream",
     "text": [
      "[[-0.67341764 -0.55759249  0.69055035]\n",
      " [-0.43959862 -0.70590335 -0.58752456]\n",
      " [-2.57891316 -0.06927447  0.60010219]\n",
      " [ 0.68146761  0.28212086 -0.77286068]]\n"
     ]
    }
   ],
   "source": [
    "import numpy as np\n",
    "data1 = np.random.randn(4, 3)\n",
    "print(data1)"
   ]
  },
  {
   "cell_type": "code",
   "execution_count": 56,
   "id": "7641f218",
   "metadata": {},
   "outputs": [
    {
     "name": "stdout",
     "output_type": "stream",
     "text": [
      "[[-0.43959862 -0.70590335 -0.58752456]\n",
      " [-2.57891316 -0.06927447  0.60010219]]\n",
      "[[-0.43959862 -0.70590335 -0.58752456]\n",
      " [ 0.68146761  0.28212086 -0.77286068]]\n"
     ]
    }
   ],
   "source": [
    "# 특정 행 배열 추출하기\n",
    "print (data1[ [1, 2] ])\n",
    "print (data1[ [1, -1] ])"
   ]
  },
  {
   "cell_type": "code",
   "execution_count": 55,
   "id": "d3584a2b",
   "metadata": {
    "scrolled": true
   },
   "outputs": [
    {
     "name": "stdout",
     "output_type": "stream",
     "text": [
      "[[-0.43959862 -0.58752456]\n",
      " [-2.57891316  0.60010219]]\n",
      "[[-0.43959862]\n",
      " [ 0.68146761]]\n"
     ]
    }
   ],
   "source": [
    "# 특정 행과 열 추출하기 (참고)\n",
    "print (data1[ [1, 2] ][:, [0, 2] ]) # 1, 2 행을 선택하고, 이 행들의 전체 행을 : 으로 선택한 후, 이 중에 0 과 2 의 열만 추출하기\n",
    "print (data1[ [1, -1] ][:, [0] ]) # 1, 2 행을 선택하고, 이 행들의 전체 행을 : 으로 선택한 후, 이 중에 0 의 열만 추출하기"
   ]
  },
  {
   "cell_type": "markdown",
   "id": "343569e1",
   "metadata": {},
   "source": [
    "### 배열 복사: copy()"
   ]
  },
  {
   "cell_type": "code",
   "execution_count": 57,
   "id": "b1c247cf",
   "metadata": {},
   "outputs": [
    {
     "name": "stdout",
     "output_type": "stream",
     "text": [
      "[[1 2 3]\n",
      " [4 5 6]]\n",
      "[[1 2]\n",
      " [4 5]]\n"
     ]
    }
   ],
   "source": [
    "data1 = np.array([ [1, 2, 3], [4, 5, 6] ])\n",
    "print (data1)\n",
    "data2 = data1[:2, :2]\n",
    "print (data2)"
   ]
  },
  {
   "cell_type": "code",
   "execution_count": 58,
   "id": "fa0f4bc7",
   "metadata": {},
   "outputs": [
    {
     "name": "stdout",
     "output_type": "stream",
     "text": [
      "[[1 2]\n",
      " [4 4]]\n",
      "[[1 2 3]\n",
      " [4 4 6]]\n"
     ]
    }
   ],
   "source": [
    "data2[1, 1] = 4\n",
    "print (data2)\n",
    "print (data1)"
   ]
  },
  {
   "cell_type": "code",
   "execution_count": 59,
   "id": "f1070362",
   "metadata": {},
   "outputs": [
    {
     "name": "stdout",
     "output_type": "stream",
     "text": [
      "[[1 2 3]\n",
      " [4 5 6]]\n",
      "[[1 2]\n",
      " [4 5]]\n",
      "[[1 2]\n",
      " [4 4]]\n",
      "[[1 2 3]\n",
      " [4 5 6]]\n"
     ]
    }
   ],
   "source": [
    "data1 = np.array([ [1, 2, 3], [4, 5, 6] ])\n",
    "print (data1)\n",
    "data2 = data1[:2, :2].copy() # copy() 로 복사하면 됨\n",
    "print (data2)\n",
    "data2[1, 1] = 4\n",
    "print (data2)\n",
    "print (data1)"
   ]
  },
  {
   "cell_type": "markdown",
   "id": "2fa6a261",
   "metadata": {},
   "source": [
    "### 배열 조건 연산: where()\n",
    "- np.where(조건, 참일 때의 배열, 거짓일 때의 배열)"
   ]
  },
  {
   "cell_type": "markdown",
   "id": "3b37ebdc",
   "metadata": {},
   "source": [
    "#### 조건에 맞는 값 indexing "
   ]
  },
  {
   "cell_type": "code",
   "execution_count": 64,
   "id": "feec17f3",
   "metadata": {},
   "outputs": [
    {
     "name": "stdout",
     "output_type": "stream",
     "text": [
      "(array([4]),)\n",
      "[1]\n"
     ]
    }
   ],
   "source": [
    "data1 = np.array([7, 5, 5, 4, 1])\n",
    "index = np.where(data1 < 3) # 조건에 맞는 인덱스 번호 리턴\n",
    "print(index)\n",
    "print(data1[index])"
   ]
  },
  {
   "cell_type": "markdown",
   "id": "342555d2",
   "metadata": {},
   "source": [
    "#### 조건에 맞는 값 특정 다른 값으로 변환"
   ]
  },
  {
   "cell_type": "code",
   "execution_count": 66,
   "id": "36c99275",
   "metadata": {},
   "outputs": [
    {
     "name": "stdout",
     "output_type": "stream",
     "text": [
      "[7 5 5 4 1]\n",
      "[ 1  1  1  1 -1]\n"
     ]
    }
   ],
   "source": [
    "print(data1)\n",
    "data2 = np.where(data1 < 3, -1, 1) # 조건에 맞으면 -1, 틀리면 1 로 원소 값을 수정\n",
    "print(data2)"
   ]
  },
  {
   "cell_type": "markdown",
   "id": "ae6838ba",
   "metadata": {},
   "source": [
    "#### 다차원 배열에도 적용 가능"
   ]
  },
  {
   "cell_type": "code",
   "execution_count": 67,
   "id": "216fcea3",
   "metadata": {},
   "outputs": [
    {
     "name": "stdout",
     "output_type": "stream",
     "text": [
      "[[-1 -1  1]\n",
      " [ 1  1  1]]\n"
     ]
    }
   ],
   "source": [
    "data1 = np.array([ [1, 2, 3], [4, 5, 6] ])\n",
    "data2 = np.where(data1 < 3, -1, 1) # 조건에 맞으면 -1, 틀리면 1 로 원소 값을 수정\n",
    "print (data2)"
   ]
  },
  {
   "cell_type": "markdown",
   "id": "3f569f3b",
   "metadata": {},
   "source": [
    "### 배열 데이터 분석\n",
    "- min(), max(), sum(), mean(), var(), std() : 최대값, 최소값, 합계값, 평균값, 분산값, 표준편차값\n",
    "- argmin(), argmax() : 최소값의 인덱스 번호, 최대값의 인덱스 번호"
   ]
  },
  {
   "cell_type": "code",
   "execution_count": 68,
   "id": "26b35ec9",
   "metadata": {},
   "outputs": [
    {
     "name": "stdout",
     "output_type": "stream",
     "text": [
      "1\n",
      "6\n",
      "21\n",
      "3.5\n",
      "2.9166666666666665\n",
      "1.707825127659933\n",
      "0\n",
      "5\n"
     ]
    }
   ],
   "source": [
    "data1 = np.array([ [1, 2, 3], [4, 5, 6] ])\n",
    "print (data1.min())\n",
    "print (data1.max())\n",
    "print (data1.sum())\n",
    "print (data1.mean())\n",
    "print (data1.var())\n",
    "print (data1.std())\n",
    "print (data1.argmin())\n",
    "print (data1.argmax())"
   ]
  },
  {
   "cell_type": "markdown",
   "id": "6ca742a4",
   "metadata": {},
   "source": [
    "### 배열을 파일로 저장하고, 불러오기"
   ]
  },
  {
   "cell_type": "markdown",
   "id": "f624ca9a",
   "metadata": {},
   "source": [
    "#### 한 개의 배열 저장 \n",
    "- save() 로 파일로 저장 가능 \n",
    "- .npy 확장자로 파일명 생성"
   ]
  },
  {
   "cell_type": "code",
   "execution_count": 69,
   "id": "efd1feb4",
   "metadata": {},
   "outputs": [
    {
     "name": "stdout",
     "output_type": "stream",
     "text": [
      "[1.         2.33333333 3.66666667 5.        ]\n"
     ]
    }
   ],
   "source": [
    "data1 = np.linspace(1, 5, 4)\n",
    "print (data1)\n",
    "np.save('mydata1', data1)"
   ]
  },
  {
   "cell_type": "markdown",
   "id": "78d53141",
   "metadata": {},
   "source": [
    "#### 한 개의 배열 읽어오기 \n",
    "- load() 로 파일로 저장된 1차원 배열을 읽어올 수 있음"
   ]
  },
  {
   "cell_type": "code",
   "execution_count": 70,
   "id": "32bb362c",
   "metadata": {},
   "outputs": [
    {
     "name": "stdout",
     "output_type": "stream",
     "text": [
      "[1.         2.33333333 3.66666667 5.        ]\n"
     ]
    }
   ],
   "source": [
    "data2 = np.load('mydata1.npy')\n",
    "print (data2)"
   ]
  },
  {
   "cell_type": "markdown",
   "id": "c30a4da3",
   "metadata": {},
   "source": [
    "#### 한 개 이상의 배열 저장 \n",
    "- savez() 로 파일로 저장 가능 \n",
    "- .npz 확장자로 파일명 생성\n",
    "- 각 배열을 key=배열 로 key 값을 지정할 수 있음"
   ]
  },
  {
   "cell_type": "code",
   "execution_count": 71,
   "id": "8703706f",
   "metadata": {},
   "outputs": [
    {
     "name": "stdout",
     "output_type": "stream",
     "text": [
      "[1.         2.33333333 3.66666667 5.        ]\n",
      "[ 1.  4.  7. 10.]\n",
      "[  1.  34.  67. 100.]\n"
     ]
    }
   ],
   "source": [
    "data1 = np.linspace(1, 5, 4)\n",
    "data2 = np.linspace(1, 10, 4)\n",
    "data3 = np.linspace(1, 100, 4)\n",
    "print (data1)\n",
    "print (data2)\n",
    "print (data3)\n",
    "np.savez('mydatas', five=data1, ten=data2, hundred=data3)"
   ]
  },
  {
   "cell_type": "code",
   "execution_count": 72,
   "id": "dfa94433",
   "metadata": {},
   "outputs": [
    {
     "name": "stdout",
     "output_type": "stream",
     "text": [
      "['five', 'ten', 'hundred']\n",
      "[1.         2.33333333 3.66666667 5.        ]\n",
      "[ 1.  4.  7. 10.]\n",
      "[  1.  34.  67. 100.]\n"
     ]
    }
   ],
   "source": [
    "datas = np.load('mydatas.npz')\n",
    "print (datas.files)\n",
    "print (datas['five'])\n",
    "print (datas['ten'])\n",
    "print (datas['hundred'])"
   ]
  },
  {
   "cell_type": "markdown",
   "id": "7f582973",
   "metadata": {},
   "source": [
    "<div class=\"alert alert-block\" style=\"border: 2px solid #1976D2;background-color:#E3F2FD;padding:5px;font-size:0.9em;\">\n",
    "본 자료는 저작권법 제25조 2항에 의해 보호를 받습니다. 본 자료를 외부에 공개하지 말아주세요.<br>\n",
    "<b><a href=\"https://school.fun-coding.org/\">잔재미코딩 (https://school.fun-coding.org/)</a> 에서 본 강의를 포함하는 최적화된 로드맵도 확인하실 수 있습니다</b></div>"
   ]
  }
 ],
 "metadata": {
  "kernelspec": {
   "display_name": "Python 3 (ipykernel)",
   "language": "python",
   "name": "python3"
  },
  "language_info": {
   "codemirror_mode": {
    "name": "ipython",
    "version": 3
   },
   "file_extension": ".py",
   "mimetype": "text/x-python",
   "name": "python",
   "nbconvert_exporter": "python",
   "pygments_lexer": "ipython3",
   "version": "3.11.5"
  }
 },
 "nbformat": 4,
 "nbformat_minor": 5
}
