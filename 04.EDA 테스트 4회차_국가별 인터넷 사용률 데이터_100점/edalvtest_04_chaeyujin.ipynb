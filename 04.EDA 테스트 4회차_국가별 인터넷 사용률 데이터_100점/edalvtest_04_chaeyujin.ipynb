{
 "cells": [
  {
   "cell_type": "markdown",
   "metadata": {
    "id": "Gr5pBcTX1wX-"
   },
   "source": [
    "<div align=\"center\">\n",
    "    <img src=\"images/zb-logo.png\" alt=\"제로베이스\" width=\"100%\">\n",
    "    <br>\n",
    "    <a href=\"https://zerobaseschool.notion.site/DS-EDA-Lv-Test-b7d5e895c7cd4dda813c8fe2f2c23f79\"><img src=\"images/openinnotion_logo.png\" alt=\"EDA Lv Test Doc\" width=\"12%\"></a>\n",
    "\n",
    "이 Jupyter Notebook 파일은 <a href=\"https://zero-base.co.kr/category_data_camp/school_DS\">제로베이스</a>에서 제공하는 **EDA Level Test** 문제입니다.<br>\n",
    "지금까지 공부하신 내용으로 데이터 분석에 대해 좀 더 연습할 수 있는 시간이 되셨으면 좋겠습니다.🙂<br>\n",
    "**EDA Level Test**에 대한 안내 사항은 상단 **Open in ZeroBase Notion** 로고를 클릭하여 확인해주세요!<br>\n",
    "반드시 시작 전에 내용을 숙지해주시기를 바랍니다!<br>\n",
    "</div>\n",
    "\n",
    "***"
   ]
  },
  {
   "cell_type": "markdown",
   "metadata": {
    "id": "IpiyJ-Xq1wYB"
   },
   "source": [
    "<h1 style=\"background-color:#9F81F7;color:#D8D8D8;font-weight:bold;display:inline-block;padding: 5px\">EDA Level Test 04 ⭐️⭐️</h1>\n",
    "\n",
    "| Week | Data Analysis | Difficulty | This Notebook |\n",
    "|------|---------------|------------|-------|\n",
    "| 1    | 서울시 인구 데이터 | ⭐️ ||\n",
    "| 2    | 화장품 성분 데이터 | ⭐️⭐️⭐️ ||\n",
    "| 3    | 올림픽 데이터 | ⭐️⭐️ ||\n",
    "| 4    | 국가별 인터넷 사용률 데이터 |⭐️⭐️ |👈|\n",
    "| 5    | 전국 박물관/미술관 정보 표준 데이터 | ⭐️⭐️⭐️ ||\n",
    "| 6    | 서울시 흡연율 통계 데이터 | ⭐️⭐️ ||\n",
    "| 7    | 웹크롤링 | ⭐️ ||\n",
    "| 8    | 서울시 지하철 호선별 역별 유/무임 승하차 인원 정보 데이터 | ⭐️⭐️ ||\n",
    "| 9    | 서울시 교통사고 현황 (사고유형별) 통계 데이터 | ⭐️⭐️ ||\n",
    "| 10   | 서울시 교통사고 현황 (사고유형별) 통계 + 서울시 차량통행속도 (구별/월별) 통계 + 서울시 인구밀도 (구별) 통계 | ⭐️⭐️⭐️ ||"
   ]
  },
  {
   "cell_type": "markdown",
   "metadata": {
    "id": "HEIIe9JO1wYB"
   },
   "source": [
    "## 문제 소개 및 데이터 준비 단계\n",
    "\n",
    "### Data 원본 출처\n",
    "\n",
    "### Target Data(CSV): Global Internet Usage(국가별 인터넷 사용률)\n",
    "- Source: [Kaggle](https://www.kaggle.com/datasets/sansuthi/gapminder-internet)\n",
    "- DownLoad: [archive.zip](https://www.kaggle.com/datasets/sansuthi/gapminder-internet/download)\n",
    "\n",
    "### Reference Data01(HTML Link): 국가별 인구(Population) Data\n",
    "- Source: [Wiki](https://en.wikipedia.org/wiki/List_of_countries_and_dependencies_by_population)\n",
    "\n",
    "### Reference Data02(CSV): 국가별 ISO코드 / 지역 분류(Region) Data\n",
    "- Source: [Kaggle](https://www.kaggle.com/datasets/andradaolteanu/country-mapping-iso-continent-region)\n",
    "- DownLoad: [archive.zip](https://www.kaggle.com/datasets/andradaolteanu/country-mapping-iso-continent-region/download)\n",
    "\n",
    "\n",
    "### 참고사항\n",
    "- 위 3개의 Data들은 생성 시기가 다르므로 이 Test에서 도출되는 결과는 실제와 일치하지 않습니다.\n",
    "<br></br>\n",
    "- 문제에 hint가 있을 경우, 해당 hint를 이용하지 않으셔도 무방합니다.\n",
    "<br></br>\n",
    "- 해당 Test는 Wiki의 Online Data를 가져오는 내용을 포함하고 있습니다.\n",
    "    - 해당 내용이 변경될 경우 추후 공유될 정답과 다를 수 있습니다.\n",
    "    - 문제 제작시의 Data는 추후 공유될 정답과 함께 제공합니다. 해당 Data는 아래의 경로에 있습니다.  \n",
    "        - 국가별 인구 Data  \n",
    "            <code> [DS]EDA Level Test_week 4/solution/datas/wiki_population.csv </code>  \n",
    "<br></br>\n",
    "- 해당 Test는 pycountry 라는 Library를 사용할 예정입니다.\n",
    "    - https://pypi.org/project/pycountry/#description\n",
    "    - https://github.com/flyingcircusio/pycountry\n",
    "<br></br>\n",
    "    - 해당 Library가 없는 경우 아래 명령어를 사용하여 설치하시기 바랍니다.  \n",
    "    <code> pip install pycountry </code> 또는 <code> conda install -c conda-forge pycountry </code>"
   ]
  },
  {
   "cell_type": "code",
   "execution_count": 1,
   "metadata": {
    "id": "k3Ww3WbD1wYC",
    "outputId": "272d60b9-cae7-4644-ca95-8c66efd59b2a"
   },
   "outputs": [
    {
     "name": "stdout",
     "output_type": "stream",
     "text": [
      "Collecting pycountry\n",
      "  Downloading pycountry-22.3.5.tar.gz (10.1 MB)\n",
      "     ---------------------------------------- 0.0/10.1 MB ? eta -:--:--\n",
      "     - -------------------------------------- 0.3/10.1 MB 6.3 MB/s eta 0:00:02\n",
      "     -- ------------------------------------- 0.7/10.1 MB 7.2 MB/s eta 0:00:02\n",
      "     --- ------------------------------------ 1.0/10.1 MB 6.8 MB/s eta 0:00:02\n",
      "     ----- ---------------------------------- 1.3/10.1 MB 7.0 MB/s eta 0:00:02\n",
      "     ------ --------------------------------- 1.6/10.1 MB 6.8 MB/s eta 0:00:02\n",
      "     ------- -------------------------------- 2.0/10.1 MB 7.1 MB/s eta 0:00:02\n",
      "     --------- ------------------------------ 2.3/10.1 MB 6.9 MB/s eta 0:00:02\n",
      "     ---------- ----------------------------- 2.6/10.1 MB 6.9 MB/s eta 0:00:02\n",
      "     ----------- ---------------------------- 2.9/10.1 MB 6.8 MB/s eta 0:00:02\n",
      "     ------------ --------------------------- 3.2/10.1 MB 6.8 MB/s eta 0:00:02\n",
      "     ------------- -------------------------- 3.5/10.1 MB 6.8 MB/s eta 0:00:01\n",
      "     --------------- ------------------------ 3.8/10.1 MB 6.8 MB/s eta 0:00:01\n",
      "     ---------------- ----------------------- 4.2/10.1 MB 7.0 MB/s eta 0:00:01\n",
      "     ----------------- ---------------------- 4.4/10.1 MB 6.7 MB/s eta 0:00:01\n",
      "     ------------------ --------------------- 4.8/10.1 MB 6.9 MB/s eta 0:00:01\n",
      "     ------------------- -------------------- 4.9/10.1 MB 6.7 MB/s eta 0:00:01\n",
      "     -------------------- ------------------- 5.2/10.1 MB 6.6 MB/s eta 0:00:01\n",
      "     --------------------- ------------------ 5.4/10.1 MB 6.5 MB/s eta 0:00:01\n",
      "     --------------------- ------------------ 5.6/10.1 MB 6.4 MB/s eta 0:00:01\n",
      "     ---------------------- ----------------- 5.8/10.1 MB 6.2 MB/s eta 0:00:01\n",
      "     ----------------------- ---------------- 6.0/10.1 MB 6.2 MB/s eta 0:00:01\n",
      "     ------------------------ --------------- 6.2/10.1 MB 6.1 MB/s eta 0:00:01\n",
      "     ------------------------- -------------- 6.4/10.1 MB 6.0 MB/s eta 0:00:01\n",
      "     ------------------------- -------------- 6.5/10.1 MB 5.9 MB/s eta 0:00:01\n",
      "     -------------------------- ------------- 6.7/10.1 MB 5.8 MB/s eta 0:00:01\n",
      "     --------------------------- ------------ 6.9/10.1 MB 5.7 MB/s eta 0:00:01\n",
      "     ---------------------------- ----------- 7.1/10.1 MB 5.7 MB/s eta 0:00:01\n",
      "     ---------------------------- ----------- 7.3/10.1 MB 5.6 MB/s eta 0:00:01\n",
      "     ----------------------------- ---------- 7.6/10.1 MB 5.6 MB/s eta 0:00:01\n",
      "     ------------------------------- -------- 7.9/10.1 MB 5.7 MB/s eta 0:00:01\n",
      "     -------------------------------- ------- 8.2/10.1 MB 5.7 MB/s eta 0:00:01\n",
      "     --------------------------------- ------ 8.4/10.1 MB 5.8 MB/s eta 0:00:01\n",
      "     --------------------------------- ------ 8.4/10.1 MB 5.8 MB/s eta 0:00:01\n",
      "     --------------------------------- ------ 8.4/10.1 MB 5.3 MB/s eta 0:00:01\n",
      "     ---------------------------------- ----- 8.7/10.1 MB 5.4 MB/s eta 0:00:01\n",
      "     ----------------------------------- ---- 9.0/10.1 MB 5.4 MB/s eta 0:00:01\n",
      "     ------------------------------------ --- 9.3/10.1 MB 5.4 MB/s eta 0:00:01\n",
      "     ------------------------------------- -- 9.5/10.1 MB 5.4 MB/s eta 0:00:01\n",
      "     -------------------------------------- - 9.8/10.1 MB 5.4 MB/s eta 0:00:01\n",
      "     ---------------------------------------  10.1/10.1 MB 5.5 MB/s eta 0:00:01\n",
      "     ---------------------------------------- 10.1/10.1 MB 5.4 MB/s eta 0:00:00\n",
      "  Installing build dependencies: started\n",
      "  Installing build dependencies: finished with status 'done'\n",
      "  Getting requirements to build wheel: started\n",
      "  Getting requirements to build wheel: finished with status 'done'\n",
      "  Preparing metadata (pyproject.toml): started\n",
      "  Preparing metadata (pyproject.toml): finished with status 'done'\n",
      "Requirement already satisfied: setuptools in c:\\users\\user\\appdata\\local\\programs\\python\\python311\\lib\\site-packages (from pycountry) (65.5.0)\n",
      "Building wheels for collected packages: pycountry\n",
      "  Building wheel for pycountry (pyproject.toml): started\n",
      "  Building wheel for pycountry (pyproject.toml): finished with status 'done'\n",
      "  Created wheel for pycountry: filename=pycountry-22.3.5-py2.py3-none-any.whl size=10681896 sha256=3dd2ae9a64c3d6e9c2a0b0403792133ff4593cde4a820fb8ecc9fed6b86cb2bf\n",
      "  Stored in directory: c:\\users\\user\\appdata\\local\\pip\\cache\\wheels\\cd\\29\\8b\\617685ed7942656b36efb06ff9247dbe832e3f4f7724fffc09\n",
      "Successfully built pycountry\n",
      "Installing collected packages: pycountry\n",
      "Successfully installed pycountry-22.3.5\n",
      "Collecting lxml\n",
      "  Downloading lxml-4.9.3-cp311-cp311-win_amd64.whl.metadata (3.9 kB)\n",
      "Downloading lxml-4.9.3-cp311-cp311-win_amd64.whl (3.8 MB)\n",
      "   ---------------------------------------- 0.0/3.8 MB ? eta -:--:--\n",
      "   --- ------------------------------------ 0.3/3.8 MB 6.8 MB/s eta 0:00:01\n",
      "   ------- -------------------------------- 0.7/3.8 MB 7.6 MB/s eta 0:00:01\n",
      "   ---------- ----------------------------- 1.0/3.8 MB 7.9 MB/s eta 0:00:01\n",
      "   -------------- ------------------------- 1.4/3.8 MB 7.3 MB/s eta 0:00:01\n",
      "   ------------------ --------------------- 1.7/3.8 MB 7.2 MB/s eta 0:00:01\n",
      "   --------------------- ------------------ 2.0/3.8 MB 7.6 MB/s eta 0:00:01\n",
      "   ------------------------- -------------- 2.4/3.8 MB 7.5 MB/s eta 0:00:01\n",
      "   ----------------------------- ---------- 2.7/3.8 MB 7.6 MB/s eta 0:00:01\n",
      "   -------------------------------- ------- 3.1/3.8 MB 7.6 MB/s eta 0:00:01\n",
      "   ----------------------------------- ---- 3.4/3.8 MB 7.4 MB/s eta 0:00:01\n",
      "   ---------------------------------------  3.7/3.8 MB 7.4 MB/s eta 0:00:01\n",
      "   ---------------------------------------- 3.8/3.8 MB 7.1 MB/s eta 0:00:00\n",
      "Installing collected packages: lxml\n",
      "Successfully installed lxml-4.9.3\n"
     ]
    }
   ],
   "source": [
    "# 설치 필수\n",
    "!pip install pycountry\n",
    "!pip install lxml"
   ]
  },
  {
   "cell_type": "code",
   "execution_count": 1,
   "metadata": {
    "id": "18kIs4u71wYD",
    "outputId": "a19f6484-b4a2-4a1b-b355-594b18ff933c"
   },
   "outputs": [
    {
     "data": {
      "text/html": [
       "<div>\n",
       "<style scoped>\n",
       "    .dataframe tbody tr th:only-of-type {\n",
       "        vertical-align: middle;\n",
       "    }\n",
       "\n",
       "    .dataframe tbody tr th {\n",
       "        vertical-align: top;\n",
       "    }\n",
       "\n",
       "    .dataframe thead th {\n",
       "        text-align: right;\n",
       "    }\n",
       "</style>\n",
       "<table border=\"1\" class=\"dataframe\">\n",
       "  <thead>\n",
       "    <tr style=\"text-align: right;\">\n",
       "      <th></th>\n",
       "      <th>country</th>\n",
       "      <th>incomeperperson</th>\n",
       "      <th>internetuserate</th>\n",
       "      <th>urbanrate</th>\n",
       "    </tr>\n",
       "  </thead>\n",
       "  <tbody>\n",
       "    <tr>\n",
       "      <th>0</th>\n",
       "      <td>Afghanistan</td>\n",
       "      <td>NaN</td>\n",
       "      <td>3.654122</td>\n",
       "      <td>24.04</td>\n",
       "    </tr>\n",
       "    <tr>\n",
       "      <th>1</th>\n",
       "      <td>Albania</td>\n",
       "      <td>1914.996551</td>\n",
       "      <td>44.989947</td>\n",
       "      <td>46.72</td>\n",
       "    </tr>\n",
       "    <tr>\n",
       "      <th>2</th>\n",
       "      <td>Algeria</td>\n",
       "      <td>2231.993335</td>\n",
       "      <td>12.500073</td>\n",
       "      <td>65.22</td>\n",
       "    </tr>\n",
       "    <tr>\n",
       "      <th>3</th>\n",
       "      <td>Andorra</td>\n",
       "      <td>21943.339900</td>\n",
       "      <td>81.000000</td>\n",
       "      <td>88.92</td>\n",
       "    </tr>\n",
       "    <tr>\n",
       "      <th>4</th>\n",
       "      <td>Angola</td>\n",
       "      <td>1381.004268</td>\n",
       "      <td>9.999954</td>\n",
       "      <td>56.70</td>\n",
       "    </tr>\n",
       "    <tr>\n",
       "      <th>...</th>\n",
       "      <td>...</td>\n",
       "      <td>...</td>\n",
       "      <td>...</td>\n",
       "      <td>...</td>\n",
       "    </tr>\n",
       "    <tr>\n",
       "      <th>208</th>\n",
       "      <td>Vietnam</td>\n",
       "      <td>722.807559</td>\n",
       "      <td>27.851822</td>\n",
       "      <td>27.84</td>\n",
       "    </tr>\n",
       "    <tr>\n",
       "      <th>209</th>\n",
       "      <td>West Bank and Gaza</td>\n",
       "      <td>NaN</td>\n",
       "      <td>36.422772</td>\n",
       "      <td>71.90</td>\n",
       "    </tr>\n",
       "    <tr>\n",
       "      <th>210</th>\n",
       "      <td>Yemen, Rep.</td>\n",
       "      <td>610.357367</td>\n",
       "      <td>12.349750</td>\n",
       "      <td>30.64</td>\n",
       "    </tr>\n",
       "    <tr>\n",
       "      <th>211</th>\n",
       "      <td>Zambia</td>\n",
       "      <td>432.226337</td>\n",
       "      <td>10.124986</td>\n",
       "      <td>35.42</td>\n",
       "    </tr>\n",
       "    <tr>\n",
       "      <th>212</th>\n",
       "      <td>Zimbabwe</td>\n",
       "      <td>320.771890</td>\n",
       "      <td>11.500415</td>\n",
       "      <td>37.34</td>\n",
       "    </tr>\n",
       "  </tbody>\n",
       "</table>\n",
       "<p>213 rows × 4 columns</p>\n",
       "</div>"
      ],
      "text/plain": [
       "                country  incomeperperson  internetuserate  urbanrate\n",
       "0           Afghanistan              NaN         3.654122      24.04\n",
       "1               Albania      1914.996551        44.989947      46.72\n",
       "2               Algeria      2231.993335        12.500073      65.22\n",
       "3               Andorra     21943.339900        81.000000      88.92\n",
       "4                Angola      1381.004268         9.999954      56.70\n",
       "..                  ...              ...              ...        ...\n",
       "208             Vietnam       722.807559        27.851822      27.84\n",
       "209  West Bank and Gaza              NaN        36.422772      71.90\n",
       "210         Yemen, Rep.       610.357367        12.349750      30.64\n",
       "211              Zambia       432.226337        10.124986      35.42\n",
       "212            Zimbabwe       320.771890        11.500415      37.34\n",
       "\n",
       "[213 rows x 4 columns]"
      ]
     },
     "execution_count": 1,
     "metadata": {},
     "output_type": "execute_result"
    }
   ],
   "source": [
    "import pandas as pd\n",
    "import numpy as np\n",
    "# 채점을 위한 코드입니다. 반드시 실행해주세요.\n",
    "from grading import *\n",
    "\n",
    "df_target = pd.read_csv('./datas/gapminder_internet.csv')\n",
    "df_target"
   ]
  },
  {
   "cell_type": "markdown",
   "metadata": {
    "id": "s5fFfW5C1wYE"
   },
   "source": [
    "## 문제 시작! 🏃🏻"
   ]
  },
  {
   "cell_type": "markdown",
   "metadata": {
    "id": "Jwy5giYW1wYE"
   },
   "source": [
    "## 1단계: Target Data 불러오기 & 전처리\n",
    "***"
   ]
  },
  {
   "cell_type": "markdown",
   "metadata": {
    "id": "Se7VZY2E1wYE"
   },
   "source": [
    "### 문제 1-1) Target Data 전처리 01 (5점)\n",
    "- 위에서 읽은 DataFrame에서 Null값을 처리하고자 합니다. 아래 조건에 맞게 Null값을 처리하세요.\n",
    "<br></br>\n",
    "    - 조건1: 'incomeperperson', 'internetuserate', 'urbanrate' Column(열)에 하나라도 Null값이 있다면 그 row(행)를 삭제(drop)하세요.\n",
    "    - 조건2: Index와 순서(order)는 변경하지 마세요.\n",
    "<br></br>\n",
    "- 완료 후 결과 dataframe 변수를 check_01_01 함수에 입력하여 채점하세요."
   ]
  },
  {
   "cell_type": "code",
   "execution_count": 2,
   "metadata": {},
   "outputs": [
    {
     "name": "stdout",
     "output_type": "stream",
     "text": [
      "<class 'pandas.core.frame.DataFrame'>\n",
      "RangeIndex: 213 entries, 0 to 212\n",
      "Data columns (total 4 columns):\n",
      " #   Column           Non-Null Count  Dtype  \n",
      "---  ------           --------------  -----  \n",
      " 0   country          213 non-null    object \n",
      " 1   incomeperperson  190 non-null    float64\n",
      " 2   internetuserate  192 non-null    float64\n",
      " 3   urbanrate        203 non-null    float64\n",
      "dtypes: float64(3), object(1)\n",
      "memory usage: 6.8+ KB\n",
      "<class 'pandas.core.frame.DataFrame'>\n",
      "Index: 182 entries, 1 to 212\n",
      "Data columns (total 4 columns):\n",
      " #   Column           Non-Null Count  Dtype  \n",
      "---  ------           --------------  -----  \n",
      " 0   country          182 non-null    object \n",
      " 1   incomeperperson  182 non-null    float64\n",
      " 2   internetuserate  182 non-null    float64\n",
      " 3   urbanrate        182 non-null    float64\n",
      "dtypes: float64(3), object(1)\n",
      "memory usage: 7.1+ KB\n"
     ]
    }
   ],
   "source": [
    "df_target.info()\n",
    "df_target = df_target.dropna()\n",
    "df_target.info()"
   ]
  },
  {
   "cell_type": "code",
   "execution_count": 3,
   "metadata": {
    "id": "jvbxzKIL1wYE",
    "outputId": "ab6eeafc-b448-43fe-ca0e-e836a4e337b1"
   },
   "outputs": [
    {
     "name": "stdout",
     "output_type": "stream",
     "text": [
      "정답입니다! 5점 누적 되었습니다!\n",
      "현재 누적 점수: 5 / 100\n"
     ]
    }
   ],
   "source": [
    "# 1-1\n",
    "check_01_01(df_target)"
   ]
  },
  {
   "cell_type": "markdown",
   "metadata": {
    "id": "XmYR9nb-1wYF"
   },
   "source": [
    "### 문제 1-2) Target Data 전처리 02 (5점)\n",
    "- 1-1의 DataFrame(df_target)과 아래의 df_target_change_list를 이용하여 아래 조건에 맞게 국가명(컬럼명: 'country')을 변경하세요.\n",
    "<br></br>\n",
    "    - 참고: 국가명을 변경하는 이유는 추후(문제 2-4) pycountry Library를 사용하여 국가코드(ex: 대한민국-KR)를 얻기 위함입니다.\n",
    "<br></br>\n",
    "    - 아래 df_target_change_list는 변경 대상인 df_target의 index와 그에 맞는 국가명이 쌍(tuple)들을 값으로 가지고 있습니다.\n",
    "<br></br>\n",
    "        - 조건1: df_target_change_list를 이용하여 df_target의 국가명을 변경하세요.\n",
    "        - 조건2: Index 또는 순서(order)는 변경하지 마세요.\n",
    "<br></br>\n",
    "- 완료 후 결과 dataframe 변수를 check_01_02 함수에 입력하여 채점하세요."
   ]
  },
  {
   "cell_type": "code",
   "execution_count": 4,
   "metadata": {
    "id": "5nR7a_JF1wYF"
   },
   "outputs": [],
   "source": [
    "df_target_change_list = [\n",
    "    (33, 'Cabo Verde'),\n",
    "    (35, 'Central African Republic'),\n",
    "    (41, 'Congo, The Democratic Republic of the'),\n",
    "    (42, 'Congo'),\n",
    "    (45, \"Côte d'Ivoire\"),\n",
    "    (49, 'Czech Republic'),\n",
    "    (53, 'Dominican Republic'),\n",
    "    (83, 'Hong Kong'),\n",
    "    (100, 'Korea, Republic of'),\n",
    "    (103, \"Lao People's Democratic Republic\"),\n",
    "    (112, 'Macao'),\n",
    "    (113, 'Republic of North Macedonia'),\n",
    "    (125, 'Federated States of Micronesia'),\n",
    "    (183, 'Eswatini'),\n",
    "    (210, 'Yemen')\n",
    "]"
   ]
  },
  {
   "cell_type": "code",
   "execution_count": 5,
   "metadata": {},
   "outputs": [
    {
     "data": {
      "text/html": [
       "<div>\n",
       "<style scoped>\n",
       "    .dataframe tbody tr th:only-of-type {\n",
       "        vertical-align: middle;\n",
       "    }\n",
       "\n",
       "    .dataframe tbody tr th {\n",
       "        vertical-align: top;\n",
       "    }\n",
       "\n",
       "    .dataframe thead th {\n",
       "        text-align: right;\n",
       "    }\n",
       "</style>\n",
       "<table border=\"1\" class=\"dataframe\">\n",
       "  <thead>\n",
       "    <tr style=\"text-align: right;\">\n",
       "      <th></th>\n",
       "      <th>country</th>\n",
       "      <th>incomeperperson</th>\n",
       "      <th>internetuserate</th>\n",
       "      <th>urbanrate</th>\n",
       "    </tr>\n",
       "  </thead>\n",
       "  <tbody>\n",
       "    <tr>\n",
       "      <th>1</th>\n",
       "      <td>Albania</td>\n",
       "      <td>1914.996551</td>\n",
       "      <td>44.989947</td>\n",
       "      <td>46.72</td>\n",
       "    </tr>\n",
       "    <tr>\n",
       "      <th>2</th>\n",
       "      <td>Algeria</td>\n",
       "      <td>2231.993335</td>\n",
       "      <td>12.500073</td>\n",
       "      <td>65.22</td>\n",
       "    </tr>\n",
       "    <tr>\n",
       "      <th>3</th>\n",
       "      <td>Andorra</td>\n",
       "      <td>21943.3399</td>\n",
       "      <td>81.0</td>\n",
       "      <td>88.92</td>\n",
       "    </tr>\n",
       "    <tr>\n",
       "      <th>4</th>\n",
       "      <td>Angola</td>\n",
       "      <td>1381.004268</td>\n",
       "      <td>9.999954</td>\n",
       "      <td>56.7</td>\n",
       "    </tr>\n",
       "    <tr>\n",
       "      <th>5</th>\n",
       "      <td>Antigua and Barbuda</td>\n",
       "      <td>11894.46407</td>\n",
       "      <td>80.645455</td>\n",
       "      <td>30.46</td>\n",
       "    </tr>\n",
       "    <tr>\n",
       "      <th>...</th>\n",
       "      <td>...</td>\n",
       "      <td>...</td>\n",
       "      <td>...</td>\n",
       "      <td>...</td>\n",
       "    </tr>\n",
       "    <tr>\n",
       "      <th>207</th>\n",
       "      <td>Venezuela</td>\n",
       "      <td>5528.363114</td>\n",
       "      <td>35.850437</td>\n",
       "      <td>93.32</td>\n",
       "    </tr>\n",
       "    <tr>\n",
       "      <th>208</th>\n",
       "      <td>Vietnam</td>\n",
       "      <td>722.807559</td>\n",
       "      <td>27.851822</td>\n",
       "      <td>27.84</td>\n",
       "    </tr>\n",
       "    <tr>\n",
       "      <th>210</th>\n",
       "      <td>Yemen</td>\n",
       "      <td>Yemen</td>\n",
       "      <td>Yemen</td>\n",
       "      <td>Yemen</td>\n",
       "    </tr>\n",
       "    <tr>\n",
       "      <th>211</th>\n",
       "      <td>Zambia</td>\n",
       "      <td>432.226337</td>\n",
       "      <td>10.124986</td>\n",
       "      <td>35.42</td>\n",
       "    </tr>\n",
       "    <tr>\n",
       "      <th>212</th>\n",
       "      <td>Zimbabwe</td>\n",
       "      <td>320.77189</td>\n",
       "      <td>11.500415</td>\n",
       "      <td>37.34</td>\n",
       "    </tr>\n",
       "  </tbody>\n",
       "</table>\n",
       "<p>182 rows × 4 columns</p>\n",
       "</div>"
      ],
      "text/plain": [
       "                 country incomeperperson internetuserate urbanrate\n",
       "1                Albania     1914.996551       44.989947     46.72\n",
       "2                Algeria     2231.993335       12.500073     65.22\n",
       "3                Andorra      21943.3399            81.0     88.92\n",
       "4                 Angola     1381.004268        9.999954      56.7\n",
       "5    Antigua and Barbuda     11894.46407       80.645455     30.46\n",
       "..                   ...             ...             ...       ...\n",
       "207            Venezuela     5528.363114       35.850437     93.32\n",
       "208              Vietnam      722.807559       27.851822     27.84\n",
       "210                Yemen           Yemen           Yemen     Yemen\n",
       "211               Zambia      432.226337       10.124986     35.42\n",
       "212             Zimbabwe       320.77189       11.500415     37.34\n",
       "\n",
       "[182 rows x 4 columns]"
      ]
     },
     "execution_count": 5,
     "metadata": {},
     "output_type": "execute_result"
    }
   ],
   "source": [
    "for idx, change_name in df_target_change_list:\n",
    "    df_target.loc[idx] = change_name\n",
    "df_target"
   ]
  },
  {
   "cell_type": "code",
   "execution_count": 6,
   "metadata": {
    "id": "UJVrvKIV1wYG",
    "outputId": "9b9c2be0-8c54-4971-a31d-4844f8304d0d"
   },
   "outputs": [
    {
     "name": "stdout",
     "output_type": "stream",
     "text": [
      "정답입니다! 5점 누적 되었습니다!\n",
      "현재 누적 점수: 10 / 100\n"
     ]
    }
   ],
   "source": [
    "# 1-2\n",
    "check_01_02(df_target)"
   ]
  },
  {
   "cell_type": "markdown",
   "metadata": {
    "id": "669BmL-61wYG"
   },
   "source": [
    "### 문제 1-3) Target Data 전처리 03 (10점)\n",
    "- 1-2의 DataFrame(df_target)과 pycountry Library를 이용하여 아래 조건에 맞게 국가코드를 구하세요.\n",
    "<br></br>\n",
    "    - 참고: **pycountry.countries**\n",
    "<br></br>\n",
    "        - ISO 3166-2(전 세계 나라 및 부속 영토의 주요 구성 단위의 명칭에 고유 부호(코드)를 부여하는 국제 표준) 기준 국가별 코드를 얻을 수 있는 Python Library\n",
    "<br></br>\n",
    "        - 국가명 표기 방식에 따라 잘못된 값 또는 값 검색이 안되는 경우가 많아 주의가 필요함\n",
    "<br></br>\n",
    "            - 예시: 대한민국의 경우 'south korea', 'republic of korea', 'korea', 'korea, republic of' 등으로 표기되는데, 이 중 'korea, republic of' 로만 정확한 국가 코드를 얻을 수 있음\n",
    "            - 혼선을 줄이기 위하여 문제 1-2와 같이 변경할 국가명을 제공함\n",
    "<br></br>\n",
    "        - 사용법(상세 사용법은 2.Datas의 참고사항 내 링크 참조)\n",
    "<br></br>\n",
    "            - 국가 검색 방법\n",
    "<br></br>\n",
    "                - 일반 검색: pycountry.countries.get(name=country_name) -> 하나의 결과값을 return\n",
    "                - fuzzy 검색: pycountry.countries.search_fuzzy(country_name) -> 하나 이상의 결과값을 list형태로 return\n",
    "<br></br>\n",
    "            - 예시\n",
    "<br></br>\n",
    "            <img src=\"images/04-1-3-001.png\" style=\"margin:auto\" width=500/>\n",
    "<br></br>\n",
    "            <img src=\"images/04-1-3-002.png\" style=\"margin:auto\" width=600/>\n",
    "<br></br>\n",
    "    - 조건1: df_target에 'code'컬럼을 추가하여 각 row(행)의 국가명에 맞는 2글자 국가코드(alpha_2)를 입력하세요.\n",
    "<br></br>\n",
    "    - 조건2: 일반검색(pycountry.countries.get(name=country_name))을 우선 이용 해보고, 결과값이 안 나올 경우 fuzzy 검색(pycountry.countries.search_fuzzy(country_name))을 활용하여 검색하세요.\n",
    "<br></br>\n",
    "    - 조건3: fuzzy 검색을 이용할 경우, 결과값 list의 첫번째 값(index=0)의 국가코드를 입력하세요.\n",
    "<br></br>\n",
    "    - 조건4: Index 또는 순서(order)는 변경하지 마세요.\n",
    "<br></br>\n",
    "<br></br>\n",
    "    - hint: Python 예외처리(try-except)를 활용해 보세요.\n",
    "<br></br>\n",
    "<br></br>\n",
    "- 완료 후 결과 dataframe 변수를 check_01_03 함수에 입력하여 채점하세요."
   ]
  },
  {
   "cell_type": "code",
   "execution_count": 7,
   "metadata": {},
   "outputs": [
    {
     "name": "stderr",
     "output_type": "stream",
     "text": [
      "C:\\Users\\User\\AppData\\Local\\Temp\\ipykernel_17920\\2590609341.py:10: SettingWithCopyWarning: \n",
      "A value is trying to be set on a copy of a slice from a DataFrame.\n",
      "Try using .loc[row_indexer,col_indexer] = value instead\n",
      "\n",
      "See the caveats in the documentation: https://pandas.pydata.org/pandas-docs/stable/user_guide/indexing.html#returning-a-view-versus-a-copy\n",
      "  df_target.loc[:, 'code'] =  df_target['country'].apply(country_code)\n"
     ]
    }
   ],
   "source": [
    "import pycountry\n",
    "\n",
    "def country_code(name):\n",
    "    result = pycountry.countries.get(name=name)\n",
    "    if result:\n",
    "        return result.alpha_2\n",
    "    else:\n",
    "        return pycountry.countries.search_fuzzy(name)[0].alpha_2\n",
    "    \n",
    "df_target.loc[:, 'code'] =  df_target['country'].apply(country_code)"
   ]
  },
  {
   "cell_type": "code",
   "execution_count": 8,
   "metadata": {
    "id": "IYbezcju1wYG",
    "outputId": "71feed9b-fff8-43cd-fda2-42332ec5025e"
   },
   "outputs": [
    {
     "name": "stdout",
     "output_type": "stream",
     "text": [
      "정답입니다! 10점 누적 되었습니다!\n",
      "현재 누적 점수: 20 / 100\n"
     ]
    }
   ],
   "source": [
    "# 1-3\n",
    "check_01_03(df_target)"
   ]
  },
  {
   "cell_type": "code",
   "execution_count": 9,
   "metadata": {
    "id": "YML1j6Fw1wYG",
    "outputId": "6657645e-ae02-49cb-db30-a8b12059ef1d"
   },
   "outputs": [
    {
     "data": {
      "text/html": [
       "<div>\n",
       "<style scoped>\n",
       "    .dataframe tbody tr th:only-of-type {\n",
       "        vertical-align: middle;\n",
       "    }\n",
       "\n",
       "    .dataframe tbody tr th {\n",
       "        vertical-align: top;\n",
       "    }\n",
       "\n",
       "    .dataframe thead th {\n",
       "        text-align: right;\n",
       "    }\n",
       "</style>\n",
       "<table border=\"1\" class=\"dataframe\">\n",
       "  <thead>\n",
       "    <tr style=\"text-align: right;\">\n",
       "      <th></th>\n",
       "      <th>country</th>\n",
       "      <th>incomeperperson</th>\n",
       "      <th>internetuserate</th>\n",
       "      <th>urbanrate</th>\n",
       "      <th>code</th>\n",
       "    </tr>\n",
       "  </thead>\n",
       "  <tbody>\n",
       "    <tr>\n",
       "      <th>1</th>\n",
       "      <td>Albania</td>\n",
       "      <td>1914.996551</td>\n",
       "      <td>44.989947</td>\n",
       "      <td>46.72</td>\n",
       "      <td>AL</td>\n",
       "    </tr>\n",
       "    <tr>\n",
       "      <th>2</th>\n",
       "      <td>Algeria</td>\n",
       "      <td>2231.993335</td>\n",
       "      <td>12.500073</td>\n",
       "      <td>65.22</td>\n",
       "      <td>DZ</td>\n",
       "    </tr>\n",
       "    <tr>\n",
       "      <th>3</th>\n",
       "      <td>Andorra</td>\n",
       "      <td>21943.3399</td>\n",
       "      <td>81.0</td>\n",
       "      <td>88.92</td>\n",
       "      <td>AD</td>\n",
       "    </tr>\n",
       "    <tr>\n",
       "      <th>4</th>\n",
       "      <td>Angola</td>\n",
       "      <td>1381.004268</td>\n",
       "      <td>9.999954</td>\n",
       "      <td>56.7</td>\n",
       "      <td>AO</td>\n",
       "    </tr>\n",
       "    <tr>\n",
       "      <th>5</th>\n",
       "      <td>Antigua and Barbuda</td>\n",
       "      <td>11894.46407</td>\n",
       "      <td>80.645455</td>\n",
       "      <td>30.46</td>\n",
       "      <td>AG</td>\n",
       "    </tr>\n",
       "    <tr>\n",
       "      <th>...</th>\n",
       "      <td>...</td>\n",
       "      <td>...</td>\n",
       "      <td>...</td>\n",
       "      <td>...</td>\n",
       "      <td>...</td>\n",
       "    </tr>\n",
       "    <tr>\n",
       "      <th>207</th>\n",
       "      <td>Venezuela</td>\n",
       "      <td>5528.363114</td>\n",
       "      <td>35.850437</td>\n",
       "      <td>93.32</td>\n",
       "      <td>VE</td>\n",
       "    </tr>\n",
       "    <tr>\n",
       "      <th>208</th>\n",
       "      <td>Vietnam</td>\n",
       "      <td>722.807559</td>\n",
       "      <td>27.851822</td>\n",
       "      <td>27.84</td>\n",
       "      <td>VN</td>\n",
       "    </tr>\n",
       "    <tr>\n",
       "      <th>210</th>\n",
       "      <td>Yemen</td>\n",
       "      <td>Yemen</td>\n",
       "      <td>Yemen</td>\n",
       "      <td>Yemen</td>\n",
       "      <td>YE</td>\n",
       "    </tr>\n",
       "    <tr>\n",
       "      <th>211</th>\n",
       "      <td>Zambia</td>\n",
       "      <td>432.226337</td>\n",
       "      <td>10.124986</td>\n",
       "      <td>35.42</td>\n",
       "      <td>ZM</td>\n",
       "    </tr>\n",
       "    <tr>\n",
       "      <th>212</th>\n",
       "      <td>Zimbabwe</td>\n",
       "      <td>320.77189</td>\n",
       "      <td>11.500415</td>\n",
       "      <td>37.34</td>\n",
       "      <td>ZW</td>\n",
       "    </tr>\n",
       "  </tbody>\n",
       "</table>\n",
       "<p>182 rows × 5 columns</p>\n",
       "</div>"
      ],
      "text/plain": [
       "                 country incomeperperson internetuserate urbanrate code\n",
       "1                Albania     1914.996551       44.989947     46.72   AL\n",
       "2                Algeria     2231.993335       12.500073     65.22   DZ\n",
       "3                Andorra      21943.3399            81.0     88.92   AD\n",
       "4                 Angola     1381.004268        9.999954      56.7   AO\n",
       "5    Antigua and Barbuda     11894.46407       80.645455     30.46   AG\n",
       "..                   ...             ...             ...       ...  ...\n",
       "207            Venezuela     5528.363114       35.850437     93.32   VE\n",
       "208              Vietnam      722.807559       27.851822     27.84   VN\n",
       "210                Yemen           Yemen           Yemen     Yemen   YE\n",
       "211               Zambia      432.226337       10.124986     35.42   ZM\n",
       "212             Zimbabwe       320.77189       11.500415     37.34   ZW\n",
       "\n",
       "[182 rows x 5 columns]"
      ]
     },
     "execution_count": 9,
     "metadata": {},
     "output_type": "execute_result"
    }
   ],
   "source": [
    "df_target"
   ]
  },
  {
   "cell_type": "markdown",
   "metadata": {
    "id": "V0oSs1b41wYG"
   },
   "source": [
    "## 2단계: Reference Data01: 불러오기 & 전처리 & 합치기\n",
    "***"
   ]
  },
  {
   "cell_type": "markdown",
   "metadata": {
    "id": "iaDmy1AQ1wYG"
   },
   "source": [
    "### 문제 2-1) Web Data 가져오기 (10점)\n",
    "- 아래 제시된 Link에 있는 국가별 인구에 대한 Table을 아래 조건에 맞게 예시와 같이 Pandas DataFrame으로 불러오세요.\n",
    "<br></br>\n",
    "    - Link: https://en.wikipedia.org/wiki/List_of_countries_and_dependencies_by_population\n",
    "<br></br>\n",
    "    <img src=\"images/04-2-1-001.png\" style=\"margin:auto\" width=400/>\n",
    "<br></br>\n",
    "    - 예시\n",
    "<br></br>\n",
    "    <img src=\"images/04-2-1-002.png\" style=\"margin:auto\" width=600/>\n",
    "<br></br>\n",
    "    - 조건: 해당 DataFrame의 변수명을 'df_population'으로 지정해주세요.\n",
    "<br></br>\n",
    "<br></br>\n",
    "    - hint: pandas의 기능 중에 웹페이지의 Table들을 읽어와 DataFrame으로 만들어주는 method가 있습니다.\n",
    "<br></br>\n",
    "<br></br>\n",
    "- 완료 후 결과 dataframe 변수를 check_02_01 함수에 입력하여 채점하세요."
   ]
  },
  {
   "cell_type": "code",
   "execution_count": 10,
   "metadata": {},
   "outputs": [
    {
     "name": "stdout",
     "output_type": "stream",
     "text": [
      "<class 'pandas.core.frame.DataFrame'>\n",
      "RangeIndex: 242 entries, 0 to 241\n",
      "Data columns (total 7 columns):\n",
      " #   Column                                        Non-Null Count  Dtype \n",
      "---  ------                                        --------------  ----- \n",
      " 0   Unnamed: 0                                    242 non-null    object\n",
      " 1   Country / Dependency                          242 non-null    object\n",
      " 2   Population                                    242 non-null    int64 \n",
      " 3   % of world                                    1 non-null      object\n",
      " 4   Date                                          242 non-null    object\n",
      " 5   Source (official or from the United Nations)  242 non-null    object\n",
      " 6   Unnamed: 6                                    31 non-null     object\n",
      "dtypes: int64(1), object(6)\n",
      "memory usage: 13.4+ KB\n"
     ]
    }
   ],
   "source": [
    "import pandas as pd\n",
    "url = 'https://en.wikipedia.org/wiki/List_of_countries_and_dependencies_by_population'\n",
    "df_population = pd.read_html(url)[0]\n",
    "df_population.info()"
   ]
  },
  {
   "cell_type": "code",
   "execution_count": 11,
   "metadata": {
    "id": "Tfb3K79k1wYH",
    "outputId": "80116fb8-c4c2-4e6d-f9a0-48eec9432342"
   },
   "outputs": [
    {
     "name": "stdout",
     "output_type": "stream",
     "text": [
      "정답입니다! 10점 누적 되었습니다!\n",
      "현재 누적 점수: 30 / 100\n"
     ]
    }
   ],
   "source": [
    "check_02_01(df_population)"
   ]
  },
  {
   "cell_type": "markdown",
   "metadata": {
    "id": "WowlLzJX1wYH"
   },
   "source": [
    "### 문제 2-2) Population Data 전처리 01 (5점)\n",
    "- 2-1의 DataFrame(df_population)을 아래의 조건에 맞게 변경하세요.\n",
    "<br></br>\n",
    "    - 조건1: Column(열) 중 'Country / Dependency', 'Population' 2개만 남기세요.\n",
    "    - 조건2: 컬럼명을 아래와 같이 변경하세요.\n",
    "        - 'Country / Dependency' -> 'country'\n",
    "        - 'Population' -> 'population'\n",
    "    - 조건3: 'country' Column(열)의 값이  'World'인 첫번째 인덱스(index=0)을 삭제하세요.\n",
    "    - 조건4: Index 또는 순서(order)는 변경하지 마세요.\n",
    "<br></br>\n",
    "- 완료 후 결과 dataframe 변수를 check_02_02 함수에 입력하여 채점하세요."
   ]
  },
  {
   "cell_type": "code",
   "execution_count": 12,
   "metadata": {},
   "outputs": [
    {
     "data": {
      "text/plain": [
       "Index(['Unnamed: 0', 'Country / Dependency', 'Population', '% of world',\n",
       "       'Date', 'Source (official or from the United Nations)', 'Unnamed: 6'],\n",
       "      dtype='object')"
      ]
     },
     "execution_count": 12,
     "metadata": {},
     "output_type": "execute_result"
    }
   ],
   "source": [
    "df_population.columns"
   ]
  },
  {
   "cell_type": "markdown",
   "metadata": {},
   "source": [
    "#### 조건1) 컬럼 삭제"
   ]
  },
  {
   "cell_type": "code",
   "execution_count": 13,
   "metadata": {
    "scrolled": true
   },
   "outputs": [],
   "source": [
    "df_population = df_population.drop(['Unnamed: 0', '% of world','Date', 'Source (official or from the United Nations)', 'Unnamed: 6'], axis=1)"
   ]
  },
  {
   "cell_type": "code",
   "execution_count": 14,
   "metadata": {},
   "outputs": [
    {
     "data": {
      "text/plain": [
       "Index(['Country / Dependency', 'Population'], dtype='object')"
      ]
     },
     "execution_count": 14,
     "metadata": {},
     "output_type": "execute_result"
    }
   ],
   "source": [
    "df_population.columns"
   ]
  },
  {
   "cell_type": "markdown",
   "metadata": {},
   "source": [
    "#### 조건2) 컬럼명 변경"
   ]
  },
  {
   "cell_type": "code",
   "execution_count": 15,
   "metadata": {},
   "outputs": [
    {
     "data": {
      "text/html": [
       "<div>\n",
       "<style scoped>\n",
       "    .dataframe tbody tr th:only-of-type {\n",
       "        vertical-align: middle;\n",
       "    }\n",
       "\n",
       "    .dataframe tbody tr th {\n",
       "        vertical-align: top;\n",
       "    }\n",
       "\n",
       "    .dataframe thead th {\n",
       "        text-align: right;\n",
       "    }\n",
       "</style>\n",
       "<table border=\"1\" class=\"dataframe\">\n",
       "  <thead>\n",
       "    <tr style=\"text-align: right;\">\n",
       "      <th></th>\n",
       "      <th>country</th>\n",
       "      <th>population</th>\n",
       "    </tr>\n",
       "  </thead>\n",
       "  <tbody>\n",
       "    <tr>\n",
       "      <th>0</th>\n",
       "      <td>World</td>\n",
       "      <td>8071257000</td>\n",
       "    </tr>\n",
       "    <tr>\n",
       "      <th>1</th>\n",
       "      <td>China</td>\n",
       "      <td>1411750000</td>\n",
       "    </tr>\n",
       "    <tr>\n",
       "      <th>2</th>\n",
       "      <td>India</td>\n",
       "      <td>1392329000</td>\n",
       "    </tr>\n",
       "    <tr>\n",
       "      <th>3</th>\n",
       "      <td>United States</td>\n",
       "      <td>335619000</td>\n",
       "    </tr>\n",
       "    <tr>\n",
       "      <th>4</th>\n",
       "      <td>Indonesia</td>\n",
       "      <td>279118866</td>\n",
       "    </tr>\n",
       "    <tr>\n",
       "      <th>...</th>\n",
       "      <td>...</td>\n",
       "      <td>...</td>\n",
       "    </tr>\n",
       "    <tr>\n",
       "      <th>237</th>\n",
       "      <td>Tokelau (NZ)</td>\n",
       "      <td>1647</td>\n",
       "    </tr>\n",
       "    <tr>\n",
       "      <th>238</th>\n",
       "      <td>Niue</td>\n",
       "      <td>1549</td>\n",
       "    </tr>\n",
       "    <tr>\n",
       "      <th>239</th>\n",
       "      <td>Vatican City</td>\n",
       "      <td>764</td>\n",
       "    </tr>\n",
       "    <tr>\n",
       "      <th>240</th>\n",
       "      <td>Cocos (Keeling) Islands (Australia)</td>\n",
       "      <td>593</td>\n",
       "    </tr>\n",
       "    <tr>\n",
       "      <th>241</th>\n",
       "      <td>Pitcairn Islands (UK)</td>\n",
       "      <td>47</td>\n",
       "    </tr>\n",
       "  </tbody>\n",
       "</table>\n",
       "<p>242 rows × 2 columns</p>\n",
       "</div>"
      ],
      "text/plain": [
       "                                 country  population\n",
       "0                                  World  8071257000\n",
       "1                                  China  1411750000\n",
       "2                                  India  1392329000\n",
       "3                          United States   335619000\n",
       "4                              Indonesia   279118866\n",
       "..                                   ...         ...\n",
       "237                         Tokelau (NZ)        1647\n",
       "238                                 Niue        1549\n",
       "239                         Vatican City         764\n",
       "240  Cocos (Keeling) Islands (Australia)         593\n",
       "241                Pitcairn Islands (UK)          47\n",
       "\n",
       "[242 rows x 2 columns]"
      ]
     },
     "execution_count": 15,
     "metadata": {},
     "output_type": "execute_result"
    }
   ],
   "source": [
    "df_population.columns = ['country', 'population']\n",
    "df_population"
   ]
  },
  {
   "cell_type": "markdown",
   "metadata": {},
   "source": [
    "#### 조건3) 0번인덱스 삭제"
   ]
  },
  {
   "cell_type": "code",
   "execution_count": 16,
   "metadata": {},
   "outputs": [
    {
     "name": "stdout",
     "output_type": "stream",
     "text": [
      "<class 'pandas.core.frame.DataFrame'>\n",
      "RangeIndex: 241 entries, 1 to 241\n",
      "Data columns (total 2 columns):\n",
      " #   Column      Non-Null Count  Dtype \n",
      "---  ------      --------------  ----- \n",
      " 0   country     241 non-null    object\n",
      " 1   population  241 non-null    int64 \n",
      "dtypes: int64(1), object(1)\n",
      "memory usage: 3.9+ KB\n"
     ]
    }
   ],
   "source": [
    "df_population.drop(0, axis=0, inplace=True)\n",
    "df_population.info()"
   ]
  },
  {
   "cell_type": "code",
   "execution_count": 17,
   "metadata": {
    "id": "GEWt-HR91wYH",
    "outputId": "ba6c0a39-7636-4dcf-9a62-91089e160407"
   },
   "outputs": [
    {
     "name": "stdout",
     "output_type": "stream",
     "text": [
      "정답입니다! 5점 누적 되었습니다!\n",
      "현재 누적 점수: 35 / 100\n"
     ]
    }
   ],
   "source": [
    "# 2-2\n",
    "check_02_02(df_population)"
   ]
  },
  {
   "cell_type": "markdown",
   "metadata": {
    "id": "ToEL7nj01wYH"
   },
   "source": [
    "### 문제 2-3) Population Data 전처리 02 (5점)\n",
    "- 2-2의 DataFrame(df_population)과 아래의 df_population_change_dict를 이용하여 아래 조건에 맞게 국가명(컬럼명: 'country')을 변경하세요.\n",
    "<br></br>\n",
    "    - 참고: 국가명을 변경하는 이유는 추후 문제에서 1단계에서 만들었던 df_target과 합치기 위함입니다.\n",
    "        - 변경 국가는 1단계의 df_target에 있는 국가만 해당됩니다.\n",
    "        - 일부 국가명의 표현이 다르기 때문에 df_target을 기준으로 표기를 통일합니다.\n",
    "<br></br>\n",
    "    - 아래 df_population_change_dict는 변경 대상인 df_population의 기존 국가명과 변경할 국가명이 key-value로 이루어져 있습니다.\n",
    "<br></br>\n",
    "        - 조건1: df_population_change_dict를 이용하여 df_population의 국가명을 변경하세요.\n",
    "        - 조건2: Index 또는 순서(order)는 변경하지 마세요.\n",
    "<br></br>\n",
    "- 완료 후 결과 dataframe 변수를 check_02_03 함수에 입력하여 채점하세요."
   ]
  },
  {
   "cell_type": "code",
   "execution_count": 18,
   "metadata": {
    "id": "yU6bI64c1wYH"
   },
   "outputs": [],
   "source": [
    "df_population_change_dict = {\n",
    "    'Bermuda (United Kingdom)': 'Bermuda',\n",
    "    'Cape Verde': 'Cabo Verde',\n",
    "    'DR Congo': 'Congo, The Democratic Republic of the',\n",
    "    'Ivory Coast': \"Côte d'Ivoire\",\n",
    "    'Greenland (Denmark)': 'Greenland',\n",
    "    'Hong Kong (China)': 'Hong Kong',\n",
    "    'South Korea': 'Korea, Republic of',\n",
    "    'Laos': \"Lao People's Democratic Republic\",\n",
    "    'Macau (China)': 'Macao',\n",
    "    'North Macedonia': 'Republic of North Macedonia',\n",
    "    'Micronesia': 'Federated States of Micronesia',\n",
    "    'Puerto Rico (United States)': 'Puerto Rico',\n",
    "    'Slovakia': 'Slovak Republic',\n",
    "    'East Timor': 'Timor-Leste',\n",
    "}"
   ]
  },
  {
   "cell_type": "code",
   "execution_count": 19,
   "metadata": {},
   "outputs": [
    {
     "name": "stdout",
     "output_type": "stream",
     "text": [
      "<class 'pandas.core.frame.DataFrame'>\n",
      "RangeIndex: 241 entries, 1 to 241\n",
      "Data columns (total 2 columns):\n",
      " #   Column      Non-Null Count  Dtype \n",
      "---  ------      --------------  ----- \n",
      " 0   country     241 non-null    object\n",
      " 1   population  241 non-null    int64 \n",
      "dtypes: int64(1), object(1)\n",
      "memory usage: 3.9+ KB\n"
     ]
    }
   ],
   "source": [
    "for key, value in df_population_change_dict.items():\n",
    "    df_population.loc[df_population['country'] == key, 'country'] = value\n",
    "df_population.info()"
   ]
  },
  {
   "cell_type": "code",
   "execution_count": 20,
   "metadata": {
    "id": "B61MeBs-1wYH",
    "outputId": "39e11f3b-aa70-4c79-9d2f-383c80965f21"
   },
   "outputs": [
    {
     "name": "stdout",
     "output_type": "stream",
     "text": [
      "정답입니다! 5점 누적 되었습니다!\n",
      "현재 누적 점수: 40 / 100\n"
     ]
    }
   ],
   "source": [
    "# 2-3\n",
    "check_02_03(df_population)"
   ]
  },
  {
   "cell_type": "code",
   "execution_count": 21,
   "metadata": {
    "id": "-IfI6Q_21wYH",
    "outputId": "bc32a041-52d5-4f7a-ca13-069499290227"
   },
   "outputs": [
    {
     "name": "stdout",
     "output_type": "stream",
     "text": [
      "<class 'pandas.core.frame.DataFrame'>\n",
      "RangeIndex: 241 entries, 1 to 241\n",
      "Data columns (total 2 columns):\n",
      " #   Column      Non-Null Count  Dtype \n",
      "---  ------      --------------  ----- \n",
      " 0   country     241 non-null    object\n",
      " 1   population  241 non-null    int64 \n",
      "dtypes: int64(1), object(1)\n",
      "memory usage: 3.9+ KB\n"
     ]
    }
   ],
   "source": [
    "df_population.info()"
   ]
  },
  {
   "cell_type": "markdown",
   "metadata": {
    "id": "JXfEWyv01wYH"
   },
   "source": [
    "### 문제 2-4) Data 합치기(10점)\n",
    "- 1단계의 DataFrame(df_target)과 2-3의 DataFrame(df_population)을 아래의 조건에 맞게 합치세요.\n",
    "<br></br>\n",
    "    - df_target에 df_population의 Data를 추가하려 합니다.\n",
    "<br></br>\n",
    "        - 조건1: df_target, df_population의 국가명('country' Column(열)의 value)이 같은 Data끼리 합쳐주세요.\n",
    "<br></br>\n",
    "        - 조건2: 결합 방식은 교집합(겹치는 국가명이 있는 경우만 추출)으로 지정해 주세요.\n",
    "<br></br>\n",
    "        - 조건3: Column(열)방향으로 DataFrame을 합쳐주세요.\n",
    "<br></br>\n",
    "        - 조건4: 'code' Column(열)을 기준으로 오름차순으로 정렬해주세요.\n",
    "<br></br>\n",
    "        - 조건5: index를 reset해주세요.\n",
    "<br></br>\n",
    "        - 조건6: 결과 DataFrame의 Column은 6개('country', 'incomeperperson', 'internetuserate', 'urbanrate', 'code', 'population')이어야 합니다.\n",
    "<br></br>\n",
    "        - 조건7: 결과 DataFrame의 변수는 'df' 로 지정해 주세요.\n",
    "<br></br>\n",
    "<br></br>\n",
    "        - hint1: 조건1 -> key='country' 또는 on='country'\n",
    "<br></br>\n",
    "        - hint2: 조건2 -> join='inner' 또는 how='inner'(DataFrame 순서에 따라 'left', 'right'도 가능)\n",
    "<br></br>\n",
    "<br></br>\n",
    "- 완료 후 결과 dataframe 변수를 check_02_04 함수에 입력하여 채점하세요."
   ]
  },
  {
   "cell_type": "code",
   "execution_count": 22,
   "metadata": {},
   "outputs": [
    {
     "data": {
      "text/html": [
       "<div>\n",
       "<style scoped>\n",
       "    .dataframe tbody tr th:only-of-type {\n",
       "        vertical-align: middle;\n",
       "    }\n",
       "\n",
       "    .dataframe tbody tr th {\n",
       "        vertical-align: top;\n",
       "    }\n",
       "\n",
       "    .dataframe thead th {\n",
       "        text-align: right;\n",
       "    }\n",
       "</style>\n",
       "<table border=\"1\" class=\"dataframe\">\n",
       "  <thead>\n",
       "    <tr style=\"text-align: right;\">\n",
       "      <th></th>\n",
       "      <th>country</th>\n",
       "      <th>incomeperperson</th>\n",
       "      <th>internetuserate</th>\n",
       "      <th>urbanrate</th>\n",
       "      <th>code</th>\n",
       "    </tr>\n",
       "  </thead>\n",
       "  <tbody>\n",
       "    <tr>\n",
       "      <th>1</th>\n",
       "      <td>Albania</td>\n",
       "      <td>1914.996551</td>\n",
       "      <td>44.989947</td>\n",
       "      <td>46.72</td>\n",
       "      <td>AL</td>\n",
       "    </tr>\n",
       "    <tr>\n",
       "      <th>2</th>\n",
       "      <td>Algeria</td>\n",
       "      <td>2231.993335</td>\n",
       "      <td>12.500073</td>\n",
       "      <td>65.22</td>\n",
       "      <td>DZ</td>\n",
       "    </tr>\n",
       "    <tr>\n",
       "      <th>3</th>\n",
       "      <td>Andorra</td>\n",
       "      <td>21943.3399</td>\n",
       "      <td>81.0</td>\n",
       "      <td>88.92</td>\n",
       "      <td>AD</td>\n",
       "    </tr>\n",
       "    <tr>\n",
       "      <th>4</th>\n",
       "      <td>Angola</td>\n",
       "      <td>1381.004268</td>\n",
       "      <td>9.999954</td>\n",
       "      <td>56.7</td>\n",
       "      <td>AO</td>\n",
       "    </tr>\n",
       "    <tr>\n",
       "      <th>5</th>\n",
       "      <td>Antigua and Barbuda</td>\n",
       "      <td>11894.46407</td>\n",
       "      <td>80.645455</td>\n",
       "      <td>30.46</td>\n",
       "      <td>AG</td>\n",
       "    </tr>\n",
       "  </tbody>\n",
       "</table>\n",
       "</div>"
      ],
      "text/plain": [
       "               country incomeperperson internetuserate urbanrate code\n",
       "1              Albania     1914.996551       44.989947     46.72   AL\n",
       "2              Algeria     2231.993335       12.500073     65.22   DZ\n",
       "3              Andorra      21943.3399            81.0     88.92   AD\n",
       "4               Angola     1381.004268        9.999954      56.7   AO\n",
       "5  Antigua and Barbuda     11894.46407       80.645455     30.46   AG"
      ]
     },
     "execution_count": 22,
     "metadata": {},
     "output_type": "execute_result"
    }
   ],
   "source": [
    "df_target.head()"
   ]
  },
  {
   "cell_type": "code",
   "execution_count": 23,
   "metadata": {},
   "outputs": [
    {
     "data": {
      "text/html": [
       "<div>\n",
       "<style scoped>\n",
       "    .dataframe tbody tr th:only-of-type {\n",
       "        vertical-align: middle;\n",
       "    }\n",
       "\n",
       "    .dataframe tbody tr th {\n",
       "        vertical-align: top;\n",
       "    }\n",
       "\n",
       "    .dataframe thead th {\n",
       "        text-align: right;\n",
       "    }\n",
       "</style>\n",
       "<table border=\"1\" class=\"dataframe\">\n",
       "  <thead>\n",
       "    <tr style=\"text-align: right;\">\n",
       "      <th></th>\n",
       "      <th>country</th>\n",
       "      <th>population</th>\n",
       "    </tr>\n",
       "  </thead>\n",
       "  <tbody>\n",
       "    <tr>\n",
       "      <th>1</th>\n",
       "      <td>China</td>\n",
       "      <td>1411750000</td>\n",
       "    </tr>\n",
       "    <tr>\n",
       "      <th>2</th>\n",
       "      <td>India</td>\n",
       "      <td>1392329000</td>\n",
       "    </tr>\n",
       "    <tr>\n",
       "      <th>3</th>\n",
       "      <td>United States</td>\n",
       "      <td>335619000</td>\n",
       "    </tr>\n",
       "    <tr>\n",
       "      <th>4</th>\n",
       "      <td>Indonesia</td>\n",
       "      <td>279118866</td>\n",
       "    </tr>\n",
       "    <tr>\n",
       "      <th>5</th>\n",
       "      <td>Pakistan</td>\n",
       "      <td>241499431</td>\n",
       "    </tr>\n",
       "  </tbody>\n",
       "</table>\n",
       "</div>"
      ],
      "text/plain": [
       "         country  population\n",
       "1          China  1411750000\n",
       "2          India  1392329000\n",
       "3  United States   335619000\n",
       "4      Indonesia   279118866\n",
       "5       Pakistan   241499431"
      ]
     },
     "execution_count": 23,
     "metadata": {},
     "output_type": "execute_result"
    }
   ],
   "source": [
    "df_population.head()"
   ]
  },
  {
   "cell_type": "markdown",
   "metadata": {},
   "source": [
    "#### 데이터프레임 merge"
   ]
  },
  {
   "cell_type": "code",
   "execution_count": 30,
   "metadata": {},
   "outputs": [
    {
     "name": "stdout",
     "output_type": "stream",
     "text": [
      "<class 'pandas.core.frame.DataFrame'>\n",
      "RangeIndex: 180 entries, 0 to 179\n",
      "Data columns (total 6 columns):\n",
      " #   Column           Non-Null Count  Dtype \n",
      "---  ------           --------------  ----- \n",
      " 0   country          180 non-null    object\n",
      " 1   incomeperperson  180 non-null    object\n",
      " 2   internetuserate  180 non-null    object\n",
      " 3   urbanrate        180 non-null    object\n",
      " 4   code             180 non-null    object\n",
      " 5   population       180 non-null    int64 \n",
      "dtypes: int64(1), object(5)\n",
      "memory usage: 8.6+ KB\n"
     ]
    }
   ],
   "source": [
    "df = pd.merge(df_target, df_population, on='country', how='inner')\n",
    "df.info()"
   ]
  },
  {
   "cell_type": "markdown",
   "metadata": {},
   "source": [
    "#### 정렬 / 인덱스삭제"
   ]
  },
  {
   "cell_type": "code",
   "execution_count": 28,
   "metadata": {},
   "outputs": [
    {
     "data": {
      "text/html": [
       "<div>\n",
       "<style scoped>\n",
       "    .dataframe tbody tr th:only-of-type {\n",
       "        vertical-align: middle;\n",
       "    }\n",
       "\n",
       "    .dataframe tbody tr th {\n",
       "        vertical-align: top;\n",
       "    }\n",
       "\n",
       "    .dataframe thead th {\n",
       "        text-align: right;\n",
       "    }\n",
       "</style>\n",
       "<table border=\"1\" class=\"dataframe\">\n",
       "  <thead>\n",
       "    <tr style=\"text-align: right;\">\n",
       "      <th></th>\n",
       "      <th>country</th>\n",
       "      <th>incomeperperson</th>\n",
       "      <th>internetuserate</th>\n",
       "      <th>urbanrate</th>\n",
       "      <th>code</th>\n",
       "      <th>population</th>\n",
       "    </tr>\n",
       "  </thead>\n",
       "  <tbody>\n",
       "    <tr>\n",
       "      <th>0</th>\n",
       "      <td>Andorra</td>\n",
       "      <td>21943.3399</td>\n",
       "      <td>81.0</td>\n",
       "      <td>88.92</td>\n",
       "      <td>AD</td>\n",
       "      <td>83523.0</td>\n",
       "    </tr>\n",
       "    <tr>\n",
       "      <th>1</th>\n",
       "      <td>United Arab Emirates</td>\n",
       "      <td>21087.39412</td>\n",
       "      <td>77.996781</td>\n",
       "      <td>77.88</td>\n",
       "      <td>AE</td>\n",
       "      <td>9282410.0</td>\n",
       "    </tr>\n",
       "    <tr>\n",
       "      <th>2</th>\n",
       "      <td>Antigua and Barbuda</td>\n",
       "      <td>11894.46407</td>\n",
       "      <td>80.645455</td>\n",
       "      <td>30.46</td>\n",
       "      <td>AG</td>\n",
       "      <td>100772.0</td>\n",
       "    </tr>\n",
       "    <tr>\n",
       "      <th>3</th>\n",
       "      <td>Albania</td>\n",
       "      <td>1914.996551</td>\n",
       "      <td>44.989947</td>\n",
       "      <td>46.72</td>\n",
       "      <td>AL</td>\n",
       "      <td>2761785.0</td>\n",
       "    </tr>\n",
       "    <tr>\n",
       "      <th>4</th>\n",
       "      <td>Armenia</td>\n",
       "      <td>1326.741757</td>\n",
       "      <td>44.001025</td>\n",
       "      <td>63.86</td>\n",
       "      <td>AM</td>\n",
       "      <td>2981200.0</td>\n",
       "    </tr>\n",
       "    <tr>\n",
       "      <th>...</th>\n",
       "      <td>...</td>\n",
       "      <td>...</td>\n",
       "      <td>...</td>\n",
       "      <td>...</td>\n",
       "      <td>...</td>\n",
       "      <td>...</td>\n",
       "    </tr>\n",
       "    <tr>\n",
       "      <th>177</th>\n",
       "      <td>Samoa</td>\n",
       "      <td>1784.071284</td>\n",
       "      <td>6.965038</td>\n",
       "      <td>23.0</td>\n",
       "      <td>WS</td>\n",
       "      <td>205557.0</td>\n",
       "    </tr>\n",
       "    <tr>\n",
       "      <th>178</th>\n",
       "      <td>Yemen</td>\n",
       "      <td>Yemen</td>\n",
       "      <td>Yemen</td>\n",
       "      <td>Yemen</td>\n",
       "      <td>YE</td>\n",
       "      <td>31888698.0</td>\n",
       "    </tr>\n",
       "    <tr>\n",
       "      <th>179</th>\n",
       "      <td>South Africa</td>\n",
       "      <td>3745.649852</td>\n",
       "      <td>12.334893</td>\n",
       "      <td>60.74</td>\n",
       "      <td>ZA</td>\n",
       "      <td>62027503.0</td>\n",
       "    </tr>\n",
       "    <tr>\n",
       "      <th>180</th>\n",
       "      <td>Zambia</td>\n",
       "      <td>432.226337</td>\n",
       "      <td>10.124986</td>\n",
       "      <td>35.42</td>\n",
       "      <td>ZM</td>\n",
       "      <td>19610769.0</td>\n",
       "    </tr>\n",
       "    <tr>\n",
       "      <th>181</th>\n",
       "      <td>Zimbabwe</td>\n",
       "      <td>320.77189</td>\n",
       "      <td>11.500415</td>\n",
       "      <td>37.34</td>\n",
       "      <td>ZW</td>\n",
       "      <td>15178979.0</td>\n",
       "    </tr>\n",
       "  </tbody>\n",
       "</table>\n",
       "<p>182 rows × 6 columns</p>\n",
       "</div>"
      ],
      "text/plain": [
       "                  country incomeperperson internetuserate urbanrate code   \n",
       "0                 Andorra      21943.3399            81.0     88.92   AD  \\\n",
       "1    United Arab Emirates     21087.39412       77.996781     77.88   AE   \n",
       "2     Antigua and Barbuda     11894.46407       80.645455     30.46   AG   \n",
       "3                 Albania     1914.996551       44.989947     46.72   AL   \n",
       "4                 Armenia     1326.741757       44.001025     63.86   AM   \n",
       "..                    ...             ...             ...       ...  ...   \n",
       "177                 Samoa     1784.071284        6.965038      23.0   WS   \n",
       "178                 Yemen           Yemen           Yemen     Yemen   YE   \n",
       "179          South Africa     3745.649852       12.334893     60.74   ZA   \n",
       "180                Zambia      432.226337       10.124986     35.42   ZM   \n",
       "181              Zimbabwe       320.77189       11.500415     37.34   ZW   \n",
       "\n",
       "     population  \n",
       "0       83523.0  \n",
       "1     9282410.0  \n",
       "2      100772.0  \n",
       "3     2761785.0  \n",
       "4     2981200.0  \n",
       "..          ...  \n",
       "177    205557.0  \n",
       "178  31888698.0  \n",
       "179  62027503.0  \n",
       "180  19610769.0  \n",
       "181  15178979.0  \n",
       "\n",
       "[182 rows x 6 columns]"
      ]
     },
     "execution_count": 28,
     "metadata": {},
     "output_type": "execute_result"
    }
   ],
   "source": [
    "df = df.sort_values(by='code', ascending=True)\n",
    "df = df.reset_index(drop=True)\n",
    "df"
   ]
  },
  {
   "cell_type": "code",
   "execution_count": 29,
   "metadata": {
    "id": "smdP6c7O1wYH",
    "outputId": "835547a2-cf4e-46a4-ddac-d99e2295a896"
   },
   "outputs": [
    {
     "name": "stdout",
     "output_type": "stream",
     "text": [
      "정답입니다! 10점 누적 되었습니다!\n",
      "현재 누적 점수: 50 / 100\n"
     ]
    }
   ],
   "source": [
    "# 2-4\n",
    "check_02_04(df)"
   ]
  },
  {
   "cell_type": "markdown",
   "metadata": {
    "id": "Vn6txCrN1wYI"
   },
   "source": [
    "## 3단계: Reference Data02: 불러오기 & 전처리 & 합치기\n",
    "***"
   ]
  },
  {
   "cell_type": "code",
   "execution_count": 31,
   "metadata": {
    "id": "Ok_ELzvs1wYI",
    "outputId": "e637e212-4941-4c85-f81e-7ce5d376fac3"
   },
   "outputs": [
    {
     "data": {
      "text/html": [
       "<div>\n",
       "<style scoped>\n",
       "    .dataframe tbody tr th:only-of-type {\n",
       "        vertical-align: middle;\n",
       "    }\n",
       "\n",
       "    .dataframe tbody tr th {\n",
       "        vertical-align: top;\n",
       "    }\n",
       "\n",
       "    .dataframe thead th {\n",
       "        text-align: right;\n",
       "    }\n",
       "</style>\n",
       "<table border=\"1\" class=\"dataframe\">\n",
       "  <thead>\n",
       "    <tr style=\"text-align: right;\">\n",
       "      <th></th>\n",
       "      <th>name</th>\n",
       "      <th>alpha-2</th>\n",
       "      <th>alpha-3</th>\n",
       "      <th>country-code</th>\n",
       "      <th>iso_3166-2</th>\n",
       "      <th>region</th>\n",
       "      <th>sub-region</th>\n",
       "      <th>intermediate-region</th>\n",
       "      <th>region-code</th>\n",
       "      <th>sub-region-code</th>\n",
       "      <th>intermediate-region-code</th>\n",
       "    </tr>\n",
       "  </thead>\n",
       "  <tbody>\n",
       "    <tr>\n",
       "      <th>0</th>\n",
       "      <td>Afghanistan</td>\n",
       "      <td>AF</td>\n",
       "      <td>AFG</td>\n",
       "      <td>4</td>\n",
       "      <td>ISO 3166-2:AF</td>\n",
       "      <td>Asia</td>\n",
       "      <td>Southern Asia</td>\n",
       "      <td>NaN</td>\n",
       "      <td>142.0</td>\n",
       "      <td>34.0</td>\n",
       "      <td>NaN</td>\n",
       "    </tr>\n",
       "    <tr>\n",
       "      <th>1</th>\n",
       "      <td>Åland Islands</td>\n",
       "      <td>AX</td>\n",
       "      <td>ALA</td>\n",
       "      <td>248</td>\n",
       "      <td>ISO 3166-2:AX</td>\n",
       "      <td>Europe</td>\n",
       "      <td>Northern Europe</td>\n",
       "      <td>NaN</td>\n",
       "      <td>150.0</td>\n",
       "      <td>154.0</td>\n",
       "      <td>NaN</td>\n",
       "    </tr>\n",
       "    <tr>\n",
       "      <th>2</th>\n",
       "      <td>Albania</td>\n",
       "      <td>AL</td>\n",
       "      <td>ALB</td>\n",
       "      <td>8</td>\n",
       "      <td>ISO 3166-2:AL</td>\n",
       "      <td>Europe</td>\n",
       "      <td>Southern Europe</td>\n",
       "      <td>NaN</td>\n",
       "      <td>150.0</td>\n",
       "      <td>39.0</td>\n",
       "      <td>NaN</td>\n",
       "    </tr>\n",
       "    <tr>\n",
       "      <th>3</th>\n",
       "      <td>Algeria</td>\n",
       "      <td>DZ</td>\n",
       "      <td>DZA</td>\n",
       "      <td>12</td>\n",
       "      <td>ISO 3166-2:DZ</td>\n",
       "      <td>Africa</td>\n",
       "      <td>Northern Africa</td>\n",
       "      <td>NaN</td>\n",
       "      <td>2.0</td>\n",
       "      <td>15.0</td>\n",
       "      <td>NaN</td>\n",
       "    </tr>\n",
       "    <tr>\n",
       "      <th>4</th>\n",
       "      <td>American Samoa</td>\n",
       "      <td>AS</td>\n",
       "      <td>ASM</td>\n",
       "      <td>16</td>\n",
       "      <td>ISO 3166-2:AS</td>\n",
       "      <td>Oceania</td>\n",
       "      <td>Polynesia</td>\n",
       "      <td>NaN</td>\n",
       "      <td>9.0</td>\n",
       "      <td>61.0</td>\n",
       "      <td>NaN</td>\n",
       "    </tr>\n",
       "    <tr>\n",
       "      <th>...</th>\n",
       "      <td>...</td>\n",
       "      <td>...</td>\n",
       "      <td>...</td>\n",
       "      <td>...</td>\n",
       "      <td>...</td>\n",
       "      <td>...</td>\n",
       "      <td>...</td>\n",
       "      <td>...</td>\n",
       "      <td>...</td>\n",
       "      <td>...</td>\n",
       "      <td>...</td>\n",
       "    </tr>\n",
       "    <tr>\n",
       "      <th>244</th>\n",
       "      <td>Wallis and Futuna</td>\n",
       "      <td>WF</td>\n",
       "      <td>WLF</td>\n",
       "      <td>876</td>\n",
       "      <td>ISO 3166-2:WF</td>\n",
       "      <td>Oceania</td>\n",
       "      <td>Polynesia</td>\n",
       "      <td>NaN</td>\n",
       "      <td>9.0</td>\n",
       "      <td>61.0</td>\n",
       "      <td>NaN</td>\n",
       "    </tr>\n",
       "    <tr>\n",
       "      <th>245</th>\n",
       "      <td>Western Sahara</td>\n",
       "      <td>EH</td>\n",
       "      <td>ESH</td>\n",
       "      <td>732</td>\n",
       "      <td>ISO 3166-2:EH</td>\n",
       "      <td>Africa</td>\n",
       "      <td>Northern Africa</td>\n",
       "      <td>NaN</td>\n",
       "      <td>2.0</td>\n",
       "      <td>15.0</td>\n",
       "      <td>NaN</td>\n",
       "    </tr>\n",
       "    <tr>\n",
       "      <th>246</th>\n",
       "      <td>Yemen</td>\n",
       "      <td>YE</td>\n",
       "      <td>YEM</td>\n",
       "      <td>887</td>\n",
       "      <td>ISO 3166-2:YE</td>\n",
       "      <td>Asia</td>\n",
       "      <td>Western Asia</td>\n",
       "      <td>NaN</td>\n",
       "      <td>142.0</td>\n",
       "      <td>145.0</td>\n",
       "      <td>NaN</td>\n",
       "    </tr>\n",
       "    <tr>\n",
       "      <th>247</th>\n",
       "      <td>Zambia</td>\n",
       "      <td>ZM</td>\n",
       "      <td>ZMB</td>\n",
       "      <td>894</td>\n",
       "      <td>ISO 3166-2:ZM</td>\n",
       "      <td>Africa</td>\n",
       "      <td>Sub-Saharan Africa</td>\n",
       "      <td>Eastern Africa</td>\n",
       "      <td>2.0</td>\n",
       "      <td>202.0</td>\n",
       "      <td>14.0</td>\n",
       "    </tr>\n",
       "    <tr>\n",
       "      <th>248</th>\n",
       "      <td>Zimbabwe</td>\n",
       "      <td>ZW</td>\n",
       "      <td>ZWE</td>\n",
       "      <td>716</td>\n",
       "      <td>ISO 3166-2:ZW</td>\n",
       "      <td>Africa</td>\n",
       "      <td>Sub-Saharan Africa</td>\n",
       "      <td>Eastern Africa</td>\n",
       "      <td>2.0</td>\n",
       "      <td>202.0</td>\n",
       "      <td>14.0</td>\n",
       "    </tr>\n",
       "  </tbody>\n",
       "</table>\n",
       "<p>249 rows × 11 columns</p>\n",
       "</div>"
      ],
      "text/plain": [
       "                  name alpha-2 alpha-3  country-code     iso_3166-2   region   \n",
       "0          Afghanistan      AF     AFG             4  ISO 3166-2:AF     Asia  \\\n",
       "1        Åland Islands      AX     ALA           248  ISO 3166-2:AX   Europe   \n",
       "2              Albania      AL     ALB             8  ISO 3166-2:AL   Europe   \n",
       "3              Algeria      DZ     DZA            12  ISO 3166-2:DZ   Africa   \n",
       "4       American Samoa      AS     ASM            16  ISO 3166-2:AS  Oceania   \n",
       "..                 ...     ...     ...           ...            ...      ...   \n",
       "244  Wallis and Futuna      WF     WLF           876  ISO 3166-2:WF  Oceania   \n",
       "245     Western Sahara      EH     ESH           732  ISO 3166-2:EH   Africa   \n",
       "246              Yemen      YE     YEM           887  ISO 3166-2:YE     Asia   \n",
       "247             Zambia      ZM     ZMB           894  ISO 3166-2:ZM   Africa   \n",
       "248           Zimbabwe      ZW     ZWE           716  ISO 3166-2:ZW   Africa   \n",
       "\n",
       "             sub-region intermediate-region  region-code  sub-region-code   \n",
       "0         Southern Asia                 NaN        142.0             34.0  \\\n",
       "1       Northern Europe                 NaN        150.0            154.0   \n",
       "2       Southern Europe                 NaN        150.0             39.0   \n",
       "3       Northern Africa                 NaN          2.0             15.0   \n",
       "4             Polynesia                 NaN          9.0             61.0   \n",
       "..                  ...                 ...          ...              ...   \n",
       "244           Polynesia                 NaN          9.0             61.0   \n",
       "245     Northern Africa                 NaN          2.0             15.0   \n",
       "246        Western Asia                 NaN        142.0            145.0   \n",
       "247  Sub-Saharan Africa      Eastern Africa          2.0            202.0   \n",
       "248  Sub-Saharan Africa      Eastern Africa          2.0            202.0   \n",
       "\n",
       "     intermediate-region-code  \n",
       "0                         NaN  \n",
       "1                         NaN  \n",
       "2                         NaN  \n",
       "3                         NaN  \n",
       "4                         NaN  \n",
       "..                        ...  \n",
       "244                       NaN  \n",
       "245                       NaN  \n",
       "246                       NaN  \n",
       "247                      14.0  \n",
       "248                      14.0  \n",
       "\n",
       "[249 rows x 11 columns]"
      ]
     },
     "execution_count": 31,
     "metadata": {},
     "output_type": "execute_result"
    }
   ],
   "source": [
    "df_region = pd.read_csv('./datas/continents2.csv')\n",
    "df_region"
   ]
  },
  {
   "cell_type": "markdown",
   "metadata": {
    "id": "fKvrF-OU1wYI"
   },
   "source": [
    "### 문제 3-1) Region Data 전처리 01 (10점)\n",
    "- 위의 DataFrame(df_region)을 아래의 조건에 맞게 변경하세요.\n",
    "<br></br>\n",
    "    - 조건1\n",
    "        - 특정 국가('Namibia')의 국가코드가 'NA'이기 때문에 위와 같이 DataFrame을 불러올경우 해당 국가코드가 NaN값으로 처리됩니다.\n",
    "        - 해당 국가의 국가코드를 'NA'로 변경하세요.(해당 값의 type이 string이어야 합니다.)\n",
    "        - 참고\n",
    "            - 아래 조건3에 따른 Column(열)명을 변경하기 전에는 'alpha-2', 변경 후에는 'code' Column(열)에 국가코드가 있습니다.\n",
    "            - 국가명 Column(열)명은 'name'입니다.\n",
    "<br></br>\n",
    "    - 조건2\n",
    "        - 아래 df_region_drop_col은 Data 분석시 필요 없는 Column(열)입니다.\n",
    "        - df_region_drop_col을 참고하여 df_region의 Column(열)들을 삭제(drop)하세요.\n",
    "<br></br>\n",
    "    - 조건3\n",
    "        - 아래 df_region_rename_dict는 기존 컬럼명 - 변경할 컬럼명이 key-value로 이루어져 있습니다.\n",
    "        - df_region_rename_dict를 참고하여 df_region의 Column(열)명을 변경하세요.\n",
    "<br></br>\n",
    "    - 조건4: Index 또는 순서(order)는 변경하지 마세요.\n",
    "<br></br>\n",
    "- 완료 후 결과 dataframe 변수를 check_03_02 함수에 입력하여 채점하세요."
   ]
  },
  {
   "cell_type": "code",
   "execution_count": 32,
   "metadata": {
    "id": "0Hr3ydfm1wYI"
   },
   "outputs": [],
   "source": [
    "df_region_drop_col = [\n",
    "                    'country-code',\n",
    "                    'alpha-3',\n",
    "                    'iso_3166-2',\n",
    "                    'region-code',\n",
    "                    'sub-region-code',\n",
    "                    'intermediate-region-code'\n",
    "                    ]\n",
    "\n",
    "df_region_rename_dict = {\n",
    "                        'alpha-2': 'code',\n",
    "                        'sub-region': 'sub_region',\n",
    "                        'intermediate-region': 'intermediate_region',\n",
    "                        }"
   ]
  },
  {
   "cell_type": "markdown",
   "metadata": {},
   "source": [
    "#### 조건1) 'NA'로 변경"
   ]
  },
  {
   "cell_type": "code",
   "execution_count": 33,
   "metadata": {},
   "outputs": [],
   "source": [
    "df_region.loc[df_region['name'] == 'Namibia', 'alpha-2'] = 'NA'"
   ]
  },
  {
   "cell_type": "code",
   "execution_count": 34,
   "metadata": {},
   "outputs": [
    {
     "data": {
      "text/html": [
       "<div>\n",
       "<style scoped>\n",
       "    .dataframe tbody tr th:only-of-type {\n",
       "        vertical-align: middle;\n",
       "    }\n",
       "\n",
       "    .dataframe tbody tr th {\n",
       "        vertical-align: top;\n",
       "    }\n",
       "\n",
       "    .dataframe thead th {\n",
       "        text-align: right;\n",
       "    }\n",
       "</style>\n",
       "<table border=\"1\" class=\"dataframe\">\n",
       "  <thead>\n",
       "    <tr style=\"text-align: right;\">\n",
       "      <th></th>\n",
       "      <th>name</th>\n",
       "      <th>alpha-2</th>\n",
       "      <th>alpha-3</th>\n",
       "      <th>country-code</th>\n",
       "      <th>iso_3166-2</th>\n",
       "      <th>region</th>\n",
       "      <th>sub-region</th>\n",
       "      <th>intermediate-region</th>\n",
       "      <th>region-code</th>\n",
       "      <th>sub-region-code</th>\n",
       "      <th>intermediate-region-code</th>\n",
       "    </tr>\n",
       "  </thead>\n",
       "  <tbody>\n",
       "    <tr>\n",
       "      <th>153</th>\n",
       "      <td>Namibia</td>\n",
       "      <td>NA</td>\n",
       "      <td>NAM</td>\n",
       "      <td>516</td>\n",
       "      <td>ISO 3166-2:NA</td>\n",
       "      <td>Africa</td>\n",
       "      <td>Sub-Saharan Africa</td>\n",
       "      <td>Southern Africa</td>\n",
       "      <td>2.0</td>\n",
       "      <td>202.0</td>\n",
       "      <td>18.0</td>\n",
       "    </tr>\n",
       "  </tbody>\n",
       "</table>\n",
       "</div>"
      ],
      "text/plain": [
       "        name alpha-2 alpha-3  country-code     iso_3166-2  region   \n",
       "153  Namibia      NA     NAM           516  ISO 3166-2:NA  Africa  \\\n",
       "\n",
       "             sub-region intermediate-region  region-code  sub-region-code   \n",
       "153  Sub-Saharan Africa     Southern Africa          2.0            202.0  \\\n",
       "\n",
       "     intermediate-region-code  \n",
       "153                      18.0  "
      ]
     },
     "execution_count": 34,
     "metadata": {},
     "output_type": "execute_result"
    }
   ],
   "source": [
    "df_region[df_region['name'] == 'Namibia']"
   ]
  },
  {
   "cell_type": "markdown",
   "metadata": {},
   "source": [
    "#### 조건2) 컬럼삭제"
   ]
  },
  {
   "cell_type": "code",
   "execution_count": 35,
   "metadata": {},
   "outputs": [
    {
     "data": {
      "text/plain": [
       "Index(['name', 'alpha-2', 'alpha-3', 'country-code', 'iso_3166-2', 'region',\n",
       "       'sub-region', 'intermediate-region', 'region-code', 'sub-region-code',\n",
       "       'intermediate-region-code'],\n",
       "      dtype='object')"
      ]
     },
     "execution_count": 35,
     "metadata": {},
     "output_type": "execute_result"
    }
   ],
   "source": [
    "df_region.columns"
   ]
  },
  {
   "cell_type": "code",
   "execution_count": 36,
   "metadata": {},
   "outputs": [],
   "source": [
    "df_region.drop(df_region_drop_col, axis=1, inplace=True)"
   ]
  },
  {
   "cell_type": "code",
   "execution_count": 37,
   "metadata": {
    "scrolled": true
   },
   "outputs": [
    {
     "data": {
      "text/plain": [
       "Index(['name', 'alpha-2', 'region', 'sub-region', 'intermediate-region'], dtype='object')"
      ]
     },
     "execution_count": 37,
     "metadata": {},
     "output_type": "execute_result"
    }
   ],
   "source": [
    "df_region.columns"
   ]
  },
  {
   "cell_type": "markdown",
   "metadata": {},
   "source": [
    "#### 컬럼명 변경"
   ]
  },
  {
   "cell_type": "code",
   "execution_count": 38,
   "metadata": {},
   "outputs": [
    {
     "data": {
      "text/plain": [
       "Index(['name', 'code', 'region', 'sub_region', 'intermediate_region'], dtype='object')"
      ]
     },
     "execution_count": 38,
     "metadata": {},
     "output_type": "execute_result"
    }
   ],
   "source": [
    "df_region.rename(columns=df_region_rename_dict, inplace=True)\n",
    "df_region.columns"
   ]
  },
  {
   "cell_type": "code",
   "execution_count": 39,
   "metadata": {
    "id": "XWSqATMn1wYI",
    "outputId": "502f3bf9-dd68-48aa-e73c-56ab2bcbd147"
   },
   "outputs": [
    {
     "name": "stdout",
     "output_type": "stream",
     "text": [
      "정답입니다! 10점 누적 되었습니다!\n",
      "현재 누적 점수: 60 / 100\n"
     ]
    }
   ],
   "source": [
    "# 3-1\n",
    "check_03_01(df_region)"
   ]
  },
  {
   "cell_type": "code",
   "execution_count": 40,
   "metadata": {
    "id": "YLk78d8c1wYI",
    "outputId": "f8253c36-5d51-447d-e624-dbc472dd6f30"
   },
   "outputs": [
    {
     "data": {
      "text/html": [
       "<div>\n",
       "<style scoped>\n",
       "    .dataframe tbody tr th:only-of-type {\n",
       "        vertical-align: middle;\n",
       "    }\n",
       "\n",
       "    .dataframe tbody tr th {\n",
       "        vertical-align: top;\n",
       "    }\n",
       "\n",
       "    .dataframe thead th {\n",
       "        text-align: right;\n",
       "    }\n",
       "</style>\n",
       "<table border=\"1\" class=\"dataframe\">\n",
       "  <thead>\n",
       "    <tr style=\"text-align: right;\">\n",
       "      <th></th>\n",
       "      <th>name</th>\n",
       "      <th>code</th>\n",
       "      <th>region</th>\n",
       "      <th>sub_region</th>\n",
       "      <th>intermediate_region</th>\n",
       "    </tr>\n",
       "  </thead>\n",
       "  <tbody>\n",
       "    <tr>\n",
       "      <th>0</th>\n",
       "      <td>Afghanistan</td>\n",
       "      <td>AF</td>\n",
       "      <td>Asia</td>\n",
       "      <td>Southern Asia</td>\n",
       "      <td>NaN</td>\n",
       "    </tr>\n",
       "    <tr>\n",
       "      <th>1</th>\n",
       "      <td>Åland Islands</td>\n",
       "      <td>AX</td>\n",
       "      <td>Europe</td>\n",
       "      <td>Northern Europe</td>\n",
       "      <td>NaN</td>\n",
       "    </tr>\n",
       "    <tr>\n",
       "      <th>2</th>\n",
       "      <td>Albania</td>\n",
       "      <td>AL</td>\n",
       "      <td>Europe</td>\n",
       "      <td>Southern Europe</td>\n",
       "      <td>NaN</td>\n",
       "    </tr>\n",
       "    <tr>\n",
       "      <th>3</th>\n",
       "      <td>Algeria</td>\n",
       "      <td>DZ</td>\n",
       "      <td>Africa</td>\n",
       "      <td>Northern Africa</td>\n",
       "      <td>NaN</td>\n",
       "    </tr>\n",
       "    <tr>\n",
       "      <th>4</th>\n",
       "      <td>American Samoa</td>\n",
       "      <td>AS</td>\n",
       "      <td>Oceania</td>\n",
       "      <td>Polynesia</td>\n",
       "      <td>NaN</td>\n",
       "    </tr>\n",
       "    <tr>\n",
       "      <th>...</th>\n",
       "      <td>...</td>\n",
       "      <td>...</td>\n",
       "      <td>...</td>\n",
       "      <td>...</td>\n",
       "      <td>...</td>\n",
       "    </tr>\n",
       "    <tr>\n",
       "      <th>244</th>\n",
       "      <td>Wallis and Futuna</td>\n",
       "      <td>WF</td>\n",
       "      <td>Oceania</td>\n",
       "      <td>Polynesia</td>\n",
       "      <td>NaN</td>\n",
       "    </tr>\n",
       "    <tr>\n",
       "      <th>245</th>\n",
       "      <td>Western Sahara</td>\n",
       "      <td>EH</td>\n",
       "      <td>Africa</td>\n",
       "      <td>Northern Africa</td>\n",
       "      <td>NaN</td>\n",
       "    </tr>\n",
       "    <tr>\n",
       "      <th>246</th>\n",
       "      <td>Yemen</td>\n",
       "      <td>YE</td>\n",
       "      <td>Asia</td>\n",
       "      <td>Western Asia</td>\n",
       "      <td>NaN</td>\n",
       "    </tr>\n",
       "    <tr>\n",
       "      <th>247</th>\n",
       "      <td>Zambia</td>\n",
       "      <td>ZM</td>\n",
       "      <td>Africa</td>\n",
       "      <td>Sub-Saharan Africa</td>\n",
       "      <td>Eastern Africa</td>\n",
       "    </tr>\n",
       "    <tr>\n",
       "      <th>248</th>\n",
       "      <td>Zimbabwe</td>\n",
       "      <td>ZW</td>\n",
       "      <td>Africa</td>\n",
       "      <td>Sub-Saharan Africa</td>\n",
       "      <td>Eastern Africa</td>\n",
       "    </tr>\n",
       "  </tbody>\n",
       "</table>\n",
       "<p>249 rows × 5 columns</p>\n",
       "</div>"
      ],
      "text/plain": [
       "                  name code   region          sub_region intermediate_region\n",
       "0          Afghanistan   AF     Asia       Southern Asia                 NaN\n",
       "1        Åland Islands   AX   Europe     Northern Europe                 NaN\n",
       "2              Albania   AL   Europe     Southern Europe                 NaN\n",
       "3              Algeria   DZ   Africa     Northern Africa                 NaN\n",
       "4       American Samoa   AS  Oceania           Polynesia                 NaN\n",
       "..                 ...  ...      ...                 ...                 ...\n",
       "244  Wallis and Futuna   WF  Oceania           Polynesia                 NaN\n",
       "245     Western Sahara   EH   Africa     Northern Africa                 NaN\n",
       "246              Yemen   YE     Asia        Western Asia                 NaN\n",
       "247             Zambia   ZM   Africa  Sub-Saharan Africa      Eastern Africa\n",
       "248           Zimbabwe   ZW   Africa  Sub-Saharan Africa      Eastern Africa\n",
       "\n",
       "[249 rows x 5 columns]"
      ]
     },
     "execution_count": 40,
     "metadata": {},
     "output_type": "execute_result"
    }
   ],
   "source": [
    "df_region"
   ]
  },
  {
   "cell_type": "markdown",
   "metadata": {
    "id": "NN8pZNSc1wYI"
   },
   "source": [
    "### 문제 3-2) Data 합치기(10점)\n",
    "- 2단계의 DataFrame(df)과 3-1의 DataFrame(df_region)을 아래의 조건에 맞게 합치세요.\n",
    "<br></br>\n",
    "    - df에 df_region의 Data를 추가하려 합니다.\n",
    "<br></br>\n",
    "        - 조건1: df, df_region 국가코드('code' Column(열)의 value)가 같은 Data끼리 합쳐주세요.\n",
    "<br></br>\n",
    "        - 조건2: 결합 방식은 교집합(겹치는 국가코드가 있는 경우만 추출)으로 지정해 주세요.\n",
    "<br></br>\n",
    "        - 조건3: Column(열)방향으로 DataFrame을 합쳐주세요.\n",
    "<br></br>\n",
    "        - 조건4: 'code' Column(열)을 기준으로 오름차순으로 정렬해주세요.\n",
    "<br></br>\n",
    "        - 조건5\n",
    "            - 아래 df_rename_dict는 기존 컬럼명 - 변경할 컬럼명이 key-value로 이루어져 있습니다.\n",
    "            - df_rename_dict를 참고하여 df의 Column(열)명을 변경하세요.\n",
    "<br></br>\n",
    "        - 조건6\n",
    "            - 아래 new_col_order는 변경하고자하는 Column(열)의 순서대로 Column(열)명을 값으로 가지고 있습니다.\n",
    "            - new_col_order를 참고하여 df의 Column(열)의 순서를 변경하세요.\n",
    "<br></br>\n",
    "        - 조건7: 'name' Column(열)은 삭제(drop)해 주세요\n",
    "<br></br>\n",
    "        - 조건8: index를 reset해주세요.\n",
    "<br></br>\n",
    "        - 조건9: 결과 DataFrame의 Column은 6개('country', 'incomeperperson', 'internetuserate', 'urbanrate', 'code', 'population')이어야 합니다.\n",
    "<br></br>\n",
    "        - 조건10: 결과 DataFrame의 변수는 'df' 로 지정해 주세요.\n",
    "<br></br>\n",
    "<br></br>\n",
    "        - hint1: 조건1 -> key='code' 또는 on='code'\n",
    "<br></br>\n",
    "        - hint2: 조건2 -> join='inner' 또는 how='inner'(DataFrame 순서에 따라 'left', 'right'도 가능)\n",
    "<br></br>\n",
    "<br></br>\n",
    "- 완료 후 결과 dataframe 변수를 check_03_02 함수에 입력하여 채점하세요."
   ]
  },
  {
   "cell_type": "code",
   "execution_count": 41,
   "metadata": {
    "id": "bglnMTxF1wYI"
   },
   "outputs": [],
   "source": [
    "df_rename_dict = {\n",
    "                'incomeperperson': 'income_per_person',\n",
    "                'internetuserate': 'internet_use_rate',\n",
    "                }\n",
    "\n",
    "df_drop_col = ['name']\n",
    "\n",
    "new_col_order = [\n",
    "                'code',\n",
    "                'country',\n",
    "                'population',\n",
    "                'income_per_person',\n",
    "                'internet_use_rate',\n",
    "                'urbanrate',\n",
    "                'region',\n",
    "                'sub_region',\n",
    "                'intermediate_region'\n",
    "                ]"
   ]
  },
  {
   "cell_type": "code",
   "execution_count": 42,
   "metadata": {},
   "outputs": [
    {
     "data": {
      "text/html": [
       "<div>\n",
       "<style scoped>\n",
       "    .dataframe tbody tr th:only-of-type {\n",
       "        vertical-align: middle;\n",
       "    }\n",
       "\n",
       "    .dataframe tbody tr th {\n",
       "        vertical-align: top;\n",
       "    }\n",
       "\n",
       "    .dataframe thead th {\n",
       "        text-align: right;\n",
       "    }\n",
       "</style>\n",
       "<table border=\"1\" class=\"dataframe\">\n",
       "  <thead>\n",
       "    <tr style=\"text-align: right;\">\n",
       "      <th></th>\n",
       "      <th>country</th>\n",
       "      <th>incomeperperson</th>\n",
       "      <th>internetuserate</th>\n",
       "      <th>urbanrate</th>\n",
       "      <th>code</th>\n",
       "      <th>population</th>\n",
       "    </tr>\n",
       "  </thead>\n",
       "  <tbody>\n",
       "    <tr>\n",
       "      <th>0</th>\n",
       "      <td>Albania</td>\n",
       "      <td>1914.996551</td>\n",
       "      <td>44.989947</td>\n",
       "      <td>46.72</td>\n",
       "      <td>AL</td>\n",
       "      <td>2761785</td>\n",
       "    </tr>\n",
       "    <tr>\n",
       "      <th>1</th>\n",
       "      <td>Algeria</td>\n",
       "      <td>2231.993335</td>\n",
       "      <td>12.500073</td>\n",
       "      <td>65.22</td>\n",
       "      <td>DZ</td>\n",
       "      <td>45400000</td>\n",
       "    </tr>\n",
       "    <tr>\n",
       "      <th>2</th>\n",
       "      <td>Andorra</td>\n",
       "      <td>21943.3399</td>\n",
       "      <td>81.0</td>\n",
       "      <td>88.92</td>\n",
       "      <td>AD</td>\n",
       "      <td>83523</td>\n",
       "    </tr>\n",
       "    <tr>\n",
       "      <th>3</th>\n",
       "      <td>Angola</td>\n",
       "      <td>1381.004268</td>\n",
       "      <td>9.999954</td>\n",
       "      <td>56.7</td>\n",
       "      <td>AO</td>\n",
       "      <td>33086278</td>\n",
       "    </tr>\n",
       "    <tr>\n",
       "      <th>4</th>\n",
       "      <td>Antigua and Barbuda</td>\n",
       "      <td>11894.46407</td>\n",
       "      <td>80.645455</td>\n",
       "      <td>30.46</td>\n",
       "      <td>AG</td>\n",
       "      <td>100772</td>\n",
       "    </tr>\n",
       "  </tbody>\n",
       "</table>\n",
       "</div>"
      ],
      "text/plain": [
       "               country incomeperperson internetuserate urbanrate code   \n",
       "0              Albania     1914.996551       44.989947     46.72   AL  \\\n",
       "1              Algeria     2231.993335       12.500073     65.22   DZ   \n",
       "2              Andorra      21943.3399            81.0     88.92   AD   \n",
       "3               Angola     1381.004268        9.999954      56.7   AO   \n",
       "4  Antigua and Barbuda     11894.46407       80.645455     30.46   AG   \n",
       "\n",
       "   population  \n",
       "0     2761785  \n",
       "1    45400000  \n",
       "2       83523  \n",
       "3    33086278  \n",
       "4      100772  "
      ]
     },
     "execution_count": 42,
     "metadata": {},
     "output_type": "execute_result"
    }
   ],
   "source": [
    "df.head()"
   ]
  },
  {
   "cell_type": "code",
   "execution_count": 43,
   "metadata": {},
   "outputs": [
    {
     "data": {
      "text/html": [
       "<div>\n",
       "<style scoped>\n",
       "    .dataframe tbody tr th:only-of-type {\n",
       "        vertical-align: middle;\n",
       "    }\n",
       "\n",
       "    .dataframe tbody tr th {\n",
       "        vertical-align: top;\n",
       "    }\n",
       "\n",
       "    .dataframe thead th {\n",
       "        text-align: right;\n",
       "    }\n",
       "</style>\n",
       "<table border=\"1\" class=\"dataframe\">\n",
       "  <thead>\n",
       "    <tr style=\"text-align: right;\">\n",
       "      <th></th>\n",
       "      <th>name</th>\n",
       "      <th>code</th>\n",
       "      <th>region</th>\n",
       "      <th>sub_region</th>\n",
       "      <th>intermediate_region</th>\n",
       "    </tr>\n",
       "  </thead>\n",
       "  <tbody>\n",
       "    <tr>\n",
       "      <th>0</th>\n",
       "      <td>Afghanistan</td>\n",
       "      <td>AF</td>\n",
       "      <td>Asia</td>\n",
       "      <td>Southern Asia</td>\n",
       "      <td>NaN</td>\n",
       "    </tr>\n",
       "    <tr>\n",
       "      <th>1</th>\n",
       "      <td>Åland Islands</td>\n",
       "      <td>AX</td>\n",
       "      <td>Europe</td>\n",
       "      <td>Northern Europe</td>\n",
       "      <td>NaN</td>\n",
       "    </tr>\n",
       "    <tr>\n",
       "      <th>2</th>\n",
       "      <td>Albania</td>\n",
       "      <td>AL</td>\n",
       "      <td>Europe</td>\n",
       "      <td>Southern Europe</td>\n",
       "      <td>NaN</td>\n",
       "    </tr>\n",
       "    <tr>\n",
       "      <th>3</th>\n",
       "      <td>Algeria</td>\n",
       "      <td>DZ</td>\n",
       "      <td>Africa</td>\n",
       "      <td>Northern Africa</td>\n",
       "      <td>NaN</td>\n",
       "    </tr>\n",
       "    <tr>\n",
       "      <th>4</th>\n",
       "      <td>American Samoa</td>\n",
       "      <td>AS</td>\n",
       "      <td>Oceania</td>\n",
       "      <td>Polynesia</td>\n",
       "      <td>NaN</td>\n",
       "    </tr>\n",
       "  </tbody>\n",
       "</table>\n",
       "</div>"
      ],
      "text/plain": [
       "             name code   region       sub_region intermediate_region\n",
       "0     Afghanistan   AF     Asia    Southern Asia                 NaN\n",
       "1   Åland Islands   AX   Europe  Northern Europe                 NaN\n",
       "2         Albania   AL   Europe  Southern Europe                 NaN\n",
       "3         Algeria   DZ   Africa  Northern Africa                 NaN\n",
       "4  American Samoa   AS  Oceania        Polynesia                 NaN"
      ]
     },
     "execution_count": 43,
     "metadata": {},
     "output_type": "execute_result"
    }
   ],
   "source": [
    "df_region.head()"
   ]
  },
  {
   "cell_type": "code",
   "execution_count": 44,
   "metadata": {},
   "outputs": [
    {
     "data": {
      "text/html": [
       "<div>\n",
       "<style scoped>\n",
       "    .dataframe tbody tr th:only-of-type {\n",
       "        vertical-align: middle;\n",
       "    }\n",
       "\n",
       "    .dataframe tbody tr th {\n",
       "        vertical-align: top;\n",
       "    }\n",
       "\n",
       "    .dataframe thead th {\n",
       "        text-align: right;\n",
       "    }\n",
       "</style>\n",
       "<table border=\"1\" class=\"dataframe\">\n",
       "  <thead>\n",
       "    <tr style=\"text-align: right;\">\n",
       "      <th></th>\n",
       "      <th>code</th>\n",
       "      <th>country</th>\n",
       "      <th>population</th>\n",
       "      <th>income_per_person</th>\n",
       "      <th>internet_use_rate</th>\n",
       "      <th>urbanrate</th>\n",
       "      <th>region</th>\n",
       "      <th>sub_region</th>\n",
       "      <th>intermediate_region</th>\n",
       "    </tr>\n",
       "  </thead>\n",
       "  <tbody>\n",
       "    <tr>\n",
       "      <th>0</th>\n",
       "      <td>AD</td>\n",
       "      <td>Andorra</td>\n",
       "      <td>83523</td>\n",
       "      <td>21943.3399</td>\n",
       "      <td>81.0</td>\n",
       "      <td>88.92</td>\n",
       "      <td>Europe</td>\n",
       "      <td>Southern Europe</td>\n",
       "      <td>NaN</td>\n",
       "    </tr>\n",
       "    <tr>\n",
       "      <th>1</th>\n",
       "      <td>AE</td>\n",
       "      <td>United Arab Emirates</td>\n",
       "      <td>9282410</td>\n",
       "      <td>21087.39412</td>\n",
       "      <td>77.996781</td>\n",
       "      <td>77.88</td>\n",
       "      <td>Asia</td>\n",
       "      <td>Western Asia</td>\n",
       "      <td>NaN</td>\n",
       "    </tr>\n",
       "    <tr>\n",
       "      <th>2</th>\n",
       "      <td>AG</td>\n",
       "      <td>Antigua and Barbuda</td>\n",
       "      <td>100772</td>\n",
       "      <td>11894.46407</td>\n",
       "      <td>80.645455</td>\n",
       "      <td>30.46</td>\n",
       "      <td>Americas</td>\n",
       "      <td>Latin America and the Caribbean</td>\n",
       "      <td>Caribbean</td>\n",
       "    </tr>\n",
       "    <tr>\n",
       "      <th>3</th>\n",
       "      <td>AL</td>\n",
       "      <td>Albania</td>\n",
       "      <td>2761785</td>\n",
       "      <td>1914.996551</td>\n",
       "      <td>44.989947</td>\n",
       "      <td>46.72</td>\n",
       "      <td>Europe</td>\n",
       "      <td>Southern Europe</td>\n",
       "      <td>NaN</td>\n",
       "    </tr>\n",
       "    <tr>\n",
       "      <th>4</th>\n",
       "      <td>AM</td>\n",
       "      <td>Armenia</td>\n",
       "      <td>2981200</td>\n",
       "      <td>1326.741757</td>\n",
       "      <td>44.001025</td>\n",
       "      <td>63.86</td>\n",
       "      <td>Asia</td>\n",
       "      <td>Western Asia</td>\n",
       "      <td>NaN</td>\n",
       "    </tr>\n",
       "    <tr>\n",
       "      <th>...</th>\n",
       "      <td>...</td>\n",
       "      <td>...</td>\n",
       "      <td>...</td>\n",
       "      <td>...</td>\n",
       "      <td>...</td>\n",
       "      <td>...</td>\n",
       "      <td>...</td>\n",
       "      <td>...</td>\n",
       "      <td>...</td>\n",
       "    </tr>\n",
       "    <tr>\n",
       "      <th>175</th>\n",
       "      <td>WS</td>\n",
       "      <td>Samoa</td>\n",
       "      <td>205557</td>\n",
       "      <td>1784.071284</td>\n",
       "      <td>6.965038</td>\n",
       "      <td>23.0</td>\n",
       "      <td>Oceania</td>\n",
       "      <td>Polynesia</td>\n",
       "      <td>NaN</td>\n",
       "    </tr>\n",
       "    <tr>\n",
       "      <th>176</th>\n",
       "      <td>YE</td>\n",
       "      <td>Yemen</td>\n",
       "      <td>31888698</td>\n",
       "      <td>Yemen</td>\n",
       "      <td>Yemen</td>\n",
       "      <td>Yemen</td>\n",
       "      <td>Asia</td>\n",
       "      <td>Western Asia</td>\n",
       "      <td>NaN</td>\n",
       "    </tr>\n",
       "    <tr>\n",
       "      <th>177</th>\n",
       "      <td>ZA</td>\n",
       "      <td>South Africa</td>\n",
       "      <td>62027503</td>\n",
       "      <td>3745.649852</td>\n",
       "      <td>12.334893</td>\n",
       "      <td>60.74</td>\n",
       "      <td>Africa</td>\n",
       "      <td>Sub-Saharan Africa</td>\n",
       "      <td>Southern Africa</td>\n",
       "    </tr>\n",
       "    <tr>\n",
       "      <th>178</th>\n",
       "      <td>ZM</td>\n",
       "      <td>Zambia</td>\n",
       "      <td>19610769</td>\n",
       "      <td>432.226337</td>\n",
       "      <td>10.124986</td>\n",
       "      <td>35.42</td>\n",
       "      <td>Africa</td>\n",
       "      <td>Sub-Saharan Africa</td>\n",
       "      <td>Eastern Africa</td>\n",
       "    </tr>\n",
       "    <tr>\n",
       "      <th>179</th>\n",
       "      <td>ZW</td>\n",
       "      <td>Zimbabwe</td>\n",
       "      <td>15178979</td>\n",
       "      <td>320.77189</td>\n",
       "      <td>11.500415</td>\n",
       "      <td>37.34</td>\n",
       "      <td>Africa</td>\n",
       "      <td>Sub-Saharan Africa</td>\n",
       "      <td>Eastern Africa</td>\n",
       "    </tr>\n",
       "  </tbody>\n",
       "</table>\n",
       "<p>180 rows × 9 columns</p>\n",
       "</div>"
      ],
      "text/plain": [
       "    code               country  population income_per_person   \n",
       "0     AD               Andorra       83523        21943.3399  \\\n",
       "1     AE  United Arab Emirates     9282410       21087.39412   \n",
       "2     AG   Antigua and Barbuda      100772       11894.46407   \n",
       "3     AL               Albania     2761785       1914.996551   \n",
       "4     AM               Armenia     2981200       1326.741757   \n",
       "..   ...                   ...         ...               ...   \n",
       "175   WS                 Samoa      205557       1784.071284   \n",
       "176   YE                 Yemen    31888698             Yemen   \n",
       "177   ZA          South Africa    62027503       3745.649852   \n",
       "178   ZM                Zambia    19610769        432.226337   \n",
       "179   ZW              Zimbabwe    15178979         320.77189   \n",
       "\n",
       "    internet_use_rate urbanrate    region                       sub_region   \n",
       "0                81.0     88.92    Europe                  Southern Europe  \\\n",
       "1           77.996781     77.88      Asia                     Western Asia   \n",
       "2           80.645455     30.46  Americas  Latin America and the Caribbean   \n",
       "3           44.989947     46.72    Europe                  Southern Europe   \n",
       "4           44.001025     63.86      Asia                     Western Asia   \n",
       "..                ...       ...       ...                              ...   \n",
       "175          6.965038      23.0   Oceania                        Polynesia   \n",
       "176             Yemen     Yemen      Asia                     Western Asia   \n",
       "177         12.334893     60.74    Africa               Sub-Saharan Africa   \n",
       "178         10.124986     35.42    Africa               Sub-Saharan Africa   \n",
       "179         11.500415     37.34    Africa               Sub-Saharan Africa   \n",
       "\n",
       "    intermediate_region  \n",
       "0                   NaN  \n",
       "1                   NaN  \n",
       "2             Caribbean  \n",
       "3                   NaN  \n",
       "4                   NaN  \n",
       "..                  ...  \n",
       "175                 NaN  \n",
       "176                 NaN  \n",
       "177     Southern Africa  \n",
       "178      Eastern Africa  \n",
       "179      Eastern Africa  \n",
       "\n",
       "[180 rows x 9 columns]"
      ]
     },
     "execution_count": 44,
     "metadata": {},
     "output_type": "execute_result"
    }
   ],
   "source": [
    "df_merged = pd.merge(df, df_region, on='code', how='inner') # 병합\n",
    "df_merged.sort_values(by='code', ascending=True, inplace=True) # 정렬\n",
    "df_merged.rename(columns=df_rename_dict, inplace=True) # 컬럼 이름 변경\n",
    "df_merged = df_merged[new_col_order] # 컬럼 순서 변경\n",
    "df_merged.reset_index(inplace=True, drop=True)\n",
    "df_merged"
   ]
  },
  {
   "cell_type": "code",
   "execution_count": 45,
   "metadata": {
    "id": "dIjHzWg21wYJ"
   },
   "outputs": [],
   "source": [
    "# 3-2\n",
    "# 참고: 'name' Column(열)은 new_col_order 순서로 맞출 때 사라짐.\n",
    "df = df_merged.copy()"
   ]
  },
  {
   "cell_type": "code",
   "execution_count": 46,
   "metadata": {
    "id": "kxI4JGJ41wYJ",
    "outputId": "e92fde1d-eebc-48bf-d131-9ad4888aa549"
   },
   "outputs": [
    {
     "name": "stdout",
     "output_type": "stream",
     "text": [
      "정답입니다! 10점 누적 되었습니다!\n",
      "현재 누적 점수: 70 / 100\n"
     ]
    }
   ],
   "source": [
    "check_03_02(df)"
   ]
  },
  {
   "cell_type": "markdown",
   "metadata": {
    "id": "rQKPrnYc1wYJ"
   },
   "source": [
    "## 4단계: Data 분석하기(가중 평균 & 분산)\n",
    "***"
   ]
  },
  {
   "cell_type": "code",
   "execution_count": 47,
   "metadata": {},
   "outputs": [
    {
     "name": "stdout",
     "output_type": "stream",
     "text": [
      "<class 'pandas.core.frame.DataFrame'>\n",
      "RangeIndex: 180 entries, 0 to 179\n",
      "Data columns (total 9 columns):\n",
      " #   Column               Non-Null Count  Dtype \n",
      "---  ------               --------------  ----- \n",
      " 0   code                 180 non-null    object\n",
      " 1   country              180 non-null    object\n",
      " 2   population           180 non-null    int64 \n",
      " 3   income_per_person    180 non-null    object\n",
      " 4   internet_use_rate    180 non-null    object\n",
      " 5   urbanrate            180 non-null    object\n",
      " 6   region               180 non-null    object\n",
      " 7   sub_region           180 non-null    object\n",
      " 8   intermediate_region  180 non-null    object\n",
      "dtypes: int64(1), object(8)\n",
      "memory usage: 12.8+ KB\n"
     ]
    }
   ],
   "source": [
    "df.info()"
   ]
  },
  {
   "cell_type": "markdown",
   "metadata": {
    "id": "_U78XbA91wYJ"
   },
   "source": [
    "### 문제 4-1) 지역대륙별 가준 평균 구하기 (15점)\n",
    "- 3단계 DataFrame(df)의 국가별 인터넷 사용률(internet_use_rate) 및 인당 소득(income_per_person)을 대륙(region) 또는 지역대륙(sub_region)별로 평균을 합산하여 보기 위해서는 단순 평균이 아닌 국가별 인구수(population)을 가중한 평균을 계산하여야 합니다.\n",
    "<br></br>\n",
    "- 3단계 DataFrame(df)을 이용하여 지역대륙(sub_region)별 조건에 맞게 가중평균을 구하세요.\n",
    "<br></br>\n",
    "- 참고\n",
    "    - 가중 평균: 자료의 평균을 구할 때 자료 값의 중요도나 영향 정도에 해당하는 가중치를 반영하여 구한 평균값\n",
    "<br></br>\n",
    "    <img src=\"images/04-4-1-001.png\" style=\"margin:auto\" width=300/>\n",
    "<br></br>\n",
    "<br></br>\n",
    "    - 조건1: 가중치(weights)는 population Column(열)을 이용하세요.\n",
    "<br></br>\n",
    "    - 조건2: 지역대륙(sub_region)의 인터넷 사용률(internet_use_rate) 및 인당 소득(income_per_person)을 아래 표와 같은 index, column 형태로 나타내주세요.\n",
    "        - index = ['region', 'sub_region']\n",
    "        - column = ['weighted_ave_internet', 'weighted_ave_income']\n",
    "<br></br>\n",
    "        <img src=\"images/04-4-1-002.png\" style=\"margin:auto\" width=400/>\n",
    "<br></br>\n",
    "    - 조건3: 결과 DataFrame의 변수는 'df_result' 로 지정해 주세요.\n",
    "<br></br>\n",
    "<br></br>\n",
    "    - hint1: pandas.DataFrame.groupby\n",
    "<br></br>\n",
    "    - hint2: numpy.average\n",
    "<br></br>\n",
    "<br></br>\n",
    "- 완료 후 결과 dataframe 변수를 check_04_01 함수에 입력하여 채점하세요."
   ]
  },
  {
   "cell_type": "code",
   "execution_count": 48,
   "metadata": {},
   "outputs": [
    {
     "name": "stdout",
     "output_type": "stream",
     "text": [
      "<class 'pandas.core.frame.DataFrame'>\n",
      "RangeIndex: 180 entries, 0 to 179\n",
      "Data columns (total 9 columns):\n",
      " #   Column               Non-Null Count  Dtype \n",
      "---  ------               --------------  ----- \n",
      " 0   code                 180 non-null    object\n",
      " 1   country              180 non-null    object\n",
      " 2   population           180 non-null    int64 \n",
      " 3   income_per_person    180 non-null    object\n",
      " 4   internet_use_rate    180 non-null    object\n",
      " 5   urbanrate            180 non-null    object\n",
      " 6   region               180 non-null    object\n",
      " 7   sub_region           180 non-null    object\n",
      " 8   intermediate_region  180 non-null    object\n",
      "dtypes: int64(1), object(8)\n",
      "memory usage: 12.8+ KB\n"
     ]
    }
   ],
   "source": [
    "df.info()"
   ]
  },
  {
   "cell_type": "code",
   "execution_count": 49,
   "metadata": {
    "scrolled": false
   },
   "outputs": [
    {
     "data": {
      "text/html": [
       "<div>\n",
       "<style scoped>\n",
       "    .dataframe tbody tr th:only-of-type {\n",
       "        vertical-align: middle;\n",
       "    }\n",
       "\n",
       "    .dataframe tbody tr th {\n",
       "        vertical-align: top;\n",
       "    }\n",
       "\n",
       "    .dataframe thead th {\n",
       "        text-align: right;\n",
       "    }\n",
       "</style>\n",
       "<table border=\"1\" class=\"dataframe\">\n",
       "  <thead>\n",
       "    <tr style=\"text-align: right;\">\n",
       "      <th></th>\n",
       "      <th>region</th>\n",
       "      <th>sub_region</th>\n",
       "      <th>0</th>\n",
       "      <th>weighted_ave_internet</th>\n",
       "      <th>weighted_ave_income</th>\n",
       "    </tr>\n",
       "  </thead>\n",
       "  <tbody>\n",
       "    <tr>\n",
       "      <th>0</th>\n",
       "      <td>Africa</td>\n",
       "      <td>Northern Africa</td>\n",
       "      <td>[27.74827721850273, 2274.405492166953]</td>\n",
       "      <td>27.748277</td>\n",
       "      <td>2274.405492</td>\n",
       "    </tr>\n",
       "    <tr>\n",
       "      <th>1</th>\n",
       "      <td>Africa</td>\n",
       "      <td>Sub-Saharan Africa</td>\n",
       "      <td>[12.497819943640359, 697.598692417062]</td>\n",
       "      <td>12.497820</td>\n",
       "      <td>697.598692</td>\n",
       "    </tr>\n",
       "    <tr>\n",
       "      <th>2</th>\n",
       "      <td>Americas</td>\n",
       "      <td>Latin America and the Caribbean</td>\n",
       "      <td>[33.71157268119466, 4919.567955439603]</td>\n",
       "      <td>33.711573</td>\n",
       "      <td>4919.567955</td>\n",
       "    </tr>\n",
       "    <tr>\n",
       "      <th>3</th>\n",
       "      <td>Americas</td>\n",
       "      <td>Northern America</td>\n",
       "      <td>[75.00264023144932, 36217.141573926456]</td>\n",
       "      <td>75.002640</td>\n",
       "      <td>36217.141574</td>\n",
       "    </tr>\n",
       "    <tr>\n",
       "      <th>4</th>\n",
       "      <td>Asia</td>\n",
       "      <td>Central Asia</td>\n",
       "      <td>[20.406459395856643, 1292.2076997071401]</td>\n",
       "      <td>20.406459</td>\n",
       "      <td>1292.207700</td>\n",
       "    </tr>\n",
       "    <tr>\n",
       "      <th>5</th>\n",
       "      <td>Asia</td>\n",
       "      <td>Eastern Asia</td>\n",
       "      <td>[37.82346461233968, 5400.65954071176]</td>\n",
       "      <td>37.823465</td>\n",
       "      <td>5400.659541</td>\n",
       "    </tr>\n",
       "    <tr>\n",
       "      <th>6</th>\n",
       "      <td>Asia</td>\n",
       "      <td>South-eastern Asia</td>\n",
       "      <td>[19.646708560583615, 1806.1532953580781]</td>\n",
       "      <td>19.646709</td>\n",
       "      <td>1806.153295</td>\n",
       "    </tr>\n",
       "    <tr>\n",
       "      <th>7</th>\n",
       "      <td>Asia</td>\n",
       "      <td>Southern Asia</td>\n",
       "      <td>[8.627883278143942, 811.2992621127099]</td>\n",
       "      <td>8.627883</td>\n",
       "      <td>811.299262</td>\n",
       "    </tr>\n",
       "    <tr>\n",
       "      <th>8</th>\n",
       "      <td>Asia</td>\n",
       "      <td>Western Asia</td>\n",
       "      <td>[35.03495296885353, 6156.546441719525]</td>\n",
       "      <td>35.034953</td>\n",
       "      <td>6156.546442</td>\n",
       "    </tr>\n",
       "    <tr>\n",
       "      <th>9</th>\n",
       "      <td>Europe</td>\n",
       "      <td>Eastern Europe</td>\n",
       "      <td>[47.03689600854574, 3285.867975320025]</td>\n",
       "      <td>47.036896</td>\n",
       "      <td>3285.867975</td>\n",
       "    </tr>\n",
       "    <tr>\n",
       "      <th>10</th>\n",
       "      <td>Europe</td>\n",
       "      <td>Northern Europe</td>\n",
       "      <td>[84.37579784424875, 27867.79615844409]</td>\n",
       "      <td>84.375798</td>\n",
       "      <td>27867.796158</td>\n",
       "    </tr>\n",
       "    <tr>\n",
       "      <th>11</th>\n",
       "      <td>Europe</td>\n",
       "      <td>Southern Europe</td>\n",
       "      <td>[56.608839581588704, 14932.77939222893]</td>\n",
       "      <td>56.608840</td>\n",
       "      <td>14932.779392</td>\n",
       "    </tr>\n",
       "    <tr>\n",
       "      <th>12</th>\n",
       "      <td>Europe</td>\n",
       "      <td>Western Europe</td>\n",
       "      <td>[80.6014791477854, 25256.664183727586]</td>\n",
       "      <td>80.601479</td>\n",
       "      <td>25256.664184</td>\n",
       "    </tr>\n",
       "    <tr>\n",
       "      <th>13</th>\n",
       "      <td>Oceania</td>\n",
       "      <td>Australia and New Zealand</td>\n",
       "      <td>[77.05296594620322, 23544.725676604998]</td>\n",
       "      <td>77.052966</td>\n",
       "      <td>23544.725677</td>\n",
       "    </tr>\n",
       "    <tr>\n",
       "      <th>14</th>\n",
       "      <td>Oceania</td>\n",
       "      <td>Melanesia</td>\n",
       "      <td>[2.509922291358314, 880.1055183598482]</td>\n",
       "      <td>2.509922</td>\n",
       "      <td>880.105518</td>\n",
       "    </tr>\n",
       "    <tr>\n",
       "      <th>15</th>\n",
       "      <td>Oceania</td>\n",
       "      <td>Micronesia</td>\n",
       "      <td>[8.95914, 760.262365]</td>\n",
       "      <td>8.959140</td>\n",
       "      <td>760.262365</td>\n",
       "    </tr>\n",
       "    <tr>\n",
       "      <th>16</th>\n",
       "      <td>Oceania</td>\n",
       "      <td>Polynesia</td>\n",
       "      <td>[8.617011912003953, 1863.1078218535697]</td>\n",
       "      <td>8.617012</td>\n",
       "      <td>1863.107822</td>\n",
       "    </tr>\n",
       "  </tbody>\n",
       "</table>\n",
       "</div>"
      ],
      "text/plain": [
       "      region                       sub_region   \n",
       "0     Africa                  Northern Africa  \\\n",
       "1     Africa               Sub-Saharan Africa   \n",
       "2   Americas  Latin America and the Caribbean   \n",
       "3   Americas                 Northern America   \n",
       "4       Asia                     Central Asia   \n",
       "5       Asia                     Eastern Asia   \n",
       "6       Asia               South-eastern Asia   \n",
       "7       Asia                    Southern Asia   \n",
       "8       Asia                     Western Asia   \n",
       "9     Europe                   Eastern Europe   \n",
       "10    Europe                  Northern Europe   \n",
       "11    Europe                  Southern Europe   \n",
       "12    Europe                   Western Europe   \n",
       "13   Oceania        Australia and New Zealand   \n",
       "14   Oceania                        Melanesia   \n",
       "15   Oceania                       Micronesia   \n",
       "16   Oceania                        Polynesia   \n",
       "\n",
       "                                           0  weighted_ave_internet   \n",
       "0     [27.74827721850273, 2274.405492166953]              27.748277  \\\n",
       "1     [12.497819943640359, 697.598692417062]              12.497820   \n",
       "2     [33.71157268119466, 4919.567955439603]              33.711573   \n",
       "3    [75.00264023144932, 36217.141573926456]              75.002640   \n",
       "4   [20.406459395856643, 1292.2076997071401]              20.406459   \n",
       "5      [37.82346461233968, 5400.65954071176]              37.823465   \n",
       "6   [19.646708560583615, 1806.1532953580781]              19.646709   \n",
       "7     [8.627883278143942, 811.2992621127099]               8.627883   \n",
       "8     [35.03495296885353, 6156.546441719525]              35.034953   \n",
       "9     [47.03689600854574, 3285.867975320025]              47.036896   \n",
       "10    [84.37579784424875, 27867.79615844409]              84.375798   \n",
       "11   [56.608839581588704, 14932.77939222893]              56.608840   \n",
       "12    [80.6014791477854, 25256.664183727586]              80.601479   \n",
       "13   [77.05296594620322, 23544.725676604998]              77.052966   \n",
       "14    [2.509922291358314, 880.1055183598482]               2.509922   \n",
       "15                     [8.95914, 760.262365]               8.959140   \n",
       "16   [8.617011912003953, 1863.1078218535697]               8.617012   \n",
       "\n",
       "    weighted_ave_income  \n",
       "0           2274.405492  \n",
       "1            697.598692  \n",
       "2           4919.567955  \n",
       "3          36217.141574  \n",
       "4           1292.207700  \n",
       "5           5400.659541  \n",
       "6           1806.153295  \n",
       "7            811.299262  \n",
       "8           6156.546442  \n",
       "9           3285.867975  \n",
       "10         27867.796158  \n",
       "11         14932.779392  \n",
       "12         25256.664184  \n",
       "13         23544.725677  \n",
       "14           880.105518  \n",
       "15           760.262365  \n",
       "16          1863.107822  "
      ]
     },
     "execution_count": 49,
     "metadata": {},
     "output_type": "execute_result"
    }
   ],
   "source": [
    "import numpy as np\n",
    "import pandas as pd\n",
    "\n",
    "# Assuming df is your DataFrame\n",
    "\n",
    "# Convert 'income_per_person' and 'internet_use_rate' to numeric\n",
    "df['income_per_person'] = pd.to_numeric(df['income_per_person'], errors='coerce')\n",
    "df['internet_use_rate'] = pd.to_numeric(df['internet_use_rate'], errors='coerce')\n",
    "\n",
    "# Drop rows with NaN values after conversion\n",
    "df = df.dropna(subset=['income_per_person', 'internet_use_rate'])\n",
    "\n",
    "# Define the weighted_ave function\n",
    "def weighted_ave(df):\n",
    "    weights = df['population']\n",
    "    return np.average(df[['internet_use_rate', 'income_per_person']], weights=weights, axis=0)\n",
    "\n",
    "# Apply the function and reset the index\n",
    "df2 = df.groupby(['region', 'sub_region']).apply(weighted_ave)\n",
    "df2 = df2.reset_index()\n",
    "\n",
    "# Create new columns with the result\n",
    "df2['weighted_ave_internet'] = [i[0] for i in df2[0]]\n",
    "df2['weighted_ave_income'] = [i[1] for i in df2[0]]\n",
    "df2"
   ]
  },
  {
   "cell_type": "code",
   "execution_count": 50,
   "metadata": {
    "id": "FPvRfVe11wYJ",
    "outputId": "f0995722-1f3b-41ab-d009-3b92bd0a9068",
    "scrolled": false
   },
   "outputs": [
    {
     "name": "stdout",
     "output_type": "stream",
     "text": [
      "정답입니다! 15점 누적 되었습니다!\n",
      "현재 누적 점수: 85 / 100\n"
     ]
    }
   ],
   "source": [
    "# 조건3: 결과 DataFrame의 변수는 'df_result' 로 지정해 주세요. \n",
    "df_result = df2.pivot_table(\n",
    "    index=['region', 'sub_region'],\n",
    "    sort = False  # Disable sorting\n",
    ")\n",
    "df_result = df_result[['weighted_ave_internet', 'weighted_ave_income']]\n",
    "# 4-1\n",
    "check_04_01(df_result)"
   ]
  },
  {
   "cell_type": "markdown",
   "metadata": {
    "id": "Pugn7-NI1wYJ"
   },
   "source": [
    "### 문제 4-2) 특정 조건의 가준 평균 구하기 (15점)\n",
    "- 중국과 인도를 제외한 Eastern Asia, Southern Asia의 인터넷 사용률(internet_use_rate) 및 인당 소득(income_per_person)을 아래 조건에 맞게 구하세요.\n",
    "<br></br>\n",
    "- 참고: 4-1의 참고사항 참조\n",
    "<br></br>\n",
    "    - 조건1: 가중치(weights)는 population Column(열)을 이용하세요.\n",
    "<br></br>\n",
    "    - 조건2: 중국(국가코드(code): 'CN)과 인도(국가코드: 'IN')를 제외한 Asia(region) - Eastern Asia, Southern Asia  (sub_region)의 인터넷 사용률(internet_use_rate) 및 인당 소득(income_per_person)을 아래 표와 같은 index, column 형태로 나타내주세요.\n",
    "        - index = ['region', 'sub_region']\n",
    "        - column = ['weighted_ave_internet', 'weighted_ave_income']\n",
    "<br></br>\n",
    "        <img src=\"images/04-4-2-001.png\" style=\"margin:auto\" width=400/>\n",
    "<br></br>\n",
    "        <img src=\"images/04-4-2-002.png\" style=\"margin:auto\" width=400/>\n",
    "<br></br>\n",
    "    - 조건3: 결과 DataFrame의 변수는 'df_result' 로 지정해 주세요.\n",
    "<br></br>\n",
    "<br></br>\n",
    "    - hint1: pandas.DataFrame.groupby\n",
    "<br></br>\n",
    "    - hint2: numpy.average\n",
    "<br></br>\n",
    "<br></br>\n",
    "- 완료 후 결과 dataframe 변수를 check_04_02 함수에 입력하여 채점하세요."
   ]
  },
  {
   "cell_type": "code",
   "execution_count": 51,
   "metadata": {},
   "outputs": [],
   "source": [
    "df2 = df.copy()\n",
    "# 조건2: 중국(국가코드(code): 'CN)과 인도(국가코드: 'IN')를 제외한 Asia(region) - Eastern Asia, Southern Asia (sub_region)의 \n",
    "#인터넷 사용률(internet_use_rate) 및 인당 소득(income_per_person)을 아래 표와 같은 index, column 형태로 나타내주세요.\n",
    "df2 = df2[~df2['code'].isin(['CN', 'IN'])]\n",
    "df2 = df2[df2['sub_region'].isin(['Eastern Asia', 'Southern Asia'])]\n",
    "\n",
    "df3 = df2.groupby(['region', 'sub_region']).apply(weighted_ave)\n",
    "df3 = df3.reset_index()"
   ]
  },
  {
   "cell_type": "code",
   "execution_count": 52,
   "metadata": {
    "id": "_V4vfRXJ1wYK",
    "outputId": "6df84123-b3aa-4642-997c-fd4015ab65b8"
   },
   "outputs": [
    {
     "name": "stdout",
     "output_type": "stream",
     "text": [
      "정답입니다! 15점 누적 되었습니다!\n",
      "현재 누적 점수: 100 / 100\n"
     ]
    }
   ],
   "source": [
    "# 4-2\n",
    "df3['weighted_ave_internet'] = [i[0] for i in df3[0]]\n",
    "df3['weighted_ave_income'] = [i[1] for i in df3[0]]\n",
    "\n",
    "df3.drop(columns=0, inplace=True)\n",
    "\n",
    "df_result = df3.pivot_table(index=['region', 'sub_region'])\n",
    "df_result = df_result[['weighted_ave_internet', 'weighted_ave_income']]\n",
    "\n",
    "check_04_02(df_result)"
   ]
  },
  {
   "cell_type": "code",
   "execution_count": 53,
   "metadata": {
    "id": "zO2QFVxI1wYK",
    "outputId": "f7afe988-cedf-4695-987e-a3bd946a210f"
   },
   "outputs": [
    {
     "data": {
      "text/html": [
       "<div>\n",
       "<style scoped>\n",
       "    .dataframe tbody tr th:only-of-type {\n",
       "        vertical-align: middle;\n",
       "    }\n",
       "\n",
       "    .dataframe tbody tr th {\n",
       "        vertical-align: top;\n",
       "    }\n",
       "\n",
       "    .dataframe thead th {\n",
       "        text-align: right;\n",
       "    }\n",
       "</style>\n",
       "<table border=\"1\" class=\"dataframe\">\n",
       "  <thead>\n",
       "    <tr style=\"text-align: right;\">\n",
       "      <th></th>\n",
       "      <th></th>\n",
       "      <th>weighted_ave_internet</th>\n",
       "      <th>weighted_ave_income</th>\n",
       "    </tr>\n",
       "    <tr>\n",
       "      <th>region</th>\n",
       "      <th>sub_region</th>\n",
       "      <th></th>\n",
       "      <th></th>\n",
       "    </tr>\n",
       "  </thead>\n",
       "  <tbody>\n",
       "    <tr>\n",
       "      <th rowspan=\"2\" valign=\"top\">Asia</th>\n",
       "      <th>Eastern Asia</th>\n",
       "      <td>75.887042</td>\n",
       "      <td>38266.877042</td>\n",
       "    </tr>\n",
       "    <tr>\n",
       "      <th>Southern Asia</th>\n",
       "      <td>11.488094</td>\n",
       "      <td>873.680297</td>\n",
       "    </tr>\n",
       "  </tbody>\n",
       "</table>\n",
       "</div>"
      ],
      "text/plain": [
       "                      weighted_ave_internet  weighted_ave_income\n",
       "region sub_region                                               \n",
       "Asia   Eastern Asia               75.887042         38266.877042\n",
       "       Southern Asia              11.488094           873.680297"
      ]
     },
     "execution_count": 53,
     "metadata": {},
     "output_type": "execute_result"
    }
   ],
   "source": [
    "df_result"
   ]
  },
  {
   "cell_type": "markdown",
   "metadata": {
    "id": "uWZwrMtl1wYK"
   },
   "source": [
    "***\n",
    "\n",
    "### 🎊 문제가 끝났습니다. 제출양식과 일정에 맞춰 제출해주시기를 바랍니다!\n",
    "\n",
    "### 제출양식\n",
    "- 이 파일은 EDA Level TEST 4회차 노트북입니다. 따라서 제출시 파일명은 아래와 같습니다.\n",
    "- [DS]edalvtest_04_yourname.ipynb\n",
    "\n",
    "***"
   ]
  },
  {
   "cell_type": "markdown",
   "metadata": {
    "id": "yggVjWdi1wYK"
   },
   "source": [
    "# 문의사항 및 의견이 있는 경우 작성해주세요."
   ]
  },
  {
   "cell_type": "code",
   "execution_count": null,
   "metadata": {
    "id": "8-z6RMXn1wYK"
   },
   "outputs": [],
   "source": []
  }
 ],
 "metadata": {
  "colab": {
   "provenance": []
  },
  "kernelspec": {
   "display_name": "Python 3 (ipykernel)",
   "language": "python",
   "name": "python3"
  },
  "language_info": {
   "codemirror_mode": {
    "name": "ipython",
    "version": 3
   },
   "file_extension": ".py",
   "mimetype": "text/x-python",
   "name": "python",
   "nbconvert_exporter": "python",
   "pygments_lexer": "ipython3",
   "version": "3.11.3"
  },
  "vscode": {
   "interpreter": {
    "hash": "46e27ede752268be201d36b7fbc2802b29a11b0bb095abacecc6c0428b93624a"
   }
  }
 },
 "nbformat": 4,
 "nbformat_minor": 1
}
