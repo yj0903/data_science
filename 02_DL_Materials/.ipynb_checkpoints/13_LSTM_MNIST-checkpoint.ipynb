{
 "cells": [
  {
   "cell_type": "markdown",
   "id": "f33eae23",
   "metadata": {},
   "source": [
    "<div class=\"alert alert-block\" style=\"border: 2px solid #1976D2;background-color:#E3F2FD;padding:5px;font-size:0.9em;\">\n",
    "본 자료는 저작권법 제25조 2항에 의해 보호를 받습니다. 본 자료를 외부에 공개하지 말아주세요.<br>\n",
    "<b><a href=\"https://school.fun-coding.org/\">잔재미코딩 (https://school.fun-coding.org/)</a> 에서 본 강의를 포함하는 최적화된 로드맵도 확인하실 수 있습니다</b></div>"
   ]
  },
  {
   "cell_type": "markdown",
   "id": "8fe19972",
   "metadata": {
    "pycharm": {
     "name": "#%% md\n"
    }
   },
   "source": [
    "### PyTorch 와 RNN, LSTM\n",
    "\n",
    "- PyTorch 에는 RNN, LSTM 을 쉽게 적용할 수 있도록, API 를 제공함"
   ]
  },
  {
   "cell_type": "markdown",
   "id": "8a1bac0f",
   "metadata": {
    "pycharm": {
     "name": "#%% md\n"
    }
   },
   "source": [
    "### RNN 모델 구성"
   ]
  },
  {
   "cell_type": "markdown",
   "id": "99885a86",
   "metadata": {
    "pycharm": {
     "name": "#%% md\n"
    }
   },
   "source": [
    "### torch.nn.RNN\n",
    "torch.nn.RNN(*args, **kwargs)\n",
    "\n",
    "- input_size: Input 크기(feature의 수)\n",
    "- hidden_size: hidden state 크기\n",
    "   - hidden state 의 수는 DNN 의 hidden layer 의 사이즈라고 생각하면 됨\n",
    "- num_layers: 순환 레이서 수 (Default: 1)\n",
    "   - Multi-layer 로 RNN 을 구성할 수 있음\n",
    "   > Multi-layer 로 구성시에는 Gradient Vanishing 이슈가 있을 수 있음 (4개 Multi-Layer 정도는 괜찮음)\n",
    "\n",
    "<img src=\"https://miro.medium.com/max/576/1*UCiibKij5-kHP__Igb2_1Q.jpeg\">\n",
    "\n",
    "- nonlinearity – 비선형 활성화 함수 설정, 'tanh' 또는 'relu', (Default: 'tanh')\n",
    "- bias: bias 값 활성화 여부 설정 (Default: True)\n",
    "- batch_first: True일 시, Output 사이즈를 (batch, seq, feature) 로 출력\n",
    "   - Default 로 pytorch 는 Output 사이즈를 (seq, batch, feature) 와 같이 출력함\n",
    "- dropout: 드롭아웃 비율 설정 (Default: 0)\n",
    "- bidirectional: True일 시, Bidirectional RNN 적용 (Default: False)\n",
    "\n",
    "#### Inputs: input, h_0\n",
    "- input: 입력 텐서 - (sequence_length, batch_size, input_size)\n",
    "- h_0: hidden states 의 초기값 텐서 - (num_layers * bidirections, batch_size, hidden_size) 형태, bidirectional 이 True 이면, bidirections 는 2, False 면 1\n",
    "\n",
    "#### Outputs: output, h_n\n",
    "- output: 마지막 레이어의 출력 텐서 - (sequence_length, batch_size, bidirections * hidden_size), bidirectional 이 True 이면, bidirections 는 2,False 면 1\n",
    "- h_n: 마지막 hidden state 텐서 - (num_layers * bidirections, batch_size, hidden_size), bidirectional이 True 이면, bidirections 는 2,False 면 1"
   ]
  },
  {
   "cell_type": "markdown",
   "id": "7569cce8",
   "metadata": {
    "pycharm": {
     "name": "#%% md\n"
    }
   },
   "source": [
    "### input 사이즈 및 하이퍼 파라미터 설정\n",
    "<img src=\"https://www.fun-coding.org/00_Images/mnist-rnn.png\">"
   ]
  },
  {
   "cell_type": "markdown",
   "id": "7f3f0b3a",
   "metadata": {
    "pycharm": {
     "name": "#%% md\n"
    }
   },
   "source": [
    "### input, sequence, 하이퍼 파라미터 설정"
   ]
  },
  {
   "cell_type": "code",
   "execution_count": 76,
   "id": "3d94f7b0",
   "metadata": {
    "pycharm": {
     "name": "#%%\n"
    }
   },
   "outputs": [],
   "source": [
    "sequence_length = 28 # MNIST row 를 일종의 순서(sequence) 로 다룸\n",
    "feature_size = 28 # 입력 차원\n",
    "hidden_size = 128 # Hidden Layer 사이즈 설정처럼 설정\n",
    "num_layers = 4 # stacked RNN (최대 4개까지는 Gradient Vanishing 현상이 적을 수 있으므로)\n",
    "dropout_p = 0.2 # dropout rate\n",
    "output_size = 10 # 0 ~ 9 숫자 부류(클래스)\n",
    "minibatch_size = 128 # minibatch_size"
   ]
  },
  {
   "cell_type": "markdown",
   "id": "33041f5c",
   "metadata": {
    "pycharm": {
     "name": "#%% md\n"
    }
   },
   "source": [
    "### LSTM 모델 구성"
   ]
  },
  {
   "cell_type": "markdown",
   "id": "da244b04",
   "metadata": {
    "pycharm": {
     "name": "#%% md\n"
    }
   },
   "source": [
    "### torch.nn.LSTM\n",
    "\n",
    "torch.nn.LSTM(*args, **kwargs)\n",
    "\n",
    "- input_size: Input 크기(feature의 수)\n",
    "- hidden_size: hidden state 크기\n",
    "   - hidden state 의 수는 DNN 의 hidden layer 의 사이즈라고 생각하면 됨\n",
    "- num_layers: 순환 레이서 수 (Default: 1)\n",
    "   - Multi-layer 로 LSTM 을 구성할 수 있음\n",
    "   > Multi-layer 로 구성시에는 Gradient Vanishing 이슈가 있을 수 있음 (4개 Multi-Layer 정도는 괜찮음)\n",
    "   \n",
    "   \n",
    "<img src=\"https://miro.medium.com/max/576/1*UCiibKij5-kHP__Igb2_1Q.jpeg\">\n",
    "\n",
    "- bias: bias 값 활성화 여부 설정 (Default: True)\n",
    "- batch_first: True일 시, Output 사이즈를 (batch, seq, feature) 로 출력\n",
    "   - Default 로 pytorch 는 Output 사이즈를 (seq, batch, feature) 와 같이 출력함\n",
    "- dropout: 드롭아웃 비율 설정 (Default: 0)\n",
    "- bidirectional: True일 시, Bidirectional LSTM 적용 (Default: False)\n",
    "\n",
    "\n",
    "#### Inputs: input, (h_0, c_0)\n",
    "- input: (sequence_length, batch_size, input_size)\n",
    "- h_0: (num_layers * bidirections, batch_size, hidden_size), bidirectional 이 True 이면, bidirections 는 2, False 면 1\n",
    "- c_0: (num_layers * bidirections, batch_size, hidden_size), bidirectional 이 True 이면, bidirections 는 2, False 면 1\n",
    "\n",
    "#### Outputs: output, (h_n, c_n)\n",
    "- output: (sequence_length, batch_size, bidirections * hidden_size), bidirectional 이 True 이면, bidirections 는 2,False 면 1\n",
    "- h_n: (num_layers * bidirections, batch_size, hidden_size), bidirectional이 True 이면, bidirections 는 2,False 면 1\n",
    "- c_n: (num_layers * bidirections, batch_size, hidden_size), bidirectional이 True 이면, bidirections 는 2,False 면 1"
   ]
  },
  {
   "cell_type": "markdown",
   "id": "b7356afb",
   "metadata": {
    "pycharm": {
     "name": "#%% md\n"
    }
   },
   "source": [
    "### RNN/LSTM 모델 구현"
   ]
  },
  {
   "cell_type": "code",
   "execution_count": 77,
   "id": "c4c1d7f0",
   "metadata": {
    "pycharm": {
     "name": "#%%\n"
    }
   },
   "outputs": [],
   "source": [
    "import torch\n",
    "import torch.nn as nn\n",
    "from torch.utils.data import DataLoader, Subset\n",
    "from torchvision import datasets, transforms\n",
    "from sklearn.model_selection import train_test_split\n",
    "import numpy as np\n",
    "from copy import deepcopy"
   ]
  },
  {
   "cell_type": "code",
   "execution_count": 78,
   "id": "97b47609",
   "metadata": {
    "pycharm": {
     "name": "#%%\n"
    }
   },
   "outputs": [],
   "source": [
    "sequence_length = 28 # MNIST row 를 일종의 순서(sequence) 로 다룸\n",
    "feature_size = 28 # 입력 차원\n",
    "hidden_size = 128 # Hidden Layer 사이즈 설정처럼 설정\n",
    "num_layers = 4 # stacked RNN (최대 4개까지는 Gradient Vanishing 현상이 적을 수 있으므로)\n",
    "dropout_p = 0.2 # dropout rate\n",
    "output_size = 10 # 0 ~ 9 숫자 부류(클래스)\n",
    "minibatch_size = 128 # minibatch_size"
   ]
  },
  {
   "cell_type": "code",
   "execution_count": 79,
   "id": "9e4c012b",
   "metadata": {
    "pycharm": {
     "name": "#%%\n"
    }
   },
   "outputs": [],
   "source": [
    "class Net(nn.Module):\n",
    "    def __init__(self, feature_size, hidden_size, num_layers, dropout_p, output_size, model_type):\n",
    "        super().__init__()\n",
    "        if model_type == 'rnn':\n",
    "            self.sequenceclassifier = nn.RNN(\n",
    "                input_size = feature_size,\n",
    "                hidden_size = hidden_size,\n",
    "                num_layers = num_layers,\n",
    "                batch_first = True,\n",
    "                dropout = dropout_p,\n",
    "                bidirectional = True\n",
    "            )\n",
    "        elif model_type == 'lstm':\n",
    "            self.sequenceclassifier = nn.LSTM(\n",
    "                input_size = feature_size,\n",
    "                hidden_size = hidden_size,\n",
    "                num_layers = num_layers,\n",
    "                batch_first = True,\n",
    "                dropout = dropout_p,\n",
    "                bidirectional = True\n",
    "            )\n",
    "        self.layers = nn.Sequential(\n",
    "            nn.LeakyReLU(0.1),\n",
    "            nn.BatchNorm1d(hidden_size * 2),\n",
    "            # self.rnn() 의 출력값은 (batch_size, sequence_length, bidirections * hidden_size)\n",
    "            # bidirectional 이 True 이므로, bidirections 는 2, 즉 2 * hidden_size\n",
    "            nn.Linear(hidden_size * 2, output_size),\n",
    "            nn.LogSoftmax(dim=-1)\n",
    "        )\n",
    "\n",
    "    def forward(self, x):\n",
    "        # |x| = batch_first=True 이므로 (batch_size, sequence_length, input_size)\n",
    "        out, _ = self.sequenceclassifier(x) # output, h_n 이므로, h_n 은 사용안함\n",
    "        # output, h_n 이므로, h_n 은 사용안함\n",
    "        # |out| = batch_first=True 이므로 (batch_size, sequence_length, 2 * hidden_size)\n",
    "        # bidirectional 이 True 이면, bidirections 는 2 * hidden_size\n",
    "        out = out[:, -1]\n",
    "        # out[:, -1] 은 (batch_size, sequence_length, 2 * hidden_size) 에서, \n",
    "        # 전체 batch_size 를 선택한다는 의미가 :, \n",
    "        # sequence_length 인 28개의 순서가 있고, 각 순서마다 2 * hidden_size 만큼 있음\n",
    "        # 이중에 최종 값은 맨 마지막  sequence_length 의 2 * hidden_size 임\n",
    "        # |out| = (batch_size, hidden_size * 2)\n",
    "        y = self.layers(out)\n",
    "        # |y| = (batch_size, output_size)\n",
    "        return y"
   ]
  },
  {
   "cell_type": "markdown",
   "id": "09116ef0",
   "metadata": {
    "pycharm": {
     "name": "#%% md\n"
    }
   },
   "source": [
    "### 참고 코드: shape 과 slicing 이해"
   ]
  },
  {
   "cell_type": "code",
   "execution_count": 80,
   "id": "50a4be0f",
   "metadata": {
    "pycharm": {
     "name": "#%%\n"
    }
   },
   "outputs": [
    {
     "name": "stdout",
     "output_type": "stream",
     "text": [
      "torch.Size([128, 28, 256]) torch.Size([128, 256])\n",
      "torch.Size([128, 1, 28, 28]) torch.Size([128, 28, 28])\n"
     ]
    }
   ],
   "source": [
    "import torch\n",
    "import torch.nn as nn\n",
    "\n",
    "data1 = torch.full((minibatch_size, sequence_length, 2 * hidden_size), 1) # vector 생성\n",
    "data2 = data1[:, -1]\n",
    "print (data1.shape, data2.shape)\n",
    "data3 = torch.full((minibatch_size, 1, sequence_length, feature_size), 1) # vector 생성\n",
    "data4 = data3.reshape(-1, sequence_length, feature_size)\n",
    "print (data3.shape, data4.shape)"
   ]
  },
  {
   "cell_type": "code",
   "execution_count": 81,
   "id": "85a028a8",
   "metadata": {
    "pycharm": {
     "name": "#%%\n"
    }
   },
   "outputs": [
    {
     "data": {
      "text/plain": [
       "Net(\n",
       "  (sequenceclassifier): RNN(28, 128, num_layers=4, batch_first=True, dropout=0.2, bidirectional=True)\n",
       "  (layers): Sequential(\n",
       "    (0): LeakyReLU(negative_slope=0.1)\n",
       "    (1): BatchNorm1d(256, eps=1e-05, momentum=0.1, affine=True, track_running_stats=True)\n",
       "    (2): Linear(in_features=256, out_features=10, bias=True)\n",
       "    (3): LogSoftmax(dim=-1)\n",
       "  )\n",
       ")"
      ]
     },
     "execution_count": 81,
     "metadata": {},
     "output_type": "execute_result"
    }
   ],
   "source": [
    "model = Net(feature_size, hidden_size, num_layers, dropout_p, output_size, 'rnn')\n",
    "model"
   ]
  },
  {
   "cell_type": "markdown",
   "id": "1a17effc",
   "metadata": {
    "pycharm": {
     "name": "#%% md\n"
    }
   },
   "source": [
    "### MNIST with LSTM"
   ]
  },
  {
   "cell_type": "code",
   "execution_count": 82,
   "id": "17780d23",
   "metadata": {
    "pycharm": {
     "name": "#%%\n"
    }
   },
   "outputs": [
    {
     "name": "stdout",
     "output_type": "stream",
     "text": [
      "number of training data :  60000\n",
      "number of test data :  10000\n"
     ]
    }
   ],
   "source": [
    "train_rawdata = datasets.MNIST(root = 'dataset',\n",
    "                            train=True,\n",
    "                            download=True,\n",
    "                            transform=transforms.ToTensor())\n",
    "test_dataset = datasets.MNIST(root = 'dataset',\n",
    "                            train=False,\n",
    "                            download=True,\n",
    "                            transform=transforms.ToTensor())\n",
    "print('number of training data : ', len(train_rawdata))\n",
    "print('number of test data : ', len(test_dataset))"
   ]
  },
  {
   "cell_type": "code",
   "execution_count": 83,
   "id": "2a1739d3",
   "metadata": {
    "pycharm": {
     "name": "#%%\n"
    }
   },
   "outputs": [],
   "source": [
    "VALIDATION_RATE = 0.2\n",
    "train_indices, val_indices, _, _ = train_test_split(\n",
    "    range(len(train_rawdata)), # X index 번호\n",
    "    train_rawdata.targets, # y\n",
    "    stratify=train_rawdata.targets, # 균등분포\n",
    "    test_size=VALIDATION_RATE # test dataset 비율\n",
    ")"
   ]
  },
  {
   "cell_type": "code",
   "execution_count": 84,
   "id": "b873e2ad",
   "metadata": {
    "pycharm": {
     "name": "#%%\n"
    }
   },
   "outputs": [],
   "source": [
    "train_dataset = Subset(train_rawdata, train_indices)\n",
    "validation_dataset = Subset(train_rawdata, val_indices)"
   ]
  },
  {
   "cell_type": "code",
   "execution_count": 85,
   "id": "54c9d35a",
   "metadata": {
    "pycharm": {
     "name": "#%%\n"
    }
   },
   "outputs": [
    {
     "name": "stdout",
     "output_type": "stream",
     "text": [
      "48000 12000 10000\n"
     ]
    }
   ],
   "source": [
    "print (len(train_dataset), len(validation_dataset), len(test_dataset))"
   ]
  },
  {
   "cell_type": "code",
   "execution_count": 86,
   "id": "69a849ed",
   "metadata": {
    "pycharm": {
     "name": "#%%\n"
    }
   },
   "outputs": [],
   "source": [
    "minibatch_size = 128 # Mini-batch 사이즈는 128 로 설정\n",
    "# create batches\n",
    "train_batches = DataLoader(train_dataset, batch_size=minibatch_size, shuffle=True)\n",
    "val_batches = DataLoader(validation_dataset, batch_size=minibatch_size, shuffle=True)\n",
    "test_batches = DataLoader(test_dataset, batch_size=minibatch_size, shuffle=True)"
   ]
  },
  {
   "cell_type": "markdown",
   "id": "7adf6370",
   "metadata": {
    "pycharm": {
     "name": "#%% md\n"
    }
   },
   "source": [
    "### input, output, loss, optimizer 설정"
   ]
  },
  {
   "cell_type": "code",
   "execution_count": 87,
   "id": "a7487c5c",
   "metadata": {
    "pycharm": {
     "name": "#%%\n"
    }
   },
   "outputs": [],
   "source": [
    "loss_func = nn.NLLLoss() # log softmax 는 NLLLoss() 로 진행해야 함\n",
    "optimizer = torch.optim.Adam(model.parameters()) # Adam, learning rate 필요없음"
   ]
  },
  {
   "cell_type": "markdown",
   "id": "ff05adfe",
   "metadata": {
    "pycharm": {
     "name": "#%% md\n"
    }
   },
   "source": [
    "### Training & Validation"
   ]
  },
  {
   "cell_type": "code",
   "execution_count": 88,
   "id": "9a878f5e",
   "metadata": {
    "pycharm": {
     "name": "#%%\n"
    }
   },
   "outputs": [],
   "source": [
    "def train_model(model, early_stop, n_epochs, progress_interval):\n",
    "    \n",
    "    train_losses, valid_losses, lowest_loss = list(), list(), np.inf\n",
    "\n",
    "    for epoch in range(n_epochs):\n",
    "        # train the model\n",
    "        model.train() # prep model for training\n",
    "        for x_minibatch, y_minibatch in train_batches:\n",
    "            x_minibatch = x_minibatch.reshape(-1, sequence_length, feature_size)\n",
    "            y_minibatch_pred = model(x_minibatch)\n",
    "            loss = loss_func(y_minibatch_pred, y_minibatch)\n",
    "\n",
    "            optimizer.zero_grad()\n",
    "            loss.backward()\n",
    "            optimizer.step()            \n",
    "            train_losses.append(loss.item())\n",
    "\n",
    "        # validate the model\n",
    "        model.eval()\n",
    "        with torch.no_grad():\n",
    "            for x_minibatch, y_minibatch in val_batches:\n",
    "                x_minibatch = x_minibatch.reshape(-1, sequence_length, feature_size)                \n",
    "                y_minibatch_pred = model(x_minibatch)\n",
    "                loss = loss_func(y_minibatch_pred, y_minibatch)\n",
    "                valid_losses.append(loss.item())\n",
    "\n",
    "        if valid_losses[-1] < lowest_loss:\n",
    "            lowest_loss = valid_losses[-1]\n",
    "            lowest_epoch = epoch\n",
    "            best_model = deepcopy(model.state_dict())\n",
    "        else:\n",
    "            if early_stop > 0 and lowest_epoch + early_stop < epoch:\n",
    "                print (\"Early Stopped\", epoch, \"epochs\")\n",
    "                model.load_state_dict(best_model)\n",
    "                break\n",
    "                \n",
    "        if (epoch % progress_interval) == 0:\n",
    "            print (train_losses[-1], valid_losses[-1], lowest_loss, lowest_epoch, epoch)\n",
    "            \n",
    "    model.load_state_dict(best_model)        \n",
    "    return model, lowest_loss, train_losses, valid_losses"
   ]
  },
  {
   "cell_type": "markdown",
   "id": "f79931aa",
   "metadata": {
    "pycharm": {
     "name": "#%% md\n"
    }
   },
   "source": [
    "### 훈련 실행\n",
    "<div class=\"alert alert-block\" style=\"border: 2px solid #E65100;background-color:#FFF3E0;padding:10px\">\n",
    "<font size=\"4em\" style=\"color:#BF360C;\">CPU 만으로는 테스트에 상당한 시간이 걸림</font><br>\n",
    "    <font size=\"4em\" style=\"color:#BF360C;\">colab 을 통한 테스트 추천 (13_LSTM_MNIST_GPU.ipynb) 파일 기반</font>\n",
    "</div>"
   ]
  },
  {
   "cell_type": "code",
   "execution_count": 89,
   "id": "8881f11e",
   "metadata": {
    "pycharm": {
     "name": "#%%\n"
    }
   },
   "outputs": [
    {
     "name": "stdout",
     "output_type": "stream",
     "text": [
      "0.3198077082633972 0.34681251645088196 0.34681251645088196 0 0\n"
     ]
    },
    {
     "ename": "KeyboardInterrupt",
     "evalue": "",
     "output_type": "error",
     "traceback": [
      "\u001b[0;31m---------------------------------------------------------------------------\u001b[0m",
      "\u001b[0;31mKeyboardInterrupt\u001b[0m                         Traceback (most recent call last)",
      "Input \u001b[0;32mIn [89]\u001b[0m, in \u001b[0;36m<cell line: 5>\u001b[0;34m()\u001b[0m\n\u001b[1;32m      2\u001b[0m progress_interval \u001b[38;5;241m=\u001b[39m \u001b[38;5;241m3\u001b[39m\n\u001b[1;32m      3\u001b[0m early_stop \u001b[38;5;241m=\u001b[39m \u001b[38;5;241m30\u001b[39m\n\u001b[0;32m----> 5\u001b[0m model, lowest_loss, train_losses, valid_losses \u001b[38;5;241m=\u001b[39m \u001b[43mtrain_model\u001b[49m\u001b[43m(\u001b[49m\u001b[43mmodel\u001b[49m\u001b[43m,\u001b[49m\u001b[43m \u001b[49m\u001b[43mearly_stop\u001b[49m\u001b[43m,\u001b[49m\u001b[43m \u001b[49m\u001b[43mnb_epochs\u001b[49m\u001b[43m,\u001b[49m\u001b[43m \u001b[49m\u001b[43mprogress_interval\u001b[49m\u001b[43m)\u001b[49m\n",
      "Input \u001b[0;32mIn [88]\u001b[0m, in \u001b[0;36mtrain_model\u001b[0;34m(model, early_stop, n_epochs, progress_interval)\u001b[0m\n\u001b[1;32m      8\u001b[0m \u001b[38;5;28;01mfor\u001b[39;00m x_minibatch, y_minibatch \u001b[38;5;129;01min\u001b[39;00m train_batches:\n\u001b[1;32m      9\u001b[0m     x_minibatch \u001b[38;5;241m=\u001b[39m x_minibatch\u001b[38;5;241m.\u001b[39mreshape(\u001b[38;5;241m-\u001b[39m\u001b[38;5;241m1\u001b[39m, sequence_length, feature_size)\n\u001b[0;32m---> 10\u001b[0m     y_minibatch_pred \u001b[38;5;241m=\u001b[39m \u001b[43mmodel\u001b[49m\u001b[43m(\u001b[49m\u001b[43mx_minibatch\u001b[49m\u001b[43m)\u001b[49m\n\u001b[1;32m     11\u001b[0m     loss \u001b[38;5;241m=\u001b[39m loss_func(y_minibatch_pred, y_minibatch)\n\u001b[1;32m     13\u001b[0m     optimizer\u001b[38;5;241m.\u001b[39mzero_grad()\n",
      "File \u001b[0;32m~/opt/anaconda-py39/anaconda3/lib/python3.9/site-packages/torch/nn/modules/module.py:1130\u001b[0m, in \u001b[0;36mModule._call_impl\u001b[0;34m(self, *input, **kwargs)\u001b[0m\n\u001b[1;32m   1126\u001b[0m \u001b[38;5;66;03m# If we don't have any hooks, we want to skip the rest of the logic in\u001b[39;00m\n\u001b[1;32m   1127\u001b[0m \u001b[38;5;66;03m# this function, and just call forward.\u001b[39;00m\n\u001b[1;32m   1128\u001b[0m \u001b[38;5;28;01mif\u001b[39;00m \u001b[38;5;129;01mnot\u001b[39;00m (\u001b[38;5;28mself\u001b[39m\u001b[38;5;241m.\u001b[39m_backward_hooks \u001b[38;5;129;01mor\u001b[39;00m \u001b[38;5;28mself\u001b[39m\u001b[38;5;241m.\u001b[39m_forward_hooks \u001b[38;5;129;01mor\u001b[39;00m \u001b[38;5;28mself\u001b[39m\u001b[38;5;241m.\u001b[39m_forward_pre_hooks \u001b[38;5;129;01mor\u001b[39;00m _global_backward_hooks\n\u001b[1;32m   1129\u001b[0m         \u001b[38;5;129;01mor\u001b[39;00m _global_forward_hooks \u001b[38;5;129;01mor\u001b[39;00m _global_forward_pre_hooks):\n\u001b[0;32m-> 1130\u001b[0m     \u001b[38;5;28;01mreturn\u001b[39;00m \u001b[43mforward_call\u001b[49m\u001b[43m(\u001b[49m\u001b[38;5;241;43m*\u001b[39;49m\u001b[38;5;28;43minput\u001b[39;49m\u001b[43m,\u001b[49m\u001b[43m \u001b[49m\u001b[38;5;241;43m*\u001b[39;49m\u001b[38;5;241;43m*\u001b[39;49m\u001b[43mkwargs\u001b[49m\u001b[43m)\u001b[49m\n\u001b[1;32m   1131\u001b[0m \u001b[38;5;66;03m# Do not call functions when jit is used\u001b[39;00m\n\u001b[1;32m   1132\u001b[0m full_backward_hooks, non_full_backward_hooks \u001b[38;5;241m=\u001b[39m [], []\n",
      "Input \u001b[0;32mIn [79]\u001b[0m, in \u001b[0;36mNet.forward\u001b[0;34m(self, x)\u001b[0m\n\u001b[1;32m     31\u001b[0m \u001b[38;5;28;01mdef\u001b[39;00m \u001b[38;5;21mforward\u001b[39m(\u001b[38;5;28mself\u001b[39m, x):\n\u001b[1;32m     32\u001b[0m     \u001b[38;5;66;03m# |x| = batch_first=True 이므로 (batch_size, sequence_length, input_size)\u001b[39;00m\n\u001b[0;32m---> 33\u001b[0m     out, _ \u001b[38;5;241m=\u001b[39m \u001b[38;5;28;43mself\u001b[39;49m\u001b[38;5;241;43m.\u001b[39;49m\u001b[43msequenceclassifier\u001b[49m\u001b[43m(\u001b[49m\u001b[43mx\u001b[49m\u001b[43m)\u001b[49m \u001b[38;5;66;03m# output, h_n 이므로, h_n 은 사용안함\u001b[39;00m\n\u001b[1;32m     34\u001b[0m     \u001b[38;5;66;03m# output, h_n 이므로, h_n 은 사용안함\u001b[39;00m\n\u001b[1;32m     35\u001b[0m     \u001b[38;5;66;03m# |out| = batch_first=True 이므로 (batch_size, sequence_length, 2 * hidden_size)\u001b[39;00m\n\u001b[1;32m     36\u001b[0m     \u001b[38;5;66;03m# bidirectional 이 True 이면, bidirections 는 2 * hidden_size\u001b[39;00m\n\u001b[1;32m     37\u001b[0m     out \u001b[38;5;241m=\u001b[39m out[:, \u001b[38;5;241m-\u001b[39m\u001b[38;5;241m1\u001b[39m]\n",
      "File \u001b[0;32m~/opt/anaconda-py39/anaconda3/lib/python3.9/site-packages/torch/nn/modules/module.py:1130\u001b[0m, in \u001b[0;36mModule._call_impl\u001b[0;34m(self, *input, **kwargs)\u001b[0m\n\u001b[1;32m   1126\u001b[0m \u001b[38;5;66;03m# If we don't have any hooks, we want to skip the rest of the logic in\u001b[39;00m\n\u001b[1;32m   1127\u001b[0m \u001b[38;5;66;03m# this function, and just call forward.\u001b[39;00m\n\u001b[1;32m   1128\u001b[0m \u001b[38;5;28;01mif\u001b[39;00m \u001b[38;5;129;01mnot\u001b[39;00m (\u001b[38;5;28mself\u001b[39m\u001b[38;5;241m.\u001b[39m_backward_hooks \u001b[38;5;129;01mor\u001b[39;00m \u001b[38;5;28mself\u001b[39m\u001b[38;5;241m.\u001b[39m_forward_hooks \u001b[38;5;129;01mor\u001b[39;00m \u001b[38;5;28mself\u001b[39m\u001b[38;5;241m.\u001b[39m_forward_pre_hooks \u001b[38;5;129;01mor\u001b[39;00m _global_backward_hooks\n\u001b[1;32m   1129\u001b[0m         \u001b[38;5;129;01mor\u001b[39;00m _global_forward_hooks \u001b[38;5;129;01mor\u001b[39;00m _global_forward_pre_hooks):\n\u001b[0;32m-> 1130\u001b[0m     \u001b[38;5;28;01mreturn\u001b[39;00m \u001b[43mforward_call\u001b[49m\u001b[43m(\u001b[49m\u001b[38;5;241;43m*\u001b[39;49m\u001b[38;5;28;43minput\u001b[39;49m\u001b[43m,\u001b[49m\u001b[43m \u001b[49m\u001b[38;5;241;43m*\u001b[39;49m\u001b[38;5;241;43m*\u001b[39;49m\u001b[43mkwargs\u001b[49m\u001b[43m)\u001b[49m\n\u001b[1;32m   1131\u001b[0m \u001b[38;5;66;03m# Do not call functions when jit is used\u001b[39;00m\n\u001b[1;32m   1132\u001b[0m full_backward_hooks, non_full_backward_hooks \u001b[38;5;241m=\u001b[39m [], []\n",
      "File \u001b[0;32m~/opt/anaconda-py39/anaconda3/lib/python3.9/site-packages/torch/nn/modules/rnn.py:471\u001b[0m, in \u001b[0;36mRNN.forward\u001b[0;34m(self, input, hx)\u001b[0m\n\u001b[1;32m    469\u001b[0m \u001b[38;5;28;01mif\u001b[39;00m batch_sizes \u001b[38;5;129;01mis\u001b[39;00m \u001b[38;5;28;01mNone\u001b[39;00m:\n\u001b[1;32m    470\u001b[0m     \u001b[38;5;28;01mif\u001b[39;00m \u001b[38;5;28mself\u001b[39m\u001b[38;5;241m.\u001b[39mmode \u001b[38;5;241m==\u001b[39m \u001b[38;5;124m'\u001b[39m\u001b[38;5;124mRNN_TANH\u001b[39m\u001b[38;5;124m'\u001b[39m:\n\u001b[0;32m--> 471\u001b[0m         result \u001b[38;5;241m=\u001b[39m \u001b[43m_VF\u001b[49m\u001b[38;5;241;43m.\u001b[39;49m\u001b[43mrnn_tanh\u001b[49m\u001b[43m(\u001b[49m\u001b[38;5;28;43minput\u001b[39;49m\u001b[43m,\u001b[49m\u001b[43m \u001b[49m\u001b[43mhx\u001b[49m\u001b[43m,\u001b[49m\u001b[43m \u001b[49m\u001b[38;5;28;43mself\u001b[39;49m\u001b[38;5;241;43m.\u001b[39;49m\u001b[43m_flat_weights\u001b[49m\u001b[43m,\u001b[49m\u001b[43m \u001b[49m\u001b[38;5;28;43mself\u001b[39;49m\u001b[38;5;241;43m.\u001b[39;49m\u001b[43mbias\u001b[49m\u001b[43m,\u001b[49m\u001b[43m \u001b[49m\u001b[38;5;28;43mself\u001b[39;49m\u001b[38;5;241;43m.\u001b[39;49m\u001b[43mnum_layers\u001b[49m\u001b[43m,\u001b[49m\n\u001b[1;32m    472\u001b[0m \u001b[43m                              \u001b[49m\u001b[38;5;28;43mself\u001b[39;49m\u001b[38;5;241;43m.\u001b[39;49m\u001b[43mdropout\u001b[49m\u001b[43m,\u001b[49m\u001b[43m \u001b[49m\u001b[38;5;28;43mself\u001b[39;49m\u001b[38;5;241;43m.\u001b[39;49m\u001b[43mtraining\u001b[49m\u001b[43m,\u001b[49m\u001b[43m \u001b[49m\u001b[38;5;28;43mself\u001b[39;49m\u001b[38;5;241;43m.\u001b[39;49m\u001b[43mbidirectional\u001b[49m\u001b[43m,\u001b[49m\n\u001b[1;32m    473\u001b[0m \u001b[43m                              \u001b[49m\u001b[38;5;28;43mself\u001b[39;49m\u001b[38;5;241;43m.\u001b[39;49m\u001b[43mbatch_first\u001b[49m\u001b[43m)\u001b[49m\n\u001b[1;32m    474\u001b[0m     \u001b[38;5;28;01melse\u001b[39;00m:\n\u001b[1;32m    475\u001b[0m         result \u001b[38;5;241m=\u001b[39m _VF\u001b[38;5;241m.\u001b[39mrnn_relu(\u001b[38;5;28minput\u001b[39m, hx, \u001b[38;5;28mself\u001b[39m\u001b[38;5;241m.\u001b[39m_flat_weights, \u001b[38;5;28mself\u001b[39m\u001b[38;5;241m.\u001b[39mbias, \u001b[38;5;28mself\u001b[39m\u001b[38;5;241m.\u001b[39mnum_layers,\n\u001b[1;32m    476\u001b[0m                               \u001b[38;5;28mself\u001b[39m\u001b[38;5;241m.\u001b[39mdropout, \u001b[38;5;28mself\u001b[39m\u001b[38;5;241m.\u001b[39mtraining, \u001b[38;5;28mself\u001b[39m\u001b[38;5;241m.\u001b[39mbidirectional,\n\u001b[1;32m    477\u001b[0m                               \u001b[38;5;28mself\u001b[39m\u001b[38;5;241m.\u001b[39mbatch_first)\n",
      "\u001b[0;31mKeyboardInterrupt\u001b[0m: "
     ]
    }
   ],
   "source": [
    "nb_epochs = 100 \n",
    "progress_interval = 3\n",
    "early_stop = 30\n",
    "\n",
    "model, lowest_loss, train_losses, valid_losses = train_model(model, early_stop, nb_epochs, progress_interval)"
   ]
  },
  {
   "cell_type": "markdown",
   "id": "9cfe7991",
   "metadata": {
    "pycharm": {
     "name": "#%% md\n"
    }
   },
   "source": [
    "### GPU 기반 훈련 방법 (코드 수정 방법, Nvidia GPU 기반)\n",
    "\n",
    "- GPU 사용 가능 환경 설정\n",
    "   - torch.cuda.is_available() 을 통해 Nvidia GPU(+ CUDA 설치) 사용 가능시, device 를 'cuda' 로 설정\n",
    "   - torch.cuda.manual_seed_all(1) 을 통해, 매번 실행시 동일한 결과가 나오도록 random 값 generation seed 를 설정 (옵션)\n",
    "    ```python\n",
    "    device = 'cuda' if torch.cuda.is_available() else 'cpu'\n",
    "    torch.manual_seed(1)\n",
    "    if device == 'cuda':\n",
    "        torch.cuda.manual_seed_all(1)\n",
    "    ```\n",
    "- model 객체 GPU 내 생성\n",
    "    ```python\n",
    "    model = CNNModel().to(device)\n",
    "    ```\n",
    "- 학습을 위한 Training 함수내 텐서를 GPU 로 보냄\n",
    "    ```python\n",
    "    for x_minibatch, y_minibatch in train_batches:\n",
    "        x_minibatch = x_minibatch.to(device)\n",
    "        y_minibatch = y_minibatch.to(device)\n",
    "        y_minibatch_pred = model(x_minibatch)\n",
    "    ```"
   ]
  },
  {
   "cell_type": "markdown",
   "id": "a3e46fa3",
   "metadata": {
    "pycharm": {
     "name": "#%% md\n"
    }
   },
   "source": [
    "### 훈련 실행\n",
    "<div class=\"alert alert-block\" style=\"border: 2px solid #E65100;background-color:#FFF3E0;padding:10px\">\n",
    "<font size=\"4em\" style=\"color:#BF360C;\">Overfitting 문제를 해결하기 위해, Dropout() 과 함께 적용</font><br>\n",
    "    <font size=\"4em\" style=\"color:#BF360C;\">colab 을 통한 테스트 추천</font>\n",
    "    <a href=\"https://colab.research.google.com/drive/17eBJuM6iQR-P1WWUUhZrf-Anbbbt4Okj?usp=sharing\">colab 개선 코드</a>\n",
    "</div>\n",
    "\n",
    "```\n",
    "CNNModel(\n",
    "  (conv_layers): Sequential(\n",
    "    (0): Conv2d(1, 32, kernel_size=(3, 3), stride=(1, 1), padding=(1, 1))\n",
    "    (1): LeakyReLU(negative_slope=0.1)\n",
    "    (2): BatchNorm2d(32, eps=1e-05, momentum=0.1, affine=True, track_running_stats=True)\n",
    "    (3): Conv2d(32, 32, kernel_size=(3, 3), stride=(1, 1), padding=(1, 1))\n",
    "    (4): LeakyReLU(negative_slope=0.1)\n",
    "    (5): BatchNorm2d(32, eps=1e-05, momentum=0.1, affine=True, track_running_stats=True)\n",
    "    (6): MaxPool2d(kernel_size=2, stride=2, padding=0, dilation=1, ceil_mode=False)\n",
    "    (7): Dropout(p=0.25, inplace=False)\n",
    "    (8): Conv2d(32, 64, kernel_size=(3, 3), stride=(1, 1), padding=(1, 1))\n",
    "    (9): LeakyReLU(negative_slope=0.1)\n",
    "    (10): BatchNorm2d(64, eps=1e-05, momentum=0.1, affine=True, track_running_stats=True)\n",
    "    (11): Conv2d(64, 64, kernel_size=(3, 3), stride=(1, 1), padding=(1, 1))\n",
    "    (12): LeakyReLU(negative_slope=0.1)\n",
    "    (13): BatchNorm2d(64, eps=1e-05, momentum=0.1, affine=True, track_running_stats=True)\n",
    "    (14): MaxPool2d(kernel_size=2, stride=2, padding=0, dilation=1, ceil_mode=False)\n",
    "    (15): Dropout(p=0.25, inplace=False)\n",
    "    (16): Conv2d(64, 128, kernel_size=(3, 3), stride=(1, 1), padding=(1, 1))\n",
    "    (17): LeakyReLU(negative_slope=0.1)\n",
    "    (18): BatchNorm2d(128, eps=1e-05, momentum=0.1, affine=True, track_running_stats=True)\n",
    "    (19): MaxPool2d(kernel_size=2, stride=2, padding=0, dilation=1, ceil_mode=False)\n",
    "    (20): Dropout(p=0.25, inplace=False)\n",
    "  )\n",
    "  (linear_layers): Sequential(\n",
    "    (0): Linear(in_features=1152, out_features=128, bias=True)\n",
    "    (1): LeakyReLU(negative_slope=0.1)\n",
    "    (2): BatchNorm1d(128, eps=1e-05, momentum=0.1, affine=True, track_running_stats=True)\n",
    "    (3): Linear(in_features=128, out_features=10, bias=True)\n",
    "    (4): LogSoftmax(dim=-1)\n",
    "  )\n",
    ")\n",
    "```"
   ]
  },
  {
   "cell_type": "markdown",
   "id": "d589cd77",
   "metadata": {
    "pycharm": {
     "name": "#%% md\n"
    }
   },
   "source": [
    "### 테스트셋 기반 Evaluation"
   ]
  },
  {
   "cell_type": "code",
   "execution_count": null,
   "id": "596a2863",
   "metadata": {
    "pycharm": {
     "name": "#%%\n"
    }
   },
   "outputs": [],
   "source": [
    "test_loss = 0\n",
    "correct = 0\n",
    "model.eval()\n",
    "\n",
    "wrong_samples, wrong_preds, actual_preds = list(), list(), list()\n",
    "\n",
    "model.eval()\n",
    "with torch.no_grad():\n",
    "    for x_minibatch, y_minibatch in test_batches:\n",
    "        #x_minibatch = x_minibatch.to(device)\n",
    "        #y_minibatch = y_minibatch.to(device)         \n",
    "        y_test_pred = model(x_minibatch)\n",
    "        loss = loss_func(y_test_pred, y_minibatch)            \n",
    "        test_loss += loss_func(y_test_pred, y_minibatch)  \n",
    "        pred = torch.argmax(y_test_pred, dim=1)\n",
    "        correct += pred.eq(y_minibatch.view_as(pred)).sum().item()\n",
    "        \n",
    "        wrong_idx = (pred != y_minibatch.view_as(pred)).nonzero()[:, 0]\n",
    "        for index in wrong_idx:\n",
    "            wrong_samples.append(x_minibatch[index])\n",
    "            wrong_preds.append(pred[index])\n",
    "            actual_preds.append(y_minibatch.view_as(pred)[index])\n",
    "test_loss /= len(test_batches.dataset)\n",
    "print('\\nTest set: Average loss: {:.4f}, Accuracy: {}/{} ({:.0f}%)\\n'.format(test_loss, correct, len(test_batches.dataset), 100. * correct / len(test_batches.dataset)))"
   ]
  },
  {
   "cell_type": "markdown",
   "id": "b22414e9",
   "metadata": {
    "pycharm": {
     "name": "#%% md\n"
    }
   },
   "source": [
    "### incorrect data 만 확인해보기\n",
    "- GPU 로 학습하였을 경우, 텐서.numpy() 는 동작하지 않음 \n",
    "- 다음과 같이 텐서.cpu().numpy() 로 CPU 로 복사해서, numpy() 로 변환해야 함\n",
    "    ```python\n",
    "    wrong_samples[index].cpu().numpy( ).reshape(28,28)\n",
    "    ```"
   ]
  },
  {
   "cell_type": "code",
   "execution_count": null,
   "id": "8a60bc5c",
   "metadata": {
    "pycharm": {
     "name": "#%%\n"
    }
   },
   "outputs": [],
   "source": [
    "# incorrect 데이터 중, 100개 이미지만 출력해보기\n",
    "import matplotlib.pyplot as plt\n",
    "# 주피터 노트북에서 그림을 주피터 노트북 내에 표시하도록 강제하는 명령\n",
    "%matplotlib inline \n",
    "\n",
    "plt.figure(figsize=(18 , 20))\n",
    "\n",
    "for index in range(len(wrong_samples)):\n",
    "    plt.subplot(10, 10, index + 1)\n",
    "    plt.axis('off')\n",
    "    plt.imshow(wrong_samples[index].numpy( ).reshape(28,28), cmap = \"gray\")\n",
    "    plt.title(\"Pred\" + str(wrong_preds[index].item()) + \"(\" + str(actual_preds[index].item()) + \")\", color='red')"
   ]
  },
  {
   "cell_type": "markdown",
   "id": "cba60287",
   "metadata": {},
   "source": [
    "<div class=\"alert alert-block\" style=\"border: 2px solid #1976D2;background-color:#E3F2FD;padding:5px;font-size:0.9em;\">\n",
    "본 자료는 저작권법 제25조 2항에 의해 보호를 받습니다. 본 자료를 외부에 공개하지 말아주세요.<br>\n",
    "<b><a href=\"https://school.fun-coding.org/\">잔재미코딩 (https://school.fun-coding.org/)</a> 에서 본 강의를 포함하는 최적화된 로드맵도 확인하실 수 있습니다</b></div>"
   ]
  }
 ],
 "metadata": {
  "kernelspec": {
   "display_name": "Python 3 (ipykernel)",
   "language": "python",
   "name": "python3"
  },
  "language_info": {
   "codemirror_mode": {
    "name": "ipython",
    "version": 3
   },
   "file_extension": ".py",
   "mimetype": "text/x-python",
   "name": "python",
   "nbconvert_exporter": "python",
   "pygments_lexer": "ipython3",
   "version": "3.11.5"
  }
 },
 "nbformat": 4,
 "nbformat_minor": 5
}
