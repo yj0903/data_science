{
 "cells": [
  {
   "cell_type": "markdown",
   "metadata": {},
   "source": [
    "<div class=\"alert alert-block\" style=\"border: 1px solid #455A64;background-color:#ECEFF1;\">\n",
    "본 자료 및 영상 컨텐츠는 저작권법 제25조 2항에 의해 보호를 받습니다. 본 컨텐츠 및 컨텐츠 일부 문구등을 외부에 공개, 게시하는 것을 금지합니다. 특히 자료에 대해서는 저작권법을 엄격하게 적용하겠습니다.\n",
    "</div>"
   ]
  },
  {
   "cell_type": "markdown",
   "metadata": {},
   "source": [
    "## 바로 시작하는 머신 러닝 - EDA\n",
    "- **큰 그림**으로 **머신러닝 전 과정**을 **꼼꼼하게** 익혀보면서, **패턴화**해서\n",
    "- 이후 어떤 데이터를 만나든 패턴화된 과정을 수행해서, 평균 이상으로 머신러닝 기술을 활용하도록 함"
   ]
  },
  {
   "cell_type": "markdown",
   "metadata": {},
   "source": [
    "### 데이터 셋 준비\n",
    "- 아무리 봐도, 타이타닉만큼 머신러닝 전과정을 간단하게! 큰 그림으로! 필요한 기술을 이해할 수 있는 데이터가 없음\n",
    "- 한번 익혀본 분도 머신러닝 전 과정을 정리하고 패턴화한다는 측면에서 익히기로 함"
   ]
  },
  {
   "cell_type": "code",
   "execution_count": null,
   "metadata": {},
   "outputs": [],
   "source": [
    "from IPython.display import HTML\n",
    "\n",
    "# Youtube\n",
    "HTML('<center><iframe width=\"560\" height=\"315\" src=\"https://www.youtube.com/embed/JcIjBjyX_L0\" frameborder=\"0\" allow=\"autoplay; encrypted-media\" allowfullscreen></iframe></center>')"
   ]
  },
  {
   "cell_type": "markdown",
   "metadata": {},
   "source": [
    "### 타이타닉 머신러닝\n",
    "> 타이타닉에 승선한 사람들의 데이터를 기반으로, 어떤 사람들이 사망했는지를 머신러닝을 사용해서 예측해보기\n",
    "\n",
    "### 주요 작업 단계\n",
    "1. 데이터 수집\n",
    "2. 데이터 분석(탐색)\n",
    "3. Feature Engineering\n",
    "4. 모델링\n",
    "5. 예측"
   ]
  },
  {
   "cell_type": "markdown",
   "metadata": {},
   "source": [
    "### 사전에 익힌 상태가 되야 하는 기술\n",
    "> 다음 기술을 원활하게 다룰 수 있어야 하며, 관련 기술을 본 머신러닝 강의 내에서, <br>\n",
    "> 다시 설명하기에는 강의 내용이 완전히 달라지므로, 관련 강의를 선수강하기를 부탁드림\n",
    "\n",
    "- pandas 사용법 \n",
    "   - 처음하는 파이썬 데이터 분석 강의에서 상세히 설명하고, 견고하게 익힐 수 있도록 하였음\n",
    "- 파이썬 시각화 사용법 \n",
    "   - 처음하는 파이썬 데이터 분석 강의에서 상세히 설명하고, 견고하게 익힐 수 있도록 하였음\n",
    "- 파이썬 입문 \n",
    "  - 파이썬 기본, 문자열 처리, 정규표현식, 리스트등 데이터 구조등"
   ]
  },
  {
   "cell_type": "markdown",
   "metadata": {},
   "source": [
    "### 관련 라이브러리 설치\n",
    "- 보통 이미 설치가 되어 있으므로, 별도 설치는 필요 없지만, 혹시나 하는 마음으로 실행\n",
    "- ! 이후 터미널에서 사용하는 명령을 쓰면, 바로 터미널 명령을 실행할 수 있음"
   ]
  },
  {
   "cell_type": "code",
   "execution_count": null,
   "metadata": {},
   "outputs": [],
   "source": [
    "!pip install pandas"
   ]
  },
  {
   "cell_type": "code",
   "execution_count": null,
   "metadata": {},
   "outputs": [],
   "source": [
    "import pandas as pd # 라이브러리 임포트 (보통 이와 같이 사용함, 이후에는 pd.팬더스함수 형태로 팬더스 라이브러리 함수를 호출함)"
   ]
  },
  {
   "cell_type": "markdown",
   "metadata": {},
   "source": [
    "### 1. Kaggle API\n",
    "- Kaggle 이란?\n",
    "  - 가장 유명한 전세계 예측 모델 및 분석 대회 플랫폼\n",
    "  - 기업 및 단체에서 데이터와 해결과제를 등록하고, 데이터 과학자들이 이를 해결하는 모델을 개발 및 순위를 매김\n",
    "    - 통상 각 과제 대회에서 상위 10% 에 오르면, 현장에서 데이터 사이언티스트로 일할 수 있는 사람이라고 인정함\n",
    "  - https://www.kaggle.com/"
   ]
  },
  {
   "cell_type": "markdown",
   "metadata": {},
   "source": [
    "### 참고: Kaggle 로 데이터 구하기\n",
    "- Kaggle 에 수많은 데이터셋이 있으며, 이를 파이썬 kaggle API 로도 다운로드 받을 수 있음\n",
    "  - 직접 해당 데이터셋 페이지에서, 다운로드를 받을 수도 있으므로, 꼭 필요한 것은 아님"
   ]
  },
  {
   "cell_type": "code",
   "execution_count": null,
   "metadata": {},
   "outputs": [],
   "source": [
    "!pip install kaggle"
   ]
  },
  {
   "cell_type": "markdown",
   "metadata": {},
   "source": [
    "### 1.1. Kaggle API 토큰 생성\n",
    "- kaggle.com 사이트 회원가입(Sign-Up) 및 로그인(Sign-In)\n",
    "- 자신의 ID 에 대한 account 로 이동 후, **Create New API Token** 버튼 클릭\n",
    "  - 클릭하면, 바로 kaggle.json 파일 다운로드\n",
    "- kaggle.json 파일을 다음 경로에 정확히 넣어야 함\n",
    "  - 윈도우: 보통 C 드라이브가 메인 드라이브이므로, 해당 드라이브의 Users 에 자신의 아이디로 된 폴더를 확인할 수 있음\n",
    "    - 해당 폴더 안에, .kaggle 이라는 폴더를 생성한 후(kaggle 이 아니라, .kaggle 입니다!), kaggle.json 파일을 해당 폴더에 이동\n",
    "    - 즉, C:\\Users\\\\\\<Windows-username>\\\\.kaggle\\kaggle.json 이 되어야 함\n",
    "  - 맥: 사용자 ID 의 기본 폴더를 다음 터미널 명령으로 이동할 수 있음 (~ 표시가 사용자 ID 의 기본 폴더를 의미함)\n",
    "    - cd ~\n",
    "    - mkdir .kaggle (.kaggle 폴더 생성, 역시 kaggle 이 아니라, .kaggle 입니다!)\n",
    "    - chmod 600 kaggle.json (사용자 권한을 사용자 ID만 읽고 쓸 수 있게끔 하겠다라는 의미임)\n",
    "    - 즉, ~/.kaggle/kaggle.json 이 되어야 함\n",
    "\n",
    "> 이 과정이 잘 안된다면, 터미널 명령과 폴더등에 익숙하지 않기 때문이므로, 바로 사이트 자체에서 데이터를 다운로드받고 넘어갑니다"
   ]
  },
  {
   "cell_type": "markdown",
   "metadata": {},
   "source": [
    "### 1.2. 각 competition 의 Data 탭에서, kaggle 명령어 확인\n",
    "- 예: 타이타닉(https://www.kaggle.com/c/titanic/data)\n",
    "- 현재 주피터 노트북이 있는 폴더에서 titanic.zip 파일 확인"
   ]
  },
  {
   "cell_type": "code",
   "execution_count": null,
   "metadata": {},
   "outputs": [],
   "source": [
    "!kaggle competitions download -c titanic"
   ]
  },
  {
   "cell_type": "markdown",
   "metadata": {},
   "source": [
    "### 참고: 현재 진행중인 kaggle competition 확인"
   ]
  },
  {
   "cell_type": "code",
   "execution_count": null,
   "metadata": {},
   "outputs": [],
   "source": [
    "!kaggle competitions list"
   ]
  },
  {
   "cell_type": "markdown",
   "metadata": {},
   "source": [
    "### 2. 사전 준비\n",
    "- 주피터 노트북이 있는 현재 폴더의 하부 폴더로 titanic 폴더를 만들고, 해당 폴더 안에 다운받은 파일을 압축을 풀어놓음\n",
    "- 즉 모든 데이터는 titanic/train.csv 와 같은 식으로 접근 가능하도록 만듬"
   ]
  },
  {
   "cell_type": "markdown",
   "metadata": {},
   "source": [
    "### 3. 데이터 탐색 (EDA)\n",
    "\n",
    "<div class=\"alert alert-block\" style=\"border: 2px solid #E65100;background-color:#FFF3E0;padding:10px\">\n",
    "<font size=\"4em\" style=\"font-weight:bold;color:#BF360C;\">머신러닝 데이터 탐색 (EDA)</font>\n",
    "</div>\n",
    "\n",
    "> 머신러닝의 시작은 반드시 탐색적 데이터 분석 과정부터 시작함"
   ]
  },
  {
   "cell_type": "markdown",
   "metadata": {},
   "source": [
    "### 탐색적 데이터 분석\n",
    "- EDA (Exploratory Data Analysis) 라고 함\n",
    "- 데이터 분석을 위해 raw data를 다양한 각도에서 관찰하여, 데이터를 이해하는 과정\n",
    "  - 데이터 분석 주제마다 EDA를 통해 진행하는 과정은 각양각색이므로, 정형화된 패턴은 없지만,\n",
    "  - 크게 다음과 같은 3가지 과정은 기본이 될 수 있으므로 다음 3가지 과정을 기본으로 이해하기로 함\n",
    "\n",
    "    1. 데이터의 출처와 주제에 대해 이해\n",
    "    2. 데이터의 크기 확인\n",
    "    3. 데이터 구성 요소(feature)의 속성(특징) 확인\n",
    "       - feature: 데이터 구성 요소를 위미함\n",
    "       - 예: 어떤 초등학교에 학생 성적을 기록한 데이터가 있다면, 학생 이름, 과목별 성적등을 feature로 볼 수 있음 (가볍게 field/column 이라고 봐도 무방함)\n",
    "       \n",
    "       \n",
    "> 존 튜키라는 미국 통계학자가 제안한 분석 방법론 <br>\n",
    "> 기존 통계학이 가설을 세우고, 가설을 검정하는 방법론에 치우쳐, 데이터 본래의 정보를 파악하기 어려우므로, 본연의 데이터 탐색에 집중하자는 방법론"
   ]
  },
  {
   "cell_type": "markdown",
   "metadata": {},
   "source": [
    "### 3.1 데이터 읽기\n",
    "- 데이터는 다양한 포맷으로 되어 있을 수 있음\n",
    "  - 가장 일반적인 포맷이 csv 이며, 이외에 json, xml 도 많이 사용\n",
    "\n",
    "> 관련 포맷에 대한 이해와, 관련 데이터를 읽고 다루는 기술은 처음하는 파이썬 데이터 분석 강의에서 상세히 다루므로, <br>\n",
    "> 본 과정에서는 상세히 다루지 않습니다"
   ]
  },
  {
   "cell_type": "markdown",
   "metadata": {},
   "source": [
    "### 참고\n",
    "- csv 파일을 pandas dataframe 으로 읽기 위해 read_csv() 함수를 사용함\n",
    "- csv 구분자는 quotechar=구분자 옵션을 넣어서 구분자가 다른 경우도 읽기 가능\n",
    "\n",
    "```\n",
    "doc = pd.read_csv(\"USvideos.csv\", encoding='utf-8-sig', quotechar=',')\n",
    "```\n",
    "\n",
    "- 에러 나는 데이터는 항상 있을 수 있음, 해당 데이터는 생략하는 것이 일반적임\n",
    "\n",
    "```\n",
    "doc = pd.read_csv(\"USvideos.csv\", encoding='utf-8-sig', error_bad_lines=False)\n",
    "```\n",
    "\n",
    "> 특별한 설정이 필요하지 않다면, 간단히 read_csv(파일명) 을 써주면 됨"
   ]
  },
  {
   "cell_type": "code",
   "execution_count": null,
   "metadata": {},
   "outputs": [],
   "source": [
    "import pandas as pd\n",
    "\n",
    "train = pd.read_csv('titanic/train.csv')   # CSV 파일을 직접 읽어서 팬더스 데이터프레임으로 만들 수 있음\n",
    "test = pd.read_csv('titanic/test.csv')"
   ]
  },
  {
   "cell_type": "markdown",
   "metadata": {},
   "source": [
    "### 3.2. EDA\n",
    "### train 데이터의 첫 다섯 개의 데이터를 확인해보기\n",
    "\n",
    "> 역시 pandas 의 상세한 문법은 처음하는 파이썬 데이터 분석 강의에서 상세히 다루므로, <br>\n",
    "> 본 과정에서는 머신러닝에 집중하여, 관련 기술을 상세히 다루지 않습니다"
   ]
  },
  {
   "cell_type": "markdown",
   "metadata": {},
   "source": [
    "<div class=\"alert alert-block\" style=\"border: 2px solid #E65100;background-color:#FFF3E0;padding:10px\">\n",
    "<font size=\"4em\" style=\"font-weight:bold;color:#BF360C;\">머신러닝 1-1 단계: head() + tail() + 각 feature 의미 확인</font>\n",
    "</div>"
   ]
  },
  {
   "cell_type": "code",
   "execution_count": null,
   "metadata": {},
   "outputs": [],
   "source": [
    "train.head()"
   ]
  },
  {
   "cell_type": "markdown",
   "metadata": {},
   "source": [
    "### 각 항목이 의미하는 바가 무엇인지, 데이터를 확인해봅니다.\n",
    "- PassengerId: 승객 ID (unique 한 번호)\n",
    "- Survived: 살아남았는지를 나타냄 - 0 = No, 1 = Yes  \n",
    "- pclass: #등석 - 1 = 1st, 2 = 2nd, 3 = 3rd  \t\n",
    "- sibsp: #명의 형제자매/와이프와 동승했는지를 나타냄  (형제자매/와이프가 동승하지 않았으면 0)\t\n",
    "- parch: #명의 부모/아이와 동승했는지를 나타냄 (부모/아이가 동승하지 않았으면 0)\n",
    "- ticket: 티켓번호\t\n",
    "- cabin: 선실번호 (짐을 어디다 놓았는지) \t\n",
    "- embarked:\t어느 항구에서 탔는지를 나타냄 - C = Cherbourg, Q = Queenstown, S = Southampton  "
   ]
  },
  {
   "cell_type": "markdown",
   "metadata": {},
   "source": [
    "### test 데이터 확인하기\n",
    "  - Survived 필드가 없음을 확인할 수 있음\n",
    "  - 머신러닝 수행 목표가 Survived 값을 맞추는 것이므로, test 데이터에는 해당 필드가 없음"
   ]
  },
  {
   "cell_type": "code",
   "execution_count": null,
   "metadata": {},
   "outputs": [],
   "source": [
    "test.head()"
   ]
  },
  {
   "cell_type": "markdown",
   "metadata": {},
   "source": [
    "### 데이터 사이즈 확인\n",
    "\n",
    "<div class=\"alert alert-block\" style=\"border: 2px solid #E65100;background-color:#FFF3E0;padding:10px\">\n",
    "<font size=\"4em\" style=\"font-weight:bold;color:#BF360C;\">머신러닝 1-2 단계: shape, 데이터 사이즈 확인</font>\n",
    "</div>"
   ]
  },
  {
   "cell_type": "code",
   "execution_count": null,
   "metadata": {},
   "outputs": [],
   "source": [
    "train.shape # 891명의 승객정보와, 특징 정보 12개"
   ]
  },
  {
   "cell_type": "code",
   "execution_count": null,
   "metadata": {},
   "outputs": [],
   "source": [
    "test.shape # 418명의 승객정보와, 특징 정보 11개 (Survived 필드 제외)"
   ]
  },
  {
   "cell_type": "markdown",
   "metadata": {},
   "source": [
    "### 데이터 타입과 Null 데이터 확인\n",
    "<div class=\"alert alert-block\" style=\"border: 2px solid #E65100;background-color:#FFF3E0;padding:10px\">\n",
    "<font size=\"4em\" style=\"font-weight:bold;color:#BF360C;\">머신러닝 1-3 단계: info(), 데이터 타입 + Null 데이터 확인</font>\n",
    "</div>"
   ]
  },
  {
   "cell_type": "code",
   "execution_count": null,
   "metadata": {
    "scrolled": true
   },
   "outputs": [],
   "source": [
    "# 총 891 행에서, \n",
    "# Age 는 714 로 일부 Null 데이터가 있고, \n",
    "# Cabin 은 204 로 많은 부분 Null 데이터고,\n",
    "# Embarked 도 889 로 일부 Null 데이터가 있음\n",
    "train.info() "
   ]
  },
  {
   "cell_type": "code",
   "execution_count": null,
   "metadata": {},
   "outputs": [],
   "source": [
    "# 총 418 행에서, \n",
    "# Age 는 332 로 일부 Null 데이터가 있고, \n",
    "# Cabin 은 91 로 일부 Null 데이터가 있고, \n",
    "# Fare 도 417 로 1개의 Null 데이터가 있음\n",
    "test.info() "
   ]
  },
  {
   "cell_type": "markdown",
   "metadata": {},
   "source": [
    "### 보다 정확하게 Null 데이터 확인하기"
   ]
  },
  {
   "cell_type": "code",
   "execution_count": null,
   "metadata": {},
   "outputs": [],
   "source": [
    "# 각 특징중에 null인 것 (값이 없는 것)\n",
    "train.isnull().sum()"
   ]
  },
  {
   "cell_type": "code",
   "execution_count": null,
   "metadata": {},
   "outputs": [],
   "source": [
    "# 각 특징중에 null인 것 (값이 없는 것)\n",
    "test.isnull().sum()"
   ]
  },
  {
   "cell_type": "markdown",
   "metadata": {},
   "source": [
    "### 다섯 수치 요약 (5 number summary) 확인하기\n",
    "   - 최소값(minimum), 제1사분위수, 중간값(mediam)=제2사분위수, 제3사분위수, 최대값(maximum) 확인하기\n",
    "   - 분위수(quartile)\n",
    "     - 자료 크기 순서에 따른 위치값(경계값)\n",
    "   - EDA 에서는 사분위수를 사용\n",
    "     - Q1: 제1사분위수 (25%에 해당하는 값)\n",
    "     - Q2: 제2사분위수 (50%에 해당하는 값, 중간값)\n",
    "     - Q3: 제3사분위수 (75%에 해당하는 값)\n",
    "     - Q4: 제4사분위수 (100%에 해당하는 값, 최대값)\n",
    "     \n",
    "<div class=\"alert alert-block\" style=\"border: 2px solid #E65100;background-color:#FFF3E0;padding:10px\">\n",
    "<font size=\"4em\" style=\"font-weight:bold;color:#BF360C;\">머신러닝 1-4 단계: describe(), 5 number summary 확인</font>\n",
    "</div>     "
   ]
  },
  {
   "cell_type": "code",
   "execution_count": null,
   "metadata": {},
   "outputs": [],
   "source": [
    "# count: 갯수, mean: 평균, std: 표준편차, min: 최소값, max: 최대값\n",
    "# 25%/50%/75%: 4분위수로 전체 데이터 중, 25%/50%/75% 각각에 해당하는 수치가 몇 인지를 알려줌\n",
    "train.describe()"
   ]
  },
  {
   "cell_type": "code",
   "execution_count": null,
   "metadata": {
    "scrolled": true
   },
   "outputs": [],
   "source": [
    "# Age 의 min 값이 0.42? 개월수를 수치화한 것으로 보임\n",
    "train[train[\"Age\"] < 1]"
   ]
  },
  {
   "cell_type": "code",
   "execution_count": null,
   "metadata": {},
   "outputs": [],
   "source": [
    "# Age 가 1살 이상일 경우는 정수로만 표기\n",
    "train[(train[\"Age\"] >= 1) & (train[\"Age\"] <= 2)]"
   ]
  },
  {
   "cell_type": "markdown",
   "metadata": {},
   "source": [
    "### 4. EDA 와 시각화\n",
    "- 분포, 비율등을 확인하기 위해, 다양한 데이터 가공 및 시각화가 굉장히 유용함"
   ]
  },
  {
   "cell_type": "markdown",
   "metadata": {},
   "source": [
    "### 4.1 최신 시각화: iplot() 으로 시각화 사용하기\n",
    "\n",
    "> 데이터프레임.iplot(kind=그래프종류) 만으로 그래프를 그릴 수 있으므로, 매우 쉬움 <br>\n",
    "> 단, 관련 자료가 부족하고, 세부 기능 조정에 한계가 있음\n",
    "\n",
    "<div class=\"alert alert-block\" style=\"border: 1px solid #FFB300;background-color:#F9FBE7;\">\n",
    "<font size=\"3em\" style=\"font-weight:bold;color:#3f8dbf;\">데이터 분석시, 가볍게 데이터 확인시는 iplot, 디테일하게 시각화할 시에는 plotly.graph_objects 를 사용하는 것이 좋음</font></div>\n",
    "\n",
    "> 역시 관련 문법과 사용법은 처음하는 파이썬 데이터 분석 강의에서 상세히 다루므로, <br>\n",
    "> 본 과정에서는 머신러닝에 집중하여, 관련 기술을 상세히 다루지 않습니다"
   ]
  },
  {
   "cell_type": "markdown",
   "metadata": {},
   "source": [
    "### iplot() 관련 라이브러리 설치\n",
    "- chart_studio 는 plotly 로 작성된 그래프를 웹상에서 보여주기 위한 라이브러리\n",
    "- 최근에는 둘다 설치해야 함"
   ]
  },
  {
   "cell_type": "code",
   "execution_count": null,
   "metadata": {},
   "outputs": [],
   "source": [
    "!pip install plotly chart_studio --upgrade"
   ]
  },
  {
   "cell_type": "markdown",
   "metadata": {},
   "source": [
    "- cufflinks\n",
    "  - pandas로 그래프를 그리기 위한 기능을 plotly 와 연결시키기 위한 라이브러리\n",
    "  - https://nbviewer.jupyter.org/gist/santosjorge/f3b07b2be8094deea8c6"
   ]
  },
  {
   "cell_type": "code",
   "execution_count": null,
   "metadata": {},
   "outputs": [],
   "source": [
    "!pip install cufflinks --upgrade"
   ]
  },
  {
   "cell_type": "markdown",
   "metadata": {},
   "source": [
    "### iplot() 관련 라이브러리 로드 \n",
    "- pandas 데이터프레임.iplot() 함수 호출 전에 로드해야 함"
   ]
  },
  {
   "cell_type": "code",
   "execution_count": null,
   "metadata": {},
   "outputs": [],
   "source": [
    "import chart_studio.plotly as py\n",
    "import cufflinks as cf\n",
    "cf.go_offline(connected=True)"
   ]
  },
  {
   "cell_type": "markdown",
   "metadata": {},
   "source": [
    "<div class=\"alert alert-block\" style=\"border: 1px solid #FFB300;background-color:#F9FBE7;\">\n",
    "    <font size=\"4em\" style=\"font-weight:bold;color:#3f8dbf;\">데이터 로드 및 초기 셋팅</font><br>\n",
    "    <font size=\"3em\" >본 노트북을 중간부터 보실 수 있으므로, 수시로 초기화(?) 코드를 넣어놓기로 함</font> <br>\n",
    "    <font size=\"3em\" color=red style=\"font-weight:bold\">본 노트북 우측 상단에 Not Trusted 버튼이 있다면, 클릭하여 Trusted 로 변경 (그렇지 않으면, 새로 주피터 노트북 오픈시 그래프가 삭제됨)</font>    \n",
    "</div>"
   ]
  },
  {
   "cell_type": "code",
   "execution_count": null,
   "metadata": {},
   "outputs": [],
   "source": [
    "# 초기화 코드 (본 노트북을 중간부터 보실 수 있으므로, 수시로 초기화(?) 코드를 넣어놓기로 함)\n",
    "import pandas as pd\n",
    "\n",
    "train = pd.read_csv('titanic/train.csv')\n",
    "test = pd.read_csv('titanic/test.csv')"
   ]
  },
  {
   "cell_type": "markdown",
   "metadata": {},
   "source": [
    "### 참고: 각 feature 간 상관관계 확인하기 \n",
    "- 상관관계는 직관적으로 확인이 가능한 heatmap 그래프로 확인\n",
    "- 연속형 데이터에 대해서만 상관관계 분석이 가능\n",
    "   - 하나의 feature 값이 증가할 때, 또다른 하나의 feature 값이 증가하면, 상관관계가 높음을 의미(1에 가까움)\n",
    "   - 하나의 feature 값이 증가할 때, 또다른 하나의 feature 값이 감소하면, 상관관계가 낮음을 의미(1에 가까움)\n",
    "   - 범주형 데이터의 경우, 숫자로 범주가 표현될 경우, heatmap 구성은 가능하지만, 분석 값의 의미를 찾기 어려움"
   ]
  },
  {
   "cell_type": "code",
   "execution_count": null,
   "metadata": {},
   "outputs": [],
   "source": [
    "cf.help('heatmap')"
   ]
  },
  {
   "cell_type": "code",
   "execution_count": null,
   "metadata": {},
   "outputs": [],
   "source": [
    "train.corr().iplot(kind='heatmap', colorscale='Blues')"
   ]
  },
  {
   "cell_type": "code",
   "execution_count": null,
   "metadata": {},
   "outputs": [],
   "source": []
  },
  {
   "cell_type": "markdown",
   "metadata": {},
   "source": [
    "### 특정 feature(필드)에 따른 Survived 비율을 시각화해서 분석해보기"
   ]
  },
  {
   "cell_type": "code",
   "execution_count": null,
   "metadata": {},
   "outputs": [],
   "source": [
    "# 데이터프레임의 특정 필드를 기반으로 그래프를 그리는 함수 만들기 \n",
    "def create_dataframe_survived_rate(feature):\n",
    "    # survived 가 1인 행의 특정 특징의 값에 따른 갯수\n",
    "    survived = train[train['Survived']==1][feature].value_counts()\n",
    "    \n",
    "    # survived 가 0인 행의 특정 특징의 값에 따른 갯수\n",
    "    dead = train[train['Survived']==0][feature].value_counts()\n",
    "    df_graph = pd.DataFrame([survived,dead])\n",
    "    df_graph.index = ['Survived','Dead']\n",
    "    \n",
    "    return df_graph"
   ]
  },
  {
   "cell_type": "markdown",
   "metadata": {},
   "source": [
    "### create_dataframe_survived_rate 함수 코드 분석"
   ]
  },
  {
   "cell_type": "code",
   "execution_count": null,
   "metadata": {},
   "outputs": [],
   "source": [
    "# Sex feature 를 인자로 넣었을 경우,\n",
    "survived = train[train['Survived']==1]['Sex'].value_counts()\n",
    "survived"
   ]
  },
  {
   "cell_type": "code",
   "execution_count": null,
   "metadata": {},
   "outputs": [],
   "source": [
    "dead = train[train['Survived']==0]['Sex'].value_counts()\n",
    "dead"
   ]
  },
  {
   "cell_type": "code",
   "execution_count": null,
   "metadata": {},
   "outputs": [],
   "source": [
    "# 두 Series 를 합쳐서, 데이터프레임으로 만들기\n",
    "df = pd.DataFrame([survived,dead])\n",
    "df"
   ]
  },
  {
   "cell_type": "code",
   "execution_count": null,
   "metadata": {},
   "outputs": [],
   "source": [
    "# 인덱스 수정\n",
    "df.index = ['Survived','Dead']\n",
    "df"
   ]
  },
  {
   "cell_type": "markdown",
   "metadata": {},
   "source": [
    "### 함수와 함께 시각화해보며, 데이터 탐색하기"
   ]
  },
  {
   "cell_type": "code",
   "execution_count": null,
   "metadata": {},
   "outputs": [],
   "source": [
    "df = create_dataframe_survived_rate('Sex')"
   ]
  },
  {
   "cell_type": "code",
   "execution_count": null,
   "metadata": {},
   "outputs": [],
   "source": [
    "df.iplot(kind='bar')"
   ]
  },
  {
   "cell_type": "markdown",
   "metadata": {},
   "source": [
    "### 참고: 데이터는 크게 (1) 수치형, (2) 범주형 데이터로 나눌 수 있음\n",
    "1. 수치형 데이터\n",
    "   - 연속형(continuous) 데이터: 특정한 범위 안에 어떤 값(정수와 **부동소숫점**)이든 가질 수 있는 데이터\n",
    "   - 이산(discrete) 데이터: 횟수와 같은 **정수**만 가질 수 있는 데이터\n",
    "\n",
    "2. 범주형 데이터\n",
    "  - 명목형(nominal) 데이터: 카테고리, 타입, 항목등 데이터 분류를 위해 이미 정해진 값이 있는 데이터, 데이터가 가질 수 있는 값을 수준(levels) 라고 부름\n",
    "    - 이진(binary) 데이터: True or False, 0 or 1 과 같이 이미 정해진 두 값만 있는 데이터\n",
    "    \n",
    "  - 순서형(ordinal) 데이터: 이미 정해진 값 사이의 순서 관계가 있는 데이터\n",
    "    - 매우불만(1) ~ 매우만족(5)와 같이 분류된 값 사이에 순서가 있는 경우\n",
    "      <img src='https://www.fun-coding.org/00_Images/ordinal.jpg'>\n",
    "\n",
    "    - 1반(1), 2반(2), 3반(3)을 나타내는 데이터가 있다면? 순서형 데이터일까요?\n",
    "      - 1보다 2가 더 좋거나, 더 큰 의미를 가지는 것이 아니므로, 명목형 데이터라고 봐야 함"
   ]
  },
  {
   "cell_type": "markdown",
   "metadata": {},
   "source": [
    "<div class=\"alert alert-block\" style=\"border: 1px solid #FFB300;background-color:#F9FBE7;\">\n",
    "<font size=\"3em\" style=\"font-weight:bold;color:#3f8dbf;\">탐색적 데이터 분석 (데이터 이해와 시각화 기법 추가)</font><br>\n",
    "    - <b>범주형 데이터일 경우</b>에는 각 수준별 갯수 세기<br>\n",
    "      - 필요하면 절대 빈도(bar 그래프), 상대 빈도(원 그래프) 그려보기\n",
    "</div>    "
   ]
  },
  {
   "cell_type": "markdown",
   "metadata": {},
   "source": [
    "### 4.2 범주형 데이터 확인\n",
    "- Sex, Pclass, Embarked\n",
    "\n",
    "### 참고: 범주형 데이터 탐색 기법\n",
    "1. 수준별로 데이터 분류하기\n",
    "2. 수준별로 데이터 갯수 세기 (count)\n",
    "   - 절대빈도: 절대 갯수, 상대빈도: 각 수준의 비율(%)\n",
    "3. 그래프 그리기\n",
    "   - 막대 그래프 (절대 빈도)\n",
    "   - 원 그래프 (상대 빈도)\n",
    "   \n",
    "<div class=\"alert alert-block\" style=\"border: 2px solid #E65100;background-color:#FFF3E0;padding:10px\">\n",
    "<font size=\"4em\" style=\"font-weight:bold;color:#BF360C;\">머신러닝 2-1 단계: 범주형 데이터 확인</font>\n",
    "</div>        "
   ]
  },
  {
   "cell_type": "code",
   "execution_count": null,
   "metadata": {},
   "outputs": [],
   "source": [
    "train.head()"
   ]
  },
  {
   "cell_type": "markdown",
   "metadata": {},
   "source": [
    "### 4.2.1 성별(Sex)로 Survived 비율 탐색하기\n",
    "- 가장 쉬운 것부터 탐색"
   ]
  },
  {
   "cell_type": "markdown",
   "metadata": {},
   "source": [
    "<div class=\"alert alert-block\" style=\"border: 2px solid #E65100;background-color:#FFF3E0;padding:10px\">\n",
    "<font size=\"4em\" style=\"font-weight:bold;color:#BF360C;\">머신러닝 2-1-1 단계: 범주형 데이터 level (수준) 값  확인</font>\n",
    "</div>       "
   ]
  },
  {
   "cell_type": "markdown",
   "metadata": {},
   "source": [
    "#### Series 로 feature를 보다 상세하게 탐색하기\n",
    "- size : 사이즈 반환\n",
    "- count() : 데이터가 없는 경우를 뺀 사이즈 반환\n",
    "- unique(): 유일한 값만 반환\n",
    "- value_counts(): 데이터가 없는 경우를 제외하고, 각 값의 갯수를 반환"
   ]
  },
  {
   "cell_type": "code",
   "execution_count": null,
   "metadata": {},
   "outputs": [],
   "source": [
    "train['Sex'].value_counts()"
   ]
  },
  {
   "cell_type": "markdown",
   "metadata": {},
   "source": [
    "<div class=\"alert alert-block\" style=\"border: 2px solid #E65100;background-color:#FFF3E0;padding:10px\">\n",
    "<font size=\"4em\" style=\"font-weight:bold;color:#BF360C;\">머신러닝 2-1-2 단계: 범주형 데이터 isnull().sum(), null 값  확인</font>\n",
    "</div>    "
   ]
  },
  {
   "cell_type": "markdown",
   "metadata": {},
   "source": [
    "### 없는 데이터(결측치) 가 있는지 확인하기\n",
    "  - isnull() : 없는 데이터가 있는지 확인 (True or False)\n",
    "  - sum() : 없는 데이터가 있는 행의 갯수 확인 \n",
    "  - 통상 isnull().sum() 으로 사용"
   ]
  },
  {
   "cell_type": "code",
   "execution_count": null,
   "metadata": {},
   "outputs": [],
   "source": [
    "train['Sex'].isnull().sum()"
   ]
  },
  {
   "cell_type": "markdown",
   "metadata": {},
   "source": [
    "<div class=\"alert alert-block\" style=\"border: 2px solid #E65100;background-color:#FFF3E0;padding:10px\">\n",
    "<font size=\"4em\" style=\"font-weight:bold;color:#BF360C;\">머신러닝 2-1-3 단계: 범주형 데이터 level (수준) 별 갯수 세기</font><br>필요하면 절대 빈도(bar 그래프), 상대 빈도(원 그래프) 그려보기    \n",
    "</div>"
   ]
  },
  {
   "cell_type": "markdown",
   "metadata": {},
   "source": [
    "### 시각화해보기"
   ]
  },
  {
   "cell_type": "code",
   "execution_count": null,
   "metadata": {},
   "outputs": [],
   "source": [
    "df = create_dataframe_survived_rate('Sex')"
   ]
  },
  {
   "cell_type": "markdown",
   "metadata": {},
   "source": [
    "### iplot() 으로 막대 그래프 그리기 "
   ]
  },
  {
   "cell_type": "markdown",
   "metadata": {},
   "source": [
    "### 데이터 시각화가 필요한 이유\n",
    "- 시각적으로 보면, 훨씬 탐색이 쉬워짐"
   ]
  },
  {
   "cell_type": "markdown",
   "metadata": {},
   "source": [
    "### 여기서 잠깐!\n",
    "\n",
    "<div class=\"alert alert-block\" style=\"border: 1px solid #FFB300;background-color:#F9FBE7;\">\n",
    "<font size=\"3em\" style=\"font-weight:bold;color:#3f8dbf;\">주피터 노트북에 그려진 그래프는 해당 노트북 파일을 재오픈할 시, 안보여질 수 있음<br>\n",
    "주피터 노트북 파일 자체를 Trusted 로 만들어야 함 (우측 상단에 Not trusted 버튼을 눌러서, Trusted 로 변경 필요!)</font></div>"
   ]
  },
  {
   "cell_type": "markdown",
   "metadata": {},
   "source": [
    "### bar 차트 사용"
   ]
  },
  {
   "cell_type": "code",
   "execution_count": null,
   "metadata": {},
   "outputs": [],
   "source": [
    "df.iplot(kind='bar')"
   ]
  },
  {
   "cell_type": "code",
   "execution_count": null,
   "metadata": {},
   "outputs": [],
   "source": [
    "df.iplot(kind='bar', barmode='stack')"
   ]
  },
  {
   "cell_type": "markdown",
   "metadata": {},
   "source": [
    "### pie 차트 사용"
   ]
  },
  {
   "cell_type": "code",
   "execution_count": null,
   "metadata": {},
   "outputs": [],
   "source": [
    "df['tag'] = df.index"
   ]
  },
  {
   "cell_type": "code",
   "execution_count": null,
   "metadata": {},
   "outputs": [],
   "source": [
    "df"
   ]
  },
  {
   "cell_type": "code",
   "execution_count": null,
   "metadata": {},
   "outputs": [],
   "source": [
    "df.iplot(kind='pie', labels='tag', values='female')"
   ]
  },
  {
   "cell_type": "code",
   "execution_count": null,
   "metadata": {},
   "outputs": [],
   "source": [
    "df.iplot(kind='pie', labels='tag', values='male')"
   ]
  },
  {
   "cell_type": "markdown",
   "metadata": {},
   "source": [
    "<div class=\"alert alert-block\" style=\"border: 1px solid #FFB300;background-color:#F9FBE7;\">\n",
    "<font size=\"3em\" style=\"font-weight:bold;color:#3f8dbf;\">남성은 80% 정도, 여성은 25% 정도가 사망</font><br>\n",
    "<font size=\"4em\" style=\"font-weight:bold;color:#BF360C;\">성별(Sex) 는 사망 여부에 영향을 미칠 가능성이 높은 요소임을 확인할 수 있음</font></div>"
   ]
  },
  {
   "cell_type": "markdown",
   "metadata": {},
   "source": [
    "### 4.2.2 Pclass (#등석 으로 분석하기)"
   ]
  },
  {
   "cell_type": "code",
   "execution_count": null,
   "metadata": {},
   "outputs": [],
   "source": [
    "# 무슨 feature 가 있나 다시 확인\n",
    "train.head()"
   ]
  },
  {
   "cell_type": "markdown",
   "metadata": {},
   "source": [
    "<div class=\"alert alert-block\" style=\"border: 2px solid #E65100;background-color:#FFF3E0;padding:10px\">\n",
    "<font size=\"4em\" style=\"font-weight:bold;color:#BF360C;\">머신러닝 2-1-1 단계: 범주형 데이터 level (수준) 값  확인</font>\n",
    "</div>       "
   ]
  },
  {
   "cell_type": "code",
   "execution_count": null,
   "metadata": {},
   "outputs": [],
   "source": [
    "train['Pclass'].value_counts()"
   ]
  },
  {
   "cell_type": "markdown",
   "metadata": {},
   "source": [
    "<div class=\"alert alert-block\" style=\"border: 2px solid #E65100;background-color:#FFF3E0;padding:10px\">\n",
    "<font size=\"4em\" style=\"font-weight:bold;color:#BF360C;\">머신러닝 2-1-2 단계: 범주형 데이터 isnull().sum(), null 값  확인</font>\n",
    "</div>    "
   ]
  },
  {
   "cell_type": "code",
   "execution_count": null,
   "metadata": {},
   "outputs": [],
   "source": [
    "train['Pclass'].isnull().sum()"
   ]
  },
  {
   "cell_type": "markdown",
   "metadata": {},
   "source": [
    "<div class=\"alert alert-block\" style=\"border: 2px solid #E65100;background-color:#FFF3E0;padding:10px\">\n",
    "<font size=\"4em\" style=\"font-weight:bold;color:#BF360C;\">머신러닝 2-1-3 단계: 범주형 데이터 level (수준) 별 갯수 세기</font><br>필요하면 절대 빈도(bar 그래프), 상대 빈도(원 그래프) 그려보기    \n",
    "</div>"
   ]
  },
  {
   "cell_type": "code",
   "execution_count": null,
   "metadata": {},
   "outputs": [],
   "source": [
    "df = create_dataframe_survived_rate('Pclass')"
   ]
  },
  {
   "cell_type": "code",
   "execution_count": null,
   "metadata": {
    "scrolled": false
   },
   "outputs": [],
   "source": [
    "# 그래프 사이즈가 클 필요는 없어서, 그래프 width, height 를 설정하는 dimensions 옵션 사용 \n",
    "# cf.help('bar') 의 다음 설명 사용\n",
    "# dimensions : tuple \n",
    "# Dimensions for image/chart\n",
    "# (width,height)\n",
    "df.iplot(kind='bar', barmode='stack', dimensions=(600, 400))"
   ]
  },
  {
   "cell_type": "markdown",
   "metadata": {},
   "source": [
    "### 각 등급별 Survived 비율 확인해보기"
   ]
  },
  {
   "cell_type": "code",
   "execution_count": null,
   "metadata": {},
   "outputs": [],
   "source": [
    "# 데이터프레임 행과 열을 바꾸는 함수 - transpose()\n",
    "df_t = df.transpose()"
   ]
  },
  {
   "cell_type": "code",
   "execution_count": null,
   "metadata": {},
   "outputs": [],
   "source": [
    "df"
   ]
  },
  {
   "cell_type": "code",
   "execution_count": null,
   "metadata": {},
   "outputs": [],
   "source": [
    "df_t"
   ]
  },
  {
   "cell_type": "code",
   "execution_count": null,
   "metadata": {},
   "outputs": [],
   "source": [
    "df_t.iplot(kind='bar', barmode='stack', dimensions=(800, 600))"
   ]
  },
  {
   "cell_type": "markdown",
   "metadata": {},
   "source": [
    "### 참고: subplot\n",
    "- iplot() 은 간단한 것은 그리기 쉽지만, 조금만 복잡해지면, 관련 reference 를 찾기 쉽지 않으므로,\n",
    "- 관련 기능을 못 찾으면, 바로 graph_objects 를 사용하면 됨\n",
    "   - 역시 관련 기술도 처음하는 파이썬 데이터 분석 강의에서 상세히 설명드림\n",
    "- subplot 은 여러 그래프를 한번에 볼 수 있는 기능\n",
    "   - plotly.subplots 에서 make_subplots() 를 사용해서, 서브 그래프 위치등을 설정\n",
    "      - rows 와 cols 로 서브 그래프를 몇개의 행에 각각 몇 개의 열로 보여줄지 설정한 후,\n",
    "      - specs 로 각 서브 그래프 타입 설정 (리스트로 설정)\n",
    "        - https://plotly.com/python/subplots/ 의 Subplot Types 확인\n",
    "        - 각 그릴 그래프가 bar 정도는 상관없지만, pie 등은 specs 를 설정해야 함\n",
    "        - 각 그래프의 타이틀은 subplot_titles 로 순서에 맞게 리스트로 설정\n",
    "   - 각 서브 그래프를 add_trace 로 추가 (이 때, row 와 col 값으로 그래프 위치도 명시적으로 설정)"
   ]
  },
  {
   "cell_type": "code",
   "execution_count": null,
   "metadata": {},
   "outputs": [],
   "source": [
    "from plotly.subplots import make_subplots\n",
    "import plotly.graph_objects as go\n",
    "\n",
    "# jupyter notebook 에서 보여지도록 설정하는 부분 (가끔 안나올 때, 이 명령을 하면 됨)\n",
    "import plotly.offline as pyo \n",
    "pyo.init_notebook_mode()\n",
    "\n",
    "fig = make_subplots(rows=1, cols=3, specs=[[{\"type\": \"domain\"}, {\"type\": \"domain\"}, {\"type\": \"domain\"}]], subplot_titles=['1 class', '2 class', '3 class'])\n",
    "fig.add_trace(go.Pie(labels=df.index, values=df[1]), row=1, col=1)\n",
    "fig.add_trace(go.Pie(labels=df.index, values=df[2]), row=1, col=2)\n",
    "fig.add_trace(go.Pie(labels=df.index, values=df[3]), row=1, col=3)\n",
    "\n",
    "fig.show()"
   ]
  },
  {
   "cell_type": "markdown",
   "metadata": {},
   "source": [
    "<div class=\"alert alert-block\" style=\"border: 1px solid #FFB300;background-color:#F9FBE7;\">\n",
    "<font size=\"3em\" style=\"font-weight:bold;color:#3f8dbf;\">1등석은 40%, 2등석은 50%, 3등석은 75% 가 사망</font><br>\n",
    "<font size=\"4em\" style=\"font-weight:bold;color:#BF360C;\">Pclass 는 사망 여부에 영향을 미칠 가능성이 높은 요소임을 확인할 수 있음</font>\n",
    "</div>"
   ]
  },
  {
   "cell_type": "markdown",
   "metadata": {},
   "source": [
    "### 4.2.3 어느 항구에서 탔는지에 따른 비율 확인해보기\n",
    "- Embarked: 어느 항구에서 탔는지를 나타냄 - C = Cherbourg, Q = Queenstown, S = Southampton"
   ]
  },
  {
   "cell_type": "code",
   "execution_count": null,
   "metadata": {},
   "outputs": [],
   "source": [
    "# 초기화 코드 (본 노트북을 중간부터 보실 수 있으므로, 수시로 초기화(?) 코드를 넣어놓기로 함)\n",
    "import pandas as pd\n",
    "\n",
    "train = pd.read_csv('titanic/train.csv')\n",
    "test = pd.read_csv('titanic/test.csv')\n",
    "\n",
    "import chart_studio.plotly as py\n",
    "import cufflinks as cf\n",
    "cf.go_offline(connected=True)"
   ]
  },
  {
   "cell_type": "code",
   "execution_count": null,
   "metadata": {},
   "outputs": [],
   "source": [
    "# 무슨 feature 가 있나 다시 확인\n",
    "train.head()"
   ]
  },
  {
   "cell_type": "markdown",
   "metadata": {},
   "source": [
    "<div class=\"alert alert-block\" style=\"border: 2px solid #E65100;background-color:#FFF3E0;padding:10px\">\n",
    "<font size=\"4em\" style=\"font-weight:bold;color:#BF360C;\">머신러닝 2-1-1 단계: 범주형 데이터 level (수준) 값  확인</font>\n",
    "</div>       "
   ]
  },
  {
   "cell_type": "code",
   "execution_count": null,
   "metadata": {},
   "outputs": [],
   "source": [
    "train['Embarked'].value_counts()"
   ]
  },
  {
   "cell_type": "markdown",
   "metadata": {},
   "source": [
    "<div class=\"alert alert-block\" style=\"border: 2px solid #E65100;background-color:#FFF3E0;padding:10px\">\n",
    "<font size=\"4em\" style=\"font-weight:bold;color:#BF360C;\">머신러닝 2-1-2 단계: 범주형 데이터 isnull().sum(), null 값  확인</font>\n",
    "</div>    "
   ]
  },
  {
   "cell_type": "code",
   "execution_count": null,
   "metadata": {},
   "outputs": [],
   "source": [
    "train['Embarked'].isnull().sum()"
   ]
  },
  {
   "cell_type": "markdown",
   "metadata": {},
   "source": [
    "<div class=\"alert alert-block\" style=\"border: 2px solid #E65100;background-color:#FFF3E0;padding:10px\">\n",
    "<font size=\"4em\" style=\"font-weight:bold;color:#BF360C;\">머신러닝 2-1-3 단계: 범주형 데이터 level (수준) 별 갯수 세기</font><br>필요하면 절대 빈도(bar 그래프), 상대 빈도(원 그래프) 그려보기    \n",
    "</div>"
   ]
  },
  {
   "cell_type": "code",
   "execution_count": null,
   "metadata": {},
   "outputs": [],
   "source": [
    "df = create_dataframe_survived_rate('Embarked')"
   ]
  },
  {
   "cell_type": "code",
   "execution_count": null,
   "metadata": {},
   "outputs": [],
   "source": [
    "df.iplot(kind='bar')"
   ]
  },
  {
   "cell_type": "code",
   "execution_count": null,
   "metadata": {},
   "outputs": [],
   "source": [
    "df_t = df.transpose()"
   ]
  },
  {
   "cell_type": "code",
   "execution_count": null,
   "metadata": {},
   "outputs": [],
   "source": [
    "df_t.iplot(kind='bar', barmode='stack')"
   ]
  },
  {
   "cell_type": "code",
   "execution_count": null,
   "metadata": {},
   "outputs": [],
   "source": [
    "df"
   ]
  },
  {
   "cell_type": "code",
   "execution_count": null,
   "metadata": {},
   "outputs": [],
   "source": [
    "from plotly.subplots import make_subplots\n",
    "import plotly.graph_objects as go\n",
    "\n",
    "# jupyter notebook 에서 보여지도록 설정하는 부분 (가끔 안나올 때, 이 명령을 하면 됨)\n",
    "import plotly.offline as pyo \n",
    "pyo.init_notebook_mode()\n",
    "\n",
    "fig = make_subplots(rows=1, cols=3, specs=[[{\"type\": \"domain\"}, {\"type\": \"domain\"}, {\"type\": \"domain\"}]], subplot_titles=['S', 'C', 'Q'])\n",
    "fig.add_trace(go.Pie(labels=df.index, values=df['S']), row=1, col=1)\n",
    "fig.add_trace(go.Pie(labels=df.index, values=df['C']), row=1, col=2)\n",
    "fig.add_trace(go.Pie(labels=df.index, values=df['Q']), row=1, col=3)\n",
    "\n",
    "fig.show()"
   ]
  },
  {
   "cell_type": "markdown",
   "metadata": {},
   "source": [
    "<div class=\"alert alert-block\" style=\"border: 1px solid #FFB300;background-color:#F9FBE7;\">\n",
    "<font size=\"3em\" style=\"font-weight:bold;color:#3f8dbf;\">S 는 66%, C 는 45%, Q 는 60% 가 사망 (큰 차이는 없지만, 비교적 S 쪽에서 사망률이 높음)</font><br>\n",
    "    <font size=\"4em\" style=\"font-weight:bold;color:#BF360C;\">Embarked 는 사망 여부에 영향을 미칠 가능성이 크지는 않을 요소임을 확인할 수 있음</font>\n",
    "</div>"
   ]
  },
  {
   "cell_type": "markdown",
   "metadata": {},
   "source": [
    "### 범주형 데이터 확인 결과\n",
    "- Sex, Pclass, Embarked\n",
    "\n",
    "<div class=\"alert alert-block\" style=\"border: 1px solid #FFB300;background-color:#F9FBE7;\">\n",
    "<font size=\"3em\" style=\"font-weight:bold;color:#3f8dbf;\">남성은 80% 정도, 여성은 25% 정도가 사망</font><br>\n",
    "<font size=\"4em\" style=\"font-weight:bold;color:#BF360C;\">성별(Sex) 는 사망 여부에 영향을 미칠 가능성이 높은 요소임을 확인할 수 있음</font></div>\n",
    "\n",
    "<div class=\"alert alert-block\" style=\"border: 1px solid #FFB300;background-color:#F9FBE7;\">\n",
    "<font size=\"3em\" style=\"font-weight:bold;color:#3f8dbf;\">1등석은 40%, 2등석은 50%, 3등석은 75% 가 사망</font><br>\n",
    "<font size=\"4em\" style=\"font-weight:bold;color:#BF360C;\">Pclass 는 사망 여부에 영향을 미칠 가능성이 높은 요소임을 확인할 수 있음</font>\n",
    "</div>\n",
    "\n",
    "<div class=\"alert alert-block\" style=\"border: 1px solid #FFB300;background-color:#F9FBE7;\">\n",
    "<font size=\"3em\" style=\"font-weight:bold;color:#3f8dbf;\">S 는 66%, C 는 45%, Q 는 60% 가 사망 (큰 차이는 없지만, 비교적 S 쪽에서 사망률이 높음)</font><br>\n",
    "    <font size=\"4em\" style=\"font-weight:bold;color:#BF360C;\">Embarked 는 사망 여부에 영향을 미칠 가능성이 크지는 않을 요소임을 확인할 수 있음</font>\n",
    "</div>"
   ]
  },
  {
   "cell_type": "markdown",
   "metadata": {},
   "source": [
    "### 4.3 수치형 데이터 확인\n",
    "- Age, SibSp, Parch, Fare\n",
    "\n",
    "### 데이터는 크게 (1) 수치형, (2) 범주형 데이터로 나눌 수 있음\n",
    "1. 수치형 데이터\n",
    "   - 연속형(continuous) 데이터: 특정한 범위 안에 어떤 값(정수와 **부동소숫점**)이든 가질 수 있는 데이터\n",
    "   - 이산(discrete) 데이터: 횟수와 같은 **정수**만 가질 수 있는 데이터\n",
    "2. 범주형 데이터"
   ]
  },
  {
   "cell_type": "markdown",
   "metadata": {},
   "source": [
    "### 수치형 데이터 탐색 방법\n",
    "- EDA 5 수치 + 평균(mean) 확인\n",
    "  - 최소값(minimum), 제1사분위수, 중간값(mediam)=제2사분위수, 제3사분위수, 최대값(maximum) + 평균(mean) 확인\n",
    "  - 특잇값(outlier) 확인\n",
    "- 필요하면 boxplot 과 histogram 그려보기\n",
    "\n",
    "<div class=\"alert alert-block\" style=\"border: 2px solid #E65100;background-color:#FFF3E0;padding:10px\">\n",
    "<font size=\"4em\" style=\"font-weight:bold;color:#BF360C;\">머신러닝 2-2 단계: 수치형 데이터 확인</font>\n",
    "</div>        "
   ]
  },
  {
   "cell_type": "code",
   "execution_count": null,
   "metadata": {},
   "outputs": [],
   "source": [
    "# 초기화 코드 (본 노트북을 중간부터 보실 수 있으므로, 수시로 초기화(?) 코드를 넣어놓기로 함)\n",
    "import pandas as pd\n",
    "import chart_studio.plotly as py\n",
    "import cufflinks as cf\n",
    "cf.go_offline(connected=True)\n",
    "\n",
    "train = pd.read_csv('titanic/train.csv')\n",
    "test = pd.read_csv('titanic/test.csv')"
   ]
  },
  {
   "cell_type": "code",
   "execution_count": null,
   "metadata": {},
   "outputs": [],
   "source": [
    "train.head()"
   ]
  },
  {
   "cell_type": "markdown",
   "metadata": {},
   "source": [
    "### 4.3.1 Age 로 분석하기\n",
    "- **Age**, SibSp, Parch, Fare"
   ]
  },
  {
   "cell_type": "markdown",
   "metadata": {},
   "source": [
    "### 수치형 데이터의 요약(탐색)\n",
    "1. 다섯 수치 요약 (5 number summary) 확인하기\n",
    "   - 최소값(minimum), 제1사분위수, 중간값(mediam)=제2사분위수, 제3사분위수, 최대값(maximum) 확인하기\n",
    "   - 분위수(quartile)\n",
    "     - 자료 크기 순서에 따른 위치값(경계값)\n",
    "   - EDA 에서는 사분위수를 사용\n",
    "     - Q1: 제1사분위수 (25%에 해당하는 값)\n",
    "     - Q2: 제2사분위수 (50%에 해당하는 값, 중간값)\n",
    "     - Q3: 제3사분위수 (75%에 해당하는 값)\n",
    "     - Q4: 제4사분위수 (100%에 해당하는 값, 최대값)\n",
    "     \n",
    "<div class=\"alert alert-block\" style=\"border: 2px solid #E65100;background-color:#FFF3E0;padding:10px\">\n",
    "<font size=\"4em\" style=\"font-weight:bold;color:#BF360C;\">머신러닝 2-2-1 단계: 수치형 데이터 describe(), 5 number summary  확인</font>\n",
    "</div>             "
   ]
  },
  {
   "cell_type": "code",
   "execution_count": null,
   "metadata": {},
   "outputs": [],
   "source": [
    "train['Age'].describe()"
   ]
  },
  {
   "cell_type": "markdown",
   "metadata": {},
   "source": [
    "### 없는 데이터(결측치) 가 있는지 확인하기\n",
    "  - isnull() : 없는 데이터가 있는지 확인 (True or False)\n",
    "  - sum() : 없는 데이터가 있는 행의 갯수 확인 \n",
    "  - 통상 isnull().sum() 으로 사용\n",
    "\n",
    "<div class=\"alert alert-block\" style=\"border: 2px solid #E65100;background-color:#FFF3E0;padding:10px\">\n",
    "<font size=\"4em\" style=\"font-weight:bold;color:#BF360C;\">머신러닝 2-2-2 단계: 수치형 데이터 isnull().sum(), null 값  확인</font>\n",
    "</div>    "
   ]
  },
  {
   "cell_type": "code",
   "execution_count": null,
   "metadata": {},
   "outputs": [],
   "source": [
    "train['Age'].isnull().sum()"
   ]
  },
  {
   "cell_type": "markdown",
   "metadata": {},
   "source": [
    "<div class=\"alert alert-block\" style=\"border: 2px solid #E65100;background-color:#FFF3E0;padding:10px\">\n",
    "<font size=\"4em\" style=\"font-weight:bold;color:#BF360C;\">머신러닝 2-2-3 단계: 수치형 데이터 히스토그램 시각화해보기</font>\n",
    "</div>    "
   ]
  },
  {
   "cell_type": "code",
   "execution_count": null,
   "metadata": {},
   "outputs": [],
   "source": [
    "cf.help() # histogram 이 히스토그램 그래프임"
   ]
  },
  {
   "cell_type": "code",
   "execution_count": null,
   "metadata": {},
   "outputs": [],
   "source": [
    "survived = train[train['Survived'] == 1]['Age']\n",
    "dead = train[train['Survived'] == 0]['Age']"
   ]
  },
  {
   "cell_type": "markdown",
   "metadata": {},
   "source": [
    "#### concat(): 두 데이터프레임 또는 Series 을 연결해서 하나의 데이터프레임으로 만들 수 있음\n",
    "- 두 데이터프레임을 위/아래 또는 왼쪽/오른쪽으로 연결하기만 함\n",
    "- pd.concat([데이터프레임1, 데이터프레임2])\n",
    "- Series 를 합칠 때, 좌+우로 합치려면 axis=1 옵션을 쓰면 됨\n",
    "- Series 끼리 합칠 때 column 이름 업데이트: keys = ['xx', 'xx', ...]"
   ]
  },
  {
   "cell_type": "code",
   "execution_count": null,
   "metadata": {
    "scrolled": true
   },
   "outputs": [],
   "source": [
    "df = pd.concat([survived, dead], axis=1, keys=['Survived', 'Dead'])"
   ]
  },
  {
   "cell_type": "code",
   "execution_count": null,
   "metadata": {},
   "outputs": [],
   "source": [
    "df.iplot(kind='histogram', histfunc='count')"
   ]
  },
  {
   "cell_type": "markdown",
   "metadata": {},
   "source": [
    "<div class=\"alert alert-block\" style=\"border: 1px solid #FFB300;background-color:#F9FBE7;\">\n",
    "<font size=\"3em\" style=\"font-weight:bold;color:#3f8dbf;\">0 ~ 16세까지는 살아남은 분들이 많고, 50세 이상도 살아남은 분들이 좀더 많아 보이지만, 중간 나이는 사망자가 더 많아보임</font><br>\n",
    "    <font size=\"4em\" style=\"font-weight:bold;color:#BF360C;\">Age 는 사망 여부에 영향을 미칠 가능성이 높은 요소임을 확인할 수 있음</font></div>"
   ]
  },
  {
   "cell_type": "markdown",
   "metadata": {},
   "source": [
    "<div class=\"alert alert-block\" style=\"border: 1px solid #FFB300;background-color:#F9FBE7;\">\n",
    "<font size=\"4em\" style=\"font-weight:bold;color:#BF360C;\">하지만, Age 값이 없는 행이 177개나 되므로, 분석에 한계가 있어보임 (이 부분은 후에 별도로 보완 시도)</font>\n",
    "</div>"
   ]
  },
  {
   "cell_type": "code",
   "execution_count": null,
   "metadata": {},
   "outputs": [],
   "source": []
  },
  {
   "cell_type": "markdown",
   "metadata": {},
   "source": [
    "### 4.3.2 SibSp 로 분석하기\n",
    "- Age, **SibSp**, Parch, Fare\n",
    "- **SibSp** : #명의 형제자매/와이프와 동승했는지를 나타냄 (형제자매/와이프가 동승하지 않았으면 0)"
   ]
  },
  {
   "cell_type": "markdown",
   "metadata": {},
   "source": [
    "<div class=\"alert alert-block\" style=\"border: 2px solid #E65100;background-color:#FFF3E0;padding:10px\">\n",
    "<font size=\"4em\" style=\"font-weight:bold;color:#BF360C;\">머신러닝 2-2-1 단계: 수치형 데이터 describe(), 5 number summary  확인</font>\n",
    "</div>             "
   ]
  },
  {
   "cell_type": "code",
   "execution_count": null,
   "metadata": {},
   "outputs": [],
   "source": [
    "train['SibSp'].describe()  "
   ]
  },
  {
   "cell_type": "markdown",
   "metadata": {},
   "source": [
    "<div class=\"alert alert-block\" style=\"border: 2px solid #E65100;background-color:#FFF3E0;padding:10px\">\n",
    "<font size=\"4em\" style=\"font-weight:bold;color:#BF360C;\">머신러닝 2-2-2 단계: 수치형 데이터 isnull().sum(), null 값  확인</font>\n",
    "</div>    "
   ]
  },
  {
   "cell_type": "code",
   "execution_count": null,
   "metadata": {},
   "outputs": [],
   "source": [
    "train['SibSp'].isnull().sum()"
   ]
  },
  {
   "cell_type": "markdown",
   "metadata": {},
   "source": [
    "<div class=\"alert alert-block\" style=\"border: 2px solid #E65100;background-color:#FFF3E0;padding:10px\">\n",
    "<font size=\"4em\" style=\"font-weight:bold;color:#BF360C;\">머신러닝 2-2-3 단계: 수치형 데이터 히스토그램 시각화해보기</font>\n",
    "</div>    "
   ]
  },
  {
   "cell_type": "code",
   "execution_count": null,
   "metadata": {},
   "outputs": [],
   "source": [
    "survived = train[train['Survived'] == 1]['SibSp']\n",
    "dead = train[train['Survived'] == 0]['SibSp']"
   ]
  },
  {
   "cell_type": "code",
   "execution_count": null,
   "metadata": {},
   "outputs": [],
   "source": [
    "df = pd.concat([survived, dead], axis=1, keys=['Survived', 'Dead'])"
   ]
  },
  {
   "cell_type": "code",
   "execution_count": null,
   "metadata": {},
   "outputs": [],
   "source": [
    "df.iplot(kind='histogram', histfunc='count')"
   ]
  },
  {
   "cell_type": "markdown",
   "metadata": {},
   "source": [
    "<div class=\"alert alert-block\" style=\"border: 1px solid #FFB300;background-color:#F9FBE7;\">\n",
    "<font size=\"3em\" style=\"font-weight:bold;color:#3f8dbf;\">형제자매/와이프와 동승하지 않은 경우와, 동승한 경우로 나눠서 본다면, 동승하지 않은 경우는 사망률이 높아보임</font><br>\n",
    "    <font size=\"4em\" style=\"font-weight:bold;color:#BF360C;\">SibSp 도 사망 여부에 영향을 미칠 가능성이 있는 요소임을 확인할 수 있음</font></div>"
   ]
  },
  {
   "cell_type": "markdown",
   "metadata": {},
   "source": [
    "### 4.3.2 Parch 로 분석하기\n",
    "- Age, SibSp, **Parch**, Fare\n",
    "- **Parch** : #명의 부모/아이와 동승했는지를 나타냄 (부모/아이가 동승하지 않았으면 0)\n",
    "  - SibSp 와 유사한 데이터"
   ]
  },
  {
   "cell_type": "markdown",
   "metadata": {},
   "source": [
    "<div class=\"alert alert-block\" style=\"border: 2px solid #E65100;background-color:#FFF3E0;padding:10px\">\n",
    "<font size=\"4em\" style=\"font-weight:bold;color:#BF360C;\">머신러닝 2-2-1 단계: 수치형 데이터 describe(), 5 number summary  확인</font>\n",
    "</div>             "
   ]
  },
  {
   "cell_type": "code",
   "execution_count": null,
   "metadata": {},
   "outputs": [],
   "source": [
    "train['Parch'].describe()  "
   ]
  },
  {
   "cell_type": "markdown",
   "metadata": {},
   "source": [
    "<div class=\"alert alert-block\" style=\"border: 2px solid #E65100;background-color:#FFF3E0;padding:10px\">\n",
    "<font size=\"4em\" style=\"font-weight:bold;color:#BF360C;\">머신러닝 2-2-2 단계: 수치형 데이터 isnull().sum(), null 값  확인</font>\n",
    "</div>    "
   ]
  },
  {
   "cell_type": "code",
   "execution_count": null,
   "metadata": {},
   "outputs": [],
   "source": [
    "train['Parch'].isnull().sum()"
   ]
  },
  {
   "cell_type": "markdown",
   "metadata": {},
   "source": [
    "<div class=\"alert alert-block\" style=\"border: 2px solid #E65100;background-color:#FFF3E0;padding:10px\">\n",
    "<font size=\"4em\" style=\"font-weight:bold;color:#BF360C;\">머신러닝 1-6-3 단계: 수치형 데이터 히스토그램 시각화해보기</font>\n",
    "</div>    "
   ]
  },
  {
   "cell_type": "code",
   "execution_count": null,
   "metadata": {},
   "outputs": [],
   "source": [
    "survived = train[train['Survived'] == 1]['Parch']\n",
    "dead = train[train['Survived'] == 0]['Parch']"
   ]
  },
  {
   "cell_type": "code",
   "execution_count": null,
   "metadata": {},
   "outputs": [],
   "source": [
    "df = pd.concat([survived, dead], axis=1, keys=['Survived', 'Dead'])"
   ]
  },
  {
   "cell_type": "code",
   "execution_count": null,
   "metadata": {},
   "outputs": [],
   "source": [
    "df.iplot(kind='histogram', histfunc='count')"
   ]
  },
  {
   "cell_type": "markdown",
   "metadata": {},
   "source": [
    "### 4.3.3 Parch + SibSp 로 추가 분석하기\n",
    "- Age, **SibSp, Parch**, Fare\n",
    "- **SibSp** : #명의 형제자매/와이프와 동승했는지를 나타냄 (형제자매/와이프가 동승하지 않았으면 0)\n",
    "- **Parch** : #명의 부모/아이와 동승했는지를 나타냄 (부모/아이가 동승하지 않았으면 0)\n"
   ]
  },
  {
   "cell_type": "markdown",
   "metadata": {},
   "source": [
    "<div class=\"alert alert-block\" style=\"border: 1px solid #FFB300;background-color:#F9FBE7;\">\n",
    "<font size=\"4em\" style=\"font-weight:bold;color:#BF360C;\">\n",
    "    SibSp 와 Parch 가 유사하므로 두 값을 합쳐서, 탐색해보기\n",
    "</font>\n",
    "</div>"
   ]
  },
  {
   "cell_type": "code",
   "execution_count": null,
   "metadata": {},
   "outputs": [],
   "source": [
    "train[\"FamilySize\"] = train[\"SibSp\"] + train[\"Parch\"]"
   ]
  },
  {
   "cell_type": "code",
   "execution_count": null,
   "metadata": {},
   "outputs": [],
   "source": [
    "survived = train[train['Survived'] == 1]['FamilySize'] \n",
    "dead = train[train['Survived'] == 0]['FamilySize']\n",
    "df = pd.concat([survived, dead], axis=1, keys=['Survived', 'Dead'])\n",
    "df.iplot(kind='histogram', bins=(0, 20, 1), histfunc='count', bargap=0.1)"
   ]
  },
  {
   "cell_type": "code",
   "execution_count": null,
   "metadata": {},
   "outputs": [],
   "source": [
    "cf.help('histogram') "
   ]
  },
  {
   "cell_type": "markdown",
   "metadata": {},
   "source": [
    "<div class=\"alert alert-block\" style=\"border: 1px solid #FFB300;background-color:#F9FBE7;\">\n",
    "<font size=\"3em\" style=\"font-weight:bold;color:#3f8dbf;\">SibSp 와 Parch 를 별도로 구분할 때보다, 합쳤을 때, 보다 경향성이 보임</font><br>    \n",
    "<font size=\"3em\" style=\"font-weight:bold;color:#3f8dbf;\">형제/자매/와이프/자녀 1명 이상 ~ 3명과 함께 동승했을 때는, 생존 가능성이 높고, 이외에는 낮은 것으로 확인됨</font><br>\n",
    "    <font size=\"4em\" style=\"font-weight:bold;color:#BF360C;\">따라서, SibSp + Parch 를 합쳐서, 다루면 보다 유의미할 것이며, <br> SibSp + Parch 는 사망 여부에 영향을 미칠 가능성 높은 요소임을 확인할 수 있음</font></div>"
   ]
  },
  {
   "cell_type": "markdown",
   "metadata": {},
   "source": [
    "### 4.3.4 Fare 로 추가 분석하기\n",
    "- Age, SibSp, Parch, **Fare**"
   ]
  },
  {
   "cell_type": "code",
   "execution_count": null,
   "metadata": {},
   "outputs": [],
   "source": [
    "# 초기화 코드 (본 노트북을 중간부터 보실 수 있으므로, 수시로 초기화(?) 코드를 넣어놓기로 함)\n",
    "import pandas as pd\n",
    "import chart_studio.plotly as py\n",
    "import cufflinks as cf\n",
    "cf.go_offline(connected=True)\n",
    "\n",
    "train = pd.read_csv('titanic/train.csv')\n",
    "test = pd.read_csv('titanic/test.csv')"
   ]
  },
  {
   "cell_type": "markdown",
   "metadata": {},
   "source": [
    "<div class=\"alert alert-block\" style=\"border: 2px solid #E65100;background-color:#FFF3E0;padding:10px\">\n",
    "<font size=\"4em\" style=\"font-weight:bold;color:#BF360C;\">머신러닝 2-2-1 단계: 수치형 데이터 describe(), 5 number summary  확인</font>\n",
    "</div>        "
   ]
  },
  {
   "cell_type": "code",
   "execution_count": null,
   "metadata": {},
   "outputs": [],
   "source": [
    "train['Fare'].describe()"
   ]
  },
  {
   "cell_type": "markdown",
   "metadata": {},
   "source": [
    "<div class=\"alert alert-block\" style=\"border: 2px solid #E65100;background-color:#FFF3E0;padding:10px\">\n",
    "<font size=\"4em\" style=\"font-weight:bold;color:#BF360C;\">머신러닝 2-2-2 단계: 수치형 데이터 isnull().sum(), null 값  확인</font>\n",
    "</div>   "
   ]
  },
  {
   "cell_type": "code",
   "execution_count": null,
   "metadata": {},
   "outputs": [],
   "source": [
    "train['Fare'].isnull().sum()"
   ]
  },
  {
   "cell_type": "markdown",
   "metadata": {},
   "source": [
    "<div class=\"alert alert-block\" style=\"border: 2px solid #E65100;background-color:#FFF3E0;padding:10px\">\n",
    "<font size=\"4em\" style=\"font-weight:bold;color:#BF360C;\">머신러닝 2-2-3 단계: 수치형 데이터 히스토그램 시각화해보기</font>\n",
    "</div>    "
   ]
  },
  {
   "cell_type": "code",
   "execution_count": null,
   "metadata": {},
   "outputs": [],
   "source": [
    "survived = train[train['Survived'] == 1]['Fare'] \n",
    "dead = train[train['Survived'] == 0]['Fare']\n",
    "df = pd.concat([survived, dead], axis=1, keys=['Survived', 'Dead'])"
   ]
  },
  {
   "cell_type": "code",
   "execution_count": null,
   "metadata": {},
   "outputs": [],
   "source": [
    "df.iplot(kind='histogram', bins=(0, 600, 50))"
   ]
  },
  {
   "cell_type": "markdown",
   "metadata": {},
   "source": [
    "<div class=\"alert alert-block\" style=\"border: 1px solid #FFB300;background-color:#F9FBE7;\">\n",
    "<font size=\"3em\" style=\"font-weight:bold;color:#3f8dbf;\">요금이 50 이상일 때는 생존 가능성이 높고, 이외에는 낮은 것으로 확인됨</font><br>\n",
    "    <font size=\"4em\" style=\"font-weight:bold;color:#BF360C;\">Fare 도 사망 여부에 영향을 미칠 가능성 높은 요소임을 확인할 수 있음</font></div>"
   ]
  },
  {
   "cell_type": "markdown",
   "metadata": {},
   "source": [
    "### 수치형 데이터 확인 결과\n",
    "- Age, SibSp, Parch, Fare\n",
    "\n",
    "<div class=\"alert alert-block\" style=\"border: 1px solid #FFB300;background-color:#F9FBE7;\">\n",
    "<font size=\"3em\" style=\"font-weight:bold;color:#3f8dbf;\">0 ~ 16세까지는 살아남은 분들이 많고, 50세 이상도 살아남은 분들이 좀더 많아 보이지만, 중간 나이는 사망자가 더 많아보임</font><br>\n",
    "    <font size=\"4em\" style=\"font-weight:bold;color:#BF360C;\">Age 는 사망 여부에 영향을 미칠 가능성이 높은 요소임을 확인할 수 있음</font><br>\n",
    "<font size=\"4em\" style=\"font-weight:bold;color:#BF360C;\">단, Age 값이 없는 행이 177개나 되므로, 분석에 한계가 있어보임 (이 부분은 후에 별도로 보완 시도)</font>\n",
    "</div>\n",
    "\n",
    "<div class=\"alert alert-block\" style=\"border: 1px solid #FFB300;background-color:#F9FBE7;\">\n",
    "<font size=\"3em\" style=\"font-weight:bold;color:#3f8dbf;\">형제/자매/와이프/자녀와 동승하지 않은 경우와, 동승한 경우로 나눠서 본다면, 동승하지 않은 경우는 사망률이 높아보임</font><br>\n",
    "    <font size=\"4em\" style=\"font-weight:bold;color:#BF360C;\">SibSp/Parch 도 사망 여부에 영향을 미칠 가능성이 있는 요소임을 확인할 수 있음</font></div>\n",
    "    \n",
    "<div class=\"alert alert-block\" style=\"border: 1px solid #FFB300;background-color:#F9FBE7;\">\n",
    "<font size=\"3em\" style=\"font-weight:bold;color:#3f8dbf;\">형제/자매/와이프/자녀 1명 이상 ~ 3명과 함께 동승했을 때는, 생존 가능성이 높고, 이외에는 낮은 것으로 확인됨</font><br>\n",
    "    <font size=\"4em\" style=\"font-weight:bold;color:#BF360C;\">SibSp + Parch 도 사망 여부에 영향을 미칠 가능성 높은 요소임을 확인할 수 있음</font></div>\n",
    "\n",
    "<div class=\"alert alert-block\" style=\"border: 1px solid #FFB300;background-color:#F9FBE7;\">\n",
    "<font size=\"3em\" style=\"font-weight:bold;color:#3f8dbf;\">요금이 50 이상일 때는 생존 가능성이 높고, 이외에는 낮은 것으로 확인됨</font><br>\n",
    "    <font size=\"4em\" style=\"font-weight:bold;color:#BF360C;\">Fare 도 사망 여부에 영향을 미칠 가능성 높은 요소임을 확인할 수 있음</font></div>"
   ]
  },
  {
   "cell_type": "markdown",
   "metadata": {},
   "source": [
    "### 5. 나머지 feature 확인"
   ]
  },
  {
   "cell_type": "markdown",
   "metadata": {},
   "source": [
    "### 5.1 PassengerId"
   ]
  },
  {
   "cell_type": "code",
   "execution_count": null,
   "metadata": {},
   "outputs": [],
   "source": [
    "train['PassengerId'].describe()"
   ]
  },
  {
   "cell_type": "code",
   "execution_count": null,
   "metadata": {},
   "outputs": [],
   "source": [
    "train['PassengerId'].isnull().sum()"
   ]
  },
  {
   "cell_type": "code",
   "execution_count": null,
   "metadata": {},
   "outputs": [],
   "source": [
    "survived = train[train['Survived'] == 1]['PassengerId'] \n",
    "dead = train[train['Survived'] == 0]['PassengerId']\n",
    "df = pd.concat([survived, dead], axis=1, keys=['Survived', 'Dead'])"
   ]
  },
  {
   "cell_type": "code",
   "execution_count": null,
   "metadata": {},
   "outputs": [],
   "source": [
    "df.iplot(kind='histogram', bins=(0, 1000, 50))"
   ]
  },
  {
   "cell_type": "markdown",
   "metadata": {},
   "source": [
    "<div class=\"alert alert-block\" style=\"border: 1px solid #FFB300;background-color:#F9FBE7;\">\n",
    "<font size=\"3em\" style=\"font-weight:bold;color:#3f8dbf;\">큰 맥락은 없어보이지만, 특이사항으로 PassengerId 가 300 ~ 350 사이는 특이하게 생존률이 높음</font><br>\n",
    "    <font size=\"4em\" style=\"font-weight:bold;color:#BF360C;\">PassengerId 는 사망 여부에 영향을 미칠 요소는 아닌 듯 함</font></div>"
   ]
  },
  {
   "cell_type": "markdown",
   "metadata": {},
   "source": [
    "### 5.2 Name"
   ]
  },
  {
   "cell_type": "code",
   "execution_count": null,
   "metadata": {},
   "outputs": [],
   "source": [
    "train[['Name', 'Survived']].head(50)"
   ]
  },
  {
   "cell_type": "code",
   "execution_count": null,
   "metadata": {},
   "outputs": [],
   "source": [
    "train['Name'].isnull().sum() # null 값 확인"
   ]
  },
  {
   "cell_type": "markdown",
   "metadata": {},
   "source": [
    "<div class=\"alert alert-block\" style=\"border: 2px solid #E65100;background-color:#FFF3E0;padding:10px\">\n",
    "<font size=\"4em\" style=\"font-weight:bold;color:#BF360C;\">머신러닝 2-3 단계: 데이터에서 추가 정보를 추출해서 탐색해보기</font>\n",
    "</div>      "
   ]
  },
  {
   "cell_type": "markdown",
   "metadata": {},
   "source": [
    "#### 시리즈.str.extract(정규표현식) : 시리즈 각 행에서 정규표현식에 맞는 문자열 추출\n",
    "   - expand=True 이면, 데이터프레임 리턴, expand=False 이면 시리즈 리턴"
   ]
  },
  {
   "cell_type": "code",
   "execution_count": null,
   "metadata": {},
   "outputs": [],
   "source": [
    "train['Title'] = train['Name'].str.extract(' ([A-Za-z]+)\\.', expand=False)"
   ]
  },
  {
   "cell_type": "markdown",
   "metadata": {},
   "source": [
    "#### Series 로 feature를 보다 상세하게 탐색하기\n",
    "- size : 사이즈 반환\n",
    "- count() : 데이터가 없는 경우를 뺀 사이즈 반환\n",
    "- unique(): 유일한 값만 반환\n",
    "- value_counts(): 데이터가 없는 경우를 제외하고, 각 값의 갯수를 반환"
   ]
  },
  {
   "cell_type": "code",
   "execution_count": null,
   "metadata": {},
   "outputs": [],
   "source": [
    "train['Title'].value_counts()"
   ]
  },
  {
   "cell_type": "markdown",
   "metadata": {},
   "source": [
    "#### 추출한 데이터는 결국, 범주형 데이터가 되므로, 히스토그램 그려보기"
   ]
  },
  {
   "cell_type": "code",
   "execution_count": null,
   "metadata": {},
   "outputs": [],
   "source": [
    "survived = train[train['Survived'] == 1]['Title'] \n",
    "dead = train[train['Survived'] == 0]['Title']\n",
    "df = pd.concat([survived, dead], axis=1, keys=['Survived', 'Dead'])"
   ]
  },
  {
   "cell_type": "code",
   "execution_count": null,
   "metadata": {},
   "outputs": [],
   "source": [
    "df.iplot(kind='histogram')"
   ]
  },
  {
   "cell_type": "markdown",
   "metadata": {},
   "source": [
    "<div class=\"alert alert-block\" style=\"border: 1px solid #FFB300;background-color:#F9FBE7;\">\n",
    "<font size=\"3em\" style=\"font-weight:bold;color:#3f8dbf;\">원 데이터에서 새로운 데이터를 도출해서, 의미있는 데이터를 만들 수 있음</font><br>\n",
    "<font size=\"3em\" style=\"font-weight:bold;color:#3f8dbf;\">Mr 는 사망률이 높고, Mrs, Miss, Master 는 생존률이 높음</font><br>\n",
    "<font size=\"4em\" style=\"font-weight:bold;color:#BF360C;\">타이틀은 사망 여부에 영향을 미칠 요소일 가능성이 높음</font></div>"
   ]
  },
  {
   "cell_type": "markdown",
   "metadata": {},
   "source": [
    "### 5.3 Ticket"
   ]
  },
  {
   "cell_type": "code",
   "execution_count": null,
   "metadata": {},
   "outputs": [],
   "source": [
    "train[['Ticket', 'Survived']].head(60)"
   ]
  },
  {
   "cell_type": "code",
   "execution_count": null,
   "metadata": {},
   "outputs": [],
   "source": [
    "train['Ticket'].isnull().sum() # null 값 확인"
   ]
  },
  {
   "cell_type": "markdown",
   "metadata": {},
   "source": [
    "<div class=\"alert alert-block\" style=\"border: 2px solid #E65100;background-color:#FFF3E0;padding:10px\">\n",
    "<font size=\"4em\" style=\"font-weight:bold;color:#BF360C;\">머신러닝 2-3 단계: 데이터에서 추가 정보를 추출해서 탐색해보기</font>\n",
    "</div>      "
   ]
  },
  {
   "cell_type": "markdown",
   "metadata": {},
   "source": [
    "#### 시리즈.str.contains(문자열) : 시리즈 각 행에서 문자열을 포함하는지를 True/False 로 리턴해줌"
   ]
  },
  {
   "cell_type": "code",
   "execution_count": null,
   "metadata": {},
   "outputs": [],
   "source": [
    "train['TicketTag'] = train['Ticket'].str.contains('A', case=False)"
   ]
  },
  {
   "cell_type": "code",
   "execution_count": null,
   "metadata": {},
   "outputs": [],
   "source": [
    "train[['Ticket', 'TicketTag', 'Survived']].head(60)"
   ]
  },
  {
   "cell_type": "code",
   "execution_count": null,
   "metadata": {},
   "outputs": [],
   "source": [
    "survived = train[train['Survived'] == 1]['TicketTag'] \n",
    "dead = train[train['Survived'] == 0]['TicketTag']\n",
    "df = pd.concat([survived, dead], axis=1, keys=['Survived', 'Dead'])"
   ]
  },
  {
   "cell_type": "code",
   "execution_count": null,
   "metadata": {},
   "outputs": [],
   "source": [
    "df.iplot(kind='histogram')"
   ]
  },
  {
   "cell_type": "markdown",
   "metadata": {},
   "source": [
    "<div class=\"alert alert-block\" style=\"border: 1px solid #FFB300;background-color:#F9FBE7;\">\n",
    "<font size=\"4em\" style=\"font-weight:bold;color:#BF360C;\">Ticket은 아직까지는사망 여부에 영향을 미치지 않을 요소로 보임</font><br>\n",
    "<font size=\"4em\" style=\"font-weight:bold;color:#BF360C;\">(단, Ticket 번호 의미를 좀더 잘 알면, 유의미한 정보를 추출할 수도 있을 듯)</font></div>"
   ]
  },
  {
   "cell_type": "markdown",
   "metadata": {},
   "source": [
    "### 5.4 Cabin\n",
    "- 선실번호 (짐을 어디다 놓았는지)"
   ]
  },
  {
   "cell_type": "code",
   "execution_count": null,
   "metadata": {},
   "outputs": [],
   "source": [
    "train[['Cabin', 'Survived']].head(50)"
   ]
  },
  {
   "cell_type": "code",
   "execution_count": null,
   "metadata": {},
   "outputs": [],
   "source": [
    "train['Cabin'].isnull().sum() # null 값 확인"
   ]
  },
  {
   "cell_type": "markdown",
   "metadata": {},
   "source": [
    "<div class=\"alert alert-block\" style=\"border: 1px solid #FFB300;background-color:#F9FBE7;\">\n",
    "<font size=\"4em\" style=\"font-weight:bold;color:#BF360C;\">Cabin 은 70% 정도가 null값으로, 사망여부와 유의미한 데이터로 활용하기 어려울 듯</font><br>\n",
    "</div>"
   ]
  },
  {
   "cell_type": "markdown",
   "metadata": {},
   "source": [
    "## 핵심 패턴 정리\n",
    "\n",
    "- 머신러닝 데이터 탐색 (EDA)\n",
    "  - 머신러닝 1-1 단계: head() + tail() + 각 feature 의미 확인\n",
    "  - 머신러닝 1-2 단계: shape, 데이터 사이즈 확인\n",
    "  - 머신러닝 1-3 단계: info(), 데이터 타입 + Null 데이터 확인\n",
    "  - 머신러닝 1-4 단계: describe(), 5 number summary 확인\n",
    "  - 머신러닝 2-1 단계: 범주형 데이터 확인\n",
    "    - 머신러닝 2-1-1 단계: 범주형 데이터 level (수준) 값 확인\n",
    "    - 머신러닝 2-1-2 단계: 범주형 데이터 isnull().sum(), null 값 확인\n",
    "    - 머신러닝 2-1-3 단계: 범주형 데이터 level (수준) 별 갯수 세기\n",
    "  - 머신러닝 2-2 단계: 수치형 데이터 확인\n",
    "    - 머신러닝 2-2-1 단계: 수치형 데이터 describe(), 5 number summary 확인\n",
    "    - 머신러닝 2-2-2 단계: 수치형 데이터 isnull().sum(), null 값 확인\n",
    "    - 머신러닝 2-2-3 단계: 수치형 데이터 히스토그램 시각화해보기\n",
    "  - 머신러닝 2-3 단계: 데이터에서 추가 정보를 추출해서 탐색해보기    "
   ]
  },
  {
   "cell_type": "markdown",
   "metadata": {},
   "source": [
    "<div class=\"alert alert-block\" style=\"border: 1px solid #455A64;background-color:#ECEFF1;\">\n",
    "본 자료 및 영상 컨텐츠는 저작권법 제25조 2항에 의해 보호를 받습니다. 본 컨텐츠 및 컨텐츠 일부 문구등을 외부에 공개, 게시하는 것을 금지합니다. 특히 자료에 대해서는 저작권법을 엄격하게 적용하겠습니다.\n",
    "</div>"
   ]
  }
 ],
 "metadata": {
  "kernelspec": {
   "display_name": "Python 3 (ipykernel)",
   "language": "python",
   "name": "python3"
  },
  "language_info": {
   "codemirror_mode": {
    "name": "ipython",
    "version": 3
   },
   "file_extension": ".py",
   "mimetype": "text/x-python",
   "name": "python",
   "nbconvert_exporter": "python",
   "pygments_lexer": "ipython3",
   "version": "3.11.5"
  },
  "nbTranslate": {
   "displayLangs": [
    "*"
   ],
   "hotkey": "alt-t",
   "langInMainMenu": true,
   "sourceLang": "en",
   "targetLang": "fr",
   "useGoogleTranslate": true
  },
  "widgets": {
   "application/vnd.jupyter.widget-state+json": {
    "state": {},
    "version_major": 2,
    "version_minor": 0
   }
  }
 },
 "nbformat": 4,
 "nbformat_minor": 2
}
