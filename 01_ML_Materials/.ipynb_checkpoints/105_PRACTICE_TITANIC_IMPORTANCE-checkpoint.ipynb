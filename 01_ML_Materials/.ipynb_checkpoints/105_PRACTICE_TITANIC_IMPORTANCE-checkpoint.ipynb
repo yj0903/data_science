{
 "cells": [
  {
   "cell_type": "markdown",
   "metadata": {},
   "source": [
    "<div class=\"alert alert-block\" style=\"border: 1px solid #455A64;background-color:#ECEFF1;\">\n",
    "본 자료 및 영상 컨텐츠는 저작권법 제25조 2항에 의해 보호를 받습니다. 본 컨텐츠 및 컨텐츠 일부 문구등을 외부에 공개, 게시하는 것을 금지합니다. 특히 자료에 대해서는 저작권법을 엄격하게 적용하겠습니다.\n",
    "</div>"
   ]
  },
  {
   "cell_type": "markdown",
   "metadata": {},
   "source": [
    "### 중요도에 따른 feature 정리\n",
    "> 분류 확률을 계산하는데 기여한 정도를 **피처 중요도** 라고 함 <br>\n",
    "> 결과에 유의미한 영향을 주는 feature 만을 중심으로 머신러닝 기법을 적용하기도 함"
   ]
  },
  {
   "cell_type": "markdown",
   "metadata": {},
   "source": [
    "### 데이터 준비"
   ]
  },
  {
   "cell_type": "code",
   "execution_count": 6,
   "metadata": {},
   "outputs": [
    {
     "data": {
      "text/html": [
       "<div>\n",
       "<style scoped>\n",
       "    .dataframe tbody tr th:only-of-type {\n",
       "        vertical-align: middle;\n",
       "    }\n",
       "\n",
       "    .dataframe tbody tr th {\n",
       "        vertical-align: top;\n",
       "    }\n",
       "\n",
       "    .dataframe thead th {\n",
       "        text-align: right;\n",
       "    }\n",
       "</style>\n",
       "<table border=\"1\" class=\"dataframe\">\n",
       "  <thead>\n",
       "    <tr style=\"text-align: right;\">\n",
       "      <th></th>\n",
       "      <th>Pclass_0</th>\n",
       "      <th>Pclass_1</th>\n",
       "      <th>Pclass_2</th>\n",
       "      <th>Sex_0</th>\n",
       "      <th>Sex_1</th>\n",
       "      <th>Age_0</th>\n",
       "      <th>Age_1</th>\n",
       "      <th>Age_2</th>\n",
       "      <th>Age_3</th>\n",
       "      <th>Age_4</th>\n",
       "      <th>...</th>\n",
       "      <th>HighChance_0</th>\n",
       "      <th>HighChance_1</th>\n",
       "      <th>HighChance_2</th>\n",
       "      <th>HighChance_3</th>\n",
       "      <th>HighChance_4</th>\n",
       "      <th>HighChance_5</th>\n",
       "      <th>HighChance_6</th>\n",
       "      <th>LowChance_0</th>\n",
       "      <th>LowChance_1</th>\n",
       "      <th>LowChance_2</th>\n",
       "    </tr>\n",
       "  </thead>\n",
       "  <tbody>\n",
       "    <tr>\n",
       "      <th>0</th>\n",
       "      <td>0</td>\n",
       "      <td>0</td>\n",
       "      <td>1</td>\n",
       "      <td>1</td>\n",
       "      <td>0</td>\n",
       "      <td>0</td>\n",
       "      <td>0</td>\n",
       "      <td>0</td>\n",
       "      <td>1</td>\n",
       "      <td>0</td>\n",
       "      <td>...</td>\n",
       "      <td>1</td>\n",
       "      <td>0</td>\n",
       "      <td>0</td>\n",
       "      <td>0</td>\n",
       "      <td>0</td>\n",
       "      <td>0</td>\n",
       "      <td>0</td>\n",
       "      <td>1</td>\n",
       "      <td>0</td>\n",
       "      <td>0</td>\n",
       "    </tr>\n",
       "    <tr>\n",
       "      <th>1</th>\n",
       "      <td>1</td>\n",
       "      <td>0</td>\n",
       "      <td>0</td>\n",
       "      <td>0</td>\n",
       "      <td>1</td>\n",
       "      <td>0</td>\n",
       "      <td>0</td>\n",
       "      <td>0</td>\n",
       "      <td>0</td>\n",
       "      <td>1</td>\n",
       "      <td>...</td>\n",
       "      <td>0</td>\n",
       "      <td>0</td>\n",
       "      <td>1</td>\n",
       "      <td>0</td>\n",
       "      <td>0</td>\n",
       "      <td>0</td>\n",
       "      <td>0</td>\n",
       "      <td>1</td>\n",
       "      <td>0</td>\n",
       "      <td>0</td>\n",
       "    </tr>\n",
       "    <tr>\n",
       "      <th>2</th>\n",
       "      <td>0</td>\n",
       "      <td>0</td>\n",
       "      <td>1</td>\n",
       "      <td>0</td>\n",
       "      <td>1</td>\n",
       "      <td>0</td>\n",
       "      <td>0</td>\n",
       "      <td>0</td>\n",
       "      <td>1</td>\n",
       "      <td>0</td>\n",
       "      <td>...</td>\n",
       "      <td>1</td>\n",
       "      <td>0</td>\n",
       "      <td>0</td>\n",
       "      <td>0</td>\n",
       "      <td>0</td>\n",
       "      <td>0</td>\n",
       "      <td>0</td>\n",
       "      <td>1</td>\n",
       "      <td>0</td>\n",
       "      <td>0</td>\n",
       "    </tr>\n",
       "    <tr>\n",
       "      <th>3</th>\n",
       "      <td>1</td>\n",
       "      <td>0</td>\n",
       "      <td>0</td>\n",
       "      <td>0</td>\n",
       "      <td>1</td>\n",
       "      <td>0</td>\n",
       "      <td>0</td>\n",
       "      <td>0</td>\n",
       "      <td>0</td>\n",
       "      <td>1</td>\n",
       "      <td>...</td>\n",
       "      <td>0</td>\n",
       "      <td>0</td>\n",
       "      <td>1</td>\n",
       "      <td>0</td>\n",
       "      <td>0</td>\n",
       "      <td>0</td>\n",
       "      <td>0</td>\n",
       "      <td>1</td>\n",
       "      <td>0</td>\n",
       "      <td>0</td>\n",
       "    </tr>\n",
       "    <tr>\n",
       "      <th>4</th>\n",
       "      <td>0</td>\n",
       "      <td>0</td>\n",
       "      <td>1</td>\n",
       "      <td>1</td>\n",
       "      <td>0</td>\n",
       "      <td>0</td>\n",
       "      <td>0</td>\n",
       "      <td>0</td>\n",
       "      <td>0</td>\n",
       "      <td>1</td>\n",
       "      <td>...</td>\n",
       "      <td>1</td>\n",
       "      <td>0</td>\n",
       "      <td>0</td>\n",
       "      <td>0</td>\n",
       "      <td>0</td>\n",
       "      <td>0</td>\n",
       "      <td>0</td>\n",
       "      <td>0</td>\n",
       "      <td>0</td>\n",
       "      <td>1</td>\n",
       "    </tr>\n",
       "  </tbody>\n",
       "</table>\n",
       "<p>5 rows × 93 columns</p>\n",
       "</div>"
      ],
      "text/plain": [
       "   Pclass_0  Pclass_1  Pclass_2  Sex_0  Sex_1  Age_0  Age_1  Age_2  Age_3  \\\n",
       "0         0         0         1      1      0      0      0      0      1   \n",
       "1         1         0         0      0      1      0      0      0      0   \n",
       "2         0         0         1      0      1      0      0      0      1   \n",
       "3         1         0         0      0      1      0      0      0      0   \n",
       "4         0         0         1      1      0      0      0      0      0   \n",
       "\n",
       "   Age_4  ...  HighChance_0  HighChance_1  HighChance_2  HighChance_3  \\\n",
       "0      0  ...             1             0             0             0   \n",
       "1      1  ...             0             0             1             0   \n",
       "2      0  ...             1             0             0             0   \n",
       "3      1  ...             0             0             1             0   \n",
       "4      1  ...             1             0             0             0   \n",
       "\n",
       "   HighChance_4  HighChance_5  HighChance_6  LowChance_0  LowChance_1  \\\n",
       "0             0             0             0            1            0   \n",
       "1             0             0             0            1            0   \n",
       "2             0             0             0            1            0   \n",
       "3             0             0             0            1            0   \n",
       "4             0             0             0            0            0   \n",
       "\n",
       "   LowChance_2  \n",
       "0            0  \n",
       "1            0  \n",
       "2            0  \n",
       "3            0  \n",
       "4            1  \n",
       "\n",
       "[5 rows x 93 columns]"
      ]
     },
     "execution_count": 6,
     "metadata": {},
     "output_type": "execute_result"
    }
   ],
   "source": [
    "import warnings\n",
    "warnings.filterwarnings('ignore')\n",
    "\n",
    "import pickle\n",
    "with open('titanic_step3_feature_encoding.pickle', 'rb') as pickle_filename:\n",
    "    df_onehot = pickle.load(pickle_filename)\n",
    "with open('titanic_step3_feature_encoding_y.pickle', 'rb') as pickle_filename:\n",
    "    y_train = pickle.load(pickle_filename)\n",
    "ntrain = 891\n",
    "X_train, X_test = df_onehot[:ntrain], df_onehot[ntrain:]\n",
    "X_train.head()"
   ]
  },
  {
   "cell_type": "markdown",
   "metadata": {},
   "source": [
    "### XGBoost 및 LightGBM 설치"
   ]
  },
  {
   "cell_type": "code",
   "execution_count": 7,
   "metadata": {},
   "outputs": [
    {
     "name": "stdout",
     "output_type": "stream",
     "text": [
      "Requirement already satisfied: lightgbm in /Users/davelee/opt/anaconda3/lib/python3.8/site-packages (3.2.1)\n",
      "Requirement already satisfied: scikit-learn!=0.22.0 in /Users/davelee/opt/anaconda3/lib/python3.8/site-packages (from lightgbm) (0.23.2)\n",
      "Requirement already satisfied: wheel in /Users/davelee/opt/anaconda3/lib/python3.8/site-packages (from lightgbm) (0.35.1)\n",
      "Requirement already satisfied: scipy in /Users/davelee/opt/anaconda3/lib/python3.8/site-packages (from lightgbm) (1.5.2)\n",
      "Requirement already satisfied: numpy in /Users/davelee/opt/anaconda3/lib/python3.8/site-packages (from lightgbm) (1.19.2)\n",
      "Requirement already satisfied: threadpoolctl>=2.0.0 in /Users/davelee/opt/anaconda3/lib/python3.8/site-packages (from scikit-learn!=0.22.0->lightgbm) (2.1.0)\n",
      "Requirement already satisfied: joblib>=0.11 in /Users/davelee/opt/anaconda3/lib/python3.8/site-packages (from scikit-learn!=0.22.0->lightgbm) (0.17.0)\n"
     ]
    }
   ],
   "source": [
    "!pip install lightgbm"
   ]
  },
  {
   "cell_type": "code",
   "execution_count": 8,
   "metadata": {},
   "outputs": [
    {
     "name": "stdout",
     "output_type": "stream",
     "text": [
      "Requirement already satisfied: xgboost in /Users/davelee/opt/anaconda3/lib/python3.8/site-packages (1.4.1)\r\n",
      "Requirement already satisfied: numpy in /Users/davelee/opt/anaconda3/lib/python3.8/site-packages (from xgboost) (1.19.2)\r\n",
      "Requirement already satisfied: scipy in /Users/davelee/opt/anaconda3/lib/python3.8/site-packages (from xgboost) (1.5.2)\r\n"
     ]
    }
   ],
   "source": [
    "!pip install xgboost"
   ]
  },
  {
   "cell_type": "markdown",
   "metadata": {},
   "source": [
    "### 라이브러리 모델 임포트"
   ]
  },
  {
   "cell_type": "code",
   "execution_count": 9,
   "metadata": {},
   "outputs": [],
   "source": [
    "import numpy as np # 각 모델에서 내부적으로 관련 라이브러리 사용 가능\n",
    "import pandas as pd\n",
    "\n",
    "from sklearn.model_selection import KFold\n",
    "from sklearn.model_selection import cross_val_score\n",
    "\n",
    "from sklearn.neighbors import KNeighborsClassifier             # 1. K-Nearest Neighbor(KNN)\n",
    "from sklearn.linear_model import LogisticRegression            # 2. Logistic Regression\n",
    "from sklearn.svm import SVC                                                # 3. SVC\n",
    "from sklearn.tree import DecisionTreeClassifier                   # 4. Decision Tree\n",
    "from sklearn.ensemble import RandomForestClassifier       # 5. Random Forest\n",
    "from sklearn.ensemble import ExtraTreesClassifier             # 6. Extra Tree\n",
    "from sklearn.ensemble import GradientBoostingClassifier  # 7. GBM\n",
    "from sklearn.naive_bayes import GaussianNB                     # 8. GaussianNB\n",
    "from xgboost import XGBClassifier                                     # 9. XGBoost\n",
    "from lightgbm import LGBMClassifier                                 # 10. LightGBM"
   ]
  },
  {
   "cell_type": "markdown",
   "metadata": {},
   "source": [
    "### 디폴트 테스트\n",
    "> 하이퍼 파라미터 튜닝을 통해 각 머신러닝 모델을 보다 최적화할 수 있지만, 우선 디폴트값으로 바로 예측 가능"
   ]
  },
  {
   "cell_type": "code",
   "execution_count": 31,
   "metadata": {},
   "outputs": [],
   "source": [
    "knn_model = KNeighborsClassifier()\n",
    "logreg_model = LogisticRegression()\n",
    "svc_model = SVC()\n",
    "decision_model = DecisionTreeClassifier()\n",
    "random_model = RandomForestClassifier()\n",
    "extra_model = ExtraTreesClassifier()\n",
    "gbm_model = GradientBoostingClassifier()\n",
    "nb_model = GaussianNB()\n",
    "xgb_model = XGBClassifier(eval_metric='logloss')\n",
    "lgbm_model = LGBMClassifier()\n",
    "\n",
    "models = [\n",
    "    knn_model,\n",
    "    logreg_model,\n",
    "    svc_model,\n",
    "    decision_model,\n",
    "    random_model,\n",
    "    extra_model,\n",
    "    gbm_model,\n",
    "    nb_model,\n",
    "    xgb_model,\n",
    "    lgbm_model\n",
    "]\n",
    "\n",
    "k_fold = KFold(n_splits=10, shuffle=True, random_state=0)           # K-Fold 사용\n",
    "results = dict()\n",
    "for alg in models:\n",
    "    alg.fit(X_train, y_train)    \n",
    "    score = cross_val_score(alg, X_train, y_train.values.ravel(), cv=k_fold, scoring='accuracy')\n",
    "    results[alg.__class__.__name__] = np.mean(score)*100"
   ]
  },
  {
   "cell_type": "code",
   "execution_count": 32,
   "metadata": {},
   "outputs": [
    {
     "data": {
      "text/plain": [
       "{'KNeighborsClassifier': 82.04119850187267,\n",
       " 'LogisticRegression': 83.38951310861424,\n",
       " 'SVC': 83.05118601747814,\n",
       " 'DecisionTreeClassifier': 80.46941323345817,\n",
       " 'RandomForestClassifier': 82.48938826466915,\n",
       " 'ExtraTreesClassifier': 82.48813982521848,\n",
       " 'GradientBoostingClassifier': 83.27590511860174,\n",
       " 'GaussianNB': 70.8039950062422,\n",
       " 'XGBClassifier': 81.36828963795256,\n",
       " 'LGBMClassifier': 81.7003745318352}"
      ]
     },
     "execution_count": 32,
     "metadata": {},
     "output_type": "execute_result"
    }
   ],
   "source": [
    "results"
   ]
  },
  {
   "cell_type": "markdown",
   "metadata": {},
   "source": [
    "### 정확도 높은 순으로 정렬하기\n",
    "\n",
    "- 사전 데이터의 value 로 정렬하는 방법 "
   ]
  },
  {
   "cell_type": "code",
   "execution_count": 33,
   "metadata": {
    "scrolled": true
   },
   "outputs": [
    {
     "data": {
      "text/plain": [
       "[('LogisticRegression', 83.38951310861424),\n",
       " ('GradientBoostingClassifier', 83.27590511860174),\n",
       " ('SVC', 83.05118601747814),\n",
       " ('RandomForestClassifier', 82.48938826466915),\n",
       " ('ExtraTreesClassifier', 82.48813982521848),\n",
       " ('KNeighborsClassifier', 82.04119850187267),\n",
       " ('LGBMClassifier', 81.7003745318352),\n",
       " ('XGBClassifier', 81.36828963795256),\n",
       " ('DecisionTreeClassifier', 80.46941323345817),\n",
       " ('GaussianNB', 70.8039950062422)]"
      ]
     },
     "execution_count": 33,
     "metadata": {},
     "output_type": "execute_result"
    }
   ],
   "source": [
    "sorted(results.items(), key=lambda x: x[1], reverse=True) # reverse=True 면 높은 순서대로 정렬"
   ]
  },
  {
   "cell_type": "markdown",
   "metadata": {},
   "source": [
    "### 성능이 좋은 머신러닝 기법만을 중심으로, 중요도 계산하기"
   ]
  },
  {
   "cell_type": "code",
   "execution_count": 35,
   "metadata": {},
   "outputs": [],
   "source": [
    "tree_models = [\n",
    "    random_model,\n",
    "    extra_model,\n",
    "    gbm_model,\n",
    "    xgb_model\n",
    "]"
   ]
  },
  {
   "cell_type": "markdown",
   "metadata": {},
   "source": [
    "### 트리 관련 모델은 중요도가 측정됨\n",
    "- 트리를 결정하는 과정에서 각 feature 가 얼마나 중요한지를 수치화하며, feature_importances_ 에 해당 값을 가지고 있음\n",
    "- 해당 값을 기준으로 중요도가 낮은 feature 를 걸러낼 수 있음"
   ]
  },
  {
   "cell_type": "code",
   "execution_count": 36,
   "metadata": {},
   "outputs": [
    {
     "name": "stdout",
     "output_type": "stream",
     "text": [
      "RandomForestClassifier\n",
      "[1.64634606e-02 1.59927779e-02 2.92367497e-02 8.41168635e-02\n",
      " 6.21882942e-02 4.53343579e-03 9.96866440e-03 1.33175555e-02\n",
      " 2.24452366e-02 1.72908690e-02 1.68118325e-02 5.37556682e-03\n",
      " 1.34588586e-03 2.02426366e-02 1.78299371e-02 1.11396672e-02\n",
      " 5.63538217e-03 3.38711418e-03 5.36842055e-03 2.37478639e-02\n",
      " 8.23924718e-03 8.80315665e-03 1.88026471e-03 7.68328766e-03\n",
      " 3.77614899e-03 7.57696078e-03 1.85237058e-03 2.53218230e-04\n",
      " 1.80727368e-02 1.39772855e-02 9.96718372e-03 8.97076787e-02\n",
      " 1.67711803e-02 2.02420954e-02 1.04966968e-02 3.28975994e-04\n",
      " 2.01423397e-04 3.46910726e-03 1.62603171e-03 8.13301585e-04\n",
      " 6.19674823e-04 6.25480593e-04 2.27692284e-04 5.94562335e-05\n",
      " 0.00000000e+00 1.62088107e-02 1.33018797e-02 1.41840086e-02\n",
      " 7.32939840e-03 6.97233749e-03 7.77096279e-03 2.65584060e-03\n",
      " 2.01204089e-03 1.44945052e-03 5.63936960e-03 5.30526928e-03\n",
      " 5.88032552e-03 1.50930960e-02 9.89321053e-04 4.00069244e-03\n",
      " 1.19153441e-03 3.78125779e-04 4.96047646e-03 2.63380516e-03\n",
      " 4.18339957e-04 3.24801710e-03 1.03362747e-04 1.92416499e-03\n",
      " 1.47777611e-03 5.24067697e-03 1.58146368e-05 0.00000000e+00\n",
      " 0.00000000e+00 1.28186752e-02 1.62027210e-02 1.83642419e-02\n",
      " 7.87707536e-03 9.64697000e-03 1.29762031e-02 9.70584452e-03\n",
      " 1.46006600e-02 1.51321050e-02 1.25360599e-02 5.18114467e-02\n",
      " 2.91839074e-03 7.91516750e-03 1.07917886e-02 6.32035056e-04\n",
      " 2.01642536e-04 4.70155561e-04 2.74873666e-02 8.94963408e-03\n",
      " 1.48680488e-02]\n",
      "ExtraTreesClassifier\n",
      "[2.02463361e-02 1.73416083e-02 3.07928305e-02 7.37548054e-02\n",
      " 7.37934301e-02 3.66455430e-03 9.92418249e-03 1.27965307e-02\n",
      " 2.07694142e-02 1.69706861e-02 1.67349017e-02 6.13654705e-03\n",
      " 1.57756232e-03 2.27751253e-02 1.66607661e-02 1.01368473e-02\n",
      " 4.76044698e-03 2.62828634e-03 6.55324007e-03 3.16757573e-02\n",
      " 7.73874847e-03 8.93435238e-03 1.67445337e-03 7.38678406e-03\n",
      " 2.24115119e-03 7.40915476e-03 1.23352473e-03 3.27132320e-04\n",
      " 1.63069190e-02 1.10281085e-02 8.48038415e-03 9.31712192e-02\n",
      " 2.03635779e-02 2.77904168e-02 1.00261823e-02 9.03206863e-05\n",
      " 3.77605258e-04 1.66663188e-03 1.48084169e-03 7.89333806e-04\n",
      " 4.78547938e-04 7.45655520e-04 2.19619519e-04 7.94081991e-05\n",
      " 0.00000000e+00 1.41262326e-02 1.29571321e-02 1.58251971e-02\n",
      " 8.32302684e-03 6.64054792e-03 9.35469874e-03 2.00759891e-03\n",
      " 2.37576023e-03 2.58472351e-03 4.52350760e-03 4.63972850e-03\n",
      " 5.10270609e-03 1.42926156e-02 9.50814470e-04 2.97829516e-03\n",
      " 6.85874515e-04 3.45862411e-04 4.88091853e-03 3.39503929e-03\n",
      " 4.55459455e-04 3.28704026e-03 9.24234718e-05 2.22435057e-03\n",
      " 1.81368531e-03 5.62722488e-03 2.28818047e-05 0.00000000e+00\n",
      " 0.00000000e+00 1.35381202e-02 1.51941913e-02 1.86200675e-02\n",
      " 7.76194666e-03 1.10640854e-02 1.20913980e-02 8.73967347e-03\n",
      " 1.36140686e-02 1.54135713e-02 1.25565150e-02 4.34608085e-02\n",
      " 5.16090839e-03 4.17756990e-03 8.60989625e-03 3.00182892e-04\n",
      " 1.22570373e-04 1.02120787e-03 2.36098724e-02 8.45376542e-03\n",
      " 1.72423027e-02]\n",
      "GradientBoostingClassifier\n",
      "[1.57490040e-02 4.08813633e-06 1.13086780e-01 8.80140299e-02\n",
      " 2.45311629e-02 4.72456334e-04 9.80246541e-04 2.97306988e-04\n",
      " 3.80834619e-03 7.00751785e-03 9.36046100e-03 8.50054632e-03\n",
      " 3.36213932e-03 3.44676770e-02 1.44675270e-03 7.45233473e-03\n",
      " 3.14865865e-04 7.13483868e-04 6.91666328e-07 3.42247887e-02\n",
      " 6.07788054e-04 9.59756722e-03 2.23034856e-03 4.50058971e-03\n",
      " 1.87457310e-03 4.44932033e-04 0.00000000e+00 0.00000000e+00\n",
      " 1.55656922e-02 3.02686788e-04 9.50314905e-03 3.80910477e-01\n",
      " 1.95791558e-03 3.56503393e-03 1.39243535e-02 0.00000000e+00\n",
      " 5.85271542e-04 1.13864949e-02 7.58904222e-04 0.00000000e+00\n",
      " 4.48993643e-04 0.00000000e+00 1.91218186e-04 1.26869652e-04\n",
      " 0.00000000e+00 8.10925145e-04 8.21113806e-04 6.27636769e-03\n",
      " 0.00000000e+00 6.60581330e-03 1.66276525e-02 6.01269710e-04\n",
      " 7.68661167e-03 4.13776193e-03 1.84574831e-03 1.80506033e-03\n",
      " 6.14659967e-03 3.47163802e-04 0.00000000e+00 0.00000000e+00\n",
      " 0.00000000e+00 0.00000000e+00 3.64990361e-03 1.12697908e-03\n",
      " 4.02786816e-04 3.01639350e-03 0.00000000e+00 0.00000000e+00\n",
      " 5.02429444e-04 1.09209567e-02 0.00000000e+00 0.00000000e+00\n",
      " 0.00000000e+00 1.27611169e-02 2.77768518e-03 1.42141819e-02\n",
      " 8.92677212e-04 9.31275210e-03 1.51148750e-03 1.71541104e-03\n",
      " 2.70853383e-03 6.05711485e-03 6.79383174e-03 2.46254452e-02\n",
      " 1.53255020e-03 0.00000000e+00 2.72779663e-06 0.00000000e+00\n",
      " 0.00000000e+00 0.00000000e+00 2.13358554e-02 8.14955284e-03\n",
      " 0.00000000e+00]\n",
      "XGBClassifier\n",
      "[0.00385819 0.00499521 0.06894211 0.01561029 0.         0.00691368\n",
      " 0.01919046 0.00523671 0.00570173 0.00744371 0.00896532 0.01068319\n",
      " 0.         0.02230001 0.00853426 0.00874234 0.00879975 0.009318\n",
      " 0.00831375 0.02511846 0.00586757 0.00968759 0.         0.01091581\n",
      " 0.00457932 0.00599481 0.00141172 0.         0.00854168 0.00825176\n",
      " 0.01605903 0.2985796  0.00437442 0.00662253 0.01096166 0.\n",
      " 0.         0.         0.         0.         0.         0.\n",
      " 0.         0.         0.         0.00552017 0.00783688 0.01920221\n",
      " 0.00661033 0.01118468 0.01076673 0.00325274 0.         0.\n",
      " 0.00473778 0.00361848 0.00763035 0.01054963 0.         0.00785224\n",
      " 0.00410302 0.         0.00368041 0.01084808 0.         0.\n",
      " 0.         0.         0.         0.         0.         0.\n",
      " 0.         0.01295873 0.0089687  0.01277126 0.0141431  0.02253756\n",
      " 0.00945217 0.00733598 0.0079479  0.02034932 0.01465469 0.03487999\n",
      " 0.         0.         0.00575903 0.         0.         0.\n",
      " 0.05486208 0.00809166 0.00737939]\n"
     ]
    }
   ],
   "source": [
    "for alg in tree_models:\n",
    "    try:\n",
    "        print(alg.__class__.__name__)\n",
    "        print(alg.feature_importances_)        \n",
    "    except:\n",
    "        print(alg.__class__.__name__, \"X\")"
   ]
  },
  {
   "cell_type": "markdown",
   "metadata": {},
   "source": [
    "- 중요도 기반 데이터프레임 작성하기"
   ]
  },
  {
   "cell_type": "code",
   "execution_count": 37,
   "metadata": {},
   "outputs": [],
   "source": [
    "random_model_importance = pd.DataFrame({'Feature':X_train.columns, 'random_model':random_model.feature_importances_})\n",
    "extra_model_importance = pd.DataFrame({'Feature':X_train.columns, 'extra_model':extra_model.feature_importances_})\n",
    "gbm_model_importance = pd.DataFrame({'Feature':X_train.columns, 'gbm_model':gbm_model.feature_importances_})\n",
    "xgb_model_importance = pd.DataFrame({'Feature':X_train.columns, 'xgb_model':xgb_model.feature_importances_})"
   ]
  },
  {
   "cell_type": "markdown",
   "metadata": {},
   "source": [
    "### multiple dataframe 합치기\n",
    "- dataframes = [각 데이터프레임, ...]\n",
    "- functools.reduce(lambda  left,right: pd.merge(left, right, on=['동일컬럼']), dataframes)"
   ]
  },
  {
   "cell_type": "code",
   "execution_count": 38,
   "metadata": {},
   "outputs": [],
   "source": [
    "from functools import reduce\n",
    "data_frames = [\n",
    "    random_model_importance,\n",
    "    extra_model_importance,\n",
    "    gbm_model_importance,\n",
    "    xgb_model_importance\n",
    "]\n",
    "importances = reduce(lambda  left,right: pd.merge(left, right, on=['Feature']), data_frames)"
   ]
  },
  {
   "cell_type": "code",
   "execution_count": 39,
   "metadata": {},
   "outputs": [
    {
     "data": {
      "text/html": [
       "<div>\n",
       "<style scoped>\n",
       "    .dataframe tbody tr th:only-of-type {\n",
       "        vertical-align: middle;\n",
       "    }\n",
       "\n",
       "    .dataframe tbody tr th {\n",
       "        vertical-align: top;\n",
       "    }\n",
       "\n",
       "    .dataframe thead th {\n",
       "        text-align: right;\n",
       "    }\n",
       "</style>\n",
       "<table border=\"1\" class=\"dataframe\">\n",
       "  <thead>\n",
       "    <tr style=\"text-align: right;\">\n",
       "      <th></th>\n",
       "      <th>Feature</th>\n",
       "      <th>random_model</th>\n",
       "      <th>extra_model</th>\n",
       "      <th>gbm_model</th>\n",
       "      <th>xgb_model</th>\n",
       "    </tr>\n",
       "  </thead>\n",
       "  <tbody>\n",
       "    <tr>\n",
       "      <th>0</th>\n",
       "      <td>Pclass_0</td>\n",
       "      <td>0.016463</td>\n",
       "      <td>0.020246</td>\n",
       "      <td>0.015749</td>\n",
       "      <td>0.003858</td>\n",
       "    </tr>\n",
       "    <tr>\n",
       "      <th>1</th>\n",
       "      <td>Pclass_1</td>\n",
       "      <td>0.015993</td>\n",
       "      <td>0.017342</td>\n",
       "      <td>0.000004</td>\n",
       "      <td>0.004995</td>\n",
       "    </tr>\n",
       "    <tr>\n",
       "      <th>2</th>\n",
       "      <td>Pclass_2</td>\n",
       "      <td>0.029237</td>\n",
       "      <td>0.030793</td>\n",
       "      <td>0.113087</td>\n",
       "      <td>0.068942</td>\n",
       "    </tr>\n",
       "    <tr>\n",
       "      <th>3</th>\n",
       "      <td>Sex_0</td>\n",
       "      <td>0.084117</td>\n",
       "      <td>0.073755</td>\n",
       "      <td>0.088014</td>\n",
       "      <td>0.015610</td>\n",
       "    </tr>\n",
       "    <tr>\n",
       "      <th>4</th>\n",
       "      <td>Sex_1</td>\n",
       "      <td>0.062188</td>\n",
       "      <td>0.073793</td>\n",
       "      <td>0.024531</td>\n",
       "      <td>0.000000</td>\n",
       "    </tr>\n",
       "  </tbody>\n",
       "</table>\n",
       "</div>"
      ],
      "text/plain": [
       "    Feature  random_model  extra_model  gbm_model  xgb_model\n",
       "0  Pclass_0      0.016463     0.020246   0.015749   0.003858\n",
       "1  Pclass_1      0.015993     0.017342   0.000004   0.004995\n",
       "2  Pclass_2      0.029237     0.030793   0.113087   0.068942\n",
       "3     Sex_0      0.084117     0.073755   0.088014   0.015610\n",
       "4     Sex_1      0.062188     0.073793   0.024531   0.000000"
      ]
     },
     "execution_count": 39,
     "metadata": {},
     "output_type": "execute_result"
    }
   ],
   "source": [
    "importances.head()"
   ]
  },
  {
   "cell_type": "markdown",
   "metadata": {},
   "source": [
    "- 항목별 평균 중요도 구하기"
   ]
  },
  {
   "cell_type": "code",
   "execution_count": 40,
   "metadata": {},
   "outputs": [],
   "source": [
    "importances['avg'] = importances.mean(axis=1)"
   ]
  },
  {
   "cell_type": "markdown",
   "metadata": {},
   "source": [
    "- 중요도 기반 정렬하기"
   ]
  },
  {
   "cell_type": "code",
   "execution_count": 41,
   "metadata": {},
   "outputs": [],
   "source": [
    "importances = importances.sort_values(by='avg', ascending=False)"
   ]
  },
  {
   "cell_type": "markdown",
   "metadata": {},
   "source": [
    "### 중요도가 높은 feature 만 선택하기"
   ]
  },
  {
   "cell_type": "code",
   "execution_count": 44,
   "metadata": {},
   "outputs": [],
   "source": [
    "importances = importances[:50]"
   ]
  },
  {
   "cell_type": "markdown",
   "metadata": {},
   "source": [
    "- 특정 컬럼만 선택해서, 데이터프레임 만들기"
   ]
  },
  {
   "cell_type": "code",
   "execution_count": 45,
   "metadata": {},
   "outputs": [],
   "source": [
    "train_importance = X_train[importances['Feature'].tolist()]\n",
    "test_importance = X_test[importances['Feature'].tolist()]"
   ]
  },
  {
   "cell_type": "code",
   "execution_count": 46,
   "metadata": {},
   "outputs": [
    {
     "data": {
      "text/html": [
       "<div>\n",
       "<style scoped>\n",
       "    .dataframe tbody tr th:only-of-type {\n",
       "        vertical-align: middle;\n",
       "    }\n",
       "\n",
       "    .dataframe tbody tr th {\n",
       "        vertical-align: top;\n",
       "    }\n",
       "\n",
       "    .dataframe thead th {\n",
       "        text-align: right;\n",
       "    }\n",
       "</style>\n",
       "<table border=\"1\" class=\"dataframe\">\n",
       "  <thead>\n",
       "    <tr style=\"text-align: right;\">\n",
       "      <th></th>\n",
       "      <th>Initial_0</th>\n",
       "      <th>Sex_0</th>\n",
       "      <th>Pclass_2</th>\n",
       "      <th>Sex_1</th>\n",
       "      <th>HighChance_0</th>\n",
       "      <th>LowChance_0</th>\n",
       "      <th>Cabin_0</th>\n",
       "      <th>Fare_0</th>\n",
       "      <th>Ticket_Num_Cut_2</th>\n",
       "      <th>Embarked_0</th>\n",
       "      <th>...</th>\n",
       "      <th>Age_6</th>\n",
       "      <th>Ticket_Num_Cut_3</th>\n",
       "      <th>Cabin_4</th>\n",
       "      <th>Ticket_Num_Cut_6</th>\n",
       "      <th>HighChance_3</th>\n",
       "      <th>Ticket_Initial2_2</th>\n",
       "      <th>Cabin_1</th>\n",
       "      <th>Family_3</th>\n",
       "      <th>Ticket_Initial2_15</th>\n",
       "      <th>Cabin_6</th>\n",
       "    </tr>\n",
       "  </thead>\n",
       "  <tbody>\n",
       "    <tr>\n",
       "      <th>0</th>\n",
       "      <td>1</td>\n",
       "      <td>1</td>\n",
       "      <td>1</td>\n",
       "      <td>0</td>\n",
       "      <td>1</td>\n",
       "      <td>1</td>\n",
       "      <td>1</td>\n",
       "      <td>1</td>\n",
       "      <td>0</td>\n",
       "      <td>1</td>\n",
       "      <td>...</td>\n",
       "      <td>0</td>\n",
       "      <td>1</td>\n",
       "      <td>0</td>\n",
       "      <td>0</td>\n",
       "      <td>0</td>\n",
       "      <td>0</td>\n",
       "      <td>0</td>\n",
       "      <td>0</td>\n",
       "      <td>0</td>\n",
       "      <td>0</td>\n",
       "    </tr>\n",
       "    <tr>\n",
       "      <th>1</th>\n",
       "      <td>0</td>\n",
       "      <td>0</td>\n",
       "      <td>0</td>\n",
       "      <td>1</td>\n",
       "      <td>0</td>\n",
       "      <td>1</td>\n",
       "      <td>0</td>\n",
       "      <td>0</td>\n",
       "      <td>0</td>\n",
       "      <td>0</td>\n",
       "      <td>...</td>\n",
       "      <td>0</td>\n",
       "      <td>1</td>\n",
       "      <td>0</td>\n",
       "      <td>0</td>\n",
       "      <td>0</td>\n",
       "      <td>0</td>\n",
       "      <td>1</td>\n",
       "      <td>0</td>\n",
       "      <td>0</td>\n",
       "      <td>0</td>\n",
       "    </tr>\n",
       "    <tr>\n",
       "      <th>2</th>\n",
       "      <td>0</td>\n",
       "      <td>0</td>\n",
       "      <td>1</td>\n",
       "      <td>1</td>\n",
       "      <td>1</td>\n",
       "      <td>1</td>\n",
       "      <td>1</td>\n",
       "      <td>1</td>\n",
       "      <td>0</td>\n",
       "      <td>1</td>\n",
       "      <td>...</td>\n",
       "      <td>0</td>\n",
       "      <td>0</td>\n",
       "      <td>0</td>\n",
       "      <td>0</td>\n",
       "      <td>0</td>\n",
       "      <td>1</td>\n",
       "      <td>0</td>\n",
       "      <td>0</td>\n",
       "      <td>0</td>\n",
       "      <td>0</td>\n",
       "    </tr>\n",
       "    <tr>\n",
       "      <th>3</th>\n",
       "      <td>0</td>\n",
       "      <td>0</td>\n",
       "      <td>0</td>\n",
       "      <td>1</td>\n",
       "      <td>0</td>\n",
       "      <td>1</td>\n",
       "      <td>0</td>\n",
       "      <td>0</td>\n",
       "      <td>0</td>\n",
       "      <td>1</td>\n",
       "      <td>...</td>\n",
       "      <td>0</td>\n",
       "      <td>0</td>\n",
       "      <td>0</td>\n",
       "      <td>0</td>\n",
       "      <td>0</td>\n",
       "      <td>0</td>\n",
       "      <td>1</td>\n",
       "      <td>0</td>\n",
       "      <td>0</td>\n",
       "      <td>0</td>\n",
       "    </tr>\n",
       "    <tr>\n",
       "      <th>4</th>\n",
       "      <td>1</td>\n",
       "      <td>1</td>\n",
       "      <td>1</td>\n",
       "      <td>0</td>\n",
       "      <td>1</td>\n",
       "      <td>0</td>\n",
       "      <td>1</td>\n",
       "      <td>1</td>\n",
       "      <td>0</td>\n",
       "      <td>1</td>\n",
       "      <td>...</td>\n",
       "      <td>0</td>\n",
       "      <td>0</td>\n",
       "      <td>0</td>\n",
       "      <td>0</td>\n",
       "      <td>0</td>\n",
       "      <td>0</td>\n",
       "      <td>0</td>\n",
       "      <td>0</td>\n",
       "      <td>0</td>\n",
       "      <td>0</td>\n",
       "    </tr>\n",
       "  </tbody>\n",
       "</table>\n",
       "<p>5 rows × 50 columns</p>\n",
       "</div>"
      ],
      "text/plain": [
       "   Initial_0  Sex_0  Pclass_2  Sex_1  HighChance_0  LowChance_0  Cabin_0  \\\n",
       "0          1      1         1      0             1            1        1   \n",
       "1          0      0         0      1             0            1        0   \n",
       "2          0      0         1      1             1            1        1   \n",
       "3          0      0         0      1             0            1        0   \n",
       "4          1      1         1      0             1            0        1   \n",
       "\n",
       "   Fare_0  Ticket_Num_Cut_2  Embarked_0  ...  Age_6  Ticket_Num_Cut_3  \\\n",
       "0       1                 0           1  ...      0                 1   \n",
       "1       0                 0           0  ...      0                 1   \n",
       "2       1                 0           1  ...      0                 0   \n",
       "3       0                 0           1  ...      0                 0   \n",
       "4       1                 0           1  ...      0                 0   \n",
       "\n",
       "   Cabin_4  Ticket_Num_Cut_6  HighChance_3  Ticket_Initial2_2  Cabin_1  \\\n",
       "0        0                 0             0                  0        0   \n",
       "1        0                 0             0                  0        1   \n",
       "2        0                 0             0                  1        0   \n",
       "3        0                 0             0                  0        1   \n",
       "4        0                 0             0                  0        0   \n",
       "\n",
       "   Family_3  Ticket_Initial2_15  Cabin_6  \n",
       "0         0                   0        0  \n",
       "1         0                   0        0  \n",
       "2         0                   0        0  \n",
       "3         0                   0        0  \n",
       "4         0                   0        0  \n",
       "\n",
       "[5 rows x 50 columns]"
      ]
     },
     "execution_count": 46,
     "metadata": {},
     "output_type": "execute_result"
    }
   ],
   "source": [
    "train_importance.head()"
   ]
  },
  {
   "cell_type": "markdown",
   "metadata": {},
   "source": [
    "### 중요도가 높은 feature 로만 머신러닝 적용해보기"
   ]
  },
  {
   "cell_type": "code",
   "execution_count": 47,
   "metadata": {},
   "outputs": [],
   "source": [
    "knn_model = KNeighborsClassifier()\n",
    "logreg_model = LogisticRegression()\n",
    "svc_model = SVC()\n",
    "decision_model = DecisionTreeClassifier()\n",
    "random_model = RandomForestClassifier()\n",
    "extra_model = ExtraTreesClassifier()\n",
    "gbm_model = GradientBoostingClassifier()\n",
    "nb_model = GaussianNB()\n",
    "xgb_model = XGBClassifier(eval_metric='logloss')\n",
    "lgbm_model = LGBMClassifier()\n",
    "\n",
    "models = [\n",
    "    knn_model,\n",
    "    logreg_model,\n",
    "    svc_model,\n",
    "    decision_model,\n",
    "    random_model,\n",
    "    extra_model,\n",
    "    gbm_model,\n",
    "    nb_model,\n",
    "    xgb_model,\n",
    "    lgbm_model\n",
    "]\n",
    "\n",
    "k_fold = KFold(n_splits=10, shuffle=True, random_state=0)           # K-Fold 사용\n",
    "results = dict()\n",
    "for alg in models:\n",
    "    alg.fit(train_importance, y_train)    \n",
    "    score = cross_val_score(alg, train_importance, y_train.values.ravel(), cv=k_fold, scoring='accuracy')\n",
    "    results[alg.__class__.__name__] = np.mean(score)*100"
   ]
  },
  {
   "cell_type": "code",
   "execution_count": 48,
   "metadata": {},
   "outputs": [
    {
     "data": {
      "text/plain": [
       "[('LogisticRegression', 83.27590511860174),\n",
       " ('SVC', 82.71535580524345),\n",
       " ('ExtraTreesClassifier', 82.71161048689137),\n",
       " ('GradientBoostingClassifier', 82.49063670411985),\n",
       " ('RandomForestClassifier', 82.15106117353308),\n",
       " ('LGBMClassifier', 82.14981273408239),\n",
       " ('KNeighborsClassifier', 81.92759051186019),\n",
       " ('XGBClassifier', 81.9250936329588),\n",
       " ('DecisionTreeClassifier', 80.80649188514357),\n",
       " ('GaussianNB', 77.76903870162297)]"
      ]
     },
     "execution_count": 48,
     "metadata": {},
     "output_type": "execute_result"
    }
   ],
   "source": [
    "sorted(results.items(), key=lambda x: x[1], reverse=True) # reverse=True 면 높은 순서대로 정렬"
   ]
  },
  {
   "cell_type": "markdown",
   "metadata": {},
   "source": [
    "<div class=\"alert alert-block\" style=\"border: 2px solid #E65100;background-color:#FFF3E0;padding:10px\">\n",
    "<font size=\"4em\" style=\"font-weight:bold;color:#BF360C;\">큰그림으로 이해하기</font><br>\n",
    "<font size=\"4em\" style=\"color:#BF360C;\">환경에 따라 결과가 조금씩 차이가 있을 수 있지만, 제 PC에서는 최대 83.38% 예측 정확도를 보임</font><br>\n",
    "<font size=\"4em\" style=\"color:#BF360C;\">오히려 살짝 떨어져보이지만, 하이퍼파라미터 튜닝을 통해, 성능 개선 가능</font><br>\n",
    "<font size=\"4em\" style=\"color:#BF360C;\">반복적인 성능 개선을 위해, 불필요한 컬럼을 삭제하여, 수행속도를 높이고, 중요도 높은 컬럼만으로 결국 정확도를 높일 수 있음</font>\n",
    "</div>"
   ]
  },
  {
   "cell_type": "code",
   "execution_count": 49,
   "metadata": {},
   "outputs": [],
   "source": [
    "import pickle\n",
    "with open('titanic_step4_importance_train.pickle', 'wb') as pickle_filename:\n",
    "    pickle.dump(train_importance, pickle_filename)\n",
    "with open('titanic_step4_importance_test.pickle', 'wb') as pickle_filename:\n",
    "    pickle.dump(test_importance, pickle_filename)\n",
    "with open('titanic_step4_importance_train_y.pickle', 'wb') as pickle_filename:\n",
    "    pickle.dump(y_train, pickle_filename)"
   ]
  },
  {
   "cell_type": "markdown",
   "metadata": {},
   "source": [
    "<div class=\"alert alert-block\" style=\"border: 1px solid #455A64;background-color:#ECEFF1;\">\n",
    "본 자료 및 영상 컨텐츠는 저작권법 제25조 2항에 의해 보호를 받습니다. 본 컨텐츠 및 컨텐츠 일부 문구등을 외부에 공개, 게시하는 것을 금지합니다. 특히 자료에 대해서는 저작권법을 엄격하게 적용하겠습니다.\n",
    "</div>"
   ]
  }
 ],
 "metadata": {
  "kernelspec": {
   "display_name": "Python 3",
   "language": "python",
   "name": "python3"
  },
  "language_info": {
   "codemirror_mode": {
    "name": "ipython",
    "version": 3
   },
   "file_extension": ".py",
   "mimetype": "text/x-python",
   "name": "python",
   "nbconvert_exporter": "python",
   "pygments_lexer": "ipython3",
   "version": "3.8.5"
  }
 },
 "nbformat": 4,
 "nbformat_minor": 4
}
