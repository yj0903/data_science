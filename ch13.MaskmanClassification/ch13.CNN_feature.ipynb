{
 "cells": [
  {
   "cell_type": "markdown",
   "id": "fe79f8ae-7954-4d49-ace1-00f826f42bb7",
   "metadata": {},
   "source": [
    "# CNN으로 MNIST 데이터셋 들여다보기"
   ]
  },
  {
   "cell_type": "markdown",
   "id": "e215ff75-2f50-4207-ad0e-0409e5cfe2fb",
   "metadata": {},
   "source": [
    "### 데이터셋 불러오기"
   ]
  },
  {
   "cell_type": "code",
   "execution_count": 1,
   "id": "5a5223fc-7fdb-486c-9883-56f3e52da52a",
   "metadata": {},
   "outputs": [
    {
     "name": "stdout",
     "output_type": "stream",
     "text": [
      "WARNING:tensorflow:From C:\\Users\\User\\miniconda3\\Lib\\site-packages\\keras\\src\\losses.py:2976: The name tf.losses.sparse_softmax_cross_entropy is deprecated. Please use tf.compat.v1.losses.sparse_softmax_cross_entropy instead.\n",
      "\n",
      "(60000, 28, 28) (10000, 28, 28)\n",
      "(60000, 28, 28, 1) (10000, 28, 28, 1)\n"
     ]
    }
   ],
   "source": [
    "import tensorflow as tf\n",
    "\n",
    "mnist = tf.keras.datasets.mnist\n",
    "\n",
    "(x_train, y_train), (x_test, y_test) = mnist.load_data()\n",
    "X_train, X_test = x_train/255, x_test/255\n",
    "\n",
    "print(X_train.shape, X_test.shape)\n",
    "X_train = X_train.reshape((60000,28,28,1))\n",
    "X_test = X_test.reshape((10000, 28, 28, 1))\n",
    "print(X_train.shape, X_test.shape)\n",
    "\n"
   ]
  },
  {
   "cell_type": "markdown",
   "id": "f391fdaa-8241-4e10-a459-ad870fc96a1f",
   "metadata": {},
   "source": [
    "### reshape 하는 이유?\n",
    "- (60000, 28, 28) 대신 (60000, 28,28,1) 로 reshape\n",
    "- (10000, 28, 28) 대신 (10000, 28, 28, 1) 로 reshape\n",
    "- 채널차원이 늘어서 input도 동일하게 늘려줘야함."
   ]
  },
  {
   "cell_type": "code",
   "execution_count": null,
   "id": "6c8173cf-6d86-4bc9-a5e7-dddc0aacb6e1",
   "metadata": {},
   "outputs": [],
   "source": []
  },
  {
   "cell_type": "markdown",
   "id": "b9b7de07-56ed-4e92-9ef6-74f86a8f1b4c",
   "metadata": {},
   "source": [
    "# 간단한 Neural Network\n",
    "- feature map은 3개만.\n",
    "- weight 수도 줄어듦"
   ]
  },
  {
   "cell_type": "code",
   "execution_count": 2,
   "id": "a83b3ae9-dd9f-4eb1-a6c3-990c05158988",
   "metadata": {},
   "outputs": [],
   "source": [
    "from tensorflow.keras import layers, models"
   ]
  },
  {
   "cell_type": "code",
   "execution_count": 6,
   "id": "0e8c1642-ea7f-494d-bbe2-a6d2ea1d9bf2",
   "metadata": {},
   "outputs": [
    {
     "name": "stdout",
     "output_type": "stream",
     "text": [
      "Model: \"sequential_1\"\n",
      "_________________________________________________________________\n",
      " Layer (type)                Output Shape              Param #   \n",
      "=================================================================\n",
      " conv2d_2 (Conv2D)           (None, 28, 28, 3)         30        \n",
      "                                                                 \n",
      " max_pooling2d_2 (MaxPoolin  (None, 14, 14, 3)         0         \n",
      " g2D)                                                            \n",
      "                                                                 \n",
      " dropout_2 (Dropout)         (None, 14, 14, 3)         0         \n",
      "                                                                 \n",
      " flatten_2 (Flatten)         (None, 588)               0         \n",
      "                                                                 \n",
      " dense_3 (Dense)             (None, 1000)              589000    \n",
      "                                                                 \n",
      " dense_4 (Dense)             (None, 10)                10010     \n",
      "                                                                 \n",
      "=================================================================\n",
      "Total params: 599040 (2.29 MB)\n",
      "Trainable params: 599040 (2.29 MB)\n",
      "Non-trainable params: 0 (0.00 Byte)\n",
      "_________________________________________________________________\n"
     ]
    }
   ],
   "source": [
    "model = models.Sequential([\n",
    "    layers.Conv2D(3, kernel_size=(3,3), strides=(1,1),\n",
    "                 padding='same', activation='relu',\n",
    "                 input_shape=(28,28,1)),\n",
    "    layers.MaxPool2D(pool_size=(2,2), strides=(2,2)),\n",
    "    layers.Dropout(0.25),\n",
    "    layers.Flatten(),\n",
    "    layers.Dense(1000, activation='relu'),\n",
    "    layers.Dense(10, activation='softmax')\n",
    "])\n",
    "\n",
    "model.summary()"
   ]
  },
  {
   "cell_type": "code",
   "execution_count": null,
   "id": "6f883db9-31c0-45ec-9e1c-909a282c6acf",
   "metadata": {},
   "outputs": [],
   "source": []
  },
  {
   "cell_type": "markdown",
   "id": "839a7594-c5a0-408e-8c9f-114556e8f738",
   "metadata": {},
   "source": [
    "### 학습 전이라 랜덤weight"
   ]
  },
  {
   "cell_type": "code",
   "execution_count": 7,
   "id": "c643595c-0a2f-429f-ae6b-a0d996522fb1",
   "metadata": {},
   "outputs": [
    {
     "data": {
      "text/plain": [
       "(-0.073141426, 0.22345652)"
      ]
     },
     "execution_count": 7,
     "metadata": {},
     "output_type": "execute_result"
    }
   ],
   "source": [
    "conv = model.layers[0]\n",
    "conv_weights = conv.weights[0].numpy()\n",
    "conv_weights.mean(), conv_weights.std()\n"
   ]
  },
  {
   "cell_type": "code",
   "execution_count": 8,
   "id": "00936838-1453-4702-b975-1cc96f2c5508",
   "metadata": {},
   "outputs": [
    {
     "data": {
      "text/plain": [
       "Text(0, 0.5, 'count')"
      ]
     },
     "execution_count": 8,
     "metadata": {},
     "output_type": "execute_result"
    },
    {
     "data": {
      "image/png": "[encoded data removed]",
      "text/plain": [
       "<Figure size 640x480 with 1 Axes>"
      ]
     },
     "metadata": {},
     "output_type": "display_data"
    }
   ],
   "source": [
    "import matplotlib.pyplot as plt\n",
    "\n",
    "plt.hist(conv_weights.reshape(-1,1))\n",
    "plt.xlabel('weights')\n",
    "plt.ylabel('count')"
   ]
  },
  {
   "cell_type": "code",
   "execution_count": null,
   "id": "c0d367c2-aaa9-47b2-ae48-e67a8e47c58d",
   "metadata": {},
   "outputs": [],
   "source": []
  },
  {
   "cell_type": "markdown",
   "id": "11ca014e-1c28-46db-861c-8d8047e5a019",
   "metadata": {},
   "source": [
    "## 학습"
   ]
  },
  {
   "cell_type": "code",
   "execution_count": 9,
   "id": "c2d60f6f-5019-4107-a8d0-80a9c74feb41",
   "metadata": {},
   "outputs": [
    {
     "name": "stdout",
     "output_type": "stream",
     "text": [
      "WARNING:tensorflow:From C:\\Users\\User\\miniconda3\\Lib\\site-packages\\keras\\src\\optimizers\\__init__.py:309: The name tf.train.Optimizer is deprecated. Please use tf.compat.v1.train.Optimizer instead.\n",
      "\n",
      "Epoch 1/5\n",
      "WARNING:tensorflow:From C:\\Users\\User\\miniconda3\\Lib\\site-packages\\keras\\src\\utils\\tf_utils.py:492: The name tf.ragged.RaggedTensorValue is deprecated. Please use tf.compat.v1.ragged.RaggedTensorValue instead.\n",
      "\n",
      "WARNING:tensorflow:From C:\\Users\\User\\miniconda3\\Lib\\site-packages\\keras\\src\\engine\\base_layer_utils.py:384: The name tf.executing_eagerly_outside_functions is deprecated. Please use tf.compat.v1.executing_eagerly_outside_functions instead.\n",
      "\n",
      "1875/1875 [==============================] - 8s 4ms/step - loss: 0.2912 - accuracy: 0.9096 - val_loss: 0.0925 - val_accuracy: 0.9688\n",
      "Epoch 2/5\n",
      "1875/1875 [==============================] - 8s 4ms/step - loss: 0.1234 - accuracy: 0.9601 - val_loss: 0.0727 - val_accuracy: 0.9776\n",
      "Epoch 3/5\n",
      "1875/1875 [==============================] - 8s 4ms/step - loss: 0.0913 - accuracy: 0.9708 - val_loss: 0.0561 - val_accuracy: 0.9824\n",
      "Epoch 4/5\n",
      "1875/1875 [==============================] - 8s 4ms/step - loss: 0.0755 - accuracy: 0.9752 - val_loss: 0.0502 - val_accuracy: 0.9836\n",
      "Epoch 5/5\n",
      "1875/1875 [==============================] - 8s 4ms/step - loss: 0.0625 - accuracy: 0.9794 - val_loss: 0.0469 - val_accuracy: 0.9846\n",
      "CPU times: total: 3min 50s\n",
      "Wall time: 41.2 s\n"
     ]
    }
   ],
   "source": [
    "%%time\n",
    "\n",
    "model.compile(optimizer='adam', loss='sparse_categorical_crossentropy', metrics=['accuracy'])\n",
    "hist = model.fit(X_train, y_train, epochs=5, verbose=1, validation_data=(X_test, y_test))"
   ]
  },
  {
   "cell_type": "code",
   "execution_count": 12,
   "id": "3bf48299-7fc1-4224-a51f-ad23c0ece145",
   "metadata": {},
   "outputs": [
    {
     "data": {
      "image/png": "[encoded data removed]",
      "text/plain": [
       "<Figure size 640x480 with 1 Axes>"
      ]
     },
     "metadata": {},
     "output_type": "display_data"
    }
   ],
   "source": [
    "plt.imshow(X_train[0], cmap='gray');"
   ]
  },
  {
   "cell_type": "code",
   "execution_count": 13,
   "id": "9e820b21-7fa6-430b-b0ee-777328872ef9",
   "metadata": {},
   "outputs": [
    {
     "name": "stdout",
     "output_type": "stream",
     "text": [
      "Model: \"model\"\n",
      "_________________________________________________________________\n",
      " Layer (type)                Output Shape              Param #   \n",
      "=================================================================\n",
      " conv2d_2_input (InputLayer  [(None, 28, 28, 1)]       0         \n",
      " )                                                               \n",
      "                                                                 \n",
      " conv2d_2 (Conv2D)           (None, 28, 28, 3)         30        \n",
      "                                                                 \n",
      "=================================================================\n",
      "Total params: 30 (120.00 Byte)\n",
      "Trainable params: 30 (120.00 Byte)\n",
      "Non-trainable params: 0 (0.00 Byte)\n",
      "_________________________________________________________________\n"
     ]
    }
   ],
   "source": [
    "inputs = X_train[0].reshape(-1, 28, 28, 1)\n",
    "conv_layer_output = tf.keras.Model(model.input, model.layers[0].output)\n",
    "conv_layer_output.summary()"
   ]
  },
  {
   "cell_type": "code",
   "execution_count": 14,
   "id": "2c4950f9-c4a7-44c5-a2e7-ef1f12c2566a",
   "metadata": {},
   "outputs": [
    {
     "name": "stdout",
     "output_type": "stream",
     "text": [
      "1/1 [==============================] - 0s 60ms/step\n"
     ]
    },
    {
     "data": {
      "text/plain": [
       "(1, 28, 28, 3)"
      ]
     },
     "execution_count": 14,
     "metadata": {},
     "output_type": "execute_result"
    }
   ],
   "source": [
    "feature_maps = conv_layer_output.predict(inputs)\n",
    "feature_maps.shape"
   ]
  },
  {
   "cell_type": "markdown",
   "id": "d38f1b54-648d-440d-b650-714a4540091e",
   "metadata": {},
   "source": [
    "### 모델정의시 feature map 3개로 해서 추출된 feature 3개를 볼 수 있음"
   ]
  },
  {
   "cell_type": "code",
   "execution_count": 15,
   "id": "c6c8b290-abe3-4294-99a4-dd857e0e9ac4",
   "metadata": {},
   "outputs": [
    {
     "data": {
      "image/png": "[encoded data removed]",
      "text/plain": [
       "<Figure size 1500x500 with 3 Axes>"
      ]
     },
     "metadata": {},
     "output_type": "display_data"
    }
   ],
   "source": [
    "fig, ax = plt.subplots(1,3,figsize=(15,5))\n",
    "for i in range(3):\n",
    "    ax[i].imshow(feature_maps[0, :, :, i])\n",
    "    ax[i].axis('off')\n",
    "\n",
    "plt.show()"
   ]
  },
  {
   "cell_type": "code",
   "execution_count": null,
   "id": "3cfd55b8-db74-4613-a760-7ee2a7ed84d3",
   "metadata": {},
   "outputs": [],
   "source": []
  },
  {
   "cell_type": "code",
   "execution_count": null,
   "id": "bc283608-415c-4098-9e4e-abaec85d3f87",
   "metadata": {},
   "outputs": [],
   "source": []
  },
  {
   "cell_type": "markdown",
   "id": "a236e680-4dae-4f52-b902-a075152e8fae",
   "metadata": {},
   "source": [
    "# 모델에서 채널수 8로 증가"
   ]
  },
  {
   "cell_type": "code",
   "execution_count": 17,
   "id": "e445a680-694f-478a-a28b-eb98bd2cd982",
   "metadata": {},
   "outputs": [
    {
     "name": "stdout",
     "output_type": "stream",
     "text": [
      "Model: \"sequential_2\"\n",
      "_________________________________________________________________\n",
      " Layer (type)                Output Shape              Param #   \n",
      "=================================================================\n",
      " conv2d_3 (Conv2D)           (None, 28, 28, 8)         80        \n",
      "                                                                 \n",
      " max_pooling2d_3 (MaxPoolin  (None, 14, 14, 8)         0         \n",
      " g2D)                                                            \n",
      "                                                                 \n",
      " dropout_3 (Dropout)         (None, 14, 14, 8)         0         \n",
      "                                                                 \n",
      " flatten_3 (Flatten)         (None, 1568)              0         \n",
      "                                                                 \n",
      " dense_5 (Dense)             (None, 1000)              1569000   \n",
      "                                                                 \n",
      " dense_6 (Dense)             (None, 10)                10010     \n",
      "                                                                 \n",
      "=================================================================\n",
      "Total params: 1579090 (6.02 MB)\n",
      "Trainable params: 1579090 (6.02 MB)\n",
      "Non-trainable params: 0 (0.00 Byte)\n",
      "_________________________________________________________________\n"
     ]
    }
   ],
   "source": [
    "model = models.Sequential([\n",
    "    layers.Conv2D(8, kernel_size=(3,3), strides=(1,1),\n",
    "                 padding='same', activation='relu',\n",
    "                 input_shape=(28,28,1)),\n",
    "    layers.MaxPool2D(pool_size=(2,2), strides=(2,2)),\n",
    "    layers.Dropout(0.25),\n",
    "    layers.Flatten(),\n",
    "    layers.Dense(1000, activation='relu'),\n",
    "    layers.Dense(10, activation='softmax')\n",
    "])\n",
    "\n",
    "model.summary()\n"
   ]
  },
  {
   "cell_type": "code",
   "execution_count": 19,
   "id": "55dd21c7-ae65-4e6a-8976-0d0a138f32ec",
   "metadata": {},
   "outputs": [
    {
     "name": "stdout",
     "output_type": "stream",
     "text": [
      "Epoch 1/5\n",
      "1875/1875 [==============================] - 22s 11ms/step - loss: 0.1859 - accuracy: 0.9424 - val_loss: 0.0737 - val_accuracy: 0.9763\n",
      "Epoch 2/5\n",
      "1875/1875 [==============================] - 21s 11ms/step - loss: 0.0718 - accuracy: 0.9778 - val_loss: 0.0530 - val_accuracy: 0.9833\n",
      "Epoch 3/5\n",
      "1875/1875 [==============================] - 21s 11ms/step - loss: 0.0480 - accuracy: 0.9842 - val_loss: 0.0426 - val_accuracy: 0.9870\n",
      "Epoch 4/5\n",
      "1875/1875 [==============================] - 21s 11ms/step - loss: 0.0359 - accuracy: 0.9884 - val_loss: 0.0406 - val_accuracy: 0.9880\n",
      "Epoch 5/5\n",
      "1875/1875 [==============================] - 21s 11ms/step - loss: 0.0283 - accuracy: 0.9904 - val_loss: 0.0350 - val_accuracy: 0.9893\n",
      "CPU times: total: 15min 21s\n",
      "Wall time: 1min 45s\n"
     ]
    }
   ],
   "source": [
    "%%time\n",
    "\n",
    "model.compile(optimizer='adam', loss='sparse_categorical_crossentropy', metrics=['accuracy'])\n",
    "hist = model.fit(X_train, y_train, epochs=5, verbose=1, validation_data=(X_test, y_test))"
   ]
  },
  {
   "cell_type": "code",
   "execution_count": null,
   "id": "f8028de0-e0fb-4c31-b090-34c6528ef157",
   "metadata": {},
   "outputs": [],
   "source": []
  },
  {
   "cell_type": "code",
   "execution_count": 27,
   "id": "f932678e-114e-4fb8-aa6b-ba54cf702bf5",
   "metadata": {},
   "outputs": [],
   "source": [
    "conv_layers_output = tf.keras.Model(model.input, model.layers[0].output)\n",
    "\n",
    "def draw_feature_maps(n):\n",
    "    inputs = X_train[n].reshape(-1,28,28,1)\n",
    "    feature_maps = conv_layers_output.predict(inputs)\n",
    "    \n",
    "    fig, ax = plt.subplots(1,9,figsize=(15,5))\n",
    "    \n",
    "    ax[0].imshow(inputs[0, :, :, 0], cmap='gray');\n",
    "    for i in range(1,9):\n",
    "        ax[i].imshow(feature_maps[0, :, :, i-1])\n",
    "        ax[i].axis('off')\n",
    "    \n",
    "    plt.show()\n"
   ]
  },
  {
   "cell_type": "code",
   "execution_count": 26,
   "id": "a42c7f73-c395-4826-b52b-329acd15cb82",
   "metadata": {},
   "outputs": [
    {
     "name": "stdout",
     "output_type": "stream",
     "text": [
      "1/1 [==============================] - 0s 38ms/step\n"
     ]
    },
    {
     "data": {
      "image/png": "[encoded data removed]",
      "text/plain": [
       "<Figure size 1500x500 with 9 Axes>"
      ]
     },
     "metadata": {},
     "output_type": "display_data"
    }
   ],
   "source": [
    "draw_feature_maps(1)"
   ]
  },
  {
   "cell_type": "code",
   "execution_count": 28,
   "id": "9a6776a3-8192-4ad5-a57d-2c287a3b5f46",
   "metadata": {},
   "outputs": [
    {
     "name": "stdout",
     "output_type": "stream",
     "text": [
      "WARNING:tensorflow:5 out of the last 5 calls to <function Model.make_predict_function.<locals>.predict_function at 0x00000114544B22A0> triggered tf.function retracing. Tracing is expensive and the excessive number of tracings could be due to (1) creating @tf.function repeatedly in a loop, (2) passing tensors with different shapes, (3) passing Python objects instead of tensors. For (1), please define your @tf.function outside of the loop. For (2), @tf.function has reduce_retracing=True option that can avoid unnecessary retracing. For (3), please refer to https://www.tensorflow.org/guide/function#controlling_retracing and https://www.tensorflow.org/api_docs/python/tf/function for  more details.\n",
      "1/1 [==============================] - 0s 33ms/step\n"
     ]
    },
    {
     "data": {
      "image/png": "[encoded data removed]",
      "text/plain": [
       "<Figure size 1500x500 with 9 Axes>"
      ]
     },
     "metadata": {},
     "output_type": "display_data"
    }
   ],
   "source": [
    "draw_feature_maps(5)"
   ]
  },
  {
   "cell_type": "code",
   "execution_count": null,
   "id": "a790e865-d50d-437b-ab9d-8e75e4cd09e7",
   "metadata": {},
   "outputs": [],
   "source": []
  }
 ],
 "metadata": {
  "kernelspec": {
   "display_name": "Python 3 (ipykernel)",
   "language": "python",
   "name": "python3"
  },
  "language_info": {
   "codemirror_mode": {
    "name": "ipython",
    "version": 3
   },
   "file_extension": ".py",
   "mimetype": "text/x-python",
   "name": "python",
   "nbconvert_exporter": "python",
   "pygments_lexer": "ipython3",
   "version": "3.11.5"
  }
 },
 "nbformat": 4,
 "nbformat_minor": 5
}
