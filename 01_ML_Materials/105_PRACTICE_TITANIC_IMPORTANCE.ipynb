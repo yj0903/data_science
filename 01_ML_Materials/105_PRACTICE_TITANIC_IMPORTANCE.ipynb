{
 "cells": [
  {
   "cell_type": "markdown",
   "metadata": {},
   "source": [
    "<div class=\"alert alert-block\" style=\"border: 1px solid #455A64;background-color:#ECEFF1;\">\n",
    "본 자료 및 영상 컨텐츠는 저작권법 제25조 2항에 의해 보호를 받습니다. 본 컨텐츠 및 컨텐츠 일부 문구등을 외부에 공개, 게시하는 것을 금지합니다. 특히 자료에 대해서는 저작권법을 엄격하게 적용하겠습니다.\n",
    "</div>"
   ]
  },
  {
   "cell_type": "markdown",
   "metadata": {},
   "source": [
    "### 중요도에 따른 feature 정리\n",
    "> 분류 확률을 계산하는데 기여한 정도를 **피처 중요도** 라고 함 <br>\n",
    "> 결과에 유의미한 영향을 주는 feature 만을 중심으로 머신러닝 기법을 적용하기도 함"
   ]
  },
  {
   "cell_type": "markdown",
   "metadata": {},
   "source": [
    "### 데이터 준비"
   ]
  },
  {
   "cell_type": "code",
   "execution_count": 6,
   "metadata": {},
   "outputs": [
    {
     "data": {
      "text/html": [
       "<div>\n",
       "<style scoped>\n",
       "    .dataframe tbody tr th:only-of-type {\n",
       "        vertical-align: middle;\n",
       "    }\n",
       "\n",
       "    .dataframe tbody tr th {\n",
       "        vertical-align: top;\n",
       "    }\n",
       "\n",
       "    .dataframe thead th {\n",
       "        text-align: right;\n",
       "    }\n",
       "</style>\n",
       "<table border=\"1\" class=\"dataframe\">\n",
       "  <thead>\n",
       "    <tr style=\"text-align: right;\">\n",
       "      <th></th>\n",
       "      <th>Pclass_0</th>\n",
       "      <th>Pclass_1</th>\n",
       "      <th>Pclass_2</th>\n",
       "      <th>Sex_0</th>\n",
       "      <th>Sex_1</th>\n",
       "      <th>Age_0</th>\n",
       "      <th>Age_1</th>\n",
       "      <th>Age_2</th>\n",
       "      <th>Age_3</th>\n",
       "      <th>Age_4</th>\n",
       "      <th>...</th>\n",
       "      <th>HighChance_0</th>\n",
       "      <th>HighChance_1</th>\n",
       "      <th>HighChance_2</th>\n",
       "      <th>HighChance_3</th>\n",
       "      <th>HighChance_4</th>\n",
       "      <th>HighChance_5</th>\n",
       "      <th>HighChance_6</th>\n",
       "      <th>LowChance_0</th>\n",
       "      <th>LowChance_1</th>\n",
       "      <th>LowChance_2</th>\n",
       "    </tr>\n",
       "  </thead>\n",
       "  <tbody>\n",
       "    <tr>\n",
       "      <th>0</th>\n",
       "      <td>0</td>\n",
       "      <td>0</td>\n",
       "      <td>1</td>\n",
       "      <td>1</td>\n",
       "      <td>0</td>\n",
       "      <td>0</td>\n",
       "      <td>0</td>\n",
       "      <td>0</td>\n",
       "      <td>1</td>\n",
       "      <td>0</td>\n",
       "      <td>...</td>\n",
       "      <td>1</td>\n",
       "      <td>0</td>\n",
       "      <td>0</td>\n",
       "      <td>0</td>\n",
       "      <td>0</td>\n",
       "      <td>0</td>\n",
       "      <td>0</td>\n",
       "      <td>1</td>\n",
       "      <td>0</td>\n",
       "      <td>0</td>\n",
       "    </tr>\n",
       "    <tr>\n",
       "      <th>1</th>\n",
       "      <td>1</td>\n",
       "      <td>0</td>\n",
       "      <td>0</td>\n",
       "      <td>0</td>\n",
       "      <td>1</td>\n",
       "      <td>0</td>\n",
       "      <td>0</td>\n",
       "      <td>0</td>\n",
       "      <td>0</td>\n",
       "      <td>1</td>\n",
       "      <td>...</td>\n",
       "      <td>0</td>\n",
       "      <td>0</td>\n",
       "      <td>1</td>\n",
       "      <td>0</td>\n",
       "      <td>0</td>\n",
       "      <td>0</td>\n",
       "      <td>0</td>\n",
       "      <td>1</td>\n",
       "      <td>0</td>\n",
       "      <td>0</td>\n",
       "    </tr>\n",
       "    <tr>\n",
       "      <th>2</th>\n",
       "      <td>0</td>\n",
       "      <td>0</td>\n",
       "      <td>1</td>\n",
       "      <td>0</td>\n",
       "      <td>1</td>\n",
       "      <td>0</td>\n",
       "      <td>0</td>\n",
       "      <td>0</td>\n",
       "      <td>1</td>\n",
       "      <td>0</td>\n",
       "      <td>...</td>\n",
       "      <td>1</td>\n",
       "      <td>0</td>\n",
       "      <td>0</td>\n",
       "      <td>0</td>\n",
       "      <td>0</td>\n",
       "      <td>0</td>\n",
       "      <td>0</td>\n",
       "      <td>1</td>\n",
       "      <td>0</td>\n",
       "      <td>0</td>\n",
       "    </tr>\n",
       "    <tr>\n",
       "      <th>3</th>\n",
       "      <td>1</td>\n",
       "      <td>0</td>\n",
       "      <td>0</td>\n",
       "      <td>0</td>\n",
       "      <td>1</td>\n",
       "      <td>0</td>\n",
       "      <td>0</td>\n",
       "      <td>0</td>\n",
       "      <td>0</td>\n",
       "      <td>1</td>\n",
       "      <td>...</td>\n",
       "      <td>0</td>\n",
       "      <td>0</td>\n",
       "      <td>1</td>\n",
       "      <td>0</td>\n",
       "      <td>0</td>\n",
       "      <td>0</td>\n",
       "      <td>0</td>\n",
       "      <td>1</td>\n",
       "      <td>0</td>\n",
       "      <td>0</td>\n",
       "    </tr>\n",
       "    <tr>\n",
       "      <th>4</th>\n",
       "      <td>0</td>\n",
       "      <td>0</td>\n",
       "      <td>1</td>\n",
       "      <td>1</td>\n",
       "      <td>0</td>\n",
       "      <td>0</td>\n",
       "      <td>0</td>\n",
       "      <td>0</td>\n",
       "      <td>0</td>\n",
       "      <td>1</td>\n",
       "      <td>...</td>\n",
       "      <td>1</td>\n",
       "      <td>0</td>\n",
       "      <td>0</td>\n",
       "      <td>0</td>\n",
       "      <td>0</td>\n",
       "      <td>0</td>\n",
       "      <td>0</td>\n",
       "      <td>0</td>\n",
       "      <td>0</td>\n",
       "      <td>1</td>\n",
       "    </tr>\n",
       "  </tbody>\n",
       "</table>\n",
       "<p>5 rows × 93 columns</p>\n",
       "</div>"
      ],
      "text/plain": [
       "   Pclass_0  Pclass_1  Pclass_2  Sex_0  Sex_1  Age_0  Age_1  Age_2  Age_3  \\\n",
       "0         0         0         1      1      0      0      0      0      1   \n",
       "1         1         0         0      0      1      0      0      0      0   \n",
       "2         0         0         1      0      1      0      0      0      1   \n",
       "3         1         0         0      0      1      0      0      0      0   \n",
       "4         0         0         1      1      0      0      0      0      0   \n",
       "\n",
       "   Age_4  ...  HighChance_0  HighChance_1  HighChance_2  HighChance_3  \\\n",
       "0      0  ...             1             0             0             0   \n",
       "1      1  ...             0             0             1             0   \n",
       "2      0  ...             1             0             0             0   \n",
       "3      1  ...             0             0             1             0   \n",
       "4      1  ...             1             0             0             0   \n",
       "\n",
       "   HighChance_4  HighChance_5  HighChance_6  LowChance_0  LowChance_1  \\\n",
       "0             0             0             0            1            0   \n",
       "1             0             0             0            1            0   \n",
       "2             0             0             0            1            0   \n",
       "3             0             0             0            1            0   \n",
       "4             0             0             0            0            0   \n",
       "\n",
       "   LowChance_2  \n",
       "0            0  \n",
       "1            0  \n",
       "2            0  \n",
       "3            0  \n",
       "4            1  \n",
       "\n",
       "[5 rows x 93 columns]"
      ]
     },
     "execution_count": 6,
     "metadata": {},
     "output_type": "execute_result"
    }
   ],
   "source": [
    "import warnings\n",
    "warnings.filterwarnings('ignore')\n",
    "\n",
    "import pickle\n",
    "import pandas as pd\n",
    "\n",
    "with open('titanic_step3_feature_encoding.pickle', 'rb') as pickle_filename:\n",
    "    # 202402 업데이트: pandas 2.0.3 버전 이상에서는 pickle.load 실행시 에러가 남\n",
    "    # 대신에 pd.read_pickle() 호출하면 됨    \n",
    "    # df_onehot = pickle.load(pickle_filename)\n",
    "    df_onehot = pd.read_pickle(pickle_filename)\n",
    "with open('titanic_step3_feature_encoding_y.pickle', 'rb') as pickle_filename:\n",
    "    # 202402 업데이트: pandas 2.0.3 버전 이상에서는 pickle.load 실행시 에러가 남\n",
    "    # 대신에 pd.read_pickle() 호출하면 됨    \n",
    "    # y_train = pickle.load(pickle_filename)\n",
    "    y_train = pd.read_pickle(pickle_filename)\n",
    "    \n",
    "ntrain = 891\n",
    "X_train, X_test = df_onehot[:ntrain], df_onehot[ntrain:]\n",
    "X_train.head()"
   ]
  },
  {
   "cell_type": "markdown",
   "metadata": {},
   "source": [
    "### XGBoost 및 LightGBM 설치"
   ]
  },
  {
   "cell_type": "code",
   "execution_count": 7,
   "metadata": {},
   "outputs": [
    {
     "name": "stdout",
     "output_type": "stream",
     "text": [
      "Requirement already satisfied: lightgbm in /Users/davelee/opt_new/anaconda3/lib/python3.11/site-packages (4.3.0)\n",
      "Requirement already satisfied: numpy in /Users/davelee/opt_new/anaconda3/lib/python3.11/site-packages (from lightgbm) (1.24.3)\n",
      "Requirement already satisfied: scipy in /Users/davelee/opt_new/anaconda3/lib/python3.11/site-packages (from lightgbm) (1.11.1)\n"
     ]
    }
   ],
   "source": [
    "!pip install lightgbm"
   ]
  },
  {
   "cell_type": "code",
   "execution_count": 8,
   "metadata": {},
   "outputs": [
    {
     "name": "stdout",
     "output_type": "stream",
     "text": [
      "Requirement already satisfied: xgboost in /Users/davelee/opt_new/anaconda3/lib/python3.11/site-packages (2.0.3)\r\n",
      "Requirement already satisfied: numpy in /Users/davelee/opt_new/anaconda3/lib/python3.11/site-packages (from xgboost) (1.24.3)\r\n",
      "Requirement already satisfied: scipy in /Users/davelee/opt_new/anaconda3/lib/python3.11/site-packages (from xgboost) (1.11.1)\r\n"
     ]
    }
   ],
   "source": [
    "!pip install xgboost"
   ]
  },
  {
   "cell_type": "markdown",
   "metadata": {},
   "source": [
    "### 라이브러리 모델 임포트"
   ]
  },
  {
   "cell_type": "code",
   "execution_count": 9,
   "metadata": {},
   "outputs": [],
   "source": [
    "import numpy as np # 각 모델에서 내부적으로 관련 라이브러리 사용 가능\n",
    "import pandas as pd\n",
    "\n",
    "from sklearn.model_selection import KFold\n",
    "from sklearn.model_selection import cross_val_score\n",
    "\n",
    "# 202402 업데이트: 여러 모델을 한번에 실행시, 에러가 날 수 있으므로, 각 모델을 별도로 실행하기로 함\n",
    "# knn_model 은 참고차만 사용한 것이므로(본 데이터에 좋은 성능을 확인할 수 없음), 삭제하기로 함\n",
    "# from sklearn.neighbors import KNeighborsClassifier             # 1. K-Nearest Neighbor(KNN)\n",
    "\n",
    "from sklearn.linear_model import LogisticRegression            # 2. Logistic Regression\n",
    "from sklearn.svm import SVC                                                # 3. SVC\n",
    "from sklearn.tree import DecisionTreeClassifier                   # 4. Decision Tree\n",
    "from sklearn.ensemble import RandomForestClassifier       # 5. Random Forest\n",
    "from sklearn.ensemble import ExtraTreesClassifier             # 6. Extra Tree\n",
    "from sklearn.ensemble import GradientBoostingClassifier  # 7. GBM\n",
    "from sklearn.naive_bayes import GaussianNB                     # 8. GaussianNB\n",
    "from xgboost import XGBClassifier                                     # 9. XGBoost\n",
    "from lightgbm import LGBMClassifier                                 # 10. LightGBM"
   ]
  },
  {
   "cell_type": "markdown",
   "metadata": {},
   "source": [
    "### 디폴트 테스트\n",
    "> 하이퍼 파라미터 튜닝을 통해 각 머신러닝 모델을 보다 최적화할 수 있지만, 우선 디폴트값으로 바로 예측 가능"
   ]
  },
  {
   "cell_type": "code",
   "execution_count": 10,
   "metadata": {},
   "outputs": [],
   "source": [
    "# 202402 업데이트: 여러 모델을 한번에 실행시, 에러가 날 수 있으므로, 각 모델을 별도로 실행하기로 함\n",
    "# knn_model 은 참고차만 사용한 것이므로(본 데이터에 좋은 성능을 확인할 수 없음), 삭제하기로 함\n",
    "# knn_model = KNeighborsClassifier()\n",
    "logreg_model = LogisticRegression()\n",
    "svc_model = SVC()\n",
    "decision_model = DecisionTreeClassifier()\n",
    "random_model = RandomForestClassifier()\n",
    "extra_model = ExtraTreesClassifier()\n",
    "gbm_model = GradientBoostingClassifier()\n",
    "nb_model = GaussianNB()\n",
    "xgb_model = XGBClassifier(eval_metric='logloss')\n",
    "lgbm_model = LGBMClassifier()\n",
    "\n",
    "k_fold = KFold(n_splits=10, shuffle=True, random_state=0)           # K-Fold 사용\n",
    "results = dict()"
   ]
  },
  {
   "cell_type": "code",
   "execution_count": 11,
   "metadata": {},
   "outputs": [],
   "source": [
    "# 202402 업데이트: 여러 모델을 한번에 실행시, 에러가 날 수 있으므로, 각 모델을 별도로 실행하기로 함\n",
    "# knn_model 은 참고차만 사용한 것이므로(본 데이터에 좋은 성능을 확인할 수 없음), 삭제하기로 함\n",
    "# logreg_model\n",
    "alg = logreg_model\n",
    "alg.fit(X_train, y_train)    \n",
    "score = cross_val_score(alg, X_train, y_train.values.ravel(), cv=k_fold, scoring='accuracy')\n",
    "results[alg.__class__.__name__] = np.mean(score)*100"
   ]
  },
  {
   "cell_type": "code",
   "execution_count": 12,
   "metadata": {},
   "outputs": [],
   "source": [
    "# 202402 업데이트: 여러 모델을 한번에 실행시, 에러가 날 수 있으므로, 각 모델을 별도로 실행하기로 함\n",
    "# svc_model\n",
    "alg = svc_model\n",
    "alg.fit(X_train, y_train)    \n",
    "score = cross_val_score(alg, X_train, y_train.values.ravel(), cv=k_fold, scoring='accuracy')\n",
    "results[alg.__class__.__name__] = np.mean(score)*100"
   ]
  },
  {
   "cell_type": "code",
   "execution_count": 13,
   "metadata": {},
   "outputs": [],
   "source": [
    "# 202402 업데이트: 여러 모델을 한번에 실행시, 에러가 날 수 있으므로, 각 모델을 별도로 실행하기로 함\n",
    "# decision_model\n",
    "alg = decision_model\n",
    "alg.fit(X_train, y_train)    \n",
    "score = cross_val_score(alg, X_train, y_train.values.ravel(), cv=k_fold, scoring='accuracy')\n",
    "results[alg.__class__.__name__] = np.mean(score)*100"
   ]
  },
  {
   "cell_type": "code",
   "execution_count": 14,
   "metadata": {},
   "outputs": [],
   "source": [
    "# 202402 업데이트: 여러 모델을 한번에 실행시, 에러가 날 수 있으므로, 각 모델을 별도로 실행하기로 함\n",
    "# random_model\n",
    "alg = random_model\n",
    "alg.fit(X_train, y_train)    \n",
    "score = cross_val_score(alg, X_train, y_train.values.ravel(), cv=k_fold, scoring='accuracy')\n",
    "results[alg.__class__.__name__] = np.mean(score)*100"
   ]
  },
  {
   "cell_type": "code",
   "execution_count": 15,
   "metadata": {},
   "outputs": [],
   "source": [
    "# 202402 업데이트: 여러 모델을 한번에 실행시, 에러가 날 수 있으므로, 각 모델을 별도로 실행하기로 함\n",
    "# extra_model\n",
    "alg = extra_model\n",
    "alg.fit(X_train, y_train)    \n",
    "score = cross_val_score(alg, X_train, y_train.values.ravel(), cv=k_fold, scoring='accuracy')\n",
    "results[alg.__class__.__name__] = np.mean(score)*100"
   ]
  },
  {
   "cell_type": "code",
   "execution_count": 16,
   "metadata": {},
   "outputs": [],
   "source": [
    "# 202402 업데이트: 여러 모델을 한번에 실행시, 에러가 날 수 있으므로, 각 모델을 별도로 실행하기로 함\n",
    "# gbm_model\n",
    "alg = gbm_model\n",
    "alg.fit(X_train, y_train)    \n",
    "score = cross_val_score(alg, X_train, y_train.values.ravel(), cv=k_fold, scoring='accuracy')\n",
    "results[alg.__class__.__name__] = np.mean(score)*100"
   ]
  },
  {
   "cell_type": "code",
   "execution_count": 17,
   "metadata": {},
   "outputs": [],
   "source": [
    "# 202402 업데이트: 여러 모델을 한번에 실행시, 에러가 날 수 있으므로, 각 모델을 별도로 실행하기로 함\n",
    "# nb_model\n",
    "alg = nb_model\n",
    "alg.fit(X_train, y_train)    \n",
    "score = cross_val_score(alg, X_train, y_train.values.ravel(), cv=k_fold, scoring='accuracy')\n",
    "results[alg.__class__.__name__] = np.mean(score)*100"
   ]
  },
  {
   "cell_type": "code",
   "execution_count": 18,
   "metadata": {},
   "outputs": [],
   "source": [
    "# 202402 업데이트: 여러 모델을 한번에 실행시, 에러가 날 수 있으므로, 각 모델을 별도로 실행하기로 함\n",
    "# xgb_model\n",
    "alg = xgb_model\n",
    "alg.fit(X_train, y_train)    \n",
    "score = cross_val_score(alg, X_train, y_train.values.ravel(), cv=k_fold, scoring='accuracy')\n",
    "results[alg.__class__.__name__] = np.mean(score)*100"
   ]
  },
  {
   "cell_type": "markdown",
   "metadata": {},
   "source": [
    "### 정확도 높은 순으로 정렬하기\n",
    "\n",
    "- 사전 데이터의 value 로 정렬하는 방법 "
   ]
  },
  {
   "cell_type": "code",
   "execution_count": 19,
   "metadata": {
    "scrolled": true
   },
   "outputs": [
    {
     "data": {
      "text/plain": [
       "[('LogisticRegression', 83.38951310861424),\n",
       " ('SVC', 83.05118601747814),\n",
       " ('GradientBoostingClassifier', 82.71410736579276),\n",
       " ('RandomForestClassifier', 82.26466916354556),\n",
       " ('ExtraTreesClassifier', 82.26466916354556),\n",
       " ('XGBClassifier', 82.04119850187267),\n",
       " ('DecisionTreeClassifier', 80.6916354556804),\n",
       " ('GaussianNB', 70.8039950062422)]"
      ]
     },
     "execution_count": 19,
     "metadata": {},
     "output_type": "execute_result"
    }
   ],
   "source": [
    "sorted(results.items(), key=lambda x: x[1], reverse=True) # reverse=True 면 높은 순서대로 정렬"
   ]
  },
  {
   "cell_type": "markdown",
   "metadata": {},
   "source": [
    "### 성능이 좋은 머신러닝 기법만을 중심으로, 중요도 계산하기"
   ]
  },
  {
   "cell_type": "code",
   "execution_count": 20,
   "metadata": {},
   "outputs": [],
   "source": [
    "tree_models = [\n",
    "    random_model,\n",
    "    extra_model,\n",
    "    gbm_model,\n",
    "    xgb_model\n",
    "]"
   ]
  },
  {
   "cell_type": "markdown",
   "metadata": {},
   "source": [
    "### 트리 관련 모델은 중요도가 측정됨\n",
    "- 트리를 결정하는 과정에서 각 feature 가 얼마나 중요한지를 수치화하며, feature_importances_ 에 해당 값을 가지고 있음\n",
    "- 해당 값을 기준으로 중요도가 낮은 feature 를 걸러낼 수 있음"
   ]
  },
  {
   "cell_type": "code",
   "execution_count": 21,
   "metadata": {},
   "outputs": [
    {
     "name": "stdout",
     "output_type": "stream",
     "text": [
      "RandomForestClassifier\n",
      "[1.38052756e-02 1.75020749e-02 3.28671419e-02 7.28328325e-02\n",
      " 6.63022983e-02 3.95863013e-03 9.13479131e-03 1.29994463e-02\n",
      " 2.30645742e-02 1.86138616e-02 1.58051712e-02 5.36595920e-03\n",
      " 1.17196393e-03 2.04714670e-02 1.64604037e-02 9.43206451e-03\n",
      " 5.18616438e-03 3.17856734e-03 7.21258695e-03 3.27461712e-02\n",
      " 7.53706852e-03 1.04306445e-02 1.56003720e-03 6.46852394e-03\n",
      " 2.81417968e-03 6.22983644e-03 1.36046552e-03 3.10670250e-04\n",
      " 1.87726177e-02 1.27563230e-02 8.93987683e-03 8.14623865e-02\n",
      " 2.67144772e-02 2.00884741e-02 1.06610994e-02 4.08068655e-04\n",
      " 2.72227481e-04 2.02975831e-03 1.34271135e-03 1.19926760e-03\n",
      " 2.55894627e-04 6.37270730e-04 2.68901526e-04 1.36806045e-04\n",
      " 0.00000000e+00 1.51214737e-02 1.42421802e-02 1.67241940e-02\n",
      " 7.87801428e-03 6.78390984e-03 7.98172378e-03 2.53460698e-03\n",
      " 1.94864634e-03 2.44270882e-03 3.71087588e-03 4.99596236e-03\n",
      " 6.47117448e-03 1.29193740e-02 1.05725026e-03 3.41962611e-03\n",
      " 1.15063990e-03 4.04758921e-04 4.60583084e-03 2.23425538e-03\n",
      " 3.09024421e-04 3.15578469e-03 6.81597296e-05 2.08645749e-03\n",
      " 1.19441722e-03 5.39302461e-03 1.85149617e-05 0.00000000e+00\n",
      " 0.00000000e+00 1.33130712e-02 1.55029226e-02 1.90326398e-02\n",
      " 7.91977915e-03 9.33717544e-03 1.23222550e-02 1.00874284e-02\n",
      " 1.51533001e-02 1.44194949e-02 1.27170213e-02 3.27949479e-02\n",
      " 3.95104350e-03 9.54749239e-03 1.22273772e-02 6.33679309e-04\n",
      " 1.69067918e-04 7.83031045e-04 4.77849100e-02 9.65602803e-03\n",
      " 1.30257122e-02]\n",
      "ExtraTreesClassifier\n",
      "[1.47713039e-02 1.68643121e-02 3.52338745e-02 8.16249160e-02\n",
      " 5.72233991e-02 4.65831493e-03 1.06252919e-02 1.35100426e-02\n",
      " 2.03067310e-02 1.71620503e-02 1.59684322e-02 6.20656040e-03\n",
      " 1.37060684e-03 2.14112480e-02 1.65345636e-02 1.08820982e-02\n",
      " 5.61454987e-03 3.17061751e-03 5.66083461e-03 2.60655357e-02\n",
      " 6.55234901e-03 1.00602553e-02 1.94154760e-03 8.10620029e-03\n",
      " 2.76057970e-03 8.13419201e-03 1.46029280e-03 2.54720214e-04\n",
      " 1.46288090e-02 1.30069448e-02 9.23681326e-03 9.22357103e-02\n",
      " 2.46405045e-02 2.64508012e-02 9.74999524e-03 6.66621808e-04\n",
      " 2.09124952e-04 1.74839500e-03 1.68603051e-03 9.57405140e-04\n",
      " 6.15652819e-04 6.58569347e-04 4.07295125e-04 6.40999012e-05\n",
      " 0.00000000e+00 1.49547909e-02 1.42669710e-02 1.69997684e-02\n",
      " 7.64822853e-03 6.31735197e-03 9.23488787e-03 1.93429768e-03\n",
      " 1.92636391e-03 2.29401430e-03 5.00612922e-03 4.83663916e-03\n",
      " 5.43785553e-03 1.35785306e-02 1.24536317e-03 3.28424817e-03\n",
      " 1.22513219e-03 3.65373576e-04 4.26570472e-03 3.28190701e-03\n",
      " 2.93381244e-04 3.21391448e-03 6.72544445e-05 1.81999659e-03\n",
      " 1.40307978e-03 5.37374448e-03 2.39849936e-05 0.00000000e+00\n",
      " 0.00000000e+00 1.21639337e-02 1.49898545e-02 1.95419140e-02\n",
      " 8.13100295e-03 1.02801607e-02 1.18918635e-02 8.94163763e-03\n",
      " 1.38434459e-02 1.35289415e-02 1.11146638e-02 4.11166359e-02\n",
      " 4.13896285e-03 5.13224354e-03 1.01285346e-02 5.75805571e-04\n",
      " 7.27652033e-04 1.15792233e-03 4.17974176e-02 8.12069456e-03\n",
      " 1.12796057e-02]\n",
      "GradientBoostingClassifier\n",
      "[1.57355296e-02 2.62887965e-04 1.13769047e-01 4.65152571e-02\n",
      " 6.68617234e-02 2.44413351e-03 9.33258685e-04 3.13523781e-04\n",
      " 4.04824110e-03 7.03154599e-03 1.02455086e-02 8.01277778e-03\n",
      " 4.27352501e-03 3.45762115e-02 1.04091475e-03 8.26892956e-03\n",
      " 4.83140559e-04 4.67377534e-04 0.00000000e+00 3.38435795e-02\n",
      " 5.50100604e-04 8.68618534e-03 2.69099600e-03 4.23066661e-03\n",
      " 0.00000000e+00 0.00000000e+00 0.00000000e+00 0.00000000e+00\n",
      " 1.54896472e-02 1.61557350e-04 8.51827935e-03 3.81426298e-01\n",
      " 1.31409136e-06 3.72318532e-03 1.38969977e-02 0.00000000e+00\n",
      " 5.70804578e-04 1.12814667e-02 7.61559843e-04 0.00000000e+00\n",
      " 6.01325486e-04 0.00000000e+00 0.00000000e+00 2.59975783e-04\n",
      " 0.00000000e+00 0.00000000e+00 1.69827590e-03 5.91536441e-03\n",
      " 2.77853590e-04 6.83449623e-03 1.67480361e-02 1.05980276e-03\n",
      " 6.62219863e-03 4.07223124e-03 1.71279434e-03 1.26705073e-03\n",
      " 5.95803332e-03 8.99472029e-04 0.00000000e+00 0.00000000e+00\n",
      " 0.00000000e+00 0.00000000e+00 3.99291436e-03 1.02088331e-03\n",
      " 4.04189727e-04 3.71592170e-03 0.00000000e+00 0.00000000e+00\n",
      " 2.66589574e-04 1.09576707e-02 0.00000000e+00 0.00000000e+00\n",
      " 0.00000000e+00 1.27156256e-02 1.47422563e-03 1.39639830e-02\n",
      " 2.21820276e-03 8.88123120e-03 1.64651690e-03 2.13193837e-03\n",
      " 2.33095953e-03 6.12149905e-03 7.43154567e-03 2.43497978e-02\n",
      " 0.00000000e+00 0.00000000e+00 1.35684120e-06 0.00000000e+00\n",
      " 0.00000000e+00 0.00000000e+00 2.25102726e-02 8.82159325e-03\n",
      " 0.00000000e+00]\n",
      "XGBClassifier\n",
      "[0.00787605 0.00625864 0.06959147 0.01461036 0.         0.00580162\n",
      " 0.00905272 0.00509148 0.00658403 0.00533596 0.00656237 0.00918796\n",
      " 0.         0.02350072 0.0097974  0.00881879 0.0093389  0.00388972\n",
      " 0.00919107 0.02777529 0.00609622 0.00983009 0.         0.00665245\n",
      " 0.0069892  0.00307292 0.00757678 0.         0.00835787 0.00702639\n",
      " 0.00790217 0.28151107 0.0046094  0.00721972 0.01483033 0.\n",
      " 0.         0.03429352 0.         0.         0.         0.\n",
      " 0.         0.         0.         0.00513282 0.00992449 0.02148915\n",
      " 0.00786759 0.01527991 0.01932219 0.00573094 0.         0.\n",
      " 0.00393742 0.00574617 0.00569989 0.00677128 0.         0.0063476\n",
      " 0.00341399 0.         0.0066407  0.01310796 0.         0.\n",
      " 0.         0.         0.         0.         0.         0.\n",
      " 0.         0.01844908 0.00778452 0.01223887 0.01125401 0.01597076\n",
      " 0.01304302 0.00542678 0.00738082 0.0193048  0.00983898 0.02918722\n",
      " 0.         0.         0.00822403 0.         0.         0.\n",
      " 0.04529597 0.00590648 0.01004985]\n"
     ]
    }
   ],
   "source": [
    "for alg in tree_models:\n",
    "    try:\n",
    "        print(alg.__class__.__name__)\n",
    "        print(alg.feature_importances_)        \n",
    "    except:\n",
    "        print(alg.__class__.__name__, \"X\")"
   ]
  },
  {
   "cell_type": "markdown",
   "metadata": {},
   "source": [
    "- 중요도 기반 데이터프레임 작성하기"
   ]
  },
  {
   "cell_type": "code",
   "execution_count": 22,
   "metadata": {},
   "outputs": [],
   "source": [
    "random_model_importance = pd.DataFrame({'Feature':X_train.columns, 'random_model':random_model.feature_importances_})\n",
    "extra_model_importance = pd.DataFrame({'Feature':X_train.columns, 'extra_model':extra_model.feature_importances_})\n",
    "gbm_model_importance = pd.DataFrame({'Feature':X_train.columns, 'gbm_model':gbm_model.feature_importances_})\n",
    "xgb_model_importance = pd.DataFrame({'Feature':X_train.columns, 'xgb_model':xgb_model.feature_importances_})"
   ]
  },
  {
   "cell_type": "markdown",
   "metadata": {},
   "source": [
    "### multiple dataframe 합치기\n",
    "- dataframes = [각 데이터프레임, ...]\n",
    "- functools.reduce(lambda  left,right: pd.merge(left, right, on=['동일컬럼']), dataframes)"
   ]
  },
  {
   "cell_type": "code",
   "execution_count": 23,
   "metadata": {},
   "outputs": [],
   "source": [
    "from functools import reduce\n",
    "data_frames = [\n",
    "    random_model_importance,\n",
    "    extra_model_importance,\n",
    "    gbm_model_importance,\n",
    "    xgb_model_importance\n",
    "]\n",
    "importances = reduce(lambda  left,right: pd.merge(left, right, on=['Feature']), data_frames)"
   ]
  },
  {
   "cell_type": "code",
   "execution_count": 24,
   "metadata": {},
   "outputs": [
    {
     "data": {
      "text/html": [
       "<div>\n",
       "<style scoped>\n",
       "    .dataframe tbody tr th:only-of-type {\n",
       "        vertical-align: middle;\n",
       "    }\n",
       "\n",
       "    .dataframe tbody tr th {\n",
       "        vertical-align: top;\n",
       "    }\n",
       "\n",
       "    .dataframe thead th {\n",
       "        text-align: right;\n",
       "    }\n",
       "</style>\n",
       "<table border=\"1\" class=\"dataframe\">\n",
       "  <thead>\n",
       "    <tr style=\"text-align: right;\">\n",
       "      <th></th>\n",
       "      <th>Feature</th>\n",
       "      <th>random_model</th>\n",
       "      <th>extra_model</th>\n",
       "      <th>gbm_model</th>\n",
       "      <th>xgb_model</th>\n",
       "    </tr>\n",
       "  </thead>\n",
       "  <tbody>\n",
       "    <tr>\n",
       "      <th>0</th>\n",
       "      <td>Pclass_0</td>\n",
       "      <td>0.013805</td>\n",
       "      <td>0.014771</td>\n",
       "      <td>0.015736</td>\n",
       "      <td>0.007876</td>\n",
       "    </tr>\n",
       "    <tr>\n",
       "      <th>1</th>\n",
       "      <td>Pclass_1</td>\n",
       "      <td>0.017502</td>\n",
       "      <td>0.016864</td>\n",
       "      <td>0.000263</td>\n",
       "      <td>0.006259</td>\n",
       "    </tr>\n",
       "    <tr>\n",
       "      <th>2</th>\n",
       "      <td>Pclass_2</td>\n",
       "      <td>0.032867</td>\n",
       "      <td>0.035234</td>\n",
       "      <td>0.113769</td>\n",
       "      <td>0.069591</td>\n",
       "    </tr>\n",
       "    <tr>\n",
       "      <th>3</th>\n",
       "      <td>Sex_0</td>\n",
       "      <td>0.072833</td>\n",
       "      <td>0.081625</td>\n",
       "      <td>0.046515</td>\n",
       "      <td>0.014610</td>\n",
       "    </tr>\n",
       "    <tr>\n",
       "      <th>4</th>\n",
       "      <td>Sex_1</td>\n",
       "      <td>0.066302</td>\n",
       "      <td>0.057223</td>\n",
       "      <td>0.066862</td>\n",
       "      <td>0.000000</td>\n",
       "    </tr>\n",
       "  </tbody>\n",
       "</table>\n",
       "</div>"
      ],
      "text/plain": [
       "    Feature  random_model  extra_model  gbm_model  xgb_model\n",
       "0  Pclass_0      0.013805     0.014771   0.015736   0.007876\n",
       "1  Pclass_1      0.017502     0.016864   0.000263   0.006259\n",
       "2  Pclass_2      0.032867     0.035234   0.113769   0.069591\n",
       "3     Sex_0      0.072833     0.081625   0.046515   0.014610\n",
       "4     Sex_1      0.066302     0.057223   0.066862   0.000000"
      ]
     },
     "execution_count": 24,
     "metadata": {},
     "output_type": "execute_result"
    }
   ],
   "source": [
    "importances.head()"
   ]
  },
  {
   "cell_type": "markdown",
   "metadata": {},
   "source": [
    "- 항목별 평균 중요도 구하기"
   ]
  },
  {
   "cell_type": "code",
   "execution_count": 25,
   "metadata": {},
   "outputs": [],
   "source": [
    "# 202402 업데이트: importances.mean(axis=1) 명령 시, 데이터프레임에 숫자컬럼이 아닌 문자컬럼이 있으면 에러가 나므로\n",
    "# 강제로 숫자컬럼만 추출하여, 해당 명령을 실행하기로 함\n",
    "\n",
    "### 기존 코드\n",
    "# importances['avg'] = importances.mean(axis=1)\n",
    "\n",
    "### 신규 코드\n",
    "# 숫자형 컬럼만 선택하여 평균 계산\n",
    "numeric_columns = importances.select_dtypes(include=[np.number])\n",
    "importances['avg'] = numeric_columns.mean(axis=1)\n",
    "\n",
    "# 최종 데이터프레임 구성: 'Feature' 컬럼과 계산된 'avg' 컬럼 포함\n",
    "importances = importances[['Feature', 'avg']]"
   ]
  },
  {
   "cell_type": "markdown",
   "metadata": {},
   "source": [
    "- 중요도 기반 정렬하기"
   ]
  },
  {
   "cell_type": "code",
   "execution_count": 26,
   "metadata": {},
   "outputs": [],
   "source": [
    "importances = importances.sort_values(by='avg', ascending=False)"
   ]
  },
  {
   "cell_type": "markdown",
   "metadata": {},
   "source": [
    "### 중요도가 높은 feature 만 선택하기"
   ]
  },
  {
   "cell_type": "code",
   "execution_count": 27,
   "metadata": {},
   "outputs": [],
   "source": [
    "importances = importances[:50]"
   ]
  },
  {
   "cell_type": "markdown",
   "metadata": {},
   "source": [
    "- 특정 컬럼만 선택해서, 데이터프레임 만들기"
   ]
  },
  {
   "cell_type": "code",
   "execution_count": 28,
   "metadata": {},
   "outputs": [],
   "source": [
    "train_importance = X_train[importances['Feature'].tolist()]\n",
    "test_importance = X_test[importances['Feature'].tolist()]"
   ]
  },
  {
   "cell_type": "code",
   "execution_count": 29,
   "metadata": {},
   "outputs": [
    {
     "data": {
      "text/html": [
       "<div>\n",
       "<style scoped>\n",
       "    .dataframe tbody tr th:only-of-type {\n",
       "        vertical-align: middle;\n",
       "    }\n",
       "\n",
       "    .dataframe tbody tr th {\n",
       "        vertical-align: top;\n",
       "    }\n",
       "\n",
       "    .dataframe thead th {\n",
       "        text-align: right;\n",
       "    }\n",
       "</style>\n",
       "<table border=\"1\" class=\"dataframe\">\n",
       "  <thead>\n",
       "    <tr style=\"text-align: right;\">\n",
       "      <th></th>\n",
       "      <th>Initial_0</th>\n",
       "      <th>Pclass_2</th>\n",
       "      <th>Sex_0</th>\n",
       "      <th>Sex_1</th>\n",
       "      <th>LowChance_0</th>\n",
       "      <th>HighChance_0</th>\n",
       "      <th>Cabin_0</th>\n",
       "      <th>Fare_0</th>\n",
       "      <th>Ticket_Num_Cut_2</th>\n",
       "      <th>Family_2</th>\n",
       "      <th>...</th>\n",
       "      <th>HighChance_3</th>\n",
       "      <th>Age_1</th>\n",
       "      <th>Ticket_Num_Cut_3</th>\n",
       "      <th>Age_6</th>\n",
       "      <th>Ticket_Num_Cut_6</th>\n",
       "      <th>Cabin_4</th>\n",
       "      <th>Family_3</th>\n",
       "      <th>Ticket_Initial2_2</th>\n",
       "      <th>Fare_5</th>\n",
       "      <th>Ticket_Initial2_15</th>\n",
       "    </tr>\n",
       "  </thead>\n",
       "  <tbody>\n",
       "    <tr>\n",
       "      <th>0</th>\n",
       "      <td>1</td>\n",
       "      <td>1</td>\n",
       "      <td>1</td>\n",
       "      <td>0</td>\n",
       "      <td>1</td>\n",
       "      <td>1</td>\n",
       "      <td>1</td>\n",
       "      <td>1</td>\n",
       "      <td>0</td>\n",
       "      <td>0</td>\n",
       "      <td>...</td>\n",
       "      <td>0</td>\n",
       "      <td>0</td>\n",
       "      <td>1</td>\n",
       "      <td>0</td>\n",
       "      <td>0</td>\n",
       "      <td>0</td>\n",
       "      <td>0</td>\n",
       "      <td>0</td>\n",
       "      <td>0</td>\n",
       "      <td>0</td>\n",
       "    </tr>\n",
       "    <tr>\n",
       "      <th>1</th>\n",
       "      <td>0</td>\n",
       "      <td>0</td>\n",
       "      <td>0</td>\n",
       "      <td>1</td>\n",
       "      <td>1</td>\n",
       "      <td>0</td>\n",
       "      <td>0</td>\n",
       "      <td>0</td>\n",
       "      <td>0</td>\n",
       "      <td>0</td>\n",
       "      <td>...</td>\n",
       "      <td>0</td>\n",
       "      <td>0</td>\n",
       "      <td>1</td>\n",
       "      <td>0</td>\n",
       "      <td>0</td>\n",
       "      <td>0</td>\n",
       "      <td>0</td>\n",
       "      <td>0</td>\n",
       "      <td>0</td>\n",
       "      <td>0</td>\n",
       "    </tr>\n",
       "    <tr>\n",
       "      <th>2</th>\n",
       "      <td>0</td>\n",
       "      <td>1</td>\n",
       "      <td>0</td>\n",
       "      <td>1</td>\n",
       "      <td>1</td>\n",
       "      <td>1</td>\n",
       "      <td>1</td>\n",
       "      <td>1</td>\n",
       "      <td>0</td>\n",
       "      <td>0</td>\n",
       "      <td>...</td>\n",
       "      <td>0</td>\n",
       "      <td>0</td>\n",
       "      <td>0</td>\n",
       "      <td>0</td>\n",
       "      <td>0</td>\n",
       "      <td>0</td>\n",
       "      <td>0</td>\n",
       "      <td>1</td>\n",
       "      <td>0</td>\n",
       "      <td>0</td>\n",
       "    </tr>\n",
       "    <tr>\n",
       "      <th>3</th>\n",
       "      <td>0</td>\n",
       "      <td>0</td>\n",
       "      <td>0</td>\n",
       "      <td>1</td>\n",
       "      <td>1</td>\n",
       "      <td>0</td>\n",
       "      <td>0</td>\n",
       "      <td>0</td>\n",
       "      <td>0</td>\n",
       "      <td>0</td>\n",
       "      <td>...</td>\n",
       "      <td>0</td>\n",
       "      <td>0</td>\n",
       "      <td>0</td>\n",
       "      <td>0</td>\n",
       "      <td>0</td>\n",
       "      <td>0</td>\n",
       "      <td>0</td>\n",
       "      <td>0</td>\n",
       "      <td>0</td>\n",
       "      <td>0</td>\n",
       "    </tr>\n",
       "    <tr>\n",
       "      <th>4</th>\n",
       "      <td>1</td>\n",
       "      <td>1</td>\n",
       "      <td>1</td>\n",
       "      <td>0</td>\n",
       "      <td>0</td>\n",
       "      <td>1</td>\n",
       "      <td>1</td>\n",
       "      <td>1</td>\n",
       "      <td>0</td>\n",
       "      <td>0</td>\n",
       "      <td>...</td>\n",
       "      <td>0</td>\n",
       "      <td>0</td>\n",
       "      <td>0</td>\n",
       "      <td>0</td>\n",
       "      <td>0</td>\n",
       "      <td>0</td>\n",
       "      <td>0</td>\n",
       "      <td>0</td>\n",
       "      <td>0</td>\n",
       "      <td>0</td>\n",
       "    </tr>\n",
       "  </tbody>\n",
       "</table>\n",
       "<p>5 rows × 50 columns</p>\n",
       "</div>"
      ],
      "text/plain": [
       "   Initial_0  Pclass_2  Sex_0  Sex_1  LowChance_0  HighChance_0  Cabin_0  \\\n",
       "0          1         1      1      0            1             1        1   \n",
       "1          0         0      0      1            1             0        0   \n",
       "2          0         1      0      1            1             1        1   \n",
       "3          0         0      0      1            1             0        0   \n",
       "4          1         1      1      0            0             1        1   \n",
       "\n",
       "   Fare_0  Ticket_Num_Cut_2  Family_2  ...  HighChance_3  Age_1  \\\n",
       "0       1                 0         0  ...             0      0   \n",
       "1       0                 0         0  ...             0      0   \n",
       "2       1                 0         0  ...             0      0   \n",
       "3       0                 0         0  ...             0      0   \n",
       "4       1                 0         0  ...             0      0   \n",
       "\n",
       "   Ticket_Num_Cut_3  Age_6  Ticket_Num_Cut_6  Cabin_4  Family_3  \\\n",
       "0                 1      0                 0        0         0   \n",
       "1                 1      0                 0        0         0   \n",
       "2                 0      0                 0        0         0   \n",
       "3                 0      0                 0        0         0   \n",
       "4                 0      0                 0        0         0   \n",
       "\n",
       "   Ticket_Initial2_2  Fare_5  Ticket_Initial2_15  \n",
       "0                  0       0                   0  \n",
       "1                  0       0                   0  \n",
       "2                  1       0                   0  \n",
       "3                  0       0                   0  \n",
       "4                  0       0                   0  \n",
       "\n",
       "[5 rows x 50 columns]"
      ]
     },
     "execution_count": 29,
     "metadata": {},
     "output_type": "execute_result"
    }
   ],
   "source": [
    "train_importance.head()"
   ]
  },
  {
   "cell_type": "markdown",
   "metadata": {},
   "source": [
    "### 중요도가 높은 feature 로만 머신러닝 적용해보기"
   ]
  },
  {
   "cell_type": "code",
   "execution_count": 30,
   "metadata": {},
   "outputs": [],
   "source": [
    "# 202402 업데이트: 여러 모델을 한번에 실행시, 에러가 날 수 있으므로, 각 모델을 별도로 실행하기로 함\n",
    "# knn_model 은 참고차만 사용한 것이므로(본 데이터에 좋은 성능을 확인할 수 없음), 삭제하기로 함\n",
    "# knn_model = KNeighborsClassifier()\n",
    "logreg_model = LogisticRegression()\n",
    "svc_model = SVC()\n",
    "decision_model = DecisionTreeClassifier()\n",
    "random_model = RandomForestClassifier()\n",
    "extra_model = ExtraTreesClassifier()\n",
    "gbm_model = GradientBoostingClassifier()\n",
    "nb_model = GaussianNB()\n",
    "xgb_model = XGBClassifier(eval_metric='logloss')\n",
    "lgbm_model = LGBMClassifier()\n",
    "\n",
    "k_fold = KFold(n_splits=10, shuffle=True, random_state=0)           # K-Fold 사용\n",
    "results = dict()"
   ]
  },
  {
   "cell_type": "code",
   "execution_count": 31,
   "metadata": {},
   "outputs": [],
   "source": [
    "# 202402 업데이트: 여러 모델을 한번에 실행시, 에러가 날 수 있으므로, 각 모델을 별도로 실행하기로 함\n",
    "# knn_model 은 참고차만 사용한 것이므로(본 데이터에 좋은 성능을 확인할 수 없음), 삭제하기로 함\n",
    "# logreg_model\n",
    "alg = logreg_model\n",
    "alg.fit(train_importance, y_train)    \n",
    "score = cross_val_score(alg, train_importance, y_train.values.ravel(), cv=k_fold, scoring='accuracy')\n",
    "results[alg.__class__.__name__] = np.mean(score)*100"
   ]
  },
  {
   "cell_type": "code",
   "execution_count": 32,
   "metadata": {},
   "outputs": [],
   "source": [
    "# 202402 업데이트: 여러 모델을 한번에 실행시, 에러가 날 수 있으므로, 각 모델을 별도로 실행하기로 함\n",
    "# svc_model\n",
    "alg = svc_model\n",
    "alg.fit(train_importance, y_train)    \n",
    "score = cross_val_score(alg, train_importance, y_train.values.ravel(), cv=k_fold, scoring='accuracy')\n",
    "results[alg.__class__.__name__] = np.mean(score)*100"
   ]
  },
  {
   "cell_type": "code",
   "execution_count": 33,
   "metadata": {},
   "outputs": [],
   "source": [
    "# 202402 업데이트: 여러 모델을 한번에 실행시, 에러가 날 수 있으므로, 각 모델을 별도로 실행하기로 함\n",
    "# decision_model\n",
    "alg = decision_model\n",
    "alg.fit(train_importance, y_train)    \n",
    "score = cross_val_score(alg, train_importance, y_train.values.ravel(), cv=k_fold, scoring='accuracy')\n",
    "results[alg.__class__.__name__] = np.mean(score)*100"
   ]
  },
  {
   "cell_type": "code",
   "execution_count": 34,
   "metadata": {},
   "outputs": [],
   "source": [
    "# 202402 업데이트: 여러 모델을 한번에 실행시, 에러가 날 수 있으므로, 각 모델을 별도로 실행하기로 함\n",
    "# random_model\n",
    "alg = random_model\n",
    "alg.fit(train_importance, y_train)    \n",
    "score = cross_val_score(alg, train_importance, y_train.values.ravel(), cv=k_fold, scoring='accuracy')\n",
    "results[alg.__class__.__name__] = np.mean(score)*100"
   ]
  },
  {
   "cell_type": "code",
   "execution_count": 35,
   "metadata": {},
   "outputs": [],
   "source": [
    "# 202402 업데이트: 여러 모델을 한번에 실행시, 에러가 날 수 있으므로, 각 모델을 별도로 실행하기로 함\n",
    "# extra_model\n",
    "alg = extra_model\n",
    "alg.fit(train_importance, y_train)    \n",
    "score = cross_val_score(alg, train_importance, y_train.values.ravel(), cv=k_fold, scoring='accuracy')\n",
    "results[alg.__class__.__name__] = np.mean(score)*100"
   ]
  },
  {
   "cell_type": "code",
   "execution_count": 36,
   "metadata": {},
   "outputs": [],
   "source": [
    "# 202402 업데이트: 여러 모델을 한번에 실행시, 에러가 날 수 있으므로, 각 모델을 별도로 실행하기로 함\n",
    "# gbm_model\n",
    "alg = gbm_model\n",
    "alg.fit(train_importance, y_train)    \n",
    "score = cross_val_score(alg, train_importance, y_train.values.ravel(), cv=k_fold, scoring='accuracy')\n",
    "results[alg.__class__.__name__] = np.mean(score)*100"
   ]
  },
  {
   "cell_type": "code",
   "execution_count": 37,
   "metadata": {},
   "outputs": [],
   "source": [
    "# 202402 업데이트: 여러 모델을 한번에 실행시, 에러가 날 수 있으므로, 각 모델을 별도로 실행하기로 함\n",
    "# nb_model\n",
    "alg = nb_model\n",
    "alg.fit(train_importance, y_train)    \n",
    "score = cross_val_score(alg, train_importance, y_train.values.ravel(), cv=k_fold, scoring='accuracy')\n",
    "results[alg.__class__.__name__] = np.mean(score)*100"
   ]
  },
  {
   "cell_type": "code",
   "execution_count": 38,
   "metadata": {},
   "outputs": [],
   "source": [
    "# 202402 업데이트: 여러 모델을 한번에 실행시, 에러가 날 수 있으므로, 각 모델을 별도로 실행하기로 함\n",
    "# xgb_model\n",
    "alg = xgb_model\n",
    "alg.fit(train_importance, y_train)    \n",
    "score = cross_val_score(alg, train_importance, y_train.values.ravel(), cv=k_fold, scoring='accuracy')\n",
    "results[alg.__class__.__name__] = np.mean(score)*100"
   ]
  },
  {
   "cell_type": "code",
   "execution_count": 39,
   "metadata": {},
   "outputs": [
    {
     "data": {
      "text/plain": [
       "[('LogisticRegression', 83.72659176029963),\n",
       " ('GradientBoostingClassifier', 83.16354556803995),\n",
       " ('SVC', 82.71535580524345),\n",
       " ('ExtraTreesClassifier', 82.14981273408239),\n",
       " ('XGBClassifier', 82.04119850187267),\n",
       " ('RandomForestClassifier', 81.81523096129837),\n",
       " ('DecisionTreeClassifier', 80.57927590511859),\n",
       " ('GaussianNB', 79.67915106117353)]"
      ]
     },
     "execution_count": 39,
     "metadata": {},
     "output_type": "execute_result"
    }
   ],
   "source": [
    "sorted(results.items(), key=lambda x: x[1], reverse=True) # reverse=True 면 높은 순서대로 정렬"
   ]
  },
  {
   "cell_type": "markdown",
   "metadata": {},
   "source": [
    "<div class=\"alert alert-block\" style=\"border: 2px solid #E65100;background-color:#FFF3E0;padding:10px\">\n",
    "<font size=\"4em\" style=\"font-weight:bold;color:#BF360C;\">큰그림으로 이해하기</font><br>\n",
    "<font size=\"4em\" style=\"color:#BF360C;\">환경에 따라 결과가 조금씩 차이가 있을 수 있지만, 제 PC에서는 최대 83.38% 예측 정확도를 보임</font><br>\n",
    "<font size=\"4em\" style=\"color:#BF360C;\">오히려 살짝 떨어져보이지만, 하이퍼파라미터 튜닝을 통해, 성능 개선 가능</font><br>\n",
    "<font size=\"4em\" style=\"color:#BF360C;\">반복적인 성능 개선을 위해, 불필요한 컬럼을 삭제하여, 수행속도를 높이고, 중요도 높은 컬럼만으로 결국 정확도를 높일 수 있음</font>\n",
    "</div>"
   ]
  },
  {
   "cell_type": "code",
   "execution_count": 49,
   "metadata": {},
   "outputs": [],
   "source": [
    "import pickle\n",
    "with open('titanic_step4_importance_train.pickle', 'wb') as pickle_filename:\n",
    "    pickle.dump(train_importance, pickle_filename)\n",
    "with open('titanic_step4_importance_test.pickle', 'wb') as pickle_filename:\n",
    "    pickle.dump(test_importance, pickle_filename)\n",
    "with open('titanic_step4_importance_train_y.pickle', 'wb') as pickle_filename:\n",
    "    pickle.dump(y_train, pickle_filename)"
   ]
  },
  {
   "cell_type": "markdown",
   "metadata": {},
   "source": [
    "<div class=\"alert alert-block\" style=\"border: 1px solid #455A64;background-color:#ECEFF1;\">\n",
    "본 자료 및 영상 컨텐츠는 저작권법 제25조 2항에 의해 보호를 받습니다. 본 컨텐츠 및 컨텐츠 일부 문구등을 외부에 공개, 게시하는 것을 금지합니다. 특히 자료에 대해서는 저작권법을 엄격하게 적용하겠습니다.\n",
    "</div>"
   ]
  }
 ],
 "metadata": {
  "kernelspec": {
   "display_name": "Python 3 (ipykernel)",
   "language": "python",
   "name": "python3"
  },
  "language_info": {
   "codemirror_mode": {
    "name": "ipython",
    "version": 3
   },
   "file_extension": ".py",
   "mimetype": "text/x-python",
   "name": "python",
   "nbconvert_exporter": "python",
   "pygments_lexer": "ipython3",
   "version": "3.11.5"
  }
 },
 "nbformat": 4,
 "nbformat_minor": 4
}
