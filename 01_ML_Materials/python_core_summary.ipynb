{
 "cells": [
  {
   "cell_type": "markdown",
   "metadata": {},
   "source": [
    "<div class=\"alert alert-block\" style=\"border: 1px solid #455A64;background-color:#ECEFF1;\">\n",
    "본 자료 및 영상 컨텐츠는 저작권법 제25조 2항에 의해 보호를 받습니다. 본 컨텐츠 및 컨텐츠 일부 문구등을 외부에 공개, 게시하는 것을 금지합니다. 특히 자료에 대해서는 저작권법을 엄격하게 적용하겠습니다.\n",
    "</div>"
   ]
  },
  {
   "cell_type": "markdown",
   "metadata": {},
   "source": [
    "## 0. 강의 준비\n",
    "\n",
    "1. 강의용 폴더를 만들고, 첨부파일을 해당 폴더에 모아놓고, 실행하세요!\n",
    "2. jupyter notebook 실행\n",
    "3. 해당 폴더로 이동 후, 해당 파일 클릭해서 실행"
   ]
  },
  {
   "cell_type": "markdown",
   "metadata": {},
   "source": [
    "## 1. Jupyter Notebook 사용법\n",
    "\n",
    "- 셀 단위로 작업 가능\n",
    "- 셀에 코드 또는 글을 작성할 수 있음\n",
    "  - 코드 작성시는 Code, 글 작성시는 Markdown\n",
    "  - 코드 실행시, 코드 실행이 안된다면, 해당 셀에 Code 타입으로 되어 있는지 확인 필요\n",
    "- 셀 생성 \n",
    "  - 셀 선택 후(왼쪽 파란색 표시), 단축키 a (Above) 는 해당 셀 위에 셀 생성, 단축키 b (Below) 는 해당 셀 아래에 셀 생성\n",
    "- Code 셀 실행\n",
    "  - 셀 선택 후(왼쪽 파란색 표시), Shift + Enter\n",
    "  - 셀 실행 중이면 [*], 실행이 완료되었으면 [숫자] 가 표시 됨\n",
    "  - 셀 실행 중 [*] 인 상태에서 다른 셀은 실행되지 않음\n",
    "- 주의: 셀 실행시, 해당 셀의 코드가 무한 반복 또는 input() 실행 후, 입력이 없을 시, 해당 셀 실행이 완료되지 않음\n",
    "  - 이 때는 다른 셀 실행이 안됨! \n",
    "  - 상단의 박스 표시를 눌러서 Stop 하거나, jupyter notebook Restart\n",
    "  - 정 안되면 jupyter notebook 을 껐다 새로 실행 (그것도 안되면 컴퓨터 껐다 새로 실행)"
   ]
  },
  {
   "cell_type": "markdown",
   "metadata": {},
   "source": [
    "## 여기서 잠깐!\n",
    "\n",
    "- 주피터 노트북이 Python3 로 실행되었는지 확인하세요!\n",
    "- 파이썬은 python 3 와 python 2가 있습니다. (윈도우 10과 윈도우 7 처럼~)\n",
    "- Python 2로 실행되었다면, anaconda 삭제 후, python 3용 anaconda 설치 파일로 재설치 필요\n",
    "- 윈도우의 경우 한글 아이디일 경우, jupyter notebook 실행 안됨\n",
    "  - 아이디를 영어로 바꾸세요 (영어 소문자로만 아이디를 만드세요!)"
   ]
  },
  {
   "cell_type": "markdown",
   "metadata": {},
   "source": [
    "<div class=\"alert alert-block\" style=\"border: 1px solid #455A64;background-color:#ECEFF1;\">\n",
    "본 자료 및 영상 컨텐츠는 저작권법 제25조 2항에 의해 보호를 받습니다. 본 컨텐츠 및 컨텐츠 일부 문구등을 외부에 공개, 게시하는 것을 금지합니다. 특히 자료에 대해서는 저작권법을 엄격하게 적용하겠습니다.\n",
    "</div>"
   ]
  }
 ],
 "metadata": {
  "kernelspec": {
   "display_name": "Python 3",
   "language": "python",
   "name": "python3"
  },
  "language_info": {
   "codemirror_mode": {
    "name": "ipython",
    "version": 3
   },
   "file_extension": ".py",
   "mimetype": "text/x-python",
   "name": "python",
   "nbconvert_exporter": "python",
   "pygments_lexer": "ipython3",
   "version": "3.8.5"
  }
 },
 "nbformat": 4,
 "nbformat_minor": 2
}
