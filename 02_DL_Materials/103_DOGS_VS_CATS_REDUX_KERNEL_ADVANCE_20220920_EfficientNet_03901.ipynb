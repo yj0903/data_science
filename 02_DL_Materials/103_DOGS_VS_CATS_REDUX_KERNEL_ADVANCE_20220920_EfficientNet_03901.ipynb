{
 "cells": [
  {
   "cell_type": "markdown",
   "metadata": {
    "id": "LshdXhzNzKG6"
   },
   "source": [
    "### Kaggle 문제\n",
    "- https://www.kaggle.com/c/dogs-vs-cats-redux-kernels-edition"
   ]
  },
  {
   "cell_type": "markdown",
   "metadata": {
    "id": "zm349cM303yH",
    "pycharm": {
     "name": "#%% md\n"
    }
   },
   "source": [
    "### Import Packages"
   ]
  },
  {
   "cell_type": "code",
   "execution_count": 1,
   "metadata": {
    "id": "YVlrQ1737qMz",
    "pycharm": {
     "name": "#%%\n"
    }
   },
   "outputs": [],
   "source": [
    "import numpy as np\n",
    "import pandas as pd\n",
    "import os\n",
    "import matplotlib.pyplot as plt\n",
    "from PIL import Image\n",
    "import torch\n",
    "import torch.nn as nn\n",
    "from torch.utils.data import DataLoader, Dataset, Subset\n",
    "from torchvision import datasets, transforms\n",
    "from sklearn.model_selection import train_test_split\n",
    "import numpy as np\n",
    "from copy import deepcopy\n",
    "import time"
   ]
  },
  {
   "cell_type": "markdown",
   "metadata": {
    "id": "OKPPHYbE7uyP",
    "pycharm": {
     "name": "#%% md\n"
    }
   },
   "source": [
    "### Setup seed"
   ]
  },
  {
   "cell_type": "code",
   "execution_count": 2,
   "metadata": {
    "colab": {
     "base_uri": "https://localhost:8080/"
    },
    "id": "QPK7l1p37whz",
    "outputId": "207a20c7-aba5-414d-cff7-a1d63b9d64fc",
    "pycharm": {
     "name": "#%%\n"
    }
   },
   "outputs": [
    {
     "name": "stdout",
     "output_type": "stream",
     "text": [
      "cuda\n"
     ]
    }
   ],
   "source": [
    "import random\n",
    "import os\n",
    "\n",
    "# device 설정\n",
    "device = 'cuda' if torch.cuda.is_available() else 'cpu'\n",
    "print (device)\n",
    "\n",
    "seed = 42 # seed 값 설정\n",
    "random.seed(seed) # 파이썬 난수 생성기 \n",
    "os.environ['PYTHONHASHSEED'] = str(seed) # 해시 시크릿값 고정\n",
    "np.random.seed(seed) # 넘파이 난수 생성기 \n",
    "\n",
    "torch.manual_seed(seed) # 파이토치 CPU 난수 생성기\n",
    "torch.backends.cudnn.deterministic = True # 확정적 연산 사용 설정\n",
    "torch.backends.cudnn.benchmark = False   # 벤치마크 기능 사용 해제\n",
    "torch.backends.cudnn.enabled = False        # cudnn 기능 사용 해제\n",
    "\n",
    "if device == 'cuda':\n",
    "    torch.cuda.manual_seed(seed) # 파이토치 GPU 난수 생성기\n",
    "    torch.cuda.manual_seed_all(seed) # 파이토치 멀티 GPU 난수 생성기"
   ]
  },
  {
   "cell_type": "markdown",
   "metadata": {
    "id": "5cHQbIPG76lw",
    "pycharm": {
     "name": "#%% md\n"
    }
   },
   "source": [
    "### Connect Google Drive"
   ]
  },
  {
   "cell_type": "code",
   "execution_count": 3,
   "metadata": {
    "colab": {
     "base_uri": "https://localhost:8080/"
    },
    "id": "O7jDTJ5173Lk",
    "outputId": "7fdf4ada-3277-4455-be38-d4fe0789bb07",
    "pycharm": {
     "name": "#%%\n"
    }
   },
   "outputs": [
    {
     "name": "stdout",
     "output_type": "stream",
     "text": [
      "Mounted at /content/drive\n"
     ]
    }
   ],
   "source": [
    "from google.colab import drive\n",
    "drive.mount('/content/drive')"
   ]
  },
  {
   "cell_type": "markdown",
   "metadata": {
    "id": "XW2_4NXU8RZU",
    "pycharm": {
     "name": "#%% md\n"
    }
   },
   "source": [
    "### Prepare Data"
   ]
  },
  {
   "cell_type": "code",
   "execution_count": 4,
   "metadata": {
    "colab": {
     "base_uri": "https://localhost:8080/"
    },
    "id": "C3hCpZZy79hA",
    "outputId": "d08224fc-dac8-49bf-a558-a475a19fb58e",
    "pycharm": {
     "name": "#%%\n"
    }
   },
   "outputs": [
    {
     "name": "stdout",
     "output_type": "stream",
     "text": [
      "22500 2500\n"
     ]
    }
   ],
   "source": [
    "import os, shutil\n",
    "original_data_path = '/content/drive/MyDrive/Colab Notebooks/00_data/dogs-vs-cats'\n",
    "os.makedirs('dogsvscats', exist_ok=True)\n",
    "import zipfile\n",
    "with zipfile.ZipFile(os.path.join(original_data_path, 'train.zip')) as train_zip:\n",
    "    train_zip.extractall('/content/dogsvscats')\n",
    "    \n",
    "with zipfile.ZipFile(os.path.join(original_data_path, 'test.zip')) as test_zip:\n",
    "    test_zip.extractall('/content/dogsvscats')\n",
    "\n",
    "import glob\n",
    "from sklearn.model_selection import train_test_split\n",
    "\n",
    "train_dir = '/content/dogsvscats/train'\n",
    "test_dir = '/content/dogsvscats/test'\n",
    "all_train_files = glob.glob(os.path.join(train_dir, '*.jpg'))\n",
    "test_list = glob.glob(os.path.join(test_dir, '*.jpg'))\n",
    "train_labels = [path.split('/')[-1].split('.')[0] for path in all_train_files]\n",
    "train_list, val_list = train_test_split(all_train_files, test_size = 0.1, stratify = train_labels, random_state=seed)\n",
    "print (len(train_list), len(val_list))"
   ]
  },
  {
   "cell_type": "markdown",
   "metadata": {
    "id": "rjSuwnFK8g0y",
    "pycharm": {
     "name": "#%% md\n"
    }
   },
   "source": [
    "### Prepare dataset"
   ]
  },
  {
   "cell_type": "code",
   "execution_count": 5,
   "metadata": {
    "id": "P0-QDNGM8QGU",
    "pycharm": {
     "name": "#%%\n"
    }
   },
   "outputs": [],
   "source": [
    "from torchvision import transforms\n",
    "\n",
    "input_size = 224\n",
    "transforms_for_train =  transforms.Compose([\n",
    "        transforms.RandomResizedCrop(input_size, scale=(0.5, 1.0)),\n",
    "        transforms.RandomHorizontalFlip(),\n",
    "        transforms.RandomVerticalFlip(),\n",
    "        transforms.RandomRotation(10),\n",
    "        transforms.ToTensor(),\n",
    "        transforms.Normalize([0.485, 0.456, 0.406], [0.229, 0.224, 0.225])\n",
    "    ])\n",
    "\n",
    "transforms_for_val_test = transforms.Compose([\n",
    "        transforms.Resize(input_size),\n",
    "        transforms.CenterCrop(input_size),\n",
    "        transforms.ToTensor(),\n",
    "        transforms.Normalize([0.485, 0.456, 0.406], [0.229, 0.224, 0.225])\n",
    "    ])\n",
    "\n",
    "#class Dataset\n",
    "class CustomDataset(Dataset):\n",
    "    def __init__(self, file_list, transform=None):\n",
    "        self.file_list = file_list\n",
    "        self.transform = transform\n",
    "    \n",
    "    def __len__(self):\n",
    "        return len(self.file_list)\n",
    "    \n",
    "    def __getitem__(self, idx):\n",
    "        img_path = self.file_list[idx]\n",
    "        if img_path.split('/')[-1][-3:] == 'jpg':\n",
    "            img = Image.open(img_path)     \n",
    "            if self.transform is not None:\n",
    "                img_transform = self.transform(img)\n",
    "                label = img_path.split('/')[-1].split('.')[0]\n",
    "                if label == 'dog':\n",
    "                  label = 1\n",
    "                elif label == 'cat':\n",
    "                  label = 0\n",
    "        return img_transform, label\n",
    "\n",
    "dataset_train = CustomDataset(train_list, transform=transforms_for_train)\n",
    "dataset_valid = CustomDataset(val_list, transform=transforms_for_val_test)\n",
    "dataset_test = CustomDataset(test_list, transform=transforms_for_val_test)\n",
    "\n",
    "from torch.utils.data import DataLoader # 데이터 로더 클래스\n",
    "\n",
    "train_batches = DataLoader(dataset=dataset_train, batch_size=8, shuffle=True)\n",
    "val_batches = DataLoader(dataset=dataset_valid, batch_size=8, shuffle=False)\n",
    "test_batches = DataLoader(dataset=dataset_test, batch_size=8, shuffle=False)"
   ]
  },
  {
   "cell_type": "markdown",
   "metadata": {
    "id": "CGjV-Xcz8nTO",
    "pycharm": {
     "name": "#%% md\n"
    }
   },
   "source": [
    "### Create model"
   ]
  },
  {
   "cell_type": "code",
   "execution_count": 6,
   "metadata": {
    "colab": {
     "base_uri": "https://localhost:8080/"
    },
    "id": "wG1rWS208kRN",
    "outputId": "cccdb55c-3fe3-49e3-9e3e-ead9f3598c20",
    "pycharm": {
     "name": "#%%\n"
    }
   },
   "outputs": [
    {
     "name": "stdout",
     "output_type": "stream",
     "text": [
      "\u001b[K     |████████████████████████████████| 509 kB 2.1 MB/s \n",
      "\u001b[K     |████████████████████████████████| 4.9 MB 63.9 MB/s \n",
      "\u001b[K     |████████████████████████████████| 120 kB 79.3 MB/s \n",
      "\u001b[K     |████████████████████████████████| 6.6 MB 65.4 MB/s \n",
      "\u001b[?25h  Building wheel for efficientnet-pytorch (setup.py) ... \u001b[?25l\u001b[?25hdone\n"
     ]
    }
   ],
   "source": [
    "!pip install -q timm efficientnet_pytorch==0.7.1 transformers==4.22.1"
   ]
  },
  {
   "cell_type": "code",
   "execution_count": 7,
   "metadata": {
    "colab": {
     "base_uri": "https://localhost:8080/",
     "height": 105,
     "referenced_widgets": [
      "056d4ee514e54a25a223a8dcce80d85a",
      "be3ac955784942fd93adc2b57b3a792d",
      "cd9efd3290104dbc95dce2d09ba8a6ba",
      "bca4db74ca9f48608b084d9c135bf25a",
      "9a21b90f16be4925a96b378fc6d7625c",
      "2961255db1754c6795d4cd77fd3d0f77",
      "c45ada896fee46f9a19c7c6022a67bc0",
      "466a4bc46e4a42169cb8c9c85fac8330",
      "6938dc873c4146d1bcf4138039c6f3ca",
      "e0fe45116a3245069dd0cc2f6e845b33",
      "a8ea3e184f074776b58a7dea5f6755ac"
     ]
    },
    "id": "bkhZ1LVT81Nj",
    "outputId": "1dbcd468-57cf-4f27-9f99-4ae33a8694b4",
    "pycharm": {
     "name": "#%%\n"
    }
   },
   "outputs": [
    {
     "name": "stderr",
     "output_type": "stream",
     "text": [
      "Downloading: \"https://github.com/lukemelas/EfficientNet-PyTorch/releases/download/1.0/efficientnet-b7-dcc49843.pth\" to /root/.cache/torch/hub/checkpoints/efficientnet-b7-dcc49843.pth\n"
     ]
    },
    {
     "data": {
      "application/vnd.jupyter.widget-view+json": {
       "model_id": "056d4ee514e54a25a223a8dcce80d85a",
       "version_major": 2,
       "version_minor": 0
      },
      "text/plain": [
       "  0%|          | 0.00/254M [00:00<?, ?B/s]"
      ]
     },
     "metadata": {},
     "output_type": "display_data"
    },
    {
     "name": "stdout",
     "output_type": "stream",
     "text": [
      "Loaded pretrained weights for efficientnet-b7\n"
     ]
    }
   ],
   "source": [
    "from efficientnet_pytorch import EfficientNet\n",
    "model = EfficientNet.from_pretrained('efficientnet-b7')\n",
    "model._fc = nn.Sequential(\n",
    "    nn.Linear(model._fc.in_features, model._fc.out_features, bias=True),\n",
    "    nn.LeakyReLU(),\n",
    "    nn.BatchNorm1d(model._fc.out_features),\n",
    "    nn.Linear(model._fc.out_features, 1, bias=True),\n",
    "    nn.Sigmoid()\n",
    ")\n",
    "model.to(device)\n",
    "loss_func = nn.BCELoss()\n",
    "# optimizer = torch.optim.AdamW(model.parameters(), weight_decay=0.001)\n",
    "# optimizer = torch.optim.AdamW(model.parameters(), lr=1e-5, weight_decay=0.0001)\n",
    "# optimizer = torch.optim.Adamax(model.parameters(), lr=1e-5)\n",
    "optimizer = torch.optim.Adam(model.parameters(), lr=1e-5)"
   ]
  },
  {
   "cell_type": "markdown",
   "metadata": {
    "id": "5lZUir1v9TPw",
    "pycharm": {
     "name": "#%% md\n"
    }
   },
   "source": [
    "### Define Train Function"
   ]
  },
  {
   "cell_type": "code",
   "execution_count": 8,
   "metadata": {
    "id": "sxO6MCPm8-as",
    "pycharm": {
     "name": "#%%\n"
    }
   },
   "outputs": [],
   "source": [
    "def train_model(model, criterion, optimizer, early_stop, epochs, train_loader, valid_loader):\n",
    "    train_losses, train_accuracies, valid_losses, valid_accuracies, lowest_loss, lowest_epoch = list(), list(), list(), list(), np.inf, 0\n",
    "    \n",
    "    # DEBUG\n",
    "    progress_count = 0\n",
    "\n",
    "    for epoch in range(epochs):\n",
    "        train_loss, train_accuracy, train_corrects, valid_loss, valid_accuracy, valid_corrects = 0, 0, 0, 0, 0, 0\n",
    "        train_correct, valid_correct = 0, 0\n",
    "\n",
    "        start = time.time()\n",
    "        model.train()\n",
    "        for train_x, train_y in train_loader:\n",
    "            train_x = train_x.to(device)\n",
    "            train_y = train_y.to(device).float()\n",
    "            train_y = train_y.view(train_y.size(0), -1)\n",
    "            pred = model(train_x)\n",
    "            loss = criterion(pred, train_y)\n",
    "\n",
    "            optimizer.zero_grad()\n",
    "            loss.backward()\n",
    "            optimizer.step()\n",
    "            train_loss += loss.item()\n",
    "            \n",
    "            y_pred = np.round(pred.detach().cpu())\n",
    "            train_correct += y_pred.eq(train_y.detach().cpu()).sum().item()\n",
    "            \n",
    "            # DEBUG \n",
    "            # if (progress_count % 10) == 0:\n",
    "            #    print (y_pred.eq(train_y.detach().cpu()).sum().item(), len(y_pred))\n",
    "            # progress_count += 1\n",
    "            \n",
    "\n",
    "        train_loss = train_loss / len(train_loader)\n",
    "        train_losses.append(train_loss)\n",
    "        train_accuracy = train_correct / len(train_loader.dataset)\n",
    "        train_accuracies.append(train_accuracy)\n",
    "\n",
    "        model.eval()\n",
    "        with torch.no_grad():\n",
    "            for valid_x, valid_y in valid_loader:\n",
    "                valid_x = valid_x.to(device)\n",
    "                valid_y = valid_y.to(device).float()\n",
    "                valid_y = valid_y.view(valid_y.size(0), -1)\n",
    "                pred = model(valid_x)\n",
    "                loss = criterion(pred, valid_y)\n",
    "                valid_loss += loss.item()\n",
    "            \n",
    "                y_pred = np.round(pred.detach().cpu())\n",
    "                valid_correct += y_pred.eq(valid_y.detach().cpu()).sum().item()\n",
    "\n",
    "        valid_loss = valid_loss / len(valid_loader)\n",
    "        valid_losses.append(valid_loss)\n",
    "        valid_accuracy = valid_correct / len(valid_loader.dataset)\n",
    "        valid_accuracies.append(valid_accuracy)\n",
    "        \n",
    "        elapsed_time = time.time() - start\n",
    "        print(f'[Epoch {epoch+1}/{epochs}]: {elapsed_time:.3f} sec(elapsed time), train loss: {train_losses[-1]:.4f}, train acc: {train_accuracy * 100:.3f}% / valid loss: {valid_losses[-1]:.4f}, valid acc: {valid_accuracy * 100:.3f}%')\n",
    "\n",
    "        if valid_losses[-1] < lowest_loss:\n",
    "            lowest_loss = valid_losses[-1]\n",
    "            lowest_epoch = epoch\n",
    "            best_model = deepcopy(model.state_dict())\n",
    "        else:\n",
    "            if (early_stop > 0) and lowest_epoch + early_stop < epoch:\n",
    "                print (\"Early Stopped\", epoch, \"epochs\")\n",
    "                break\n",
    "        \n",
    "        # scheduler.step()\n",
    "\n",
    "    model.load_state_dict(best_model)        \n",
    "    return model, lowest_loss, train_losses, valid_losses, train_accuracies, valid_accuracies\n",
    "\n"
   ]
  },
  {
   "cell_type": "markdown",
   "metadata": {
    "id": "AtLQyQo690dv",
    "pycharm": {
     "name": "#%% md\n"
    }
   },
   "source": [
    "### Training"
   ]
  },
  {
   "cell_type": "code",
   "execution_count": null,
   "metadata": {
    "colab": {
     "base_uri": "https://localhost:8080/"
    },
    "id": "CkzlcRl-9uhm",
    "outputId": "cd09f7b7-2a24-4219-eac3-8021bf0f6d24",
    "pycharm": {
     "name": "#%%\n"
    }
   },
   "outputs": [
    {
     "name": "stdout",
     "output_type": "stream",
     "text": [
      "[Epoch 1/20]: 1277.115 sec(elapsed time), train loss: 0.2477, train acc: 89.364% / valid loss: 0.0727, valid acc: 98.560%\n",
      "[Epoch 2/20]: 1273.300 sec(elapsed time), train loss: 0.1492, train acc: 94.164% / valid loss: 0.0496, valid acc: 98.800%\n",
      "[Epoch 3/20]: 1274.286 sec(elapsed time), train loss: 0.1162, train acc: 95.929% / valid loss: 0.0345, valid acc: 99.200%\n",
      "[Epoch 4/20]: 1273.317 sec(elapsed time), train loss: 0.0943, train acc: 96.796% / valid loss: 0.0305, valid acc: 99.440%\n",
      "[Epoch 5/20]: 1273.554 sec(elapsed time), train loss: 0.0772, train acc: 97.596% / valid loss: 0.0324, valid acc: 99.320%\n",
      "[Epoch 6/20]: 1273.202 sec(elapsed time), train loss: 0.0684, train acc: 97.991% / valid loss: 0.0234, valid acc: 99.440%\n",
      "[Epoch 7/20]: 1272.626 sec(elapsed time), train loss: 0.0507, train acc: 98.400% / valid loss: 0.0243, valid acc: 99.440%\n",
      "[Epoch 8/20]: 1273.796 sec(elapsed time), train loss: 0.0510, train acc: 98.569% / valid loss: 0.0173, valid acc: 99.560%\n",
      "[Epoch 9/20]: 1273.396 sec(elapsed time), train loss: 0.0462, train acc: 98.658% / valid loss: 0.0234, valid acc: 99.520%\n",
      "[Epoch 10/20]: 1273.230 sec(elapsed time), train loss: 0.0548, train acc: 98.596% / valid loss: 0.0178, valid acc: 99.600%\n",
      "[Epoch 11/20]: 1272.869 sec(elapsed time), train loss: 0.0366, train acc: 98.964% / valid loss: 0.0233, valid acc: 99.440%\n",
      "[Epoch 12/20]: 1273.325 sec(elapsed time), train loss: 0.0360, train acc: 98.969% / valid loss: 0.0184, valid acc: 99.440%\n",
      "[Epoch 13/20]: 1273.195 sec(elapsed time), train loss: 0.0314, train acc: 99.071% / valid loss: 0.0158, valid acc: 99.640%\n",
      "[Epoch 14/20]: 1272.390 sec(elapsed time), train loss: 0.0461, train acc: 98.929% / valid loss: 0.0148, valid acc: 99.600%\n",
      "[Epoch 15/20]: 1272.189 sec(elapsed time), train loss: 0.0312, train acc: 99.107% / valid loss: 0.0166, valid acc: 99.560%\n",
      "[Epoch 16/20]: 1274.227 sec(elapsed time), train loss: 0.0281, train acc: 99.164% / valid loss: 0.0141, valid acc: 99.640%\n",
      "[Epoch 17/20]: 1273.416 sec(elapsed time), train loss: 0.0336, train acc: 99.036% / valid loss: 0.0136, valid acc: 99.480%\n",
      "[Epoch 18/20]: 1272.757 sec(elapsed time), train loss: 0.0315, train acc: 99.084% / valid loss: 0.0151, valid acc: 99.560%\n",
      "[Epoch 19/20]: 1275.489 sec(elapsed time), train loss: 0.0274, train acc: 99.231% / valid loss: 0.0126, valid acc: 99.640%\n",
      "[Epoch 20/20]: 1276.699 sec(elapsed time), train loss: 0.0177, train acc: 99.431% / valid loss: 0.0142, valid acc: 99.640%\n"
     ]
    }
   ],
   "source": [
    "model, lowest_loss, train_losses, valid_losses, train_accuracies, valid_accuracies = train_model(model, loss_func, optimizer, 0, 20, train_batches, val_batches)"
   ]
  },
  {
   "cell_type": "markdown",
   "metadata": {
    "id": "6-V5ojwF_qwr",
    "pycharm": {
     "name": "#%% md\n"
    }
   },
   "source": [
    "### Save Model"
   ]
  },
  {
   "cell_type": "code",
   "execution_count": null,
   "metadata": {
    "id": "KoK3SEhT_plX",
    "pycharm": {
     "name": "#%%\n"
    }
   },
   "outputs": [],
   "source": [
    "PATH = '/content/drive/MyDrive/Colab Notebooks/00_data/dogs-vs-cats/'\n",
    "torch.save(model.state_dict(), PATH + 'model_efficientnet-b7_without_scheduler_adam_1e5_epoch20.pth')  # 모델 객체의 state_dict 저장"
   ]
  },
  {
   "cell_type": "markdown",
   "metadata": {
    "id": "-gFnQzLewitS",
    "pycharm": {
     "name": "#%% md\n"
    }
   },
   "source": [
    "### Load Model"
   ]
  },
  {
   "cell_type": "code",
   "execution_count": 11,
   "metadata": {
    "colab": {
     "base_uri": "https://localhost:8080/"
    },
    "id": "1fjX3LPtwhxO",
    "outputId": "4194963c-8970-4178-e12a-f5a66eaf3d3e",
    "pycharm": {
     "name": "#%%\n"
    }
   },
   "outputs": [
    {
     "data": {
      "text/plain": [
       "<All keys matched successfully>"
      ]
     },
     "execution_count": 11,
     "metadata": {},
     "output_type": "execute_result"
    }
   ],
   "source": [
    "PATH = '/content/drive/MyDrive/Colab Notebooks/00_data/dogs-vs-cats/'\n",
    "model.load_state_dict(torch.load(PATH + 'model_efficientnet-b7_without_scheduler_adam_1e5_epoch20.pth'))"
   ]
  },
  {
   "cell_type": "markdown",
   "metadata": {
    "id": "NSy5d-PS_hxM",
    "pycharm": {
     "name": "#%% md\n"
    }
   },
   "source": [
    "### Predict & Submit"
   ]
  },
  {
   "cell_type": "code",
   "execution_count": 10,
   "metadata": {
    "id": "A7k0o_4D98RI",
    "pycharm": {
     "name": "#%%\n"
    }
   },
   "outputs": [],
   "source": [
    "test_list = glob.glob(os.path.join(test_dir, '*.jpg'))\n",
    "dataset_test = CustomDataset(test_list, transform=transforms_for_val_test)\n",
    "test_batches = DataLoader(dataset=dataset_test, batch_size=8, shuffle=False)\n",
    "\n",
    "def predict(model, data_loader):\n",
    "    ids = list()\n",
    "    with torch.no_grad():\n",
    "        model.eval()\n",
    "        ret = None\n",
    "        for img, fileid in data_loader:\n",
    "            img = img.to(device)\n",
    "            pred = model(img)\n",
    "            ids += list(fileid)\n",
    "            if ret is None:\n",
    "                ret = pred.cpu().numpy()\n",
    "            else:\n",
    "                ret = np.vstack([ret, pred.cpu().numpy()])\n",
    "    return ret, ids\n",
    "   \n",
    "pred, ids = predict(model, test_batches)"
   ]
  },
  {
   "cell_type": "markdown",
   "metadata": {
    "id": "eLh-DTcoz3lZ",
    "pycharm": {
     "name": "#%% md\n"
    }
   },
   "source": [
    "### Submission"
   ]
  },
  {
   "cell_type": "code",
   "execution_count": 12,
   "metadata": {
    "id": "AfHASgsfxhSx",
    "pycharm": {
     "name": "#%%\n"
    }
   },
   "outputs": [],
   "source": [
    "submission = pd.DataFrame({'id': ids, 'label': np.clip(pred, 0.005, 1-0.005).squeeze()})\n",
    "submission.sort_values(by='id', inplace=True)\n",
    "submission.reset_index(drop=True, inplace=True)\n",
    "submission.to_csv('submission.csv', index=False)"
   ]
  },
  {
   "cell_type": "markdown",
   "metadata": {
    "id": "QlCVV3UZXTwL",
    "pycharm": {
     "name": "#%% md\n"
    }
   },
   "source": [
    "### Test for Optimal Clipping"
   ]
  },
  {
   "cell_type": "code",
   "execution_count": null,
   "metadata": {
    "id": "I6Up5U9tyHmu",
    "pycharm": {
     "name": "#%%\n"
    }
   },
   "outputs": [],
   "source": [
    "submission = pd.DataFrame({'id': ids, 'label': np.clip(pred, 0.005, 1-0.005).squeeze()})\n",
    "submission.sort_values(by='id', inplace=True)\n",
    "submission.reset_index(drop=True, inplace=True)\n",
    "submission.to_csv('submission.csv', index=False)"
   ]
  }
 ],
 "metadata": {
  "accelerator": "GPU",
  "colab": {
   "collapsed_sections": [],
   "machine_shape": "hm",
   "provenance": []
  },
  "kernelspec": {
   "display_name": "Python 3 (ipykernel)",
   "language": "python",
   "name": "python3"
  },
  "language_info": {
   "codemirror_mode": {
    "name": "ipython",
    "version": 3
   },
   "file_extension": ".py",
   "mimetype": "text/x-python",
   "name": "python",
   "nbconvert_exporter": "python",
   "pygments_lexer": "ipython3",
   "version": "3.9.13"
  },
  "widgets": {
   "application/vnd.jupyter.widget-state+json": {
    "056d4ee514e54a25a223a8dcce80d85a": {
     "model_module": "@jupyter-widgets/controls",
     "model_module_version": "1.5.0",
     "model_name": "HBoxModel",
     "state": {
      "_dom_classes": [],
      "_model_module": "@jupyter-widgets/controls",
      "_model_module_version": "1.5.0",
      "_model_name": "HBoxModel",
      "_view_count": null,
      "_view_module": "@jupyter-widgets/controls",
      "_view_module_version": "1.5.0",
      "_view_name": "HBoxView",
      "box_style": "",
      "children": [
       "IPY_MODEL_be3ac955784942fd93adc2b57b3a792d",
       "IPY_MODEL_cd9efd3290104dbc95dce2d09ba8a6ba",
       "IPY_MODEL_bca4db74ca9f48608b084d9c135bf25a"
      ],
      "layout": "IPY_MODEL_9a21b90f16be4925a96b378fc6d7625c"
     }
    },
    "2961255db1754c6795d4cd77fd3d0f77": {
     "model_module": "@jupyter-widgets/base",
     "model_module_version": "1.2.0",
     "model_name": "LayoutModel",
     "state": {
      "_model_module": "@jupyter-widgets/base",
      "_model_module_version": "1.2.0",
      "_model_name": "LayoutModel",
      "_view_count": null,
      "_view_module": "@jupyter-widgets/base",
      "_view_module_version": "1.2.0",
      "_view_name": "LayoutView",
      "align_content": null,
      "align_items": null,
      "align_self": null,
      "border": null,
      "bottom": null,
      "display": null,
      "flex": null,
      "flex_flow": null,
      "grid_area": null,
      "grid_auto_columns": null,
      "grid_auto_flow": null,
      "grid_auto_rows": null,
      "grid_column": null,
      "grid_gap": null,
      "grid_row": null,
      "grid_template_areas": null,
      "grid_template_columns": null,
      "grid_template_rows": null,
      "height": null,
      "justify_content": null,
      "justify_items": null,
      "left": null,
      "margin": null,
      "max_height": null,
      "max_width": null,
      "min_height": null,
      "min_width": null,
      "object_fit": null,
      "object_position": null,
      "order": null,
      "overflow": null,
      "overflow_x": null,
      "overflow_y": null,
      "padding": null,
      "right": null,
      "top": null,
      "visibility": null,
      "width": null
     }
    },
    "466a4bc46e4a42169cb8c9c85fac8330": {
     "model_module": "@jupyter-widgets/base",
     "model_module_version": "1.2.0",
     "model_name": "LayoutModel",
     "state": {
      "_model_module": "@jupyter-widgets/base",
      "_model_module_version": "1.2.0",
      "_model_name": "LayoutModel",
      "_view_count": null,
      "_view_module": "@jupyter-widgets/base",
      "_view_module_version": "1.2.0",
      "_view_name": "LayoutView",
      "align_content": null,
      "align_items": null,
      "align_self": null,
      "border": null,
      "bottom": null,
      "display": null,
      "flex": null,
      "flex_flow": null,
      "grid_area": null,
      "grid_auto_columns": null,
      "grid_auto_flow": null,
      "grid_auto_rows": null,
      "grid_column": null,
      "grid_gap": null,
      "grid_row": null,
      "grid_template_areas": null,
      "grid_template_columns": null,
      "grid_template_rows": null,
      "height": null,
      "justify_content": null,
      "justify_items": null,
      "left": null,
      "margin": null,
      "max_height": null,
      "max_width": null,
      "min_height": null,
      "min_width": null,
      "object_fit": null,
      "object_position": null,
      "order": null,
      "overflow": null,
      "overflow_x": null,
      "overflow_y": null,
      "padding": null,
      "right": null,
      "top": null,
      "visibility": null,
      "width": null
     }
    },
    "6938dc873c4146d1bcf4138039c6f3ca": {
     "model_module": "@jupyter-widgets/controls",
     "model_module_version": "1.5.0",
     "model_name": "ProgressStyleModel",
     "state": {
      "_model_module": "@jupyter-widgets/controls",
      "_model_module_version": "1.5.0",
      "_model_name": "ProgressStyleModel",
      "_view_count": null,
      "_view_module": "@jupyter-widgets/base",
      "_view_module_version": "1.2.0",
      "_view_name": "StyleView",
      "bar_color": null,
      "description_width": ""
     }
    },
    "9a21b90f16be4925a96b378fc6d7625c": {
     "model_module": "@jupyter-widgets/base",
     "model_module_version": "1.2.0",
     "model_name": "LayoutModel",
     "state": {
      "_model_module": "@jupyter-widgets/base",
      "_model_module_version": "1.2.0",
      "_model_name": "LayoutModel",
      "_view_count": null,
      "_view_module": "@jupyter-widgets/base",
      "_view_module_version": "1.2.0",
      "_view_name": "LayoutView",
      "align_content": null,
      "align_items": null,
      "align_self": null,
      "border": null,
      "bottom": null,
      "display": null,
      "flex": null,
      "flex_flow": null,
      "grid_area": null,
      "grid_auto_columns": null,
      "grid_auto_flow": null,
      "grid_auto_rows": null,
      "grid_column": null,
      "grid_gap": null,
      "grid_row": null,
      "grid_template_areas": null,
      "grid_template_columns": null,
      "grid_template_rows": null,
      "height": null,
      "justify_content": null,
      "justify_items": null,
      "left": null,
      "margin": null,
      "max_height": null,
      "max_width": null,
      "min_height": null,
      "min_width": null,
      "object_fit": null,
      "object_position": null,
      "order": null,
      "overflow": null,
      "overflow_x": null,
      "overflow_y": null,
      "padding": null,
      "right": null,
      "top": null,
      "visibility": null,
      "width": null
     }
    },
    "a8ea3e184f074776b58a7dea5f6755ac": {
     "model_module": "@jupyter-widgets/controls",
     "model_module_version": "1.5.0",
     "model_name": "DescriptionStyleModel",
     "state": {
      "_model_module": "@jupyter-widgets/controls",
      "_model_module_version": "1.5.0",
      "_model_name": "DescriptionStyleModel",
      "_view_count": null,
      "_view_module": "@jupyter-widgets/base",
      "_view_module_version": "1.2.0",
      "_view_name": "StyleView",
      "description_width": ""
     }
    },
    "bca4db74ca9f48608b084d9c135bf25a": {
     "model_module": "@jupyter-widgets/controls",
     "model_module_version": "1.5.0",
     "model_name": "HTMLModel",
     "state": {
      "_dom_classes": [],
      "_model_module": "@jupyter-widgets/controls",
      "_model_module_version": "1.5.0",
      "_model_name": "HTMLModel",
      "_view_count": null,
      "_view_module": "@jupyter-widgets/controls",
      "_view_module_version": "1.5.0",
      "_view_name": "HTMLView",
      "description": "",
      "description_tooltip": null,
      "layout": "IPY_MODEL_e0fe45116a3245069dd0cc2f6e845b33",
      "placeholder": "​",
      "style": "IPY_MODEL_a8ea3e184f074776b58a7dea5f6755ac",
      "value": " 254M/254M [00:17&lt;00:00, 10.2MB/s]"
     }
    },
    "be3ac955784942fd93adc2b57b3a792d": {
     "model_module": "@jupyter-widgets/controls",
     "model_module_version": "1.5.0",
     "model_name": "HTMLModel",
     "state": {
      "_dom_classes": [],
      "_model_module": "@jupyter-widgets/controls",
      "_model_module_version": "1.5.0",
      "_model_name": "HTMLModel",
      "_view_count": null,
      "_view_module": "@jupyter-widgets/controls",
      "_view_module_version": "1.5.0",
      "_view_name": "HTMLView",
      "description": "",
      "description_tooltip": null,
      "layout": "IPY_MODEL_2961255db1754c6795d4cd77fd3d0f77",
      "placeholder": "​",
      "style": "IPY_MODEL_c45ada896fee46f9a19c7c6022a67bc0",
      "value": "100%"
     }
    },
    "c45ada896fee46f9a19c7c6022a67bc0": {
     "model_module": "@jupyter-widgets/controls",
     "model_module_version": "1.5.0",
     "model_name": "DescriptionStyleModel",
     "state": {
      "_model_module": "@jupyter-widgets/controls",
      "_model_module_version": "1.5.0",
      "_model_name": "DescriptionStyleModel",
      "_view_count": null,
      "_view_module": "@jupyter-widgets/base",
      "_view_module_version": "1.2.0",
      "_view_name": "StyleView",
      "description_width": ""
     }
    },
    "cd9efd3290104dbc95dce2d09ba8a6ba": {
     "model_module": "@jupyter-widgets/controls",
     "model_module_version": "1.5.0",
     "model_name": "FloatProgressModel",
     "state": {
      "_dom_classes": [],
      "_model_module": "@jupyter-widgets/controls",
      "_model_module_version": "1.5.0",
      "_model_name": "FloatProgressModel",
      "_view_count": null,
      "_view_module": "@jupyter-widgets/controls",
      "_view_module_version": "1.5.0",
      "_view_name": "ProgressView",
      "bar_style": "success",
      "description": "",
      "description_tooltip": null,
      "layout": "IPY_MODEL_466a4bc46e4a42169cb8c9c85fac8330",
      "max": 266860719,
      "min": 0,
      "orientation": "horizontal",
      "style": "IPY_MODEL_6938dc873c4146d1bcf4138039c6f3ca",
      "value": 266860719
     }
    },
    "e0fe45116a3245069dd0cc2f6e845b33": {
     "model_module": "@jupyter-widgets/base",
     "model_module_version": "1.2.0",
     "model_name": "LayoutModel",
     "state": {
      "_model_module": "@jupyter-widgets/base",
      "_model_module_version": "1.2.0",
      "_model_name": "LayoutModel",
      "_view_count": null,
      "_view_module": "@jupyter-widgets/base",
      "_view_module_version": "1.2.0",
      "_view_name": "LayoutView",
      "align_content": null,
      "align_items": null,
      "align_self": null,
      "border": null,
      "bottom": null,
      "display": null,
      "flex": null,
      "flex_flow": null,
      "grid_area": null,
      "grid_auto_columns": null,
      "grid_auto_flow": null,
      "grid_auto_rows": null,
      "grid_column": null,
      "grid_gap": null,
      "grid_row": null,
      "grid_template_areas": null,
      "grid_template_columns": null,
      "grid_template_rows": null,
      "height": null,
      "justify_content": null,
      "justify_items": null,
      "left": null,
      "margin": null,
      "max_height": null,
      "max_width": null,
      "min_height": null,
      "min_width": null,
      "object_fit": null,
      "object_position": null,
      "order": null,
      "overflow": null,
      "overflow_x": null,
      "overflow_y": null,
      "padding": null,
      "right": null,
      "top": null,
      "visibility": null,
      "width": null
     }
    }
   }
  }
 },
 "nbformat": 4,
 "nbformat_minor": 1
}
