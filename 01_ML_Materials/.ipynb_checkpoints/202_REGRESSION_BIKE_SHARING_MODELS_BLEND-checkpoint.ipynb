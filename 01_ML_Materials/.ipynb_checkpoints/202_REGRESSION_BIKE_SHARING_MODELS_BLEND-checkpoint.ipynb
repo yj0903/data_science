{
 "cells": [
  {
   "cell_type": "markdown",
   "metadata": {},
   "source": [
    "<div class=\"alert alert-block\" style=\"border: 1px solid #455A64;background-color:#ECEFF1;\">\n",
    "본 자료 및 영상 컨텐츠는 저작권법 제25조 2항에 의해 보호를 받습니다. 본 컨텐츠 및 컨텐츠 일부 문구등을 외부에 공개, 게시하는 것을 금지합니다. 특히 자료에 대해서는 저작권법을 엄격하게 적용하겠습니다.\n",
    "</div>"
   ]
  },
  {
   "cell_type": "markdown",
   "metadata": {},
   "source": [
    "### 0. Get data"
   ]
  },
  {
   "cell_type": "raw",
   "metadata": {},
   "source": [
    "!kaggle competitions download -c bike-sharing-demand"
   ]
  },
  {
   "cell_type": "markdown",
   "metadata": {},
   "source": [
    "### 1. train/test 데이터 임포트"
   ]
  },
  {
   "cell_type": "code",
   "execution_count": null,
   "metadata": {},
   "outputs": [],
   "source": [
    "import numpy as np\n",
    "import pandas as pd\n",
    "\n",
    "from sklearn.ensemble import RandomForestRegressor, GradientBoostingRegressor\n",
    "from xgboost import XGBRegressor \n",
    "from sklearn.preprocessing import OneHotEncoder, StandardScaler\n",
    "from sklearn.model_selection import StratifiedKFold\n",
    "from sklearn.metrics import accuracy_score\n",
    "\n",
    "import string\n",
    "import warnings\n",
    "import missingno\n",
    "warnings.filterwarnings('ignore')"
   ]
  },
  {
   "cell_type": "code",
   "execution_count": null,
   "metadata": {},
   "outputs": [],
   "source": [
    "df_train = pd.read_csv('bikesharing/train.csv')\n",
    "df_test = pd.read_csv('bikesharing/test.csv')\n",
    "df_all = pd.concat((df_train, df_test)).reset_index(drop=True)"
   ]
  },
  {
   "cell_type": "code",
   "execution_count": null,
   "metadata": {},
   "outputs": [],
   "source": [
    "def split_df(df):\n",
    "    return df[:10885], df[10886:]"
   ]
  },
  {
   "cell_type": "markdown",
   "metadata": {},
   "source": [
    "### RMSLE 기반 예측을 위한 log 필드 추가\n",
    "> RMSLE 가 log 로 계산되므로, 예측값 또한 log 값으로 계산되도록 하는 편이 보다 RMSLE 성능에 도움을 줌"
   ]
  },
  {
   "cell_type": "code",
   "execution_count": null,
   "metadata": {},
   "outputs": [],
   "source": [
    "df_all['casual_log'] = np.log(df_all['casual'] + 1)\n",
    "df_all['registered_log'] = np.log(df_all['registered'] + 1)\n",
    "df_all['count_log'] = np.log(df_all['count'] + 1)"
   ]
  },
  {
   "cell_type": "markdown",
   "metadata": {},
   "source": [
    "### 시간 필드 추가"
   ]
  },
  {
   "cell_type": "code",
   "execution_count": null,
   "metadata": {},
   "outputs": [],
   "source": [
    "dt = pd.DatetimeIndex(df_all['datetime'])\n",
    "df_all.set_index(dt, inplace=True)\n",
    "\n",
    "df_all['date'] = dt.date\n",
    "df_all['day'] = dt.day\n",
    "df_all['month'] = dt.month\n",
    "df_all['year'] = dt.year\n",
    "df_all['hour'] = dt.hour\n",
    "df_all['dow'] = dt.dayofweek\n",
    "df_all['woy'] = dt.weekofyear"
   ]
  },
  {
   "cell_type": "markdown",
   "metadata": {},
   "source": [
    "### peak 타임 필드 추가"
   ]
  },
  {
   "cell_type": "code",
   "execution_count": null,
   "metadata": {},
   "outputs": [],
   "source": [
    "def func(df_data):\n",
    "    if df_data['workingday'] == 1:\n",
    "        if (df_data['hour'] == 8) or (df_data['hour'] == 17) or (df_data['hour'] == 18):\n",
    "            return 4\n",
    "        elif (df_data['hour'] == 7) or (df_data['hour'] == 16) or (df_data['hour'] == 19): \n",
    "            return 3           \n",
    "    else:\n",
    "        if (df_data['hour'] >= 12 and df_data['hour'] <= 16):\n",
    "            return 2\n",
    "        elif (df_data['hour'] >= 10 and df_data['hour'] <= 19):\n",
    "            return 1\n",
    "    return 0\n",
    "\n",
    "# 0 or ‘index’: 각 컬럼에 함수 적용, 1 or ‘columns’: 각 행에 함수 적용\n",
    "df_all['peak'] = df_all.apply(func, axis=1)"
   ]
  },
  {
   "cell_type": "code",
   "execution_count": null,
   "metadata": {},
   "outputs": [],
   "source": [
    "def func(df_data):\n",
    "    # 2021.10.22 업데이트\n",
    "    # 영상에서는 24 일부터 31 일까지를 적용하지만, 테스트 결과 대부분 확실히 쉬는 24일과 31일만 적용했을 때,\n",
    "    # 보다 결과가 좋았기 때문에, 24일과 31일만 적용하였습니다.\n",
    "    if (df_data['month'] == 12) and (df_data['day'] >= 24 or df_data['day'] <= 31):\n",
    "            return 1\n",
    "    return df_data['holiday']\n",
    "\n",
    "df_all['holiday'] = df_all.apply(func, axis=1)"
   ]
  },
  {
   "cell_type": "code",
   "execution_count": null,
   "metadata": {},
   "outputs": [],
   "source": [
    "def func(df_data):\n",
    "    # 2021.10.22 업데이트\n",
    "    # 영상에서는 24 일부터 31 일까지를 적용하지만, 테스트 결과 대부분 확실히 쉬는 24일과 31일만 적용했을 때,\n",
    "    # 보다 결과가 좋았기 때문에, 24일과 31일만 적용하였습니다.\n",
    "    if (df_data['month'] == 12) and (df_data['day'] == 24 or df_data['day'] == 31):\n",
    "            return 0\n",
    "    return df_data['workingday']\n",
    "\n",
    "df_all['workingday'] = df_all.apply(func, axis=1)"
   ]
  },
  {
   "cell_type": "markdown",
   "metadata": {},
   "source": [
    "### 온도, 풍속, 습도, 날씨 기반 fit & humid 필드 추가"
   ]
  },
  {
   "cell_type": "code",
   "execution_count": null,
   "metadata": {},
   "outputs": [],
   "source": [
    "def func(df_data):\n",
    "    if (df_data['weather'] <= 2 and df_data['windspeed'] <= 20):\n",
    "        if (df_data['temp'] > 15 and df_data['temp'] <= 35):\n",
    "            return 1\n",
    "    return 0\n",
    "\n",
    "df_all['fit'] = df_all.apply(func, axis=1)"
   ]
  },
  {
   "cell_type": "code",
   "execution_count": null,
   "metadata": {},
   "outputs": [],
   "source": [
    "def func(df_data):\n",
    "    if df_data['humidity'] >= 70:\n",
    "            return 1\n",
    "    return 0\n",
    "\n",
    "df_all['humid'] = df_all.apply(func, axis=1)"
   ]
  },
  {
   "cell_type": "markdown",
   "metadata": {},
   "source": [
    "### Metric"
   ]
  },
  {
   "cell_type": "code",
   "execution_count": null,
   "metadata": {},
   "outputs": [],
   "source": [
    "from sklearn.metrics import make_scorer\n",
    "\n",
    "def get_rmsle(y_actual, y_pred):\n",
    "    diff = np.log(y_pred + 1) - np.log(y_actual + 1)\n",
    "    mean_error = np.square(diff).mean()\n",
    "    return np.sqrt(mean_error)"
   ]
  },
  {
   "cell_type": "markdown",
   "metadata": {},
   "source": [
    "### Model Evaluation\n",
    "- 참고: np.log() 와 np.exp 는 역함수 \n",
    "- 수학적인 부분보다, 다음과 같이 코드로 바로 이해하기로 함"
   ]
  },
  {
   "cell_type": "code",
   "execution_count": null,
   "metadata": {},
   "outputs": [],
   "source": [
    "def predict_bikecount(model, select_columns):\n",
    "    df_train, df_test = split_df(df_all)\n",
    "\n",
    "    X_train = df_train[select_columns]\n",
    "    y_train_cas = df_train['casual_log']\n",
    "    y_train_reg = df_train['registered_log']\n",
    "    X_test = df_test[select_columns]\n",
    "    \n",
    "    casual_model = model.fit(X_train, y_train_cas)\n",
    "    y_pred_cas = casual_model.predict(X_test)\n",
    "    y_pred_cas = np.exp(y_pred_cas) - 1\n",
    "\n",
    "    registered_model = model.fit(X_train, y_train_reg)\n",
    "    y_pred_reg = registered_model.predict(X_test)\n",
    "    y_pred_reg = np.exp(y_pred_reg) - 1\n",
    "\n",
    "    return y_pred_cas + y_pred_reg"
   ]
  },
  {
   "cell_type": "markdown",
   "metadata": {},
   "source": [
    "### Model Evaluation Test: Random Forest Regressor"
   ]
  },
  {
   "cell_type": "code",
   "execution_count": null,
   "metadata": {},
   "outputs": [],
   "source": [
    "df_train, df_test = split_df(df_all)\n",
    "randomforest_columns = [\n",
    "    'weather', 'temp', 'atemp', 'windspeed', 'workingday', 'season', 'holiday', 'hour', 'dow', \n",
    "    'humid', 'woy', 'peak'\n",
    "]\n",
    "X_train = df_train[randomforest_columns].copy()\n",
    "y_train = df_train['count']\n",
    "rmsle_scorer = make_scorer(get_rmsle, greater_is_better=False)"
   ]
  },
  {
   "cell_type": "code",
   "execution_count": null,
   "metadata": {
    "scrolled": true
   },
   "outputs": [],
   "source": [
    "from sklearn.model_selection import GridSearchCV\n",
    "\n",
    "n_estimators = [800, 1000, 1200]\n",
    "max_depth = [10, 12, 15]\n",
    "min_samples_split = [4, 5, 6]\n",
    "min_samples_leaf = [4, 5, 6]\n",
    "\n",
    "hyperparams = {'n_estimators': n_estimators, 'max_depth': max_depth, \n",
    "               'min_samples_split': min_samples_split, 'min_samples_leaf': min_samples_leaf}\n",
    "\n",
    "rf_grid = GridSearchCV(estimator = RandomForestRegressor(), param_grid = hyperparams, \n",
    "                verbose=True, scoring=rmsle_scorer, cv=5, n_jobs=-1)\n",
    "\n",
    "rf_grid.fit(X_train, y_train)\n",
    "print(rf_grid.best_params_)"
   ]
  },
  {
   "cell_type": "code",
   "execution_count": null,
   "metadata": {},
   "outputs": [],
   "source": [
    "rf_model = rf_grid.best_estimator_\n",
    "ml_pred = predict_bikecount(rf_model, randomforest_columns)\n",
    "df_test['count'] = ml_pred\n",
    "final_df = df_test[['datetime', 'count']].copy()\n",
    "final_df.to_csv('submission_rf.csv', header=True, index=False)\n",
    "!kaggle competitions submit -c bike-sharing-demand -f submission_rf.csv -m \"Message\""
   ]
  },
  {
   "cell_type": "markdown",
   "metadata": {},
   "source": [
    "### Model Evaluation Test: XGBoost Regressor"
   ]
  },
  {
   "cell_type": "code",
   "execution_count": null,
   "metadata": {},
   "outputs": [],
   "source": [
    "df_train, df_test = split_df(df_all)\n",
    "xgboost_columns = [\n",
    "    'weather', 'temp', 'atemp', 'windspeed', 'workingday', 'season', 'holiday', 'hour', 'dow',\n",
    "    'humidity', 'fit', 'year'\n",
    "]\n",
    "X_train = df_train[xgboost_columns].copy()\n",
    "y_train = df_train['count']\n",
    "rmsle_scorer = make_scorer(get_rmsle, greater_is_better=False)"
   ]
  },
  {
   "cell_type": "code",
   "execution_count": null,
   "metadata": {},
   "outputs": [],
   "source": [
    "from xgboost import XGBRegressor # 회귀트리 모델\n",
    "from sklearn.model_selection import GridSearchCV\n",
    "\n",
    "hyperparams = {'nthread':[4],\n",
    "              'learning_rate': [0.02, 0.05, 0.1],\n",
    "              'max_depth': [4, 5],\n",
    "              'min_child_weight': [4, 5],\n",
    "              'subsample': [0.8, 0.9],\n",
    "              'colsample_bytree': [0.7, 0.8],\n",
    "              'n_estimators': [500, 750, 1000]}\n",
    "\n",
    "xgb_grid = GridSearchCV(estimator = XGBRegressor(), param_grid = hyperparams, \n",
    "                verbose=True, scoring=rmsle_scorer, cv=5, n_jobs=-1)\n",
    "\n",
    "xgb_grid.fit(X_train, y_train)\n",
    "print(xgb_grid.best_params_)"
   ]
  },
  {
   "cell_type": "code",
   "execution_count": null,
   "metadata": {},
   "outputs": [],
   "source": [
    "xgb_model = xgb_grid.best_estimator_\n",
    "ml_pred = predict_bikecount(xgb_model, xgboost_columns)\n",
    "df_test['count'] = ml_pred\n",
    "final_df = df_test[['datetime', 'count']].copy()\n",
    "final_df.to_csv('submission_xg.csv', header=True, index=False)\n",
    "!kaggle competitions submit -c bike-sharing-demand -f submission_xg.csv -m \"Message\""
   ]
  },
  {
   "cell_type": "markdown",
   "metadata": {},
   "source": [
    "### Model Evaluation Test: Gradient Boosting Regressor"
   ]
  },
  {
   "cell_type": "code",
   "execution_count": null,
   "metadata": {},
   "outputs": [],
   "source": [
    "df_train, df_test = split_df(df_all)\n",
    "gradientboost_columns = [\n",
    "    'weather', 'temp', 'atemp', 'windspeed', 'workingday', 'season', 'holiday', 'hour', 'dow',\n",
    "    'humidity', 'fit', 'year'\n",
    "]\n",
    "X_train = df_train[gradientboost_columns].copy()\n",
    "y_train = df_train['count']\n",
    "rmsle_scorer = make_scorer(get_rmsle, greater_is_better=False)"
   ]
  },
  {
   "cell_type": "code",
   "execution_count": null,
   "metadata": {},
   "outputs": [],
   "source": [
    "from sklearn.model_selection import GridSearchCV\n",
    "\n",
    "n_estimators = [200, 500, 750]\n",
    "max_depth = [4, 5, 6]\n",
    "min_samples_leaf = [12, 15]\n",
    "learning_rate = [0.02, 0.05, 0.1]\n",
    "subsample = [0.6, 0.7, 0.8]\n",
    "\n",
    "hyperparams = {'n_estimators': n_estimators, 'max_depth': max_depth, \n",
    "                    'min_samples_leaf': min_samples_leaf,\n",
    "                    'learning_rate': learning_rate, 'subsample': subsample\n",
    "              }\n",
    "\n",
    "gb_grid=GridSearchCV(estimator = GradientBoostingRegressor(), param_grid = hyperparams, \n",
    "                verbose=True, scoring=rmsle_scorer, cv=5, n_jobs=-1)\n",
    "\n",
    "gb_grid.fit(X_train, y_train)\n",
    "print(gb_grid.best_params_)"
   ]
  },
  {
   "cell_type": "code",
   "execution_count": null,
   "metadata": {},
   "outputs": [],
   "source": [
    "gb_model = gb_grid.best_estimator_\n",
    "ml_pred = predict_bikecount(gb_model, gradientboost_columns)\n",
    "df_test['count'] = ml_pred\n",
    "final_df = df_test[['datetime', 'count']].copy()\n",
    "final_df.to_csv('submission_gb.csv', header=True, index=False)\n",
    "!kaggle competitions submit -c bike-sharing-demand -f submission_gb.csv -m \"Message\""
   ]
  },
  {
   "cell_type": "markdown",
   "metadata": {},
   "source": [
    "### Random Forest + Gradient Boost"
   ]
  },
  {
   "cell_type": "code",
   "execution_count": null,
   "metadata": {},
   "outputs": [],
   "source": [
    "randomforest_columns = [\n",
    "    'weather', 'temp', 'atemp', 'windspeed', 'workingday', 'season', 'holiday', 'hour', 'dow', \n",
    "    'humid', 'woy', 'peak'\n",
    "]\n",
    "gradientboost_columns = [\n",
    "    'weather', 'temp', 'atemp', 'windspeed', 'workingday', 'season', 'holiday', 'hour', 'dow',\n",
    "    'humidity', 'fit', 'year'\n",
    "]"
   ]
  },
  {
   "cell_type": "code",
   "execution_count": null,
   "metadata": {},
   "outputs": [],
   "source": [
    "randomforest_model = rf_grid.best_estimator_\n",
    "gradientboost_model = gb_grid.best_estimator_\n",
    "\n",
    "randomforest_pred = predict_bikecount(randomforest_model, randomforest_columns)\n",
    "gradientboost_pred = predict_bikecount(gradientboost_model, gradientboost_columns)\n",
    "y_pred = np.round(0.2 * randomforest_pred + 0.8 * gradientboost_pred)\n",
    "df_test['count'] = y_pred\n",
    "final_df = df_test[['datetime', 'count']].copy()\n",
    "final_df.to_csv('submissions_rf_gb.csv', header=True, index=False)\n",
    "!kaggle competitions submit -c bike-sharing-demand -f submissions_rf_gb.csv -m \"Message\""
   ]
  },
  {
   "cell_type": "markdown",
   "metadata": {},
   "source": [
    "### Random Forest + XGBoost "
   ]
  },
  {
   "cell_type": "code",
   "execution_count": null,
   "metadata": {},
   "outputs": [],
   "source": [
    "randomforest_columns = [\n",
    "    'weather', 'temp', 'atemp', 'windspeed', 'workingday', 'season', 'holiday', 'hour', 'dow', \n",
    "    'humid', 'woy', 'peak'\n",
    "]\n",
    "xgboost_columns = [\n",
    "    'weather', 'temp', 'atemp', 'windspeed', 'workingday', 'season', 'holiday', 'hour', 'dow',\n",
    "    'humidity', 'fit', 'year'\n",
    "]"
   ]
  },
  {
   "cell_type": "code",
   "execution_count": null,
   "metadata": {},
   "outputs": [],
   "source": [
    "randomforest_model = rf_grid.best_estimator_\n",
    "xgb_model = xgb_grid.best_estimator_\n",
    "\n",
    "randomforest_pred = predict_bikecount(randomforest_model, randomforest_columns)\n",
    "xgboost_pred = predict_bikecount(xgb_model, xgboost_columns)\n",
    "y_pred = np.round(0.2 * randomforest_pred + 0.8 * xgboost_pred)\n",
    "df_test['count'] = y_pred\n",
    "final_df = df_test[['datetime', 'count']].copy()\n",
    "final_df.to_csv('submissions_rf_xg.csv', header=True, index=False)\n",
    "!kaggle competitions submit -c bike-sharing-demand -f submissions_rf_xg.csv -m \"Message\""
   ]
  },
  {
   "cell_type": "markdown",
   "metadata": {},
   "source": [
    "<div class=\"alert alert-block\" style=\"border: 1px solid #455A64;background-color:#ECEFF1;\">\n",
    "본 자료 및 영상 컨텐츠는 저작권법 제25조 2항에 의해 보호를 받습니다. 본 컨텐츠 및 컨텐츠 일부 문구등을 외부에 공개, 게시하는 것을 금지합니다. 특히 자료에 대해서는 저작권법을 엄격하게 적용하겠습니다.\n",
    "</div>"
   ]
  }
 ],
 "metadata": {
  "kernelspec": {
   "display_name": "Python 3",
   "language": "python",
   "name": "python3"
  },
  "language_info": {
   "codemirror_mode": {
    "name": "ipython",
    "version": 3
   },
   "file_extension": ".py",
   "mimetype": "text/x-python",
   "name": "python",
   "nbconvert_exporter": "python",
   "pygments_lexer": "ipython3",
   "version": "3.8.5"
  }
 },
 "nbformat": 4,
 "nbformat_minor": 4
}
