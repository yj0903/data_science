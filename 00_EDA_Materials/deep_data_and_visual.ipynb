{
 "cells": [
  {
   "cell_type": "markdown",
   "metadata": {},
   "source": [
    "<div class=\"alert alert-block\" style=\"border: 2px solid #1976D2;background-color:#E3F2FD;padding:5px;font-size:0.9em;\">\n",
    "본 자료는 저작권법 제25조 2항에 의해 보호를 받습니다. 본 자료를 외부에 공개하지 말아주세요.<br>\n",
    "본 강의만 잘 정리하면, 데이터 분석과 데이터 과학(머신러닝, 인공지능) 모두 가능합니다!<br>\n",
    "<b><a href=\"https://school.fun-coding.org/\">잔재미코딩</a> 에서 본 강의 기반 최적화된 로드맵도 확인하실 수 있습니다</b></div>"
   ]
  },
  {
   "cell_type": "markdown",
   "metadata": {},
   "source": [
    "<div class=\"alert alert-block\" style=\"border: 2px solid #1976D2;background-color:#E3F2FD;padding:5px;font-size:0.9em;\">\n",
    "제 유투브 채널로 본 강의를 포함한 데이터 전과정 로드맵과 관련 커리어를 이해할 수 있는 영상도 참고로 확인해보시면<br> \n",
    "학습하시는데 큰 그림을 이해하실 수 있으실꺼예요. (괜찮으시면 구독과 좋아요도 부탁드립니다. ㅎ)<br>\n",
    "<b>- 데이터, AI 커리어와 데이터 전과정 학습 방법 완벽 가이드: <a href=\"https://youtu.be/vsoAyh4D-zw\">https://youtu.be/vsoAyh4D-zw</a>\n",
    "</div>"
   ]
  },
  {
   "cell_type": "markdown",
   "metadata": {},
   "source": [
    "### 시각화 라이브러리와 함께 한단계 더 깊이 알아보는 데이터 분석 이론과 탐색적 데이터 분석\n",
    "> 강의 앞단에 이론 부분을 전반적으로 다 설명하면, 너무 지루하기 때문에 기존에는 전처리 실습에 집중하고, <br>\n",
    "> 다음 실습 전에 추가적인 이론 부분을 정리하겠습니다."
   ]
  },
  {
   "cell_type": "markdown",
   "metadata": {},
   "source": [
    "<div class=\"alert alert-block\" style=\"border: 1px solid #FFB300;background-color:#F9FBE7;\">\n",
    "<font size=\"3em\" style=\"font-weight:bold;color:#3f8dbf;\">탐색적 데이터 분석 (데이터 이해와 시각화 기법 추가)</font><br>\n",
    "1. 데이터의 출처와 주제에 대해 이해 <br>\n",
    "2. 데이터의 크기 확인 <br>\n",
    "    3. <b>데이터 구성 요소(feature)의 속성(특징) 확인</b> <br>\n",
    "\n",
    "> feature 의 데이터를 어떻게 더 깊게 이해할 수 있을까?\n",
    "</div>    "
   ]
  },
  {
   "cell_type": "markdown",
   "metadata": {},
   "source": [
    "### 1. 데이터 분석을 위한 위치 추정과 범위 추정\n",
    "- 탐색적 데이터 분석의 세 번째, feature 분석을 위한 기본 탐색\n",
    "  - 위치 추정: 방대한 데이터의 대푯값을 구해서, 해당 feature의 일종의 요약 정보 도출\n",
    "    - 보통은 평균을 쓰면 되며(물론 평균이 가장 좋은 대푯값이 아닌 경우도 많음), 특정 튀는 수치가 있을 때만 조정해도 충분합니다!\n",
    "  - 변이 추정: 방대한 데이터의 분포 (밀집해 있는지, 퍼져 있는지)를 알아내어, 역시 해당 feature의 일종의 요약 정보 도출\n",
    "    - 수학에서 익힌 표준편차, 분산가 대표적인 분포 확인 값\n",
    "\n",
    "> 가볍게 꼭 들어봤어야 할 만한 사항들을 정리하기<br>\n",
    "> **복잡한 수치를 쓸 경우, 오히려 현업에서는 관련된 모든 사람들이 이해할 수 없게 되어, 커뮤니케이션에 문제가 됨** <br>\n",
    "> 분석된 데이터의 결과는 개발자/데이터과학자들끼리 커뮤니케이션하는 경우보다, 마케팅/영업등 타직군과 커뮤니케이션하는 경우가 더 많기 때문임"
   ]
  },
  {
   "cell_type": "markdown",
   "metadata": {},
   "source": [
    "### 1.1. 위치 추정\n",
    "- feature를 대표할 수 있는 대푯값을 찾는 것"
   ]
  },
  {
   "cell_type": "markdown",
   "metadata": {},
   "source": [
    "#### 평균 (mean)\n",
    "- 모든 값을 갯수로 나눈 값\n",
    "\n",
    "#### 가중 평균 (weighted mean)\n",
    "- 데이터값($x_i$) X 가중치($w_i$) 의 총 합을 다시 가중치($w_i$)의 총합으로 나눈 것\n",
    "- 예: 여러 기기로부터 가져온 데이터 중, 특정 기기는 신뢰도가 떨어질 경우, 해당 기기로부터 나온 데이터에는 가중치를 낮게 줌\n",
    "\n",
    "#### 중간값 (median) (가중 중간값도 가능)\n",
    "- 데이터를 정렬한 후 중간에 위치한 값을 취함\n",
    "- 평균은 특잇값(outlier)에 큰 영향을 받으므로, 특잇값에 큰 영향을 받지 않도록 중간값을 활용할 수 있음\n",
    "\n",
    "#### 절사평균 (trimmed mean)\n",
    "- 데이터를 정렬한 후, 양끝에서 일정 개수의 값들을 빼고, 남은 데이터를 기반으로 평균을 계산\n",
    "- 즉, 특잇값을 평균을 구할 때 제외하는 것임\n",
    "\n",
    "\n",
    "> EDA 에서는 중간값(또는 중앙값이라고도 불리움)을 평균보다 중요하게 사용 (중간값은 특잇값의 영향을 받지 않기 때문임)"
   ]
  },
  {
   "cell_type": "markdown",
   "metadata": {},
   "source": [
    "### 1.2. 변이 추정"
   ]
  },
  {
   "cell_type": "markdown",
   "metadata": {},
   "source": [
    "### 분산(variance)\n",
    "- 평균과 각 데이터간의 차를 제곱한 값들의 합을 데이터 갯수로 나눈 값\n",
    "$$ \\begin{align}\n",
    "\\sigma^2 = \\dfrac{\\sum_{i = 1}^{N} (x_i - \\mu)^2}{N}\n",
    "\\end{align} $$\n",
    "\n",
    "- $ \\sigma^2 $ : 모분산 (깊게 들어가면 샘플분산은 n - 1 로 나누지만, 분산의 형태만 간략히 참고로 알아두기로 함)\n",
    "- $ \\mu $ : 평균\n",
    "- $ N $ : 데이터 갯수\n",
    "- $ x_i $ : i 번째 데이터\n",
    "\n",
    "### 표준편차(standard deviation)\n",
    "- 분산은 수치가 너무 커서, 분산의 제곱근 (루트를 씌운 값)\n",
    "- $ \\sigma $ : 모표준편차 (깊게 들어가면 샘플표준편차는 샘플분산이 n 이 아닌, n - 1 로 나눈 값이므로 이를 제곱근한 값)"
   ]
  },
  {
   "cell_type": "code",
   "execution_count": null,
   "metadata": {},
   "outputs": [],
   "source": [
    "import pandas as pd\n",
    "\n",
    "df = pd.DataFrame({\n",
    "    'A': [1, 2, 3, 4, 5, 6],    \n",
    "    'C': [1, 2, 3, 4, 5, 100]\n",
    "})\n",
    "df"
   ]
  },
  {
   "cell_type": "code",
   "execution_count": null,
   "metadata": {},
   "outputs": [],
   "source": [
    "df.describe()"
   ]
  },
  {
   "cell_type": "markdown",
   "metadata": {},
   "source": [
    "### 2. 보다 빠른 분석을 위한 데이터 분류 이해\n",
    "- 데이터를 분석, 시각화, 예측하는 전반적인 과정에서 데이터에 대한 큰 그림을 이해하는 것이 도움이 됨"
   ]
  },
  {
   "cell_type": "markdown",
   "metadata": {},
   "source": [
    "### 데이터는 크게 (1) 수치형, (2) 범주형 데이터로 나눌 수 있음\n",
    "1. 수치형 데이터\n",
    "   - 연속형(continuous) 데이터: 특정한 범위 안에 어떤 값(정수와 **부동소숫점**)이든 가질 수 있는 데이터\n",
    "   - 이산(discrete) 데이터: 횟수와 같은 **정수**만 가질 수 있는 데이터"
   ]
  },
  {
   "cell_type": "markdown",
   "metadata": {},
   "source": [
    "2. 범주형 데이터\n",
    "  - 명목형(nominal) 데이터: 카테고리, 타입, 항목등 데이터 분류를 위해 이미 정해진 값이 있는 데이터, 데이터가 가질 수 있는 값을 수준(levels) 라고 부름\n",
    "    - 이진(binary) 데이터: True or False, 0 or 1 과 같이 이미 정해진 두 값만 있는 데이터\n",
    "    \n",
    "  - 순서형(ordinal) 데이터: 이미 정해진 값 사이의 순서 관계가 있는 데이터\n",
    "    - 매우불만(1) ~ 매우만족(5)와 같이 분류된 값 사이에 순서가 있는 경우\n",
    "      <img src='https://www.fun-coding.org/00_Images/ordinal.jpg'>\n",
    "\n",
    "    - 1반(1), 2반(2), 3반(3)을 나타내는 데이터가 있다면? 순서형 데이터일까요?\n",
    "      - 1보다 2가 더 좋거나, 더 큰 의미를 가지는 것이 아니므로, 명목형 데이터라고 봐야 함"
   ]
  },
  {
   "cell_type": "markdown",
   "metadata": {},
   "source": [
    "### 3. 수치형 데이터의 요약(탐색)\n",
    "1. 다섯 수치 요약 (5 number summary) 확인하기\n",
    "   - 최소값(minimum), 제1사분위수, 중간값(mediam)=제2사분위수, 제3사분위수, 최대값(maximum) 확인하기\n",
    "   - 분위수(quartile)\n",
    "     - 자료 크기 순서에 따른 위치값(경계값)\n",
    "   - EDA 에서는 사분위수를 사용\n",
    "     - Q1: 제1사분위수 (25%에 해당하는 값)\n",
    "     - Q2: 제2사분위수 (50%에 해당하는 값, 중간값)\n",
    "     - Q3: 제3사분위수 (75%에 해당하는 값)\n",
    "     - Q4: 제4사분위수 (100%에 해당하는 값, 최대값)"
   ]
  },
  {
   "cell_type": "code",
   "execution_count": null,
   "metadata": {},
   "outputs": [],
   "source": [
    "import numpy as np\n",
    "import pandas as pd\n",
    "\n",
    "df = pd.DataFrame({\n",
    "    'A': [1, 2, 3, 4, 5, 6],    \n",
    "    'C': [1, 2, 3, 4, 5, 100]\n",
    "})\n",
    "df.head()"
   ]
  },
  {
   "cell_type": "markdown",
   "metadata": {},
   "source": [
    "### 평균과 중간값\n",
    "- 평균은 이상치 특잇값(outlier)에 큰 영향을 받음\n",
    "- EDA 에서는 특잇값에 큰 영향을 받지 않는 중간값을 선호\n",
    "\n",
    "> 그래서 다섯 수치 요약 (5 number summary) 에 평균값이 없음"
   ]
  },
  {
   "cell_type": "markdown",
   "metadata": {},
   "source": [
    "### 이상치 특잇값(극단값, outlier)\n",
    "- 대부분의 값과 매우 다른 값\n",
    "- 다양한 특잇값 검출 기법이 있긴 하지만, 주관적인 측면이 강하므로 데이터 탐색을 통해, 확인하는 것이 가장 좋음"
   ]
  },
  {
   "cell_type": "markdown",
   "metadata": {},
   "source": [
    "### 중간값 계산 방법\n",
    "- 데이터가 홀수개 있다면, 중간에 위치한 값을 채택\n",
    "- 데이터가 짝수개 있다면, 중간에 위치한 두 값의 평균을 선택\n",
    "  - 예: 위 예에서 3과 4의 평균이 3.5"
   ]
  },
  {
   "cell_type": "code",
   "execution_count": null,
   "metadata": {},
   "outputs": [],
   "source": [
    "df.describe()"
   ]
  },
  {
   "cell_type": "markdown",
   "metadata": {},
   "source": [
    "### 4. 분석 타입에 따른 그래프 종류 이해: 다섯 수치 요약 (5 number summary)과 특잇값 확인\n",
    "- 상자 그래프 (boxplot)\n",
    "<center>\n",
    "<img src=\"https://www.fun-coding.org/00_Images/boxplot.jpg\" width=350>\n",
    "</center>"
   ]
  },
  {
   "cell_type": "code",
   "execution_count": null,
   "metadata": {},
   "outputs": [],
   "source": [
    "import chart_studio.plotly as py\n",
    "import cufflinks as cf\n",
    "cf.go_offline(connected=True)"
   ]
  },
  {
   "cell_type": "markdown",
   "metadata": {},
   "source": [
    "- 그래프 종류 확인"
   ]
  },
  {
   "cell_type": "code",
   "execution_count": null,
   "metadata": {},
   "outputs": [],
   "source": [
    "cf.help()"
   ]
  },
  {
   "cell_type": "markdown",
   "metadata": {},
   "source": [
    "### iplot 으로 그려보기"
   ]
  },
  {
   "cell_type": "code",
   "execution_count": null,
   "metadata": {},
   "outputs": [],
   "source": [
    "df.iplot(kind='box')"
   ]
  },
  {
   "cell_type": "code",
   "execution_count": null,
   "metadata": {},
   "outputs": [],
   "source": [
    "df['A'].iplot(kind='box')"
   ]
  },
  {
   "cell_type": "markdown",
   "metadata": {},
   "source": [
    "### plotly.graph_objects 로 그려보기\n",
    "- https://plotly.com/python/box-plots/"
   ]
  },
  {
   "cell_type": "code",
   "execution_count": null,
   "metadata": {},
   "outputs": [],
   "source": [
    "import plotly.graph_objects as go\n",
    "import plotly.offline as pyo # jupyter notebook 에서 보여지도록 설정하는 부분 (가끔 안나올 때, 이 명령을 하면 됨)\n",
    "pyo.init_notebook_mode()"
   ]
  },
  {
   "cell_type": "code",
   "execution_count": null,
   "metadata": {},
   "outputs": [],
   "source": [
    "import plotly.graph_objects as go\n",
    "fig = go.Figure()\n",
    "fig.add_trace(\n",
    "    go.Box(    \n",
    "        y=df['A'], name='A'\n",
    "    )\n",
    ")\n",
    "\n",
    "fig.add_trace(\n",
    "    go.Box(    \n",
    "        y=df['C'], name='C'\n",
    "    )\n",
    ")\n",
    "fig.show()"
   ]
  },
  {
   "cell_type": "markdown",
   "metadata": {},
   "source": [
    "### 5.  분석 타입에 따른 그래프 종류 이해: 수치형 데이터 분포를 확인하기 위한 시각화\n",
    "- 도수분포표 (frequency table): 수치형 데이터를 구간으로 나눠서 각 구간에 속하는 데아터의 갯수를 나타내는 표\n",
    "- 히스토그램 (histogram) 그래프: 도수 분포표를 시각적으로 표현한 그래프"
   ]
  },
  {
   "cell_type": "code",
   "execution_count": null,
   "metadata": {},
   "outputs": [],
   "source": [
    "import numpy as np\n",
    "import pandas as pd\n",
    "\n",
    "df = pd.DataFrame(np.random.rand(100000, 1), columns=['A'])\n",
    "df.head()"
   ]
  },
  {
   "cell_type": "markdown",
   "metadata": {},
   "source": [
    "### iplot 으로 그려보기"
   ]
  },
  {
   "cell_type": "code",
   "execution_count": null,
   "metadata": {},
   "outputs": [],
   "source": [
    "df.iplot(kind='histogram')"
   ]
  },
  {
   "cell_type": "code",
   "execution_count": null,
   "metadata": {},
   "outputs": [],
   "source": [
    "cf.help('histogram')"
   ]
  },
  {
   "cell_type": "code",
   "execution_count": null,
   "metadata": {},
   "outputs": [],
   "source": [
    "df.iplot(kind='histogram', bins=10) # 구간을 10개로 나누기"
   ]
  },
  {
   "cell_type": "markdown",
   "metadata": {},
   "source": [
    "### plotly.graph_objects 로 그려보기\n",
    "- 기본 그래프가 너무 이쁘지 않아서, 추가 옵션을 통해 조정했음\n",
    "- https://plotly.com/python/histograms/"
   ]
  },
  {
   "cell_type": "code",
   "execution_count": null,
   "metadata": {},
   "outputs": [],
   "source": [
    "import plotly.graph_objects as go\n",
    "fig = go.Figure()\n",
    "fig.add_trace(\n",
    "    go.Histogram(    \n",
    "        x=df['A'], name='A',\n",
    "            xbins=dict( # bins used for histogram\n",
    "                start=0,\n",
    "                end=1.0,\n",
    "                size=0.05\n",
    "            ),\n",
    "        marker_color='#F50057'\n",
    "    )\n",
    ")\n",
    "\n",
    "fig.update_layout(\n",
    "    title_text='Sampled Results', # title of plot\n",
    "    xaxis_title_text='Value', # xaxis label\n",
    "    yaxis_title_text='Count', # yaxis label\n",
    "    bargap=0.1, # gap between bars of adjacent location coordinates\n",
    "\n",
    ")\n",
    "fig.show()"
   ]
  },
  {
   "cell_type": "markdown",
   "metadata": {},
   "source": [
    "### 6. 범주형 데이터의 요약(탐색)\n",
    "1. 수준별로 데이터 분류하기\n",
    "2. 수준별로 데이터 갯수 세기 (count)\n",
    "   - 절대빈도: 절대 갯수, 상대빈도: 각 수준의 비율(%)\n",
    "3. 시각화하기 (빈도표, frequency table)"
   ]
  },
  {
   "cell_type": "markdown",
   "metadata": {},
   "source": [
    "### 6.1. 수준별로 데이터 분류하기"
   ]
  },
  {
   "cell_type": "code",
   "execution_count": null,
   "metadata": {},
   "outputs": [],
   "source": [
    "data = {\n",
    "    'year': ['2017', '2017', '2019', '2020', '2021', '2021'],\n",
    "    'grade': ['C', 'C', 'B', 'A', 'B', 'E'],     \n",
    "}\n",
    "\n",
    "df = pd.DataFrame(data)"
   ]
  },
  {
   "cell_type": "code",
   "execution_count": null,
   "metadata": {},
   "outputs": [],
   "source": [
    "df1 = df.groupby(\"grade\").count()\n",
    "df2 = df.groupby(\"year\").count() "
   ]
  },
  {
   "cell_type": "code",
   "execution_count": null,
   "metadata": {},
   "outputs": [],
   "source": [
    "df1"
   ]
  },
  {
   "cell_type": "code",
   "execution_count": null,
   "metadata": {},
   "outputs": [],
   "source": [
    "df2"
   ]
  },
  {
   "cell_type": "markdown",
   "metadata": {},
   "source": [
    "### 6.2. 수준별로 데이터 갯수 세기 (count)\n",
    "- size : 사이즈 반환\n",
    "- count() : 데이터가 없는 경우를 뺀 사이즈 반환\n",
    "- unique(): 유일한 값만 반환\n",
    "- value_counts(): 데이터가 없는 경우를 제외하고, 각 값의 갯수를 반환"
   ]
  },
  {
   "cell_type": "code",
   "execution_count": null,
   "metadata": {},
   "outputs": [],
   "source": [
    "df['year'].value_counts()"
   ]
  },
  {
   "cell_type": "code",
   "execution_count": null,
   "metadata": {},
   "outputs": [],
   "source": [
    "df['year'].size"
   ]
  },
  {
   "cell_type": "code",
   "execution_count": null,
   "metadata": {},
   "outputs": [],
   "source": [
    "df['year'].count()"
   ]
  },
  {
   "cell_type": "code",
   "execution_count": null,
   "metadata": {},
   "outputs": [],
   "source": [
    "df['year'].unique()"
   ]
  },
  {
   "cell_type": "markdown",
   "metadata": {},
   "source": [
    "### 7.  분석 타입에 따른 그래프 종류 이해: 범주형 데이터 분석을 위해 주로 사용되는 그래프 종류\n",
    "1. 막대 그래프 (절대 빈도)\n",
    "2. 원 그래프 (상대 빈도)"
   ]
  },
  {
   "cell_type": "markdown",
   "metadata": {},
   "source": [
    "### iplot() 사용전 항상 사전 선언해줘야 함"
   ]
  },
  {
   "cell_type": "code",
   "execution_count": null,
   "metadata": {},
   "outputs": [],
   "source": [
    "import chart_studio.plotly as py\n",
    "import cufflinks as cf\n",
    "cf.go_offline(connected=True)\n",
    "import pandas as pd"
   ]
  },
  {
   "cell_type": "code",
   "execution_count": null,
   "metadata": {},
   "outputs": [],
   "source": [
    "# 다시 사전 작업\n",
    "data = {\n",
    "    'year': ['2017', '2017', '2019', '2020', '2021', '2021'],\n",
    "    'grade': ['C', 'C', 'B', 'A', 'B', 'E'],     \n",
    "}\n",
    "\n",
    "df = pd.DataFrame(data)\n",
    "df1 = df.groupby(\"grade\").count()\n",
    "df2 = df.groupby(\"year\").count() "
   ]
  },
  {
   "cell_type": "markdown",
   "metadata": {},
   "source": [
    "### 7.1. 막대그래프"
   ]
  },
  {
   "cell_type": "markdown",
   "metadata": {},
   "source": [
    "### iplot 으로 그려보기"
   ]
  },
  {
   "cell_type": "code",
   "execution_count": null,
   "metadata": {
    "scrolled": true
   },
   "outputs": [],
   "source": [
    "df2.iplot(kind='bar')"
   ]
  },
  {
   "cell_type": "markdown",
   "metadata": {},
   "source": [
    "### plotly.graph_objects 로 그려보기\n",
    "- https://plotly.com/python/bar-charts/"
   ]
  },
  {
   "cell_type": "code",
   "execution_count": null,
   "metadata": {},
   "outputs": [],
   "source": [
    "df1"
   ]
  },
  {
   "cell_type": "code",
   "execution_count": null,
   "metadata": {},
   "outputs": [],
   "source": [
    "df2"
   ]
  },
  {
   "cell_type": "code",
   "execution_count": null,
   "metadata": {},
   "outputs": [],
   "source": [
    "import plotly.graph_objects as go\n",
    "fig = go.Figure()\n",
    "fig.add_trace(\n",
    "    go.Bar(    \n",
    "        x=df1.index, y=df1['year'], name='A'\n",
    "    )\n",
    ")\n",
    "\n",
    "fig.show()"
   ]
  },
  {
   "cell_type": "markdown",
   "metadata": {},
   "source": [
    "### 7.2. 원 그래프"
   ]
  },
  {
   "cell_type": "markdown",
   "metadata": {},
   "source": [
    "### iplot 으로 그려보기\n",
    " - iplot(kind='pie') 시에는 labels에 lavels(수준)으로 분류될 컬럼명, values에 각 수준(분류)의 값이 될 카운트값을 가진 컬럼명을 넣워줘야 함"
   ]
  },
  {
   "cell_type": "code",
   "execution_count": null,
   "metadata": {},
   "outputs": [],
   "source": [
    "df1 = df1.reset_index() # 인덱스로 되어 있는 컬럼을 컬럼으로 바꿔줌"
   ]
  },
  {
   "cell_type": "code",
   "execution_count": null,
   "metadata": {},
   "outputs": [],
   "source": [
    "df1"
   ]
  },
  {
   "cell_type": "code",
   "execution_count": null,
   "metadata": {},
   "outputs": [],
   "source": [
    "df1.iplot(kind='pie', labels='grade', values='year') # 보통 원 그래프를 통해 상대빈도 값을 확인"
   ]
  },
  {
   "cell_type": "markdown",
   "metadata": {},
   "source": [
    "### plotly.graph_objects 로 그려보기\n",
    "- https://plotly.com/python/pie-charts/"
   ]
  },
  {
   "cell_type": "code",
   "execution_count": null,
   "metadata": {},
   "outputs": [],
   "source": [
    "import plotly.graph_objects as go\n",
    "fig = go.Figure()\n",
    "fig.add_trace(\n",
    "    go.Pie(    \n",
    "        labels=df1['grade'], values=df1['year']\n",
    "    )\n",
    ")\n",
    "\n",
    "fig.show()"
   ]
  },
  {
   "cell_type": "markdown",
   "metadata": {},
   "source": [
    "### 8. 테이블 데이터와 시계열 데이터\n",
    "- 테이블 데이터: 엑셀과 같이 행과 열로 나타낸 데이터\n",
    "  - feature: 테이블의 각 열을 의미\n",
    "  - record: 테이블의 각 행을 의미\n",
    "  - index: 각 데이터 위치를 식별하기 위한 값\n",
    "\n",
    "- 시계열 데이터: 일정 시간 간격으로 배치된 데이터 (시간에 종속된 데이터)\n",
    "\n",
    "> 이외에도 다양한 형태의 데이터가 있을 수 있으나, 대부분 테이블 데이터 형태로 처리 가능"
   ]
  },
  {
   "cell_type": "markdown",
   "metadata": {},
   "source": [
    "### 9. 시계열 데이터 시각화를 위한 사전 준비"
   ]
  },
  {
   "cell_type": "markdown",
   "metadata": {},
   "source": [
    "- pd.date_range(start='2020-01-01', end='2020-12-31')\n",
    "  - freq='3M': 3개월\n",
    "  - freq='D': 1일\n",
    "  - periods=10: start와 end 사이 균등 시간 분할\n",
    "  - 참고: https://pandas.pydata.org/pandas-docs/stable/reference/api/pandas.date_range.html"
   ]
  },
  {
   "cell_type": "code",
   "execution_count": null,
   "metadata": {},
   "outputs": [],
   "source": [
    "pd.date_range(start='2020-01-01', end='2020-12-31')"
   ]
  },
  {
   "cell_type": "code",
   "execution_count": null,
   "metadata": {},
   "outputs": [],
   "source": [
    "pd.date_range(start='2020-01-01', end='2020-12-31', periods=3)"
   ]
  },
  {
   "cell_type": "code",
   "execution_count": null,
   "metadata": {},
   "outputs": [],
   "source": [
    "pd.date_range(start='2020-01-01', end='2020-12-31', freq='3M')"
   ]
  },
  {
   "cell_type": "markdown",
   "metadata": {},
   "source": [
    "### pandas Dataframe 작성 방법 정리\n",
    "- pd.DataFrame(data={컬럼이름:컬럼데이터리스트})\n",
    "  - {컬럼이름:컬럼데이터리스트} 는 사전 데이터 형식\n",
    "- pd.DataFrame(data=리스트, columns=컬럼이름, index=인덱스데이터)"
   ]
  },
  {
   "cell_type": "code",
   "execution_count": null,
   "metadata": {},
   "outputs": [],
   "source": [
    "import numpy as np\n",
    "import pandas as pd\n",
    "\n",
    "date_index = pd.date_range('2020-05-01', periods=15)\n",
    "df = pd.DataFrame(data=range(len(date_index)), columns=['count'], index=date_index)\n",
    "df"
   ]
  },
  {
   "cell_type": "markdown",
   "metadata": {},
   "source": [
    "### 10. 시계열 데이터를 위해 주로 사용되는 그래프 타입\n",
    "1. 라인 그래프\n",
    "2. 막대 그래프\n",
    "\n",
    "> 두 그래프는 이미 기존에 작성 방법을 설명드렸으므로, 가볍게 그래프 모양만 확인"
   ]
  },
  {
   "cell_type": "code",
   "execution_count": null,
   "metadata": {},
   "outputs": [],
   "source": [
    "import chart_studio.plotly as py\n",
    "import cufflinks as cf\n",
    "cf.go_offline(connected=True)"
   ]
  },
  {
   "cell_type": "code",
   "execution_count": null,
   "metadata": {},
   "outputs": [],
   "source": [
    "df.iplot(kind='line')"
   ]
  },
  {
   "cell_type": "code",
   "execution_count": null,
   "metadata": {},
   "outputs": [],
   "source": [
    "df.iplot(kind='bar')"
   ]
  },
  {
   "cell_type": "markdown",
   "metadata": {},
   "source": [
    "### 11. 상관관계를 확인하기 위해 주로 사용되는 그래프 타입\n",
    "- feature 간의 연관 관계 분석\n",
    "- 주요 그래프 타입\n",
    "  - heatmap 그래프\n",
    "  - 산점도(scatter) 그래프"
   ]
  },
  {
   "cell_type": "markdown",
   "metadata": {},
   "source": [
    "### 11.1. Heatmap 그래프"
   ]
  },
  {
   "cell_type": "code",
   "execution_count": null,
   "metadata": {},
   "outputs": [],
   "source": [
    "import chart_studio.plotly as py\n",
    "import cufflinks as cf\n",
    "cf.go_offline(connected=True)"
   ]
  },
  {
   "cell_type": "code",
   "execution_count": null,
   "metadata": {},
   "outputs": [],
   "source": [
    "import pandas as pd\n",
    "doc = pd.read_csv(\"COVID-19-master/csse_covid_19_data/csse_covid_19_daily_reports/04-01-2020.csv\", encoding='utf-8-sig')"
   ]
  },
  {
   "cell_type": "code",
   "execution_count": null,
   "metadata": {},
   "outputs": [],
   "source": [
    "doc.corr()"
   ]
  },
  {
   "cell_type": "code",
   "execution_count": null,
   "metadata": {},
   "outputs": [],
   "source": [
    "doc2 = doc.corr()"
   ]
  },
  {
   "cell_type": "markdown",
   "metadata": {},
   "source": [
    "### iplot 으로 그려보기"
   ]
  },
  {
   "cell_type": "code",
   "execution_count": null,
   "metadata": {},
   "outputs": [],
   "source": [
    "doc2.iplot(kind='heatmap')"
   ]
  },
  {
   "cell_type": "code",
   "execution_count": null,
   "metadata": {},
   "outputs": [],
   "source": [
    "cf.help('heatmap')"
   ]
  },
  {
   "cell_type": "code",
   "execution_count": null,
   "metadata": {},
   "outputs": [],
   "source": [
    "cf.colors.scales()"
   ]
  },
  {
   "cell_type": "code",
   "execution_count": null,
   "metadata": {},
   "outputs": [],
   "source": [
    "doc2.iplot(kind='heatmap', colorscale='ylorrd')"
   ]
  },
  {
   "cell_type": "markdown",
   "metadata": {},
   "source": [
    "### plotly.graph_objects 로 그려보기\n",
    "- https://plotly.com/python/heatmaps/"
   ]
  },
  {
   "cell_type": "code",
   "execution_count": null,
   "metadata": {},
   "outputs": [],
   "source": [
    "import plotly.graph_objects as go\n",
    "fig = go.Figure()\n",
    "fig.add_trace(\n",
    "    go.Heatmap(    \n",
    "        x=doc2.index,\n",
    "        y=doc2.columns,\n",
    "        z=doc2\n",
    "    )\n",
    ")\n",
    "\n",
    "fig.show()"
   ]
  },
  {
   "cell_type": "markdown",
   "metadata": {},
   "source": [
    "- 색상(colorscale) 변경\n",
    "  - https://plotly.com/python/reference/#heatmap-colorscale"
   ]
  },
  {
   "cell_type": "code",
   "execution_count": null,
   "metadata": {},
   "outputs": [],
   "source": [
    "import plotly.graph_objects as go\n",
    "fig = go.Figure()\n",
    "fig.add_trace(\n",
    "    go.Heatmap(    \n",
    "        x=doc2.index,\n",
    "        y=doc2.columns,\n",
    "        z=doc2,\n",
    "        colorscale='Reds'\n",
    "    )\n",
    ")\n",
    "\n",
    "fig.show()"
   ]
  },
  {
   "cell_type": "markdown",
   "metadata": {},
   "source": [
    "### 11.2. 산점도 그래프"
   ]
  },
  {
   "cell_type": "code",
   "execution_count": null,
   "metadata": {},
   "outputs": [],
   "source": [
    "import pandas as pd\n",
    "doc = pd.read_csv(\"COVID-19-master/csse_covid_19_data/csse_covid_19_daily_reports/04-01-2020.csv\", encoding='utf-8-sig')"
   ]
  },
  {
   "cell_type": "code",
   "execution_count": null,
   "metadata": {},
   "outputs": [],
   "source": [
    "doc"
   ]
  },
  {
   "cell_type": "code",
   "execution_count": null,
   "metadata": {},
   "outputs": [],
   "source": [
    "cf.help('scatter')"
   ]
  },
  {
   "cell_type": "markdown",
   "metadata": {},
   "source": [
    "### iplot 으로 그려보기\n",
    "- 그래프가 우상향한다면, 두 feature 간 관계가 있다고 볼 수 있음"
   ]
  },
  {
   "cell_type": "code",
   "execution_count": null,
   "metadata": {
    "scrolled": true
   },
   "outputs": [],
   "source": [
    "doc.iplot(kind='scatter', x='Recovered', y='Confirmed', mode='markers')"
   ]
  },
  {
   "cell_type": "markdown",
   "metadata": {},
   "source": [
    "### plotly.graph_objects 로 그려보기\n",
    "- https://plotly.com/python/line-and-scatter/"
   ]
  },
  {
   "cell_type": "code",
   "execution_count": null,
   "metadata": {},
   "outputs": [],
   "source": [
    "import plotly.graph_objects as go\n",
    "fig = go.Figure()\n",
    "fig.add_trace(\n",
    "    go.Scatter(    \n",
    "        x=doc['Recovered'],\n",
    "        y=doc['Confirmed'],\n",
    "        mode='markers'\n",
    "    )\n",
    ")\n",
    "\n",
    "fig.show()"
   ]
  },
  {
   "cell_type": "markdown",
   "metadata": {},
   "source": [
    "### 12. 정리"
   ]
  },
  {
   "cell_type": "markdown",
   "metadata": {},
   "source": [
    "<div class=\"alert alert-block\" style=\"border: 1px solid #FFB300;background-color:#F9FBE7;\">\n",
    "<font size=\"3em\" style=\"font-weight:bold;color:#3f8dbf;\">탐색적 데이터 분석 (데이터 이해와 시각화 기법 추가)</font><br>\n",
    "1. 데이터의 출처와 주제에 대해 이해 <br>\n",
    "2. 데이터의 크기 확인 <br>\n",
    "3. 데이터 구성 요소(feature)의 속성(특징) 확인 <br>\n",
    "    \n",
    "    \n",
    "   - **수치형 데이터일 경우**에는 다음과 같이 EDA 5 수치 + 평균(mean) 확인  <br>\n",
    "    - 최소값(minimum), 제1사분위수, 중간값(mediam)=제2사분위수, 제3사분위수, 최대값(maximum) + 평균(mean) 확인 <br>\n",
    "    - 특잇값(outlier) 확인\n",
    "    - 필요하면 boxplot 과 histogram 그려보기 \n",
    "\n",
    "    \n",
    "   - **범주형 데이터일 경우**에는 각 수준별 갯수 세기<br>\n",
    "    - 필요하면 절대 빈도(bar 그래프), 상대 빈도(원 그래프) 그려보기\n",
    "    \n",
    "   \n",
    "   - **시계열 데이터일 경우**에는 필요하면 line 또는 bar 그래프 그리기\n",
    "    \n",
    "   - feature 간 상관관계 분석이 필요할 경우에는 heatmap 또는 scatter 그래프 그리기\n",
    "</div>    \n"
   ]
  },
  {
   "cell_type": "markdown",
   "metadata": {},
   "source": [
    "<div class=\"alert alert-block\" style=\"border: 2px solid #1976D2;background-color:#E3F2FD;padding:5px;font-size:0.9em;\">\n",
    "본 자료는 저작권법 제25조 2항에 의해 보호를 받습니다. 본 자료를 외부에 공개하지 말아주세요.<br>\n",
    "본 강의만 잘 정리하면, 데이터 분석과 데이터 과학(머신러닝, 인공지능) 모두 가능합니다!<br>\n",
    "<b><a href=\"https://school.fun-coding.org/\">잔재미코딩</a> 에서 본 강의 기반 최적화된 로드맵도 확인하실 수 있습니다</b></div>"
   ]
  }
 ],
 "metadata": {
  "kernelspec": {
   "display_name": "Python 3 (ipykernel)",
   "language": "python",
   "name": "python3"
  },
  "language_info": {
   "codemirror_mode": {
    "name": "ipython",
    "version": 3
   },
   "file_extension": ".py",
   "mimetype": "text/x-python",
   "name": "python",
   "nbconvert_exporter": "python",
   "pygments_lexer": "ipython3",
   "version": "3.11.5"
  }
 },
 "nbformat": 4,
 "nbformat_minor": 4
}
