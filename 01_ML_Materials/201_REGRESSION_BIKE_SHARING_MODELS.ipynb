{
 "cells": [
  {
   "cell_type": "markdown",
   "metadata": {},
   "source": [
    "<div class=\"alert alert-block\" style=\"border: 1px solid #455A64;background-color:#ECEFF1;\">\n",
    "본 자료 및 영상 컨텐츠는 저작권법 제25조 2항에 의해 보호를 받습니다. 본 컨텐츠 및 컨텐츠 일부 문구등을 외부에 공개, 게시하는 것을 금지합니다. 특히 자료에 대해서는 저작권법을 엄격하게 적용하겠습니다.\n",
    "</div>"
   ]
  },
  {
   "cell_type": "markdown",
   "metadata": {},
   "source": [
    "### 0. Get data"
   ]
  },
  {
   "cell_type": "raw",
   "metadata": {},
   "source": [
    "!kaggle competitions download -c bike-sharing-demand"
   ]
  },
  {
   "cell_type": "markdown",
   "metadata": {},
   "source": [
    "### 1. train/test 데이터 임포트"
   ]
  },
  {
   "cell_type": "code",
   "execution_count": null,
   "metadata": {},
   "outputs": [],
   "source": [
    "import numpy as np\n",
    "import pandas as pd\n",
    "\n",
    "from sklearn.ensemble import RandomForestRegressor, GradientBoostingRegressor\n",
    "from sklearn.preprocessing import OneHotEncoder, StandardScaler\n",
    "from sklearn.model_selection import StratifiedKFold\n",
    "from sklearn.metrics import accuracy_score\n",
    "\n",
    "import string\n",
    "import warnings\n",
    "import missingno\n",
    "warnings.filterwarnings('ignore')"
   ]
  },
  {
   "cell_type": "code",
   "execution_count": null,
   "metadata": {},
   "outputs": [],
   "source": [
    "df_train = pd.read_csv('bikesharing/train.csv')\n",
    "df_test = pd.read_csv('bikesharing/test.csv')\n",
    "df_all = pd.concat((df_train, df_test)).reset_index(drop=True)"
   ]
  },
  {
   "cell_type": "code",
   "execution_count": null,
   "metadata": {},
   "outputs": [],
   "source": [
    "def split_df(df):\n",
    "    return df[:10885], df[10886:]"
   ]
  },
  {
   "cell_type": "markdown",
   "metadata": {},
   "source": [
    "### RMSLE 기반 예측을 위한 log 필드 추가\n",
    "> RMSLE 가 log 로 계산되므로, 예측값 또한 log 값으로 계산되도록 하는 편이 보다 RMSLE 성능에 도움을 줌"
   ]
  },
  {
   "cell_type": "code",
   "execution_count": null,
   "metadata": {},
   "outputs": [],
   "source": [
    "df_all['casual_log'] = np.log(df_all['casual'] + 1)\n",
    "df_all['registered_log'] = np.log(df_all['registered'] + 1)\n",
    "df_all['count_log'] = np.log(df_all['count'] + 1)"
   ]
  },
  {
   "cell_type": "markdown",
   "metadata": {},
   "source": [
    "### 시간 필드 추가"
   ]
  },
  {
   "cell_type": "code",
   "execution_count": null,
   "metadata": {},
   "outputs": [],
   "source": [
    "dt = pd.DatetimeIndex(df_all['datetime'])\n",
    "df_all.set_index(dt, inplace=True)\n",
    "\n",
    "df_all['date'] = dt.date\n",
    "df_all['day'] = dt.day\n",
    "df_all['month'] = dt.month\n",
    "df_all['year'] = dt.year\n",
    "df_all['hour'] = dt.hour\n",
    "df_all['dow'] = dt.dayofweek\n",
    "\n",
    "# 202402 업데이트: 최신 라이브러리에서는 weekofyear 가 지원되지 않음\n",
    "# 기존 코드: df_all['woy'] = dt.weekofyear\n",
    "df_all['woy'] = dt.isocalendar().week"
   ]
  },
  {
   "cell_type": "markdown",
   "metadata": {},
   "source": [
    "### peak 타임 필드 추가"
   ]
  },
  {
   "cell_type": "code",
   "execution_count": null,
   "metadata": {},
   "outputs": [],
   "source": [
    "def func(df_data):\n",
    "    if df_data['workingday'] == 1:\n",
    "        if (df_data['hour'] == 8) or (df_data['hour'] == 17) or (df_data['hour'] == 18):\n",
    "            return 4\n",
    "        elif (df_data['hour'] == 7) or (df_data['hour'] == 16) or (df_data['hour'] == 19): \n",
    "            return 3           \n",
    "    else:\n",
    "        if (df_data['hour'] >= 12 and df_data['hour'] <= 16):\n",
    "            return 2\n",
    "        elif (df_data['hour'] >= 10 and df_data['hour'] <= 19):\n",
    "            return 1\n",
    "    return 0\n",
    "\n",
    "# 0 or ‘index’: 각 컬럼에 함수 적용, 1 or ‘columns’: 각 행에 함수 적용\n",
    "df_all['peak'] = df_all.apply(func, axis=1)"
   ]
  },
  {
   "cell_type": "code",
   "execution_count": null,
   "metadata": {},
   "outputs": [],
   "source": [
    "def func(df_data):\n",
    "    # 2021.10.22 업데이트\n",
    "    # 영상에서는 24 일부터 31 일까지를 적용하지만, 테스트 결과 대부분 확실히 쉬는 24일과 31일만 적용했을 때,\n",
    "    # 보다 결과가 좋았기 때문에, 24일과 31일만 적용하였습니다.\n",
    "    if (df_data['month'] == 12) and (df_data['day'] == 24 or df_data['day'] == 31):\n",
    "            return 1\n",
    "    return df_data['holiday']\n",
    "\n",
    "df_all['holiday'] = df_all.apply(func, axis=1)"
   ]
  },
  {
   "cell_type": "code",
   "execution_count": null,
   "metadata": {},
   "outputs": [],
   "source": [
    "def func(df_data):\n",
    "    # 2021.10.22 업데이트\n",
    "    # 영상에서는 24 일부터 31 일까지를 적용하지만, 테스트 결과 대부분 확실히 쉬는 24일과 31일만 적용했을 때,\n",
    "    # 보다 결과가 좋았기 때문에, 24일과 31일만 적용하였습니다.\n",
    "    if (df_data['month'] == 12) and (df_data['day'] == 24 or df_data['day'] == 31):\n",
    "            return 0\n",
    "    return df_data['workingday']\n",
    "\n",
    "df_all['workingday'] = df_all.apply(func, axis=1)"
   ]
  },
  {
   "cell_type": "markdown",
   "metadata": {},
   "source": [
    "### 온도, 풍속, 습도, 날씨 기반 fit & humid 필드 추가"
   ]
  },
  {
   "cell_type": "code",
   "execution_count": null,
   "metadata": {},
   "outputs": [],
   "source": [
    "def func(df_data):\n",
    "    if (df_data['weather'] <= 2 and df_data['windspeed'] <= 20):\n",
    "        if (df_data['temp'] > 15 and df_data['temp'] <= 35):\n",
    "            return 1\n",
    "    return 0\n",
    "\n",
    "df_all['fit'] = df_all.apply(func, axis=1)"
   ]
  },
  {
   "cell_type": "code",
   "execution_count": null,
   "metadata": {},
   "outputs": [],
   "source": [
    "def func(df_data):\n",
    "    if df_data['humidity'] >= 70:\n",
    "            return 1\n",
    "    return 0\n",
    "\n",
    "df_all['humid'] = df_all.apply(func, axis=1)"
   ]
  },
  {
   "cell_type": "markdown",
   "metadata": {},
   "source": [
    "### Metric"
   ]
  },
  {
   "cell_type": "markdown",
   "metadata": {},
   "source": [
    "$$ RMSLE = \\sqrt{\\dfrac{\\sum_{i=0}^N (log(y_i + 1) - log(\\hat{y_i} + 1))^2 }{N}} $$ "
   ]
  },
  {
   "cell_type": "code",
   "execution_count": null,
   "metadata": {},
   "outputs": [],
   "source": [
    "from sklearn.metrics import make_scorer\n",
    "\n",
    "# 202402 업데이트: 최신 라이브러리에서는 기존 코드에서 불필요한 긴 경고메세지가 나타날 수 있습니다\n",
    "# 최신 라이브러리에서는 y_pred 와 y_actual 에 0 이하의 값이 들어가면, 에러가 날 수 있으므로,\n",
    "# 해당 값이 0이상이 되도록 코드를 수정하였습니다.\n",
    "# 기존 코드\n",
    "'''\n",
    "def get_rmsle(y_actual, y_pred):\n",
    "    diff = np.log(y_pred + 1) - np.log(y_actual + 1)\n",
    "    mean_error = np.square(diff).mean()\n",
    "    return np.sqrt(mean_error)\n",
    "'''\n",
    "\n",
    "# 신규 코드\n",
    "def get_rmsle(y_actual, y_pred):\n",
    "    # 음수 값을 방지하기 위해, 최소한 0 이상의 값을 갖도록 함\n",
    "    y_pred = np.maximum(0, y_pred)\n",
    "    # 로그를 취하기 전에, 값이 0 이상임을 보장\n",
    "    log_pred = np.log(np.maximum(0, y_pred) + 1)\n",
    "    log_actual = np.log(np.maximum(0, y_actual) + 1)\n",
    "    diff = log_pred - log_actual\n",
    "    mean_error = np.square(diff).mean()\n",
    "    return np.sqrt(mean_error)"
   ]
  },
  {
   "cell_type": "markdown",
   "metadata": {},
   "source": [
    "### Model Evaluation\n",
    "- 참고: np.log() 와 np.exp 는 역함수 \n",
    "- 수학적인 부분보다, 다음과 같이 코드로 바로 이해하기로 함"
   ]
  },
  {
   "cell_type": "code",
   "execution_count": null,
   "metadata": {},
   "outputs": [],
   "source": [
    "def predict_bikecount(model, select_columns):\n",
    "    df_train, df_test = split_df(df_all)\n",
    "\n",
    "    X_train = df_train[select_columns]\n",
    "    y_train_cas = df_train['casual_log']\n",
    "    y_train_reg = df_train['registered_log']\n",
    "    X_test = df_test[select_columns]\n",
    "    \n",
    "    casual_model = model.fit(X_train, y_train_cas)\n",
    "    y_pred_cas = casual_model.predict(X_test)\n",
    "    y_pred_cas = np.exp(y_pred_cas) - 1\n",
    "\n",
    "    registered_model = model.fit(X_train, y_train_reg)\n",
    "    y_pred_reg = registered_model.predict(X_test)\n",
    "    y_pred_reg = np.exp(y_pred_reg) - 1\n",
    "\n",
    "    return y_pred_cas + y_pred_reg"
   ]
  },
  {
   "cell_type": "markdown",
   "metadata": {},
   "source": [
    "### Model Evaluation Test: LinearRegression"
   ]
  },
  {
   "cell_type": "code",
   "execution_count": null,
   "metadata": {},
   "outputs": [],
   "source": [
    "df_train, df_test = split_df(df_all)\n",
    "ml_columns = [\n",
    "    'season', 'holiday', 'workingday', 'weather', 'temp',\n",
    "    'atemp', 'humidity', 'windspeed', 'day', 'month',\n",
    "    'year', 'hour', 'dow', 'woy', 'peak', 'fit', 'humid'\n",
    "]\n",
    "X_train = df_train[ml_columns].copy()\n",
    "y_train = df_train['count']\n",
    "rmsle_scorer = make_scorer(get_rmsle, greater_is_better=False)"
   ]
  },
  {
   "cell_type": "code",
   "execution_count": null,
   "metadata": {},
   "outputs": [],
   "source": [
    "from sklearn.linear_model import LinearRegression\n",
    "\n",
    "lr_model = LinearRegression()\n",
    "ml_pred = predict_bikecount(lr_model, ml_columns)\n",
    "df_test['count'] = ml_pred\n",
    "final_df = df_test[['datetime', 'count']].copy()\n",
    "final_df.to_csv('submissions_linear.csv', header=True, index=False)\n",
    "!kaggle competitions submit -c bike-sharing-demand -f submissions_linear.csv -m \"Message\""
   ]
  },
  {
   "cell_type": "markdown",
   "metadata": {},
   "source": [
    "### Model Evaluation Test: Lasso Regression"
   ]
  },
  {
   "cell_type": "code",
   "execution_count": 25,
   "metadata": {},
   "outputs": [
    {
     "name": "stdout",
     "output_type": "stream",
     "text": [
      "Fitting 5 folds for each of 70 candidates, totalling 350 fits\n",
      "{'alpha': 10.0, 'max_iter': 1000}\n"
     ]
    }
   ],
   "source": [
    "from sklearn.linear_model import Lasso\n",
    "from sklearn.model_selection import GridSearchCV\n",
    "\n",
    "hyperparams = {'max_iter': [1000, 1500, 2000, 2500, 3000], \n",
    "               'alpha': 1/np.array([0.1, 1, 2, 3, 4, 10, 30,100,200,300,400,800,900,1000])\n",
    "}\n",
    "\n",
    "lasso_grid=GridSearchCV(estimator = Lasso(), param_grid = hyperparams, \n",
    "                verbose=True, scoring=rmsle_scorer, cv=5, n_jobs=-1)\n",
    "\n",
    "lasso_grid.fit(X_train, y_train)\n",
    "print(lasso_grid.best_params_)"
   ]
  },
  {
   "cell_type": "code",
   "execution_count": 26,
   "metadata": {},
   "outputs": [],
   "source": [
    "lasso_model = lasso_grid.best_estimator_\n",
    "ml_pred = predict_bikecount(lasso_model, ml_columns)\n",
    "df_test['count'] = ml_pred\n",
    "final_df = df_test[['datetime', 'count']].copy()\n",
    "final_df.to_csv('submissions_lasso.csv', header=True, index=False)\n",
    "!kaggle competitions submit -c bike-sharing-demand -f submissions_lasso.csv -m \"Message\""
   ]
  },
  {
   "cell_type": "markdown",
   "metadata": {},
   "source": [
    "### Model Evaluation Test: Ridge Regression"
   ]
  },
  {
   "cell_type": "code",
   "execution_count": 27,
   "metadata": {},
   "outputs": [
    {
     "name": "stdout",
     "output_type": "stream",
     "text": [
      "Fitting 5 folds for each of 70 candidates, totalling 350 fits\n",
      "{'alpha': 1000, 'max_iter': 1000}\n"
     ]
    }
   ],
   "source": [
    "from sklearn.linear_model import Ridge\n",
    "from sklearn.model_selection import GridSearchCV\n",
    "\n",
    "hyperparams = {'max_iter': [1000, 1500, 2000, 2500, 3000], \n",
    "               'alpha':[0.1, 1, 2, 3, 4, 10, 30,100,200,300,400,800,900,1000]\n",
    "}\n",
    "\n",
    "ridge_grid=GridSearchCV(estimator = Ridge(), param_grid = hyperparams, \n",
    "                verbose=True, scoring=rmsle_scorer, cv=5, n_jobs=-1)\n",
    "\n",
    "ridge_grid.fit(X_train, y_train)\n",
    "print(ridge_grid.best_params_)"
   ]
  },
  {
   "cell_type": "code",
   "execution_count": 28,
   "metadata": {},
   "outputs": [],
   "source": [
    "ridge_model = ridge_grid.best_estimator_\n",
    "ml_pred = predict_bikecount(ridge_model, ml_columns)\n",
    "df_test['count'] = ml_pred\n",
    "final_df = df_test[['datetime', 'count']].copy()\n",
    "final_df.to_csv('submissions_ridge.csv', header=True, index=False)\n",
    "!kaggle competitions submit -c bike-sharing-demand -f submissions_ridge.csv -m \"Message\""
   ]
  },
  {
   "cell_type": "markdown",
   "metadata": {},
   "source": [
    "### Model Evaluation Test: Random Forest Regressor"
   ]
  },
  {
   "cell_type": "code",
   "execution_count": 32,
   "metadata": {},
   "outputs": [
    {
     "name": "stdout",
     "output_type": "stream",
     "text": [
      "Fitting 5 folds for each of 81 candidates, totalling 405 fits\n",
      "{'max_depth': 15, 'min_samples_leaf': 4, 'min_samples_split': 4, 'n_estimators': 30}\n"
     ]
    }
   ],
   "source": [
    "from sklearn.model_selection import GridSearchCV\n",
    "\n",
    "# 202402 업데이트: 실행시간이 매우 많이 걸리므로, n_estimators 를 테스트용으로 확연히 줄였습니다. \n",
    "# 보다 좋은 성능값을 위해 개인 PC 환경에 맞추어, 해당 값을 늘려보시면 좋을 것 같습니다.\n",
    "# 기존 코드: n_estimators = [800, 1000, 1200]\n",
    "n_estimators = [10, 20, 30] # 신규 코드\n",
    "\n",
    "max_depth = [10, 12, 15]\n",
    "min_samples_split = [4, 5, 6]\n",
    "min_samples_leaf = [4, 5, 6]\n",
    "\n",
    "hyperparams = {'n_estimators': n_estimators, 'max_depth': max_depth, \n",
    "               'min_samples_split': min_samples_split, 'min_samples_leaf': min_samples_leaf}\n",
    "\n",
    "rf_grid = GridSearchCV(estimator = RandomForestRegressor(), param_grid = hyperparams, \n",
    "                verbose=True, scoring=rmsle_scorer, cv=5, n_jobs=-1)\n",
    "\n",
    "rf_grid.fit(X_train, y_train)\n",
    "print(rf_grid.best_params_)"
   ]
  },
  {
   "cell_type": "code",
   "execution_count": 33,
   "metadata": {},
   "outputs": [],
   "source": [
    "rf_model = rf_grid.best_estimator_\n",
    "ml_pred = predict_bikecount(rf_model, ml_columns)\n",
    "df_test['count'] = ml_pred\n",
    "final_df = df_test[['datetime', 'count']].copy()\n",
    "final_df.to_csv('submissions_rf.csv', header=True, index=False)\n",
    "!kaggle competitions submit -c bike-sharing-demand -f submissions_rf.csv -m \"Message\""
   ]
  },
  {
   "cell_type": "markdown",
   "metadata": {},
   "source": [
    "### Model Evaluation Test: XGBoost Regressor"
   ]
  },
  {
   "cell_type": "code",
   "execution_count": 35,
   "metadata": {},
   "outputs": [
    {
     "name": "stdout",
     "output_type": "stream",
     "text": [
      "Fitting 5 folds for each of 144 candidates, totalling 720 fits\n",
      "{'colsample_bytree': 0.7, 'learning_rate': 0.15, 'max_depth': 5, 'min_child_weight': 4, 'n_estimators': 20, 'nthread': 4, 'subsample': 0.7}\n"
     ]
    }
   ],
   "source": [
    "from xgboost import XGBRegressor # 회귀트리 모델\n",
    "from sklearn.model_selection import GridSearchCV\n",
    "\n",
    "# 202402 업데이트: 실행시간이 매우 많이 걸리므로, n_estimators 를 테스트용으로 확연히 줄였습니다. \n",
    "# 보다 좋은 성능값을 위해 개인 PC 환경에 맞추어, 해당 값을 늘려보시면 좋을 것 같습니다.\n",
    "# 기존 코드: 'n_estimators': [250, 500]\n",
    "hyperparams = {'nthread':[4],\n",
    "              'learning_rate': [0.05, 0.1, 0.15], \n",
    "              'max_depth': [4, 5],\n",
    "              'min_child_weight': [3, 4, 5],\n",
    "              'subsample': [0.7, 0.8],\n",
    "              'colsample_bytree': [0.6, 0.7],\n",
    "              'n_estimators': [10, 20]} # 신규 코드\n",
    "\n",
    "xgb_grid = GridSearchCV(estimator = XGBRegressor(), param_grid = hyperparams, \n",
    "                verbose=True, scoring=rmsle_scorer, cv=5, n_jobs=-1)\n",
    "\n",
    "xgb_grid.fit(X_train, y_train)\n",
    "print(xgb_grid.best_params_)"
   ]
  },
  {
   "cell_type": "code",
   "execution_count": 37,
   "metadata": {},
   "outputs": [],
   "source": [
    "xgb_model = xgb_grid.best_estimator_\n",
    "ml_pred = predict_bikecount(xgb_model, X_train.columns)\n",
    "df_test['count'] = ml_pred\n",
    "final_df = df_test[['datetime', 'count']].copy()\n",
    "final_df.to_csv('submissions_xgboost.csv', header=True, index=False)\n",
    "!kaggle competitions submit -c bike-sharing-demand -f submissions_xgboost.csv -m \"Message\""
   ]
  },
  {
   "cell_type": "markdown",
   "metadata": {},
   "source": [
    "### Model Evaluation Test: Gradient Boosting Regressor"
   ]
  },
  {
   "cell_type": "code",
   "execution_count": 39,
   "metadata": {},
   "outputs": [
    {
     "name": "stdout",
     "output_type": "stream",
     "text": [
      "Fitting 5 folds for each of 243 candidates, totalling 1215 fits\n",
      "{'learning_rate': 0.15, 'max_depth': 9, 'min_samples_leaf': 8, 'n_estimators': 30, 'subsample': 0.8}\n"
     ]
    }
   ],
   "source": [
    "from sklearn.model_selection import GridSearchCV\n",
    "\n",
    "# 202402 업데이트: 실행시간이 매우 많이 걸리므로, n_estimators 를 테스트용으로 확연히 줄였습니다. \n",
    "# 보다 좋은 성능값을 위해 개인 PC 환경에 맞추어, 해당 값을 늘려보시면 좋을 것 같습니다.\n",
    "# 기존 코드: n_estimators = [100, 150, 200]\n",
    "n_estimators = [10, 20, 30] # 신규 코드\n",
    "max_depth = [5, 7, 9]\n",
    "min_samples_leaf = [8, 10, 12]\n",
    "learning_rate = [0.1, 0.15, 0.2]\n",
    "subsample = [0.6, 0.7, 0.8]\n",
    "\n",
    "hyperparams = {'n_estimators': n_estimators, 'max_depth': max_depth, \n",
    "                    'min_samples_leaf': min_samples_leaf,\n",
    "                    'learning_rate': learning_rate, 'subsample': subsample\n",
    "              }\n",
    "\n",
    "gb_grid=GridSearchCV(estimator = GradientBoostingRegressor(), param_grid = hyperparams, \n",
    "                verbose=True, scoring=rmsle_scorer, cv=5, n_jobs=-1)\n",
    "\n",
    "gb_grid.fit(X_train, y_train)\n",
    "print(gb_grid.best_params_)"
   ]
  },
  {
   "cell_type": "code",
   "execution_count": 41,
   "metadata": {},
   "outputs": [],
   "source": [
    "gb_model = gb_grid.best_estimator_\n",
    "ml_pred = predict_bikecount(gb_model, X_train.columns)\n",
    "df_test['count'] = ml_pred\n",
    "final_df = df_test[['datetime', 'count']].copy()\n",
    "final_df.to_csv('submissions_gb.csv', header=True, index=False)\n",
    "!kaggle competitions submit -c bike-sharing-demand -f submissions_gb.csv -m \"Message\""
   ]
  },
  {
   "cell_type": "markdown",
   "metadata": {},
   "source": [
    "<div class=\"alert alert-block\" style=\"border: 1px solid #455A64;background-color:#ECEFF1;\">\n",
    "본 자료 및 영상 컨텐츠는 저작권법 제25조 2항에 의해 보호를 받습니다. 본 컨텐츠 및 컨텐츠 일부 문구등을 외부에 공개, 게시하는 것을 금지합니다. 특히 자료에 대해서는 저작권법을 엄격하게 적용하겠습니다.\n",
    "</div>"
   ]
  }
 ],
 "metadata": {
  "kernelspec": {
   "display_name": "Python 3 (ipykernel)",
   "language": "python",
   "name": "python3"
  },
  "language_info": {
   "codemirror_mode": {
    "name": "ipython",
    "version": 3
   },
   "file_extension": ".py",
   "mimetype": "text/x-python",
   "name": "python",
   "nbconvert_exporter": "python",
   "pygments_lexer": "ipython3",
   "version": "3.11.5"
  }
 },
 "nbformat": 4,
 "nbformat_minor": 4
}
