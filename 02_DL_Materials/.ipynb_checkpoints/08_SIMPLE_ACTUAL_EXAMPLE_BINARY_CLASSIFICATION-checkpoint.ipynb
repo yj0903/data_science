{
 "cells": [
  {
   "cell_type": "markdown",
   "id": "d7ed6410",
   "metadata": {},
   "source": [
    "<div class=\"alert alert-block\" style=\"border: 2px solid #1976D2;background-color:#E3F2FD;padding:5px;font-size:0.9em;\">\n",
    "본 자료는 저작권법 제25조 2항에 의해 보호를 받습니다. 본 자료를 외부에 공개하지 말아주세요.<br>\n",
    "<b><a href=\"https://school.fun-coding.org/\">잔재미코딩 (https://school.fun-coding.org/)</a> 에서 본 강의를 포함하는 최적화된 로드맵도 확인하실 수 있습니다</b></div>"
   ]
  },
  {
   "cell_type": "markdown",
   "id": "36036773",
   "metadata": {},
   "source": [
    "### 가벼운 딥러닝 적용2 - BINARY CLASSIFICATION\n",
    "<div class=\"alert alert-block\" style=\"border: 2px solid #E65100;background-color:#FFF3E0;padding:10px\">\n",
    "<font size=\"4em\" style=\"color:#BF360C;\">지금까지 익힌 이론과 코드만 가지고도, 바로 딥러닝 적용이 가능합니다</font><br>\n",
    "<font size=\"4em\" style=\"color:#BF360C;\">빠르게 여러 문제를 딥러닝에 적용해보며, PYTORCH 와 딥러닝에 우선 익숙해지도록 합니다</font>\n",
    "</div>"
   ]
  },
  {
   "cell_type": "markdown",
   "id": "ab60cb7b",
   "metadata": {},
   "source": [
    "### 가벼운 BINARY CLASSIFICATION 예제 문제\n",
    "- https://www.kaggle.com/datasets/shashwatwork/web-page-phishing-detection-dataset\n",
    "- data 탭에서 직접 다운로드 및 주피터 노트북과 동일 폴더 내에, dataset_phishing 하위 폴더 만들고, 해당 폴더에서 압축해제"
   ]
  },
  {
   "cell_type": "code",
   "execution_count": 74,
   "id": "b8efd923",
   "metadata": {
    "pycharm": {
     "name": "#%%\n"
    }
   },
   "outputs": [],
   "source": [
    "import torch\n",
    "import torch.nn as nn\n",
    "import numpy as np\n",
    "import pandas as pd\n",
    "from sklearn.preprocessing import StandardScaler"
   ]
  },
  {
   "cell_type": "code",
   "execution_count": 75,
   "id": "486ae4d9",
   "metadata": {
    "pycharm": {
     "name": "#%%\n"
    }
   },
   "outputs": [
    {
     "data": {
      "text/plain": [
       "(11430, 89)"
      ]
     },
     "execution_count": 75,
     "metadata": {},
     "output_type": "execute_result"
    }
   ],
   "source": [
    "df_data = pd.read_csv('data_phishing/dataset_phishing.csv')\n",
    "df_data.shape"
   ]
  },
  {
   "cell_type": "code",
   "execution_count": 76,
   "id": "adaf10e0",
   "metadata": {},
   "outputs": [
    {
     "data": {
      "text/plain": [
       "0        legitimate\n",
       "1          phishing\n",
       "2          phishing\n",
       "3        legitimate\n",
       "4        legitimate\n",
       "            ...    \n",
       "11425    legitimate\n",
       "11426      phishing\n",
       "11427    legitimate\n",
       "11428    legitimate\n",
       "11429      phishing\n",
       "Name: status, Length: 11430, dtype: object"
      ]
     },
     "execution_count": 76,
     "metadata": {},
     "output_type": "execute_result"
    }
   ],
   "source": [
    "df_data['status']"
   ]
  },
  {
   "cell_type": "code",
   "execution_count": 77,
   "id": "7c29d588",
   "metadata": {
    "pycharm": {
     "name": "#%%\n"
    }
   },
   "outputs": [
    {
     "data": {
      "text/html": [
       "<div>\n",
       "<style scoped>\n",
       "    .dataframe tbody tr th:only-of-type {\n",
       "        vertical-align: middle;\n",
       "    }\n",
       "\n",
       "    .dataframe tbody tr th {\n",
       "        vertical-align: top;\n",
       "    }\n",
       "\n",
       "    .dataframe thead th {\n",
       "        text-align: right;\n",
       "    }\n",
       "</style>\n",
       "<table border=\"1\" class=\"dataframe\">\n",
       "  <thead>\n",
       "    <tr style=\"text-align: right;\">\n",
       "      <th></th>\n",
       "      <th>url</th>\n",
       "      <th>target</th>\n",
       "    </tr>\n",
       "  </thead>\n",
       "  <tbody>\n",
       "    <tr>\n",
       "      <th>0</th>\n",
       "      <td>http://www.crestonwood.com/router.php</td>\n",
       "      <td>1</td>\n",
       "    </tr>\n",
       "    <tr>\n",
       "      <th>1</th>\n",
       "      <td>http://shadetreetechnology.com/V4/validation/a...</td>\n",
       "      <td>0</td>\n",
       "    </tr>\n",
       "    <tr>\n",
       "      <th>2</th>\n",
       "      <td>https://support-appleld.com.secureupdate.duila...</td>\n",
       "      <td>0</td>\n",
       "    </tr>\n",
       "    <tr>\n",
       "      <th>3</th>\n",
       "      <td>http://rgipt.ac.in</td>\n",
       "      <td>1</td>\n",
       "    </tr>\n",
       "    <tr>\n",
       "      <th>4</th>\n",
       "      <td>http://www.iracing.com/tracks/gateway-motorspo...</td>\n",
       "      <td>1</td>\n",
       "    </tr>\n",
       "  </tbody>\n",
       "</table>\n",
       "</div>"
      ],
      "text/plain": [
       "                                                 url  target\n",
       "0              http://www.crestonwood.com/router.php       1\n",
       "1  http://shadetreetechnology.com/V4/validation/a...       0\n",
       "2  https://support-appleld.com.secureupdate.duila...       0\n",
       "3                                 http://rgipt.ac.in       1\n",
       "4  http://www.iracing.com/tracks/gateway-motorspo...       1"
      ]
     },
     "execution_count": 77,
     "metadata": {},
     "output_type": "execute_result"
    }
   ],
   "source": [
    "df_data['target'] = pd.get_dummies(df_data['status'])['legitimate'].astype('int')\n",
    "df_data.drop('status', axis = 1, inplace=True)\n",
    "df_data[['url','target']].head(5)"
   ]
  },
  {
   "cell_type": "code",
   "execution_count": 78,
   "id": "1efbd09b",
   "metadata": {
    "pycharm": {
     "name": "#%%\n"
    }
   },
   "outputs": [
    {
     "name": "stdout",
     "output_type": "stream",
     "text": [
      "(9144, 87) (9144,)\n",
      "(2286, 87) (2286,)\n"
     ]
    }
   ],
   "source": [
    "from sklearn.model_selection import train_test_split\n",
    "\n",
    "X = df_data.iloc[: , 1:-1]\n",
    "y = df_data['target']\n",
    "\n",
    "X_train, X_test, y_train, y_test = train_test_split(X, y, test_size=0.2, stratify=y)\n",
    "print(X_train.shape, y_train.shape)\n",
    "print(X_test.shape, y_test.shape)"
   ]
  },
  {
   "cell_type": "code",
   "execution_count": 91,
   "id": "42cac34b",
   "metadata": {
    "pycharm": {
     "name": "#%%\n"
    }
   },
   "outputs": [],
   "source": [
    "std_scaler = StandardScaler()\n",
    "std_scaler.fit(X_train)\n",
    "X_train_tensor = torch.from_numpy(std_scaler.transform(X_train)).float()\n",
    "X_test_tensor = torch.from_numpy(std_scaler.transform(X_test)).float()\n",
    "y_train_tensor = torch.from_numpy(y_train.values).float()\n",
    "y_train_tensor = y_train_tensor.unsqueeze(1) # 열벡터를 행렬로 변환 ([256, 87] 을 [256, 1] 로 결과를 출력하므로, 실제값도 형태를 맞추기 위함)\n",
    "y_test_tensor = torch.from_numpy(y_test.values).float()\n",
    "y_test_tensor = y_test_tensor.unsqueeze(1) # 열벡터를 행렬로 변환 ([256, 87] 을 [256, 1] 로 결과를 출력하므로, 실제값도 형태를 맞추기 위함)"
   ]
  },
  {
   "cell_type": "code",
   "execution_count": 92,
   "id": "fc88fbaa",
   "metadata": {
    "pycharm": {
     "name": "#%%\n"
    }
   },
   "outputs": [],
   "source": [
    "nb_epochs = 1000 # 1000 epoch 실행 예정\n",
    "minibatch_size = 256 # Mini-batch 사이즈는 256 으로 정하고, 1 epoch 에 10000 개 데이터를 40개의 Mini-batch 로 나누어 40 iteration 실행"
   ]
  },
  {
   "cell_type": "code",
   "execution_count": 2,
   "id": "109c5c25",
   "metadata": {},
   "outputs": [
    {
     "ename": "NameError",
     "evalue": "name 'nn' is not defined",
     "output_type": "error",
     "traceback": [
      "\u001b[0;31m---------------------------------------------------------------------------\u001b[0m",
      "\u001b[0;31mNameError\u001b[0m                                 Traceback (most recent call last)",
      "Input \u001b[0;32mIn [2]\u001b[0m, in \u001b[0;36m<cell line: 1>\u001b[0;34m()\u001b[0m\n\u001b[0;32m----> 1\u001b[0m \u001b[38;5;28;01mclass\u001b[39;00m \u001b[38;5;21;01mFunModel\u001b[39;00m(\u001b[43mnn\u001b[49m\u001b[38;5;241m.\u001b[39mModule):\n\u001b[1;32m      2\u001b[0m     \u001b[38;5;28;01mdef\u001b[39;00m \u001b[38;5;21m__init__\u001b[39m(\u001b[38;5;28mself\u001b[39m, input_dim, output_dim):\n\u001b[1;32m      3\u001b[0m         \u001b[38;5;28msuper\u001b[39m()\u001b[38;5;241m.\u001b[39m\u001b[38;5;21m__init__\u001b[39m()\n",
      "\u001b[0;31mNameError\u001b[0m: name 'nn' is not defined"
     ]
    }
   ],
   "source": [
    "class FunModel(nn.Module):\n",
    "    def __init__(self, input_dim, output_dim):\n",
    "        super().__init__()\n",
    "        \n",
    "        self.linear_layers = nn.Sequential (\n",
    "            nn.Linear(input_dim, 200),\n",
    "            nn.LeakyReLU(0.1),\n",
    "            nn.Linear(200, 100),\n",
    "            nn.LeakyReLU(0.1),\n",
    "            nn.Linear(100, 20),\n",
    "            nn.LeakyReLU(0.1),\n",
    "            nn.Linear(20, 5),\n",
    "            nn.LeakyReLU(0.1),\n",
    "            nn.Linear(5, output_dim),\n",
    "            nn.Sigmoid() # 반드시 BCELoss() 사용을 위해 마지막은 Sigmoid() 함수를 사용해야 함\n",
    "        )\n",
    "        \n",
    "    def forward(self, x):\n",
    "        y = self.linear_layers(x)\n",
    "        return y"
   ]
  },
  {
   "cell_type": "code",
   "execution_count": 3,
   "id": "dc8e074d",
   "metadata": {
    "pycharm": {
     "name": "#%%\n"
    }
   },
   "outputs": [
    {
     "ename": "NameError",
     "evalue": "name 'X_train_tensor' is not defined",
     "output_type": "error",
     "traceback": [
      "\u001b[0;31m---------------------------------------------------------------------------\u001b[0m",
      "\u001b[0;31mNameError\u001b[0m                                 Traceback (most recent call last)",
      "Input \u001b[0;32mIn [3]\u001b[0m, in \u001b[0;36m<cell line: 1>\u001b[0;34m()\u001b[0m\n\u001b[0;32m----> 1\u001b[0m input_dim \u001b[38;5;241m=\u001b[39m \u001b[43mX_train_tensor\u001b[49m\u001b[38;5;241m.\u001b[39msize(\u001b[38;5;241m-\u001b[39m\u001b[38;5;241m1\u001b[39m) \n\u001b[1;32m      2\u001b[0m output_dim \u001b[38;5;241m=\u001b[39m y_train_tensor\u001b[38;5;241m.\u001b[39msize(\u001b[38;5;241m-\u001b[39m\u001b[38;5;241m1\u001b[39m)\n\u001b[1;32m      3\u001b[0m \u001b[38;5;28mprint\u001b[39m (input_dim, output_dim)\n",
      "\u001b[0;31mNameError\u001b[0m: name 'X_train_tensor' is not defined"
     ]
    }
   ],
   "source": [
    "input_dim = X_train_tensor.size(-1) \n",
    "output_dim = y_train_tensor.size(-1)\n",
    "print (input_dim, output_dim)\n",
    "model = FunModel(input_dim, output_dim)   \n",
    "loss_func = nn.BCELoss() # 반드시 BCELoss() 사용을 위해 마지막은 Sigmoid() 함수를 사용해야 함\n",
    "optimizer = torch.optim.Adam(model.parameters()) # Adam, learning rate 필요없음"
   ]
  },
  {
   "cell_type": "code",
   "execution_count": 95,
   "id": "135a7552",
   "metadata": {
    "pycharm": {
     "name": "#%%\n"
    }
   },
   "outputs": [
    {
     "name": "stdout",
     "output_type": "stream",
     "text": [
      "0 tensor(0.5785, grad_fn=<DivBackward0>)\n",
      "100 tensor(0.0110, grad_fn=<DivBackward0>)\n",
      "200 tensor(0.0109, grad_fn=<DivBackward0>)\n",
      "300 tensor(0.0109, grad_fn=<DivBackward0>)\n",
      "400 tensor(0.0109, grad_fn=<DivBackward0>)\n",
      "500 tensor(0.0109, grad_fn=<DivBackward0>)\n",
      "600 tensor(0.0109, grad_fn=<DivBackward0>)\n",
      "700 tensor(0.0109, grad_fn=<DivBackward0>)\n",
      "800 tensor(0.0706, grad_fn=<DivBackward0>)\n",
      "900 tensor(0.0721, grad_fn=<DivBackward0>)\n"
     ]
    }
   ],
   "source": [
    "for index in range(nb_epochs):\n",
    "    indices = torch.randperm(X_train_tensor.size(0))\n",
    "\n",
    "    x_batch_list = torch.index_select(X_train_tensor, 0, index=indices)\n",
    "    y_batch_list = torch.index_select(y_train_tensor, 0, index=indices)\n",
    "    x_batch_list = x_batch_list.split(minibatch_size, 0)\n",
    "    y_batch_list = y_batch_list.split(minibatch_size, 0)\n",
    "\n",
    "    epoch_loss = list()    \n",
    "    for x_minibatch, y_minibatch in zip(x_batch_list, y_batch_list):\n",
    "        y_minibatch_pred = model(x_minibatch)\n",
    "        \n",
    "        loss = loss_func(y_minibatch_pred, y_minibatch)\n",
    "        epoch_loss.append(loss)\n",
    "\n",
    "        optimizer.zero_grad()\n",
    "        loss.backward()\n",
    "        optimizer.step()\n",
    "\n",
    "    if (index % 100) == 0:\n",
    "        print (index, sum(epoch_loss) / len(epoch_loss))        \n"
   ]
  },
  {
   "cell_type": "markdown",
   "id": "93c29a50",
   "metadata": {
    "pycharm": {
     "name": "#%% md\n"
    }
   },
   "source": [
    "### 테스트셋 기반 Evaluation"
   ]
  },
  {
   "cell_type": "markdown",
   "id": "62770e7a",
   "metadata": {
    "pycharm": {
     "name": "#%% md\n"
    }
   },
   "source": [
    "### model.eval() 과 torch.no_grad()"
   ]
  },
  {
   "cell_type": "markdown",
   "id": "4a134c74",
   "metadata": {
    "pycharm": {
     "name": "#%% md\n"
    }
   },
   "source": [
    "- model.eval()\n",
    "  - evaluation과정에서 사용하지 않을 layer들을 수행하지 않음\n",
    "  - 학습할 때만 필요한 Dropout, BatchNorm layer 등을 수행하지 않음\n",
    "\n",
    "- torch.no_grad()\n",
    "  - gradient 계산을 수행하지 않음\n",
    "    \n",
    "> 다음과 같이 test 셋에 대해 평가를 진행할 때는 보통 다음과 같이 작성\n",
    "\n",
    "```python\n",
    "model.eval()\n",
    "with torch.no_grad():\n",
    "    # 평가 코드\n",
    "    y_test_pred = model(xb_test)\n",
    "```"
   ]
  },
  {
   "cell_type": "code",
   "execution_count": 15,
   "id": "afe95a6c",
   "metadata": {
    "pycharm": {
     "name": "#%%\n"
    }
   },
   "outputs": [],
   "source": [
    "y_pred_list = []\n",
    "model.eval()\n",
    "with torch.no_grad():\n",
    "    y_test_pred_sigmoid = model(X_test_tensor)\n",
    "    y_test_pred = torch.round(y_test_pred_sigmoid) # torch.round(x) 반올림 함수"
   ]
  },
  {
   "cell_type": "markdown",
   "id": "701617ec",
   "metadata": {},
   "source": [
    "### mini-batch size 기반 예측"
   ]
  },
  {
   "cell_type": "code",
   "execution_count": 113,
   "id": "ddbbe7c0",
   "metadata": {},
   "outputs": [],
   "source": [
    "y_pred_list = list()\n",
    "x_test_batch_list = X_test_tensor.split(minibatch_size, 0)\n",
    "model.eval()\n",
    "with torch.no_grad():\n",
    "    for x_minibatch in x_test_batch_list:\n",
    "        y_test_pred_sigmoid = model(x_minibatch)\n",
    "        y_test_pred = torch.round(y_test_pred_sigmoid)\n",
    "        y_pred_list.extend(y_test_pred.squeeze().detach().tolist())\n",
    "\n",
    "y_pred_list = torch.tensor(y_pred_list).unsqueeze(1)"
   ]
  },
  {
   "cell_type": "code",
   "execution_count": 118,
   "id": "5b5ae4d9",
   "metadata": {},
   "outputs": [
    {
     "name": "stdout",
     "output_type": "stream",
     "text": [
      "torch.Size([2286, 1]) torch.Size([2286, 1])\n"
     ]
    }
   ],
   "source": [
    "print (y_pred_list.shape, y_test_tensor.shape)"
   ]
  },
  {
   "cell_type": "code",
   "execution_count": 120,
   "id": "28708173",
   "metadata": {},
   "outputs": [
    {
     "data": {
      "text/plain": [
       "tensor([[0.],\n",
       "        [0.],\n",
       "        [0.],\n",
       "        ...,\n",
       "        [1.],\n",
       "        [1.],\n",
       "        [1.]])"
      ]
     },
     "execution_count": 120,
     "metadata": {},
     "output_type": "execute_result"
    }
   ],
   "source": [
    "y_test_tensor"
   ]
  },
  {
   "cell_type": "markdown",
   "id": "49da95a1",
   "metadata": {
    "pycharm": {
     "name": "#%% md\n"
    }
   },
   "source": [
    "### Classification 기본 매트릭"
   ]
  },
  {
   "cell_type": "code",
   "execution_count": 121,
   "id": "4df983f5",
   "metadata": {
    "pycharm": {
     "name": "#%%\n"
    }
   },
   "outputs": [
    {
     "name": "stdout",
     "output_type": "stream",
     "text": [
      "Confusion Matrix\n",
      " [[1093   50]\n",
      " [  53 1090]]\n",
      "Precision:\t0.956140350877193\n",
      "Recall:\t0.9536307961504812\n",
      "F1 Score:\t0.9548839246605343\n"
     ]
    }
   ],
   "source": [
    "from sklearn.metrics import confusion_matrix, precision_score, recall_score, f1_score\n",
    "\n",
    "print(\"Confusion Matrix\\n\", str(confusion_matrix(y_test_tensor, y_pred_list)))\n",
    "print(\"Precision:\\t\"+str(precision_score(y_test_tensor, y_pred_list)))\n",
    "print(\"Recall:\\t\"+str(recall_score(y_test_tensor, y_pred_list)))\n",
    "print(\"F1 Score:\\t\"+str(f1_score(y_test_tensor, y_pred_list)))"
   ]
  },
  {
   "cell_type": "markdown",
   "id": "73669061",
   "metadata": {},
   "source": [
    "<div class=\"alert alert-block\" style=\"border: 2px solid #1976D2;background-color:#E3F2FD;padding:5px;font-size:0.9em;\">\n",
    "본 자료는 저작권법 제25조 2항에 의해 보호를 받습니다. 본 자료를 외부에 공개하지 말아주세요.<br>\n",
    "<b><a href=\"https://school.fun-coding.org/\">잔재미코딩 (https://school.fun-coding.org/)</a> 에서 본 강의를 포함하는 최적화된 로드맵도 확인하실 수 있습니다</b></div>"
   ]
  }
 ],
 "metadata": {
  "kernelspec": {
   "display_name": "Python 3 (ipykernel)",
   "language": "python",
   "name": "python3"
  },
  "language_info": {
   "codemirror_mode": {
    "name": "ipython",
    "version": 3
   },
   "file_extension": ".py",
   "mimetype": "text/x-python",
   "name": "python",
   "nbconvert_exporter": "python",
   "pygments_lexer": "ipython3",
   "version": "3.11.5"
  }
 },
 "nbformat": 4,
 "nbformat_minor": 5
}
