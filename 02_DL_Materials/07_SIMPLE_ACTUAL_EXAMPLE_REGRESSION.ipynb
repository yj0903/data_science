{
 "cells": [
  {
   "cell_type": "markdown",
   "id": "f7e75992",
   "metadata": {},
   "source": [
    "<div class=\"alert alert-block\" style=\"border: 2px solid #1976D2;background-color:#E3F2FD;padding:5px;font-size:0.9em;\">\n",
    "본 자료는 저작권법 제25조 2항에 의해 보호를 받습니다. 본 자료를 외부에 공개하지 말아주세요.<br>\n",
    "<b><a href=\"https://school.fun-coding.org/\">잔재미코딩 (https://school.fun-coding.org/)</a> 에서 본 강의를 포함하는 최적화된 로드맵도 확인하실 수 있습니다</b></div>"
   ]
  },
  {
   "cell_type": "markdown",
   "id": "24f65d9e",
   "metadata": {},
   "source": [
    "### 가벼운 딥러닝 적용1 - REGRESSION\n",
    "<div class=\"alert alert-block\" style=\"border: 2px solid #E65100;background-color:#FFF3E0;padding:10px\">\n",
    "<font size=\"4em\" style=\"color:#BF360C;\">지금까지 익힌 이론과 코드만 가지고도, 바로 딥러닝 적용이 가능합니다</font><br>\n",
    "<font size=\"4em\" style=\"color:#BF360C;\">빠르게 여러 문제를 딥러닝에 적용해보며, PYTORCH 와 딥러닝에 우선 익숙해지도록 합니다</font>\n",
    "</div>"
   ]
  },
  {
   "cell_type": "markdown",
   "id": "c9763d13",
   "metadata": {},
   "source": [
    "### 가벼운 REGRESSION 예제 문제\n",
    "- 유명한 Regression 예제 문제: house price advanced regression\n",
    "- https://www.kaggle.com/competitions/house-prices-advanced-regression-techniques"
   ]
  },
  {
   "cell_type": "markdown",
   "id": "b68d031c",
   "metadata": {
    "pycharm": {
     "name": "#%% md\n"
    }
   },
   "source": [
    "### Kaggle API\n",
    "- Kaggle 이란?\n",
    "  - 가장 유명한 전세계 예측 모델 및 분석 대회 플랫폼\n",
    "  - 기업 및 단체에서 데이터와 해결과제를 등록하고, 데이터 과학자들이 이를 해결하는 모델을 개발 및 순위를 매김\n",
    "    - 통상 각 과제 대회에서 상위 10% 에 오르면, 현장에서 데이터 사이언티스트로 일할 수 있는 사람이라고 인정함\n",
    "  - https://www.kaggle.com/"
   ]
  },
  {
   "cell_type": "markdown",
   "id": "d71e9806",
   "metadata": {
    "pycharm": {
     "name": "#%% md\n"
    }
   },
   "source": [
    "### 참고: Kaggle 로 데이터 구하기\n",
    "- Kaggle 에 수많은 데이터셋이 있으며, 이를 파이썬 kaggle API 로도 다운로드 받을 수 있음\n",
    "  - 직접 해당 데이터셋 페이지에서, 다운로드를 받을 수도 있으므로, 꼭 필요한 것은 아님\n",
    "  \n",
    "### Kaggle API 토큰 생성 방법 \n",
    "> 머신러닝 강의에서 영상과 함께 상세히 설명드린 부분이므로, 글로 대체하기로 함\n",
    "\n",
    "- kaggle.com 사이트 회원가입(Sign-Up) 및 로그인(Sign-In)\n",
    "- 자신의 ID 에 대한 account 로 이동 후, **Create New API Token** 버튼 클릭\n",
    "  - 클릭하면, 바로 kaggle.json 파일 다운로드\n",
    "- kaggle.json 파일을 다음 경로에 정확히 넣어야 함\n",
    "  - 윈도우: 보통 C 드라이브가 메인 드라이브이므로, 해당 드라이브의 Users 에 자신의 아이디로 된 폴더를 확인할 수 있음\n",
    "    - 해당 폴더 안에, .kaggle 이라는 폴더를 생성한 후(kaggle 이 아니라, .kaggle 입니다!), kaggle.json 파일을 해당 폴더에 이동\n",
    "    - 즉, C:\\Users\\\\\\<Windows-username>\\\\.kaggle\\kaggle.json 이 되어야 함\n",
    "  - 맥: 사용자 ID 의 기본 폴더를 다음 터미널 명령으로 이동할 수 있음 (~ 표시가 사용자 ID 의 기본 폴더를 의미함)\n",
    "    - cd ~\n",
    "    - mkdir .kaggle (.kaggle 폴더 생성, 역시 kaggle 이 아니라, .kaggle 입니다!)\n",
    "    - chmod 600 kaggle.json (사용자 권한을 사용자 ID만 읽고 쓸 수 있게끔 하겠다라는 의미임)\n",
    "    - 즉, ~/.kaggle/kaggle.json 이 되어야 함\n",
    "\n",
    "> 이 과정이 잘 안된다면, 터미널 명령과 폴더등에 익숙하지 않기 때문이므로, 바로 사이트 자체에서 데이터를 다운로드받고 넘어갑니다  "
   ]
  },
  {
   "cell_type": "code",
   "execution_count": 146,
   "id": "85179562",
   "metadata": {
    "pycharm": {
     "name": "#%%\n"
    }
   },
   "outputs": [
    {
     "name": "stdout",
     "output_type": "stream",
     "text": [
      "Requirement already satisfied: kaggle in /Users/davelee/opt/anaconda-py39/anaconda3/lib/python3.9/site-packages (1.5.12)\r\n",
      "Requirement already satisfied: tqdm in /Users/davelee/opt/anaconda-py39/anaconda3/lib/python3.9/site-packages (from kaggle) (4.64.0)\r\n",
      "Requirement already satisfied: certifi in /Users/davelee/opt/anaconda-py39/anaconda3/lib/python3.9/site-packages (from kaggle) (2022.6.15)\r\n",
      "Requirement already satisfied: six>=1.10 in /Users/davelee/opt/anaconda-py39/anaconda3/lib/python3.9/site-packages (from kaggle) (1.16.0)\r\n",
      "Requirement already satisfied: urllib3 in /Users/davelee/opt/anaconda-py39/anaconda3/lib/python3.9/site-packages (from kaggle) (1.26.11)\r\n",
      "Requirement already satisfied: python-dateutil in /Users/davelee/opt/anaconda-py39/anaconda3/lib/python3.9/site-packages (from kaggle) (2.8.2)\r\n",
      "Requirement already satisfied: requests in /Users/davelee/opt/anaconda-py39/anaconda3/lib/python3.9/site-packages (from kaggle) (2.28.1)\r\n",
      "Requirement already satisfied: python-slugify in /Users/davelee/opt/anaconda-py39/anaconda3/lib/python3.9/site-packages (from kaggle) (5.0.2)\r\n",
      "Requirement already satisfied: text-unidecode>=1.3 in /Users/davelee/opt/anaconda-py39/anaconda3/lib/python3.9/site-packages (from python-slugify->kaggle) (1.3)\r\n",
      "Requirement already satisfied: idna<4,>=2.5 in /Users/davelee/opt/anaconda-py39/anaconda3/lib/python3.9/site-packages (from requests->kaggle) (3.3)\r\n",
      "Requirement already satisfied: charset-normalizer<3,>=2 in /Users/davelee/opt/anaconda-py39/anaconda3/lib/python3.9/site-packages (from requests->kaggle) (2.0.4)\r\n"
     ]
    }
   ],
   "source": [
    "!pip install kaggle"
   ]
  },
  {
   "cell_type": "code",
   "execution_count": 2,
   "id": "e3ef674f",
   "metadata": {
    "pycharm": {
     "name": "#%%\n"
    }
   },
   "outputs": [
    {
     "name": "stdout",
     "output_type": "stream",
     "text": [
      "house-prices-advanced-regression-techniques.zip: Skipping, found more recently modified local copy (use --force to force download)\r\n"
     ]
    }
   ],
   "source": [
    "!kaggle competitions download -c house-prices-advanced-regression-techniques"
   ]
  },
  {
   "cell_type": "code",
   "execution_count": 321,
   "id": "e9c18034",
   "metadata": {
    "pycharm": {
     "name": "#%%\n"
    }
   },
   "outputs": [],
   "source": [
    "import torch\n",
    "import torch.nn as nn\n",
    "import numpy as np\n",
    "import pandas as pd\n",
    "from sklearn.preprocessing import StandardScaler"
   ]
  },
  {
   "cell_type": "markdown",
   "id": "5f6fd195",
   "metadata": {
    "pycharm": {
     "name": "#%% md\n"
    }
   },
   "source": [
    "### 데이터 load"
   ]
  },
  {
   "cell_type": "code",
   "execution_count": 322,
   "id": "19c18da2",
   "metadata": {
    "pycharm": {
     "name": "#%%\n"
    }
   },
   "outputs": [],
   "source": [
    "df_train = pd.read_csv('house-prices-advanced-regression-techniques/train.csv')\n",
    "df_test = pd.read_csv('house-prices-advanced-regression-techniques/test.csv')"
   ]
  },
  {
   "cell_type": "code",
   "execution_count": 323,
   "id": "66845c44",
   "metadata": {
    "pycharm": {
     "name": "#%%\n"
    }
   },
   "outputs": [
    {
     "name": "stdout",
     "output_type": "stream",
     "text": [
      "(1460, 81) (1459, 80)\n"
     ]
    }
   ],
   "source": [
    "print (df_train.shape, df_test.shape)"
   ]
  },
  {
   "cell_type": "code",
   "execution_count": 324,
   "id": "d87863f3",
   "metadata": {
    "pycharm": {
     "name": "#%%\n"
    }
   },
   "outputs": [
    {
     "data": {
      "text/html": [
       "<div>\n",
       "<style scoped>\n",
       "    .dataframe tbody tr th:only-of-type {\n",
       "        vertical-align: middle;\n",
       "    }\n",
       "\n",
       "    .dataframe tbody tr th {\n",
       "        vertical-align: top;\n",
       "    }\n",
       "\n",
       "    .dataframe thead th {\n",
       "        text-align: right;\n",
       "    }\n",
       "</style>\n",
       "<table border=\"1\" class=\"dataframe\">\n",
       "  <thead>\n",
       "    <tr style=\"text-align: right;\">\n",
       "      <th></th>\n",
       "      <th>Id</th>\n",
       "      <th>MSSubClass</th>\n",
       "      <th>MSZoning</th>\n",
       "      <th>LotFrontage</th>\n",
       "      <th>LotArea</th>\n",
       "      <th>Street</th>\n",
       "      <th>Alley</th>\n",
       "      <th>LotShape</th>\n",
       "      <th>LandContour</th>\n",
       "      <th>Utilities</th>\n",
       "      <th>...</th>\n",
       "      <th>PoolArea</th>\n",
       "      <th>PoolQC</th>\n",
       "      <th>Fence</th>\n",
       "      <th>MiscFeature</th>\n",
       "      <th>MiscVal</th>\n",
       "      <th>MoSold</th>\n",
       "      <th>YrSold</th>\n",
       "      <th>SaleType</th>\n",
       "      <th>SaleCondition</th>\n",
       "      <th>SalePrice</th>\n",
       "    </tr>\n",
       "  </thead>\n",
       "  <tbody>\n",
       "    <tr>\n",
       "      <th>0</th>\n",
       "      <td>1</td>\n",
       "      <td>60</td>\n",
       "      <td>RL</td>\n",
       "      <td>65.0</td>\n",
       "      <td>8450</td>\n",
       "      <td>Pave</td>\n",
       "      <td>NaN</td>\n",
       "      <td>Reg</td>\n",
       "      <td>Lvl</td>\n",
       "      <td>AllPub</td>\n",
       "      <td>...</td>\n",
       "      <td>0</td>\n",
       "      <td>NaN</td>\n",
       "      <td>NaN</td>\n",
       "      <td>NaN</td>\n",
       "      <td>0</td>\n",
       "      <td>2</td>\n",
       "      <td>2008</td>\n",
       "      <td>WD</td>\n",
       "      <td>Normal</td>\n",
       "      <td>208500</td>\n",
       "    </tr>\n",
       "    <tr>\n",
       "      <th>1</th>\n",
       "      <td>2</td>\n",
       "      <td>20</td>\n",
       "      <td>RL</td>\n",
       "      <td>80.0</td>\n",
       "      <td>9600</td>\n",
       "      <td>Pave</td>\n",
       "      <td>NaN</td>\n",
       "      <td>Reg</td>\n",
       "      <td>Lvl</td>\n",
       "      <td>AllPub</td>\n",
       "      <td>...</td>\n",
       "      <td>0</td>\n",
       "      <td>NaN</td>\n",
       "      <td>NaN</td>\n",
       "      <td>NaN</td>\n",
       "      <td>0</td>\n",
       "      <td>5</td>\n",
       "      <td>2007</td>\n",
       "      <td>WD</td>\n",
       "      <td>Normal</td>\n",
       "      <td>181500</td>\n",
       "    </tr>\n",
       "    <tr>\n",
       "      <th>2</th>\n",
       "      <td>3</td>\n",
       "      <td>60</td>\n",
       "      <td>RL</td>\n",
       "      <td>68.0</td>\n",
       "      <td>11250</td>\n",
       "      <td>Pave</td>\n",
       "      <td>NaN</td>\n",
       "      <td>IR1</td>\n",
       "      <td>Lvl</td>\n",
       "      <td>AllPub</td>\n",
       "      <td>...</td>\n",
       "      <td>0</td>\n",
       "      <td>NaN</td>\n",
       "      <td>NaN</td>\n",
       "      <td>NaN</td>\n",
       "      <td>0</td>\n",
       "      <td>9</td>\n",
       "      <td>2008</td>\n",
       "      <td>WD</td>\n",
       "      <td>Normal</td>\n",
       "      <td>223500</td>\n",
       "    </tr>\n",
       "    <tr>\n",
       "      <th>3</th>\n",
       "      <td>4</td>\n",
       "      <td>70</td>\n",
       "      <td>RL</td>\n",
       "      <td>60.0</td>\n",
       "      <td>9550</td>\n",
       "      <td>Pave</td>\n",
       "      <td>NaN</td>\n",
       "      <td>IR1</td>\n",
       "      <td>Lvl</td>\n",
       "      <td>AllPub</td>\n",
       "      <td>...</td>\n",
       "      <td>0</td>\n",
       "      <td>NaN</td>\n",
       "      <td>NaN</td>\n",
       "      <td>NaN</td>\n",
       "      <td>0</td>\n",
       "      <td>2</td>\n",
       "      <td>2006</td>\n",
       "      <td>WD</td>\n",
       "      <td>Abnorml</td>\n",
       "      <td>140000</td>\n",
       "    </tr>\n",
       "    <tr>\n",
       "      <th>4</th>\n",
       "      <td>5</td>\n",
       "      <td>60</td>\n",
       "      <td>RL</td>\n",
       "      <td>84.0</td>\n",
       "      <td>14260</td>\n",
       "      <td>Pave</td>\n",
       "      <td>NaN</td>\n",
       "      <td>IR1</td>\n",
       "      <td>Lvl</td>\n",
       "      <td>AllPub</td>\n",
       "      <td>...</td>\n",
       "      <td>0</td>\n",
       "      <td>NaN</td>\n",
       "      <td>NaN</td>\n",
       "      <td>NaN</td>\n",
       "      <td>0</td>\n",
       "      <td>12</td>\n",
       "      <td>2008</td>\n",
       "      <td>WD</td>\n",
       "      <td>Normal</td>\n",
       "      <td>250000</td>\n",
       "    </tr>\n",
       "  </tbody>\n",
       "</table>\n",
       "<p>5 rows × 81 columns</p>\n",
       "</div>"
      ],
      "text/plain": [
       "   Id  MSSubClass MSZoning  LotFrontage  LotArea Street Alley LotShape  \\\n",
       "0   1          60       RL         65.0     8450   Pave   NaN      Reg   \n",
       "1   2          20       RL         80.0     9600   Pave   NaN      Reg   \n",
       "2   3          60       RL         68.0    11250   Pave   NaN      IR1   \n",
       "3   4          70       RL         60.0     9550   Pave   NaN      IR1   \n",
       "4   5          60       RL         84.0    14260   Pave   NaN      IR1   \n",
       "\n",
       "  LandContour Utilities  ... PoolArea PoolQC Fence MiscFeature MiscVal MoSold  \\\n",
       "0         Lvl    AllPub  ...        0    NaN   NaN         NaN       0      2   \n",
       "1         Lvl    AllPub  ...        0    NaN   NaN         NaN       0      5   \n",
       "2         Lvl    AllPub  ...        0    NaN   NaN         NaN       0      9   \n",
       "3         Lvl    AllPub  ...        0    NaN   NaN         NaN       0      2   \n",
       "4         Lvl    AllPub  ...        0    NaN   NaN         NaN       0     12   \n",
       "\n",
       "  YrSold  SaleType  SaleCondition  SalePrice  \n",
       "0   2008        WD         Normal     208500  \n",
       "1   2007        WD         Normal     181500  \n",
       "2   2008        WD         Normal     223500  \n",
       "3   2006        WD        Abnorml     140000  \n",
       "4   2008        WD         Normal     250000  \n",
       "\n",
       "[5 rows x 81 columns]"
      ]
     },
     "execution_count": 324,
     "metadata": {},
     "output_type": "execute_result"
    }
   ],
   "source": [
    "df_train.head()"
   ]
  },
  {
   "cell_type": "code",
   "execution_count": 325,
   "id": "8c58730d",
   "metadata": {
    "pycharm": {
     "name": "#%%\n"
    }
   },
   "outputs": [
    {
     "data": {
      "text/html": [
       "<div>\n",
       "<style scoped>\n",
       "    .dataframe tbody tr th:only-of-type {\n",
       "        vertical-align: middle;\n",
       "    }\n",
       "\n",
       "    .dataframe tbody tr th {\n",
       "        vertical-align: top;\n",
       "    }\n",
       "\n",
       "    .dataframe thead th {\n",
       "        text-align: right;\n",
       "    }\n",
       "</style>\n",
       "<table border=\"1\" class=\"dataframe\">\n",
       "  <thead>\n",
       "    <tr style=\"text-align: right;\">\n",
       "      <th></th>\n",
       "      <th>Id</th>\n",
       "      <th>MSSubClass</th>\n",
       "      <th>MSZoning</th>\n",
       "      <th>LotFrontage</th>\n",
       "      <th>LotArea</th>\n",
       "      <th>Street</th>\n",
       "      <th>Alley</th>\n",
       "      <th>LotShape</th>\n",
       "      <th>LandContour</th>\n",
       "      <th>Utilities</th>\n",
       "      <th>...</th>\n",
       "      <th>ScreenPorch</th>\n",
       "      <th>PoolArea</th>\n",
       "      <th>PoolQC</th>\n",
       "      <th>Fence</th>\n",
       "      <th>MiscFeature</th>\n",
       "      <th>MiscVal</th>\n",
       "      <th>MoSold</th>\n",
       "      <th>YrSold</th>\n",
       "      <th>SaleType</th>\n",
       "      <th>SaleCondition</th>\n",
       "    </tr>\n",
       "  </thead>\n",
       "  <tbody>\n",
       "    <tr>\n",
       "      <th>0</th>\n",
       "      <td>1461</td>\n",
       "      <td>20</td>\n",
       "      <td>RH</td>\n",
       "      <td>80.0</td>\n",
       "      <td>11622</td>\n",
       "      <td>Pave</td>\n",
       "      <td>NaN</td>\n",
       "      <td>Reg</td>\n",
       "      <td>Lvl</td>\n",
       "      <td>AllPub</td>\n",
       "      <td>...</td>\n",
       "      <td>120</td>\n",
       "      <td>0</td>\n",
       "      <td>NaN</td>\n",
       "      <td>MnPrv</td>\n",
       "      <td>NaN</td>\n",
       "      <td>0</td>\n",
       "      <td>6</td>\n",
       "      <td>2010</td>\n",
       "      <td>WD</td>\n",
       "      <td>Normal</td>\n",
       "    </tr>\n",
       "    <tr>\n",
       "      <th>1</th>\n",
       "      <td>1462</td>\n",
       "      <td>20</td>\n",
       "      <td>RL</td>\n",
       "      <td>81.0</td>\n",
       "      <td>14267</td>\n",
       "      <td>Pave</td>\n",
       "      <td>NaN</td>\n",
       "      <td>IR1</td>\n",
       "      <td>Lvl</td>\n",
       "      <td>AllPub</td>\n",
       "      <td>...</td>\n",
       "      <td>0</td>\n",
       "      <td>0</td>\n",
       "      <td>NaN</td>\n",
       "      <td>NaN</td>\n",
       "      <td>Gar2</td>\n",
       "      <td>12500</td>\n",
       "      <td>6</td>\n",
       "      <td>2010</td>\n",
       "      <td>WD</td>\n",
       "      <td>Normal</td>\n",
       "    </tr>\n",
       "    <tr>\n",
       "      <th>2</th>\n",
       "      <td>1463</td>\n",
       "      <td>60</td>\n",
       "      <td>RL</td>\n",
       "      <td>74.0</td>\n",
       "      <td>13830</td>\n",
       "      <td>Pave</td>\n",
       "      <td>NaN</td>\n",
       "      <td>IR1</td>\n",
       "      <td>Lvl</td>\n",
       "      <td>AllPub</td>\n",
       "      <td>...</td>\n",
       "      <td>0</td>\n",
       "      <td>0</td>\n",
       "      <td>NaN</td>\n",
       "      <td>MnPrv</td>\n",
       "      <td>NaN</td>\n",
       "      <td>0</td>\n",
       "      <td>3</td>\n",
       "      <td>2010</td>\n",
       "      <td>WD</td>\n",
       "      <td>Normal</td>\n",
       "    </tr>\n",
       "    <tr>\n",
       "      <th>3</th>\n",
       "      <td>1464</td>\n",
       "      <td>60</td>\n",
       "      <td>RL</td>\n",
       "      <td>78.0</td>\n",
       "      <td>9978</td>\n",
       "      <td>Pave</td>\n",
       "      <td>NaN</td>\n",
       "      <td>IR1</td>\n",
       "      <td>Lvl</td>\n",
       "      <td>AllPub</td>\n",
       "      <td>...</td>\n",
       "      <td>0</td>\n",
       "      <td>0</td>\n",
       "      <td>NaN</td>\n",
       "      <td>NaN</td>\n",
       "      <td>NaN</td>\n",
       "      <td>0</td>\n",
       "      <td>6</td>\n",
       "      <td>2010</td>\n",
       "      <td>WD</td>\n",
       "      <td>Normal</td>\n",
       "    </tr>\n",
       "    <tr>\n",
       "      <th>4</th>\n",
       "      <td>1465</td>\n",
       "      <td>120</td>\n",
       "      <td>RL</td>\n",
       "      <td>43.0</td>\n",
       "      <td>5005</td>\n",
       "      <td>Pave</td>\n",
       "      <td>NaN</td>\n",
       "      <td>IR1</td>\n",
       "      <td>HLS</td>\n",
       "      <td>AllPub</td>\n",
       "      <td>...</td>\n",
       "      <td>144</td>\n",
       "      <td>0</td>\n",
       "      <td>NaN</td>\n",
       "      <td>NaN</td>\n",
       "      <td>NaN</td>\n",
       "      <td>0</td>\n",
       "      <td>1</td>\n",
       "      <td>2010</td>\n",
       "      <td>WD</td>\n",
       "      <td>Normal</td>\n",
       "    </tr>\n",
       "  </tbody>\n",
       "</table>\n",
       "<p>5 rows × 80 columns</p>\n",
       "</div>"
      ],
      "text/plain": [
       "     Id  MSSubClass MSZoning  LotFrontage  LotArea Street Alley LotShape  \\\n",
       "0  1461          20       RH         80.0    11622   Pave   NaN      Reg   \n",
       "1  1462          20       RL         81.0    14267   Pave   NaN      IR1   \n",
       "2  1463          60       RL         74.0    13830   Pave   NaN      IR1   \n",
       "3  1464          60       RL         78.0     9978   Pave   NaN      IR1   \n",
       "4  1465         120       RL         43.0     5005   Pave   NaN      IR1   \n",
       "\n",
       "  LandContour Utilities  ... ScreenPorch PoolArea PoolQC  Fence MiscFeature  \\\n",
       "0         Lvl    AllPub  ...         120        0    NaN  MnPrv         NaN   \n",
       "1         Lvl    AllPub  ...           0        0    NaN    NaN        Gar2   \n",
       "2         Lvl    AllPub  ...           0        0    NaN  MnPrv         NaN   \n",
       "3         Lvl    AllPub  ...           0        0    NaN    NaN         NaN   \n",
       "4         HLS    AllPub  ...         144        0    NaN    NaN         NaN   \n",
       "\n",
       "  MiscVal MoSold  YrSold  SaleType  SaleCondition  \n",
       "0       0      6    2010        WD         Normal  \n",
       "1   12500      6    2010        WD         Normal  \n",
       "2       0      3    2010        WD         Normal  \n",
       "3       0      6    2010        WD         Normal  \n",
       "4       0      1    2010        WD         Normal  \n",
       "\n",
       "[5 rows x 80 columns]"
      ]
     },
     "execution_count": 325,
     "metadata": {},
     "output_type": "execute_result"
    }
   ],
   "source": [
    "df_test.head() # SalePrice feature (정답) 이 없음"
   ]
  },
  {
   "cell_type": "markdown",
   "id": "8dada37d",
   "metadata": {
    "pycharm": {
     "name": "#%% md\n"
    }
   },
   "source": [
    "### 상관관계 기반 feature 선택\n",
    "> 본 프로젝트도 EDA, feature engineering 을 다양한 방면으로 진행해야하지만,\n",
    "> 이 부분은 처음하는 머신러닝 강의에서 상세히 다루었으므로, 본 강의에서는 pytorch 기능을 익히는데 집중하여,\n",
    "> EDA, feature engineering 은 진행하지 않기로 함"
   ]
  },
  {
   "cell_type": "code",
   "execution_count": 326,
   "id": "215e8878",
   "metadata": {
    "pycharm": {
     "name": "#%%\n"
    }
   },
   "outputs": [
    {
     "data": {
      "text/plain": [
       "Id              -0.021917\n",
       "MSSubClass      -0.084284\n",
       "LotFrontage      0.351799\n",
       "LotArea          0.263843\n",
       "OverallQual      0.790982\n",
       "OverallCond     -0.077856\n",
       "YearBuilt        0.522897\n",
       "YearRemodAdd     0.507101\n",
       "MasVnrArea       0.477493\n",
       "BsmtFinSF1       0.386420\n",
       "BsmtFinSF2      -0.011378\n",
       "BsmtUnfSF        0.214479\n",
       "TotalBsmtSF      0.613581\n",
       "1stFlrSF         0.605852\n",
       "2ndFlrSF         0.319334\n",
       "LowQualFinSF    -0.025606\n",
       "GrLivArea        0.708624\n",
       "BsmtFullBath     0.227122\n",
       "BsmtHalfBath    -0.016844\n",
       "FullBath         0.560664\n",
       "HalfBath         0.284108\n",
       "BedroomAbvGr     0.168213\n",
       "KitchenAbvGr    -0.135907\n",
       "TotRmsAbvGrd     0.533723\n",
       "Fireplaces       0.466929\n",
       "GarageYrBlt      0.486362\n",
       "GarageCars       0.640409\n",
       "GarageArea       0.623431\n",
       "WoodDeckSF       0.324413\n",
       "OpenPorchSF      0.315856\n",
       "EnclosedPorch   -0.128578\n",
       "3SsnPorch        0.044584\n",
       "ScreenPorch      0.111447\n",
       "PoolArea         0.092404\n",
       "MiscVal         -0.021190\n",
       "MoSold           0.046432\n",
       "YrSold          -0.028923\n",
       "SalePrice        1.000000\n",
       "Name: SalePrice, dtype: float64"
      ]
     },
     "execution_count": 326,
     "metadata": {},
     "output_type": "execute_result"
    }
   ],
   "source": [
    "df_train.corr()['SalePrice']"
   ]
  },
  {
   "cell_type": "markdown",
   "id": "fc42b8c1",
   "metadata": {
    "pycharm": {
     "name": "#%% md\n"
    }
   },
   "source": [
    "### SalePrice 와 상관관계가 높은 feature 만 추출\n",
    "> 모든 feature 를 넣으면, 결측치가 있을 경우, 결측치 보정등을 위해, EDA/Feature Engineering 이 깊게 들어갈 수 있으므로,\n",
    "> 상관관계가 높은 feature 만을 중심으로, 하기로 함"
   ]
  },
  {
   "cell_type": "code",
   "execution_count": 327,
   "id": "eba51e9d",
   "metadata": {
    "pycharm": {
     "name": "#%%\n"
    }
   },
   "outputs": [
    {
     "data": {
      "text/plain": [
       "OverallQual     0.790982\n",
       "YearBuilt       0.522897\n",
       "YearRemodAdd    0.507101\n",
       "TotalBsmtSF     0.613581\n",
       "1stFlrSF        0.605852\n",
       "GrLivArea       0.708624\n",
       "FullBath        0.560664\n",
       "TotRmsAbvGrd    0.533723\n",
       "GarageCars      0.640409\n",
       "GarageArea      0.623431\n",
       "SalePrice       1.000000\n",
       "Name: SalePrice, dtype: float64"
      ]
     },
     "execution_count": 327,
     "metadata": {},
     "output_type": "execute_result"
    }
   ],
   "source": [
    "df_train.corr()['SalePrice'][(df_train.corr()['SalePrice'] > 0.5) | (df_train.corr()['SalePrice'] < -0.5)]"
   ]
  },
  {
   "cell_type": "code",
   "execution_count": 328,
   "id": "f8a56d84",
   "metadata": {
    "pycharm": {
     "name": "#%%\n"
    }
   },
   "outputs": [],
   "source": [
    "feature_list = df_train.corr()['SalePrice'][(df_train.corr()['SalePrice'] > 0.5) | (df_train.corr()['SalePrice'] < -0.5)].index"
   ]
  },
  {
   "cell_type": "markdown",
   "id": "243448ea",
   "metadata": {
    "pycharm": {
     "name": "#%% md\n"
    }
   },
   "source": [
    "### 결측치 확인"
   ]
  },
  {
   "cell_type": "code",
   "execution_count": 329,
   "id": "3665c6f5",
   "metadata": {
    "pycharm": {
     "name": "#%%\n"
    }
   },
   "outputs": [
    {
     "data": {
      "text/plain": [
       "OverallQual     0\n",
       "YearBuilt       0\n",
       "YearRemodAdd    0\n",
       "TotalBsmtSF     0\n",
       "1stFlrSF        0\n",
       "GrLivArea       0\n",
       "FullBath        0\n",
       "TotRmsAbvGrd    0\n",
       "GarageCars      0\n",
       "GarageArea      0\n",
       "SalePrice       0\n",
       "dtype: int64"
      ]
     },
     "execution_count": 329,
     "metadata": {},
     "output_type": "execute_result"
    }
   ],
   "source": [
    "df_train[feature_list].isnull().sum()"
   ]
  },
  {
   "cell_type": "markdown",
   "id": "ca5a833f",
   "metadata": {
    "pycharm": {
     "name": "#%% md\n"
    }
   },
   "source": [
    "### 데이터 타입 확인"
   ]
  },
  {
   "cell_type": "code",
   "execution_count": 330,
   "id": "885d8f90",
   "metadata": {
    "pycharm": {
     "name": "#%%\n"
    }
   },
   "outputs": [
    {
     "data": {
      "text/plain": [
       "OverallQual     int64\n",
       "YearBuilt       int64\n",
       "YearRemodAdd    int64\n",
       "TotalBsmtSF     int64\n",
       "1stFlrSF        int64\n",
       "GrLivArea       int64\n",
       "FullBath        int64\n",
       "TotRmsAbvGrd    int64\n",
       "GarageCars      int64\n",
       "GarageArea      int64\n",
       "SalePrice       int64\n",
       "dtype: object"
      ]
     },
     "execution_count": 330,
     "metadata": {},
     "output_type": "execute_result"
    }
   ],
   "source": [
    "df_train[feature_list].dtypes "
   ]
  },
  {
   "cell_type": "code",
   "execution_count": 331,
   "id": "005509f8",
   "metadata": {
    "pycharm": {
     "name": "#%%\n"
    }
   },
   "outputs": [
    {
     "data": {
      "text/plain": [
       "['OverallQual',\n",
       " 'YearBuilt',\n",
       " 'YearRemodAdd',\n",
       " 'TotalBsmtSF',\n",
       " '1stFlrSF',\n",
       " 'GrLivArea',\n",
       " 'FullBath',\n",
       " 'TotRmsAbvGrd',\n",
       " 'GarageCars',\n",
       " 'GarageArea']"
      ]
     },
     "execution_count": 331,
     "metadata": {},
     "output_type": "execute_result"
    }
   ],
   "source": [
    "features = list(feature_list[:-1])\n",
    "features"
   ]
  },
  {
   "cell_type": "markdown",
   "id": "972c71c6",
   "metadata": {
    "pycharm": {
     "name": "#%% md\n"
    }
   },
   "source": [
    "### 데이터 준비"
   ]
  },
  {
   "cell_type": "code",
   "execution_count": 332,
   "id": "d0b10ae4",
   "metadata": {
    "pycharm": {
     "name": "#%%\n"
    }
   },
   "outputs": [],
   "source": [
    "for feature in features:\n",
    "    df_test[feature].fillna((df_test[feature].mean()), inplace=True)"
   ]
  },
  {
   "cell_type": "code",
   "execution_count": 333,
   "id": "63a98f1b",
   "metadata": {
    "pycharm": {
     "name": "#%%\n"
    }
   },
   "outputs": [],
   "source": [
    "X_train = df_train[features]\n",
    "y_train = df_train[['SalePrice']].values # type 이 numpy.ndarray 가 되어, from_numpy() 로 tensor 변환 가능\n",
    "X_test = df_test[features]"
   ]
  },
  {
   "cell_type": "code",
   "execution_count": 297,
   "id": "bbcacb85",
   "metadata": {
    "pycharm": {
     "name": "#%%\n"
    }
   },
   "outputs": [],
   "source": [
    "std_scaler = StandardScaler()\n",
    "std_scaler.fit(X_train)\n",
    "X_train_tensor = torch.from_numpy(std_scaler.transform(X_train)).float()\n",
    "X_test_tensor = torch.from_numpy(std_scaler.transform(X_test)).float()\n",
    "y_train_tensor = torch.from_numpy(y_train).float()"
   ]
  },
  {
   "cell_type": "code",
   "execution_count": 298,
   "id": "cab53f91",
   "metadata": {
    "pycharm": {
     "name": "#%%\n"
    }
   },
   "outputs": [
    {
     "name": "stdout",
     "output_type": "stream",
     "text": [
      "torch.Size([1460, 10]) torch.Size([1459, 10]) torch.Size([1460, 1])\n"
     ]
    }
   ],
   "source": [
    "print (X_train_tensor.shape, X_test_tensor.shape, y_train_tensor.shape)"
   ]
  },
  {
   "cell_type": "code",
   "execution_count": 300,
   "id": "0ae03f21",
   "metadata": {
    "pycharm": {
     "name": "#%%\n"
    }
   },
   "outputs": [],
   "source": [
    "nb_epochs = 10000\n",
    "minibatch_size = 256"
   ]
  },
  {
   "cell_type": "code",
   "execution_count": 301,
   "id": "3c161ecf",
   "metadata": {},
   "outputs": [],
   "source": [
    "class FunModel(nn.Module):\n",
    "    def __init__(self, input_dim, output_dim):\n",
    "        super().__init__()\n",
    "        \n",
    "        self.linear_layers = nn.Sequential (\n",
    "            nn.Linear(input_dim, 20),\n",
    "            nn.LeakyReLU(),\n",
    "            nn.Linear(20, 10),\n",
    "            nn.LeakyReLU(),\n",
    "            nn.Linear(10, 8),\n",
    "            nn.LeakyReLU(),\n",
    "            nn.Linear(8, 6),\n",
    "            nn.LeakyReLU(),            \n",
    "            nn.Linear(6, output_dim)    \n",
    "        )\n",
    "    def forward(self, x):\n",
    "        y = self.linear_layers(x)\n",
    "        return y"
   ]
  },
  {
   "cell_type": "code",
   "execution_count": 302,
   "id": "94ac4bd3",
   "metadata": {
    "pycharm": {
     "name": "#%%\n"
    }
   },
   "outputs": [
    {
     "name": "stdout",
     "output_type": "stream",
     "text": [
      "10 1\n"
     ]
    }
   ],
   "source": [
    "input_dim = X_train_tensor.size(-1) \n",
    "output_dim = y_train_tensor.size(-1)\n",
    "print (input_dim, output_dim)\n",
    "model = FunModel(input_dim, output_dim)    \n",
    "loss_function = nn.MSELoss() # 디폴트는 mean 이지만, \n",
    "optimizer = torch.optim.Adam(model.parameters())"
   ]
  },
  {
   "cell_type": "code",
   "execution_count": 303,
   "id": "f8b18082",
   "metadata": {
    "pycharm": {
     "name": "#%%\n"
    }
   },
   "outputs": [
    {
     "name": "stdout",
     "output_type": "stream",
     "text": [
      "tensor([1381,   74, 1402,  ...,  867,   45, 1458])\n"
     ]
    }
   ],
   "source": [
    "indices = torch.randperm(X_train_tensor.size(0))\n",
    "print (indices)\n",
    "x_batch_list = torch.index_select(X_train_tensor, 0, index=indices) # shuffle 된 데이터셋으로, 데이터양이 상당하므로, 미니배치 변수로 선언\n",
    "y_batch_list = torch.index_select(y_train_tensor, 0, index=indices) # shuffle 된 데이터셋으로, 데이터양이 상당하므로, 미니배치 변수로 선언\n",
    "x_batch_list = x_batch_list.split(minibatch_size, 0)\n",
    "y_batch_list = y_batch_list.split(minibatch_size, 0)"
   ]
  },
  {
   "cell_type": "code",
   "execution_count": 304,
   "id": "2afb782d",
   "metadata": {
    "pycharm": {
     "name": "#%%\n"
    }
   },
   "outputs": [
    {
     "name": "stdout",
     "output_type": "stream",
     "text": [
      "0 tensor(196997.9844, grad_fn=<DivBackward0>)\n",
      "100 tensor(156293.2656, grad_fn=<DivBackward0>)\n",
      "200 tensor(72032.5859, grad_fn=<DivBackward0>)\n",
      "300 tensor(60399.4883, grad_fn=<DivBackward0>)\n",
      "400 tensor(46646.8906, grad_fn=<DivBackward0>)\n",
      "500 tensor(39389.5430, grad_fn=<DivBackward0>)\n",
      "600 tensor(36640.1250, grad_fn=<DivBackward0>)\n",
      "700 tensor(36075.2383, grad_fn=<DivBackward0>)\n",
      "800 tensor(35562.9414, grad_fn=<DivBackward0>)\n",
      "900 tensor(34400.2539, grad_fn=<DivBackward0>)\n",
      "1000 tensor(34650.2891, grad_fn=<DivBackward0>)\n",
      "1100 tensor(35101.5195, grad_fn=<DivBackward0>)\n",
      "1200 tensor(34289.4805, grad_fn=<DivBackward0>)\n",
      "1300 tensor(33777.5625, grad_fn=<DivBackward0>)\n",
      "1400 tensor(33711.5430, grad_fn=<DivBackward0>)\n",
      "1500 tensor(33815.4336, grad_fn=<DivBackward0>)\n",
      "1600 tensor(33759.4648, grad_fn=<DivBackward0>)\n",
      "1700 tensor(33818.1445, grad_fn=<DivBackward0>)\n",
      "1800 tensor(34108.8945, grad_fn=<DivBackward0>)\n",
      "1900 tensor(33713.8086, grad_fn=<DivBackward0>)\n",
      "2000 tensor(33578.4062, grad_fn=<DivBackward0>)\n",
      "2100 tensor(34312.1602, grad_fn=<DivBackward0>)\n",
      "2200 tensor(33422.0273, grad_fn=<DivBackward0>)\n",
      "2300 tensor(33768.5430, grad_fn=<DivBackward0>)\n",
      "2400 tensor(32929.9219, grad_fn=<DivBackward0>)\n",
      "2500 tensor(33273.4609, grad_fn=<DivBackward0>)\n",
      "2600 tensor(33948.9883, grad_fn=<DivBackward0>)\n",
      "2700 tensor(33026.2695, grad_fn=<DivBackward0>)\n",
      "2800 tensor(33449.9844, grad_fn=<DivBackward0>)\n",
      "2900 tensor(32756.6426, grad_fn=<DivBackward0>)\n",
      "3000 tensor(32313.2559, grad_fn=<DivBackward0>)\n",
      "3100 tensor(32620.7402, grad_fn=<DivBackward0>)\n",
      "3200 tensor(33104.6484, grad_fn=<DivBackward0>)\n",
      "3300 tensor(32328.7129, grad_fn=<DivBackward0>)\n",
      "3400 tensor(32815.5508, grad_fn=<DivBackward0>)\n",
      "3500 tensor(32627.2988, grad_fn=<DivBackward0>)\n",
      "3600 tensor(33095.9531, grad_fn=<DivBackward0>)\n",
      "3700 tensor(32373.4277, grad_fn=<DivBackward0>)\n",
      "3800 tensor(32762.6328, grad_fn=<DivBackward0>)\n",
      "3900 tensor(32510.3262, grad_fn=<DivBackward0>)\n",
      "4000 tensor(32348.6973, grad_fn=<DivBackward0>)\n",
      "4100 tensor(32780.2773, grad_fn=<DivBackward0>)\n",
      "4200 tensor(33515.7656, grad_fn=<DivBackward0>)\n",
      "4300 tensor(33085.0469, grad_fn=<DivBackward0>)\n",
      "4400 tensor(32942.6367, grad_fn=<DivBackward0>)\n",
      "4500 tensor(32896.5156, grad_fn=<DivBackward0>)\n",
      "4600 tensor(32176.2344, grad_fn=<DivBackward0>)\n",
      "4700 tensor(33298.6211, grad_fn=<DivBackward0>)\n",
      "4800 tensor(33282.4688, grad_fn=<DivBackward0>)\n",
      "4900 tensor(32525.3613, grad_fn=<DivBackward0>)\n",
      "5000 tensor(32516.9902, grad_fn=<DivBackward0>)\n",
      "5100 tensor(32640.6152, grad_fn=<DivBackward0>)\n",
      "5200 tensor(32774.4531, grad_fn=<DivBackward0>)\n",
      "5300 tensor(32789.2734, grad_fn=<DivBackward0>)\n",
      "5400 tensor(32715.0547, grad_fn=<DivBackward0>)\n",
      "5500 tensor(32287.1328, grad_fn=<DivBackward0>)\n",
      "5600 tensor(32479.6621, grad_fn=<DivBackward0>)\n",
      "5700 tensor(32410.8066, grad_fn=<DivBackward0>)\n",
      "5800 tensor(32368.9609, grad_fn=<DivBackward0>)\n",
      "5900 tensor(32644.3184, grad_fn=<DivBackward0>)\n",
      "6000 tensor(32314.6699, grad_fn=<DivBackward0>)\n",
      "6100 tensor(32978.3164, grad_fn=<DivBackward0>)\n",
      "6200 tensor(33151.7969, grad_fn=<DivBackward0>)\n",
      "6300 tensor(33254.1133, grad_fn=<DivBackward0>)\n",
      "6400 tensor(32068.0215, grad_fn=<DivBackward0>)\n",
      "6500 tensor(32514.1465, grad_fn=<DivBackward0>)\n",
      "6600 tensor(32903.3555, grad_fn=<DivBackward0>)\n",
      "6700 tensor(33152.0938, grad_fn=<DivBackward0>)\n",
      "6800 tensor(31975.5059, grad_fn=<DivBackward0>)\n",
      "6900 tensor(32748.9844, grad_fn=<DivBackward0>)\n",
      "7000 tensor(31862.2520, grad_fn=<DivBackward0>)\n",
      "7100 tensor(32683.8359, grad_fn=<DivBackward0>)\n",
      "7200 tensor(33434.3320, grad_fn=<DivBackward0>)\n",
      "7300 tensor(32544.5312, grad_fn=<DivBackward0>)\n",
      "7400 tensor(32811.4844, grad_fn=<DivBackward0>)\n",
      "7500 tensor(32364.8906, grad_fn=<DivBackward0>)\n",
      "7600 tensor(32844.8398, grad_fn=<DivBackward0>)\n",
      "7700 tensor(32768.5742, grad_fn=<DivBackward0>)\n",
      "7800 tensor(33428.3086, grad_fn=<DivBackward0>)\n",
      "7900 tensor(32747.4160, grad_fn=<DivBackward0>)\n",
      "8000 tensor(33325.3125, grad_fn=<DivBackward0>)\n",
      "8100 tensor(33134.7266, grad_fn=<DivBackward0>)\n",
      "8200 tensor(32096.6699, grad_fn=<DivBackward0>)\n",
      "8300 tensor(32215.2480, grad_fn=<DivBackward0>)\n",
      "8400 tensor(32213.8672, grad_fn=<DivBackward0>)\n",
      "8500 tensor(32106.2676, grad_fn=<DivBackward0>)\n",
      "8600 tensor(32376.0449, grad_fn=<DivBackward0>)\n",
      "8700 tensor(33239.9805, grad_fn=<DivBackward0>)\n",
      "8800 tensor(32633.0547, grad_fn=<DivBackward0>)\n",
      "8900 tensor(32452.6953, grad_fn=<DivBackward0>)\n",
      "9000 tensor(32568.6719, grad_fn=<DivBackward0>)\n",
      "9100 tensor(32461.1895, grad_fn=<DivBackward0>)\n",
      "9200 tensor(31817.8418, grad_fn=<DivBackward0>)\n",
      "9300 tensor(32711.6035, grad_fn=<DivBackward0>)\n",
      "9400 tensor(32388.2578, grad_fn=<DivBackward0>)\n",
      "9500 tensor(31809.4629, grad_fn=<DivBackward0>)\n",
      "9600 tensor(32808.4258, grad_fn=<DivBackward0>)\n",
      "9700 tensor(33049.7500, grad_fn=<DivBackward0>)\n",
      "9800 tensor(31861.9199, grad_fn=<DivBackward0>)\n",
      "9900 tensor(32644.3027, grad_fn=<DivBackward0>)\n"
     ]
    }
   ],
   "source": [
    "for index in range(nb_epochs):\n",
    "    indices = torch.randperm(X_train_tensor.size(0))\n",
    "\n",
    "    x_batch_list = torch.index_select(X_train_tensor, 0, index=indices)\n",
    "    y_batch_list = torch.index_select(y_train_tensor, 0, index=indices)\n",
    "    x_batch_list = x_batch_list.split(minibatch_size, 0)\n",
    "    y_batch_list = y_batch_list.split(minibatch_size, 0)\n",
    "\n",
    "    epoch_loss = list()\n",
    "    for x_minibatch, y_minibatch in zip(x_batch_list, y_batch_list):\n",
    "        y_minibatch_pred = model(x_minibatch)\n",
    "        \n",
    "        loss = torch.sqrt(loss_function(y_minibatch_pred,y_minibatch)) #RMSE\n",
    "        epoch_loss.append(loss)\n",
    "\n",
    "        optimizer.zero_grad()\n",
    "        loss.backward()\n",
    "        optimizer.step()\n",
    "    \n",
    "    if (index % 100) == 0:\n",
    "        print (index, sum(epoch_loss) / len(epoch_loss))"
   ]
  },
  {
   "cell_type": "markdown",
   "id": "93c29a50",
   "metadata": {
    "pycharm": {
     "name": "#%% md\n"
    }
   },
   "source": [
    "### 테스트셋 기반 Evaluation"
   ]
  },
  {
   "cell_type": "markdown",
   "id": "62770e7a",
   "metadata": {
    "pycharm": {
     "name": "#%% md\n"
    }
   },
   "source": [
    "### model.eval() 과 torch.no_grad()"
   ]
  },
  {
   "cell_type": "markdown",
   "id": "4a134c74",
   "metadata": {
    "pycharm": {
     "name": "#%% md\n"
    }
   },
   "source": [
    "- model.eval()\n",
    "  - evaluation과정에서 사용하지 않을 layer들을 수행하지 않음\n",
    "  - 학습할 때만 필요한 Dropout, BatchNorm layer 등을 수행하지 않음\n",
    "\n",
    "- torch.no_grad()\n",
    "  - gradient 계산을 수행하지 않음\n",
    "    \n",
    "- 다음과 같이 test 셋에 대해 평가를 진행할 때는 보통 다음과 같이 작성\n",
    "  - 학습을 mini batch size 를 기반으로 하였다면, 예측도 mini batch size 단위로 진행해야 함\n",
    "\n",
    "```python\n",
    "model.eval()\n",
    "with torch.no_grad():\n",
    "    # 평가 코드\n",
    "    y_test_pred = model(xb_test)\n",
    "```\n",
    "\n",
    "- 예\n",
    "```python\n",
    "y_pred_list = list()\n",
    "x_test_batch_list = X_test_tensor.split(minibatch_size, 0)\n",
    "model.eval()\n",
    "with torch.no_grad():\n",
    "    for x_minibatch in x_test_batch_list:\n",
    "        y_minibatch_pred = model(x_minibatch)\n",
    "        y_pred_list.extend(y_minibatch_pred.squeeze().detach().tolist())\n",
    "submission = pd.DataFrame({'Id': df_test['Id'], 'SalePrice': y_pred_list})\n",
    "submission.to_csv('submission.csv', index=False)\n",
    "```"
   ]
  },
  {
   "cell_type": "markdown",
   "id": "e4846d02",
   "metadata": {},
   "source": [
    "<div class=\"alert alert-block\" style=\"border: 2px solid #1976D2;background-color:#E3F2FD;padding:5px;font-size:0.9em;\">\n",
    "본 자료는 저작권법 제25조 2항에 의해 보호를 받습니다. 본 자료를 외부에 공개하지 말아주세요.<br>\n",
    "<b><a href=\"https://school.fun-coding.org/\">잔재미코딩 (https://school.fun-coding.org/)</a> 에서 본 강의를 포함하는 최적화된 로드맵도 확인하실 수 있습니다</b></div>"
   ]
  }
 ],
 "metadata": {
  "kernelspec": {
   "display_name": "Python 3 (ipykernel)",
   "language": "python",
   "name": "python3"
  },
  "language_info": {
   "codemirror_mode": {
    "name": "ipython",
    "version": 3
   },
   "file_extension": ".py",
   "mimetype": "text/x-python",
   "name": "python",
   "nbconvert_exporter": "python",
   "pygments_lexer": "ipython3",
   "version": "3.11.5"
  }
 },
 "nbformat": 4,
 "nbformat_minor": 5
}
