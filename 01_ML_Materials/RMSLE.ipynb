{
 "cells": [
  {
   "cell_type": "code",
   "execution_count": 4,
   "metadata": {},
   "outputs": [],
   "source": [
    "from sklearn.metrics import mean_squared_error\n",
    "from sklearn.metrics import mean_squared_log_error\n",
    "import numpy as np"
   ]
  },
  {
   "cell_type": "code",
   "execution_count": 10,
   "metadata": {},
   "outputs": [
    {
     "name": "stdout",
     "output_type": "stream",
     "text": [
      "RMSE: 200.0\n",
      "RMSLE: 0.22289383224686077\n"
     ]
    }
   ],
   "source": [
    "y_pred = [800]\n",
    "y_true = [1000]\n",
    "\n",
    "print (\"RMSE:\", mean_squared_error(y_true, y_pred, squared=False))\n",
    "print (\"RMSLE:\", np.sqrt(mean_squared_log_error(y_true, y_pred)))"
   ]
  },
  {
   "cell_type": "code",
   "execution_count": 11,
   "metadata": {},
   "outputs": [
    {
     "name": "stdout",
     "output_type": "stream",
     "text": [
      "RMSE: 200.0\n",
      "RMSLE: 0.18215504276476313\n"
     ]
    }
   ],
   "source": [
    "y_pred = [1200]\n",
    "y_true = [1000]\n",
    "\n",
    "print (\"RMSE:\", mean_squared_error(y_true, y_pred, squared=False))\n",
    "print (\"RMSLE:\", np.sqrt(mean_squared_log_error(y_true, y_pred)))"
   ]
  },
  {
   "cell_type": "code",
   "execution_count": null,
   "metadata": {},
   "outputs": [],
   "source": []
  }
 ],
 "metadata": {
  "kernelspec": {
   "display_name": "Python 3",
   "language": "python",
   "name": "python3"
  },
  "language_info": {
   "codemirror_mode": {
    "name": "ipython",
    "version": 3
   },
   "file_extension": ".py",
   "mimetype": "text/x-python",
   "name": "python",
   "nbconvert_exporter": "python",
   "pygments_lexer": "ipython3",
   "version": "3.8.5"
  }
 },
 "nbformat": 4,
 "nbformat_minor": 4
}
