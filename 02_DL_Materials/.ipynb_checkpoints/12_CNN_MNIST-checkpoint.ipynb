{
 "cells": [
  {
   "cell_type": "markdown",
   "id": "d726847f",
   "metadata": {},
   "source": [
    "<div class=\"alert alert-block\" style=\"border: 2px solid #1976D2;background-color:#E3F2FD;padding:5px;font-size:0.9em;\">\n",
    "본 자료는 저작권법 제25조 2항에 의해 보호를 받습니다. 본 자료를 외부에 공개하지 말아주세요.<br>\n",
    "<b><a href=\"https://school.fun-coding.org/\">잔재미코딩 (https://school.fun-coding.org/)</a> 에서 본 강의를 포함하는 최적화된 로드맵도 확인하실 수 있습니다</b></div>"
   ]
  },
  {
   "cell_type": "markdown",
   "id": "8fe19972",
   "metadata": {
    "pycharm": {
     "name": "#%% md\n"
    }
   },
   "source": [
    "### PyTorch 와 CNN\n",
    "- PyTorch 에는 CNN 을 쉽게 적용할 수 있도록, API 를 제공함"
   ]
  },
  {
   "cell_type": "markdown",
   "id": "2cc5c6b3",
   "metadata": {
    "pycharm": {
     "name": "#%% md\n"
    }
   },
   "source": [
    "### Convolution Layers 와 PyTorch\n",
    "- Conv1d (1차원 입력 데이터를 위한 Convolustion Layer, 일반적으로 Text-CNN에서 많이 사용)\n",
    "- **Conv2d (2차원 입력 데이터를 위한 Convolustion Layer, 일반적으로 이미지 분류에서 많이 사용)**\n",
    "- Conv3d (3차원 입력 데이터를 위한 Convolustion Layer)"
   ]
  },
  {
   "cell_type": "markdown",
   "id": "da244b04",
   "metadata": {
    "pycharm": {
     "name": "#%% md\n"
    }
   },
   "source": [
    "### Conv2d\n",
    "\n",
    "Conv2d(in_channels, out_channels, kernel_size, stride=1, padding=0, dilation=1, groups=1, bias=True, padding_mode='zeros')\n",
    "- 주요 옵션\n",
    "  - in_channels (int) – 입력 채널 수 (흑백 이미지일 경우는 1, RGB 값을 가진 이미지일 경우 3)\n",
    "  - out_channels (int) – 출력 채널 수\n",
    "  - kernel_size (int or tuple) – 커널 사이즈 (int 또는 튜플로 적용 가능)\n",
    "  - stride (int or tuple, optional) – stride 사이즈 (Default: 1)\n",
    "  - padding (int, tuple or str, optional) – padding 사이즈 (Default: 0)\n",
    "  - padding_mode (string, optional) – padding mode (Default: 'zeros')\n",
    "     - 이외에도 'zeros', 'reflect', 'replicate' or 'circular' 등 버전 업데이트마다 지속 추가중\n",
    "  - dilation (int or tuple, optional) – 커널 사이 간격 사이즈 (Default: 1)\n",
    "  <img src=\"https://www.researchgate.net/profile/Xiaofan-Zhang-4/publication/323444534/figure/fig9/AS:631623057956913@1527602080819/3-3-convolution-kernels-with-different-dilation-rate-as-1-2-and-3.png\">\n",
    "  - 출처: https://www.researchgate.net/figure/3-3-convolution-kernels-with-different-dilation-rate-as-1-2-and-3_fig9_323444534\n",
    "  \n",
    "  > 다양한 CNN 알고리즘 중 하나라고 이해하면 됨"
   ]
  },
  {
   "cell_type": "markdown",
   "id": "ab9b91af",
   "metadata": {
    "pycharm": {
     "name": "#%% md\n"
    }
   },
   "source": [
    "### shape 이해\n",
    "- Input Tensor: $(N, C_{in}, H_{in}, W_{in})$\n",
    "   - N: batch 사이즈\n",
    "   - $C_{in}$: in_channels (입력 채널 수) 와 일치해야 함\n",
    "   - $H_{in}$: 2D Input Tensor 의 높이\n",
    "   - $W_{in}$: 2D Input Tensor 의 너비\n",
    "- Output Tensor: $(N, C_{out}, H_{out}, W_{out})$    \n",
    "   - N: batch 사이즈\n",
    "   - $C_{out}$: out_channels (출력 채널 수) 와 일치해야 함\n",
    "   - $H_{out}$: $\\frac{H_{in} + 2 \\times padding[0] - dilation[0] \\times (kernelsize[0] - 1) - 1}{stride[0]} + 1$\n",
    "   - $W_{out}$: $\\frac{W_{in} + 2 \\times padding[1] - dilation[1] \\times (kernelsize[1] - 1) - 1}{stride[1]} + 1$\n",
    "     - stride 는 일반적으로는 int 로 하나의 값으로 지정가능하지만,\n",
    "     - 다양한 CNN 알고리즘 중에는 너비, 높이에서의 padding, stride 를 달리할 수 있고 (dilation 도 마찬가지임), 이를 (stride[0], stride[1]) 의 예와 같이 튜플 형태로 적용도 가능함\n",
    "     \n",
    "- 참고: https://pytorch.org/docs/stable/generated/torch.nn.Conv2d.html"
   ]
  },
  {
   "cell_type": "markdown",
   "id": "4cdc1533",
   "metadata": {
    "pycharm": {
     "name": "#%% md\n"
    }
   },
   "source": [
    "### shape 일반적인 계산\n",
    "- 모든 CNN 변형 알고리즘까지 포함하는 식으로 shape 를 계산하면 복잡하므로, 다음 식으로 생각해도 좋음\n",
    "- Stride 와 Padding 을 적용했을 때의 최종 \n",
    "    - 입력 데이터 높이: H\n",
    "    - 입력 데이터 너비: W\n",
    "    - 필터 높이: FH\n",
    "    - 필터 너비: FW\n",
    "    - Stride 크기: S\n",
    "    - 패딩 사이즈: P\n",
    "    - Output 너비 = $\\frac{W + 2P - FW}{S} + 1$\n",
    "    - Output 높이 =  $\\frac{H + 2P - FH}{S} + 1$"
   ]
  },
  {
   "cell_type": "code",
   "execution_count": null,
   "id": "e75dec12",
   "metadata": {
    "pycharm": {
     "name": "#%%\n"
    }
   },
   "outputs": [],
   "source": [
    "import torch\n",
    "import torch.nn as nn\n",
    "\n",
    "conv1 = nn.Conv2d(1, 1, 3, padding=1)\n",
    "input1 = torch.Tensor(1, 1, 5, 5)\n",
    "out1 = conv1(input1)\n",
    "out1.shape"
   ]
  },
  {
   "cell_type": "markdown",
   "id": "dce80ab8",
   "metadata": {
    "pycharm": {
     "name": "#%% md\n"
    }
   },
   "source": [
    "### Pooling Layers\n",
    "- 입력 데이터 차원에 맞추어, Max Pooling 또는 Average Pooling 을 적용할 수 있음\n",
    "  - MaxPool1d\n",
    "  - MaxPool2d\n",
    "  - MaxPool3d\n",
    "  - AvgPool1d\n",
    "  - AvgPool2d\n",
    "  - AvgPool3d"
   ]
  },
  {
   "cell_type": "markdown",
   "id": "b436ba3f",
   "metadata": {
    "pycharm": {
     "name": "#%% md\n"
    }
   },
   "source": [
    "### MaxPool2d\n",
    "MaxPool2d(kernel_size, stride=None, padding=0, dilation=1, return_indices=False, ceil_mode=False)\n",
    "- 주요 옵션\n",
    "  - kernel_size: 커널 사이즈\n",
    "  - stride: stride 사이즈 (Default: kernel_size)\n",
    "  - padding: padding 사이즈\n",
    "  - dilation: 커널 사이 간격 사이즈\n",
    "  - ceil_mode: True 일 경우, 출력 shape 계산시, 나누어 떨어지지 않을 경우 ceil 사용 (디폴트: floor) \n",
    "     - 참고: floor (무조건 내림, 예: floor(3.7) = 3)\n",
    "     - 참고: ceil (무조건 올림, 예: ceil(3.1) = 4)    "
   ]
  },
  {
   "cell_type": "code",
   "execution_count": null,
   "id": "901e117a",
   "metadata": {
    "pycharm": {
     "name": "#%%\n"
    }
   },
   "outputs": [],
   "source": [
    "import torch\n",
    "import torch.nn as nn\n",
    "\n",
    "conv1 = nn.Conv2d(1, 1, 3, padding=1)\n",
    "input1 = torch.Tensor(1, 1, 5, 5)\n",
    "pool1 = nn.MaxPool2d(2)\n",
    "out1 = conv1(input1)\n",
    "print (out1.shape)\n",
    "out2 = pool1(out1)\n",
    "print (out2.shape)"
   ]
  },
  {
   "cell_type": "code",
   "execution_count": null,
   "id": "58af366d",
   "metadata": {
    "pycharm": {
     "name": "#%%\n"
    }
   },
   "outputs": [],
   "source": [
    "import torch\n",
    "import torch.nn as nn\n",
    "\n",
    "conv1 = nn.Conv2d(1, 1, 3, padding=1)\n",
    "input1 = torch.Tensor(1, 1, 5, 5)\n",
    "pool1 = nn.MaxPool2d(2)\n",
    "out1 = conv1(input1)\n",
    "print (out1.shape)\n",
    "out2 = pool1(out1)\n",
    "print (out2.shape)"
   ]
  },
  {
   "cell_type": "markdown",
   "id": "b928075d",
   "metadata": {
    "pycharm": {
     "name": "#%% md\n"
    }
   },
   "source": [
    "### 모델 정의\n",
    "- Convolution Layer 는 입력 데이터에 필터(커널) 적용 후, activation 함수 적용한 Layer 를 의미함\n",
    "  1. Convolution Layer 는 입력 데이터에 필터(커널) 적용을 위한 전용 클래스 제공 (nn.Conv2d)\n",
    "  2. 이후에 Activation 함수 적용 (예: nn.LeakyReLU(0.1))\n",
    "  3. 이후에 Batch Nomalization, Dropout 등 regularization 을 적용할 수도 있음 (옵션)\n",
    "  4. 이후에 Pooling 적용(예: nn.MaxPool2d)\n",
    "\n",
    "- BatchNorm1d() 과 BatchNorm2d()\n",
    "   - BatchNorm1d(C) 는 Input과 Output이 (N, C) 또는 (N, C, L)의 형태\n",
    "      - N은 Batch 크기, C는 Channel, L은 Length\n",
    "   - BatchNorm2d(C) 는 Input과 Output이 (N, C, H, W)의 형태\n",
    "      - N은 Batch 크기, C는 Channel, H는 height,  W는 width\n",
    "   - 인자로 Output Channel 수를 넣으면 되며, Conv2d() 에서는 BatchNorm2d() 를 사용해야 함\n",
    "   \n",
    "    ```python\n",
    "    conv1 = nn.Conv2d(1, 1, 3, padding=1)\n",
    "    input1 = torch.Tensor(1, 1, 5, 5)\n",
    "    out1 = conv1(input1)\n",
    "    out1.shape\n",
    "    결과: torch.Size([1, 1, 5, 5])\n",
    "    ```\n",
    "<img src=\"https://miro.medium.com/max/1280/1*usA-K08Tn5i6P7eLvV8htg.png\" width=1000>"
   ]
  },
  {
   "cell_type": "markdown",
   "id": "2ca9225c",
   "metadata": {
    "pycharm": {
     "name": "#%% md\n"
    }
   },
   "source": [
    "### shape 계산\n",
    "- Stride 와 Padding 을 적용했을 때의 최종 \n",
    "    - 입력 데이터 높이: H\n",
    "    - 입력 데이터 너비: W\n",
    "    - 필터 높이: FH\n",
    "    - 필터 너비: FW\n",
    "    - Stride 크기: S\n",
    "    - 패딩 사이즈: P\n",
    "    - Output 너비 = $\\frac{W + 2P - FW}{S} + 1$\n",
    "    - Output 높이 =  $\\frac{H + 2P - FH}{S} + 1$"
   ]
  },
  {
   "cell_type": "code",
   "execution_count": null,
   "id": "d4d2e650",
   "metadata": {
    "pycharm": {
     "name": "#%%\n"
    }
   },
   "outputs": [],
   "source": [
    "conv1 = nn.Sequential (\n",
    "    nn.Conv2d(1, 32, kernel_size=3, stride=1, padding=1),\n",
    "    nn.LeakyReLU(0.1),\n",
    "    nn.BatchNorm2d(32),            \n",
    "    nn.MaxPool2d(2)\n",
    "    # Img = (?, 1, 28, 28)\n",
    "    # Conv + Pool = (28 + 2 * 1 - 3) / 2 + 1 = 13 + 1 = 14, (?, 32, 14, 14)\n",
    ")\n",
    "input1 = torch.Tensor(1, 1, 28, 28)\n",
    "out1 = conv1(input1)\n",
    "print (out1.shape)"
   ]
  },
  {
   "cell_type": "code",
   "execution_count": null,
   "id": "49d0b884",
   "metadata": {
    "pycharm": {
     "name": "#%%\n"
    }
   },
   "outputs": [],
   "source": [
    "conv1 = nn.Sequential (\n",
    "    nn.Conv2d(1, 32, kernel_size=3, stride=1, padding=1),\n",
    "    nn.LeakyReLU(0.1),\n",
    "    nn.BatchNorm2d(32),            \n",
    "    nn.MaxPool2d(2),\n",
    "    # Img = (1, 1, 28, 28)\n",
    "    # Conv = (28 + 2 * 1 - 3) + 1 = 27 + 1 = 28, (1, 32, 28, 28)    \n",
    "    # MaxPool = 28 / 2 = 14, (1, 32, 14, 14)    \n",
    "    nn.Conv2d(32, 64, kernel_size=3, stride=1, padding=1),\n",
    "    nn.LeakyReLU(0.1),\n",
    "    nn.BatchNorm2d(64),            \n",
    "    nn.MaxPool2d(2),\n",
    "    # Conv = (14 + 2 * 1 - 3) + 1 = 13 + 1 = 14, (1, 64, 14, 14)    \n",
    "    # MaxPool = 14 / 2 = 7, (1, 64, 7, 7)    \n",
    "    nn.Conv2d(64, 128, kernel_size=3, stride=1, padding=1),\n",
    "    nn.LeakyReLU(0.1),\n",
    "    nn.BatchNorm2d(128),            \n",
    "    nn.MaxPool2d(2)\n",
    "    # Conv = (7 + 2 * 1 - 3) + 1 = 6 + 1 = 7, (1, 128, 7, 7)    \n",
    "    # MaxPool = 7 / 2 = 7, (1, 128, 3, 3)      \n",
    ")\n",
    "\n",
    "input1 = torch.Tensor(1, 1, 28, 28)\n",
    "out1 = conv1(input1)\n",
    "out2 = out1.view(out1.size(0), -1)\n",
    "print (out1.shape, out2.shape, 128 * 3 * 3)"
   ]
  },
  {
   "cell_type": "markdown",
   "id": "fca653c2",
   "metadata": {
    "pycharm": {
     "name": "#%% md\n"
    }
   },
   "source": [
    "### CNN 모델 구성\n",
    "1. 다음 세트로 하나의 Convolution Layer + Pooling Layer  를 구성하고, 여러 세트로 구축\n",
    "   - 보통 Convolution Layer + Pooling Layer 의 출력 채널을 늘리는 방식으로 여러 세트 구축\n",
    "    ```python\n",
    "    nn.Conv2d(1, 32, kernel_size=3, stride=1, padding=1),\n",
    "    nn.LeakyReLU(0.1),\n",
    "    nn.BatchNorm2d(32),            \n",
    "    nn.MaxPool2d(2),\n",
    "\n",
    "    nn.Conv2d(32, 64, kernel_size=3, stride=1, padding=1),\n",
    "    nn.LeakyReLU(0.1),\n",
    "    nn.BatchNorm2d(64),            \n",
    "    nn.MaxPool2d(2),    \n",
    "    ```\n",
    "2. Flatten \n",
    "   - 텐서.view(텐서.size(0), -1) 로 Flatten\n",
    "    ```python\n",
    "    self.conv_layer.view(out.size(0), -1)\n",
    "    ```\n",
    "3. 여러 Fully-Connected Layer 로 구성\n",
    "   - Flatten 한 입력을 받아서, 최종 Multi-Class 갯수만큼 출력\n",
    "   - Multi-Class 일 경우, nn.LogSoftmax() 로 최종 결과값 출력\n",
    "    ```python\n",
    "    nn.Linear(3 * 3 * 128, 128),\n",
    "    nn.LeakyReLU(0.1),            \n",
    "    nn.BatchNorm2d(128),\n",
    "    nn.Linear(128, 64),\n",
    "    nn.LeakyReLU(0.1),\n",
    "    nn.BatchNorm2d(64),\n",
    "    nn.Linear(64, 10),\n",
    "    nn.LogSoftmax(dim=-1)\n",
    "    ```"
   ]
  },
  {
   "cell_type": "code",
   "execution_count": null,
   "id": "5767375e",
   "metadata": {
    "pycharm": {
     "name": "#%%\n"
    }
   },
   "outputs": [],
   "source": [
    "class CNNModel(nn.Module):\n",
    "    def __init__(self):\n",
    "        super().__init__()\n",
    "        \n",
    "        self.conv_layers = nn.Sequential (\n",
    "            nn.Conv2d(1, 32, kernel_size=3, stride=1, padding=1),\n",
    "            nn.LeakyReLU(0.1),\n",
    "            nn.BatchNorm2d(32),            \n",
    "            nn.MaxPool2d(2),\n",
    "\n",
    "            nn.Conv2d(32, 64, kernel_size=3, stride=1, padding=1),\n",
    "            nn.LeakyReLU(0.1),\n",
    "            nn.BatchNorm2d(64),            \n",
    "            nn.MaxPool2d(2),\n",
    "\n",
    "            nn.Conv2d(64, 128, kernel_size=3, stride=1, padding=1),\n",
    "            nn.LeakyReLU(0.1),\n",
    "            nn.BatchNorm2d(128),            \n",
    "            nn.MaxPool2d(2)\n",
    "        )\n",
    "        \n",
    "        self.linear_layers = nn.Sequential (\n",
    "            nn.Linear(3 * 3 * 128, 128),\n",
    "            nn.LeakyReLU(0.1),            \n",
    "            nn.BatchNorm1d(128), # Linear Layer 이므로, BatchNorm1d() 사용해야 함\n",
    "            nn.Linear(128, 64),\n",
    "            nn.LeakyReLU(0.1),\n",
    "            nn.BatchNorm1d(64), # Linear Layer 이므로, BatchNorm1d() 사용해야 함\n",
    "            nn.Linear(64, 10),\n",
    "            nn.LogSoftmax(dim=-1)\n",
    "        )        \n",
    "            \n",
    "    def forward(self, x):\n",
    "        x = self.conv_layers(x) # Conv + Pool\n",
    "        x = x.view(x.size(0), -1) # Flatten\n",
    "        x = self.linear_layers(x) # Classification\n",
    "        return x"
   ]
  },
  {
   "cell_type": "markdown",
   "id": "1a17effc",
   "metadata": {
    "pycharm": {
     "name": "#%% md\n"
    }
   },
   "source": [
    "### MNIST with CNN"
   ]
  },
  {
   "cell_type": "code",
   "execution_count": null,
   "id": "c4c1d7f0",
   "metadata": {
    "pycharm": {
     "name": "#%%\n"
    }
   },
   "outputs": [],
   "source": [
    "import torch\n",
    "import torch.nn as nn\n",
    "from torch.utils.data import DataLoader, Subset\n",
    "from torchvision import datasets, transforms\n",
    "from sklearn.model_selection import train_test_split\n",
    "import numpy as np\n",
    "from copy import deepcopy"
   ]
  },
  {
   "cell_type": "code",
   "execution_count": null,
   "id": "17780d23",
   "metadata": {
    "pycharm": {
     "name": "#%%\n"
    }
   },
   "outputs": [],
   "source": [
    "train_rawdata = datasets.MNIST(root = 'dataset',\n",
    "                            train=True,\n",
    "                            download=True,\n",
    "                            transform=transforms.ToTensor())\n",
    "test_dataset = datasets.MNIST(root = 'dataset',\n",
    "                            train=False,\n",
    "                            download=True,\n",
    "                            transform=transforms.ToTensor())\n",
    "print('number of training data : ', len(train_rawdata))\n",
    "print('number of test data : ', len(test_dataset))"
   ]
  },
  {
   "cell_type": "code",
   "execution_count": null,
   "id": "2a1739d3",
   "metadata": {
    "pycharm": {
     "name": "#%%\n"
    }
   },
   "outputs": [],
   "source": [
    "VALIDATION_RATE = 0.2\n",
    "train_indices, val_indices, _, _ = train_test_split(\n",
    "    range(len(train_rawdata)), # X index 번호\n",
    "    train_rawdata.targets, # y\n",
    "    stratify=train_rawdata.targets, # 균등분포\n",
    "    test_size=VALIDATION_RATE # test dataset 비율\n",
    ")"
   ]
  },
  {
   "cell_type": "code",
   "execution_count": null,
   "id": "b873e2ad",
   "metadata": {
    "pycharm": {
     "name": "#%%\n"
    }
   },
   "outputs": [],
   "source": [
    "train_dataset = Subset(train_rawdata, train_indices)\n",
    "validation_dataset = Subset(train_rawdata, val_indices)"
   ]
  },
  {
   "cell_type": "code",
   "execution_count": null,
   "id": "54c9d35a",
   "metadata": {
    "pycharm": {
     "name": "#%%\n"
    }
   },
   "outputs": [],
   "source": [
    "print (len(train_dataset), len(validation_dataset), len(test_dataset))"
   ]
  },
  {
   "cell_type": "code",
   "execution_count": null,
   "id": "69a849ed",
   "metadata": {
    "pycharm": {
     "name": "#%%\n"
    }
   },
   "outputs": [],
   "source": [
    "minibatch_size = 128 # Mini-batch 사이즈는 128 로 설정\n",
    "# create batches\n",
    "train_batches = DataLoader(train_dataset, batch_size=minibatch_size, shuffle=True)\n",
    "val_batches = DataLoader(validation_dataset, batch_size=minibatch_size, shuffle=True)\n",
    "test_batches = DataLoader(test_dataset, batch_size=minibatch_size, shuffle=True)"
   ]
  },
  {
   "cell_type": "markdown",
   "id": "00093e91",
   "metadata": {
    "pycharm": {
     "name": "#%% md\n"
    }
   },
   "source": [
    "### CNNModel 객체 생성"
   ]
  },
  {
   "cell_type": "code",
   "execution_count": null,
   "id": "83e2d628",
   "metadata": {
    "pycharm": {
     "name": "#%%\n"
    }
   },
   "outputs": [],
   "source": [
    "model = CNNModel()\n",
    "model"
   ]
  },
  {
   "cell_type": "markdown",
   "id": "7adf6370",
   "metadata": {
    "pycharm": {
     "name": "#%% md\n"
    }
   },
   "source": [
    "### input, output, loss, optimizer 설정"
   ]
  },
  {
   "cell_type": "code",
   "execution_count": null,
   "id": "a7487c5c",
   "metadata": {
    "pycharm": {
     "name": "#%%\n"
    }
   },
   "outputs": [],
   "source": [
    "loss_func = nn.NLLLoss() # log softmax 는 NLLLoss() 로 진행해야 함\n",
    "optimizer = torch.optim.Adam(model.parameters()) # Adam, learning rate 필요없음"
   ]
  },
  {
   "cell_type": "markdown",
   "id": "ff05adfe",
   "metadata": {
    "pycharm": {
     "name": "#%% md\n"
    }
   },
   "source": [
    "### Training & Validation"
   ]
  },
  {
   "cell_type": "code",
   "execution_count": null,
   "id": "9a878f5e",
   "metadata": {
    "pycharm": {
     "name": "#%%\n"
    }
   },
   "outputs": [],
   "source": [
    "def train_model(model, early_stop, n_epochs, progress_interval):\n",
    "    \n",
    "    train_losses, valid_losses, lowest_loss = list(), list(), np.inf\n",
    "\n",
    "    for epoch in range(n_epochs):\n",
    "        \n",
    "        train_loss, valid_loss = 0, 0\n",
    "        \n",
    "        # train the model\n",
    "        model.train() # prep model for training\n",
    "        for x_minibatch, y_minibatch in train_batches:\n",
    "            y_minibatch_pred = model(x_minibatch)\n",
    "            loss = loss_func(y_minibatch_pred, y_minibatch)\n",
    "\n",
    "            optimizer.zero_grad()\n",
    "            loss.backward()\n",
    "            optimizer.step()\n",
    "            train_loss += loss.item()\n",
    "        \n",
    "        train_loss = train_loss / len(train_batches)\n",
    "        train_losses.append(train_loss)      \n",
    "        \n",
    "        # validate the model\n",
    "        model.eval()\n",
    "        with torch.no_grad():\n",
    "            for x_minibatch, y_minibatch in val_batches:\n",
    "                y_minibatch_pred = model(x_minibatch)\n",
    "                loss = loss_func(y_minibatch_pred, y_minibatch)\n",
    "                valid_loss += loss.item()\n",
    "                \n",
    "        valid_loss = valid_loss / len(val_batches)\n",
    "        valid_losses.append(valid_loss)\n",
    "\n",
    "        if valid_losses[-1] < lowest_loss:\n",
    "            lowest_loss = valid_losses[-1]\n",
    "            lowest_epoch = epoch\n",
    "            best_model = deepcopy(model.state_dict())\n",
    "        else:\n",
    "            if early_stop > 0 and lowest_epoch + early_stop < epoch:\n",
    "                print (\"Early Stopped\", epoch, \"epochs\")\n",
    "                model.load_state_dict(best_model)\n",
    "                break\n",
    "                \n",
    "        if (epoch % progress_interval) == 0:\n",
    "            print (train_losses[-1], valid_losses[-1], lowest_loss, lowest_epoch, epoch)\n",
    "            \n",
    "    model.load_state_dict(best_model)        \n",
    "    return model, lowest_loss, train_losses, valid_losses"
   ]
  },
  {
   "cell_type": "markdown",
   "id": "f79931aa",
   "metadata": {
    "pycharm": {
     "name": "#%% md\n"
    }
   },
   "source": [
    "### 훈련 실행\n",
    "<div class=\"alert alert-block\" style=\"border: 2px solid #E65100;background-color:#FFF3E0;padding:10px\">\n",
    "<font size=\"4em\" style=\"color:#BF360C;\">CPU 만으로는 테스트에 상당한 시간이 걸림</font><br>\n",
    "    <font size=\"4em\" style=\"color:#BF360C;\">colab 을 통한 테스트 추천 (12_CNN_MNIST_GPU.ipynb) 파일 기반</font>\n",
    "</div>"
   ]
  },
  {
   "cell_type": "code",
   "execution_count": null,
   "id": "8881f11e",
   "metadata": {
    "pycharm": {
     "name": "#%%\n"
    }
   },
   "outputs": [],
   "source": [
    "nb_epochs = 100 \n",
    "progress_interval = 3\n",
    "early_stop = 30\n",
    "\n",
    "model, lowest_loss, train_losses, valid_losses = train_model(model, early_stop, nb_epochs, progress_interval)"
   ]
  },
  {
   "cell_type": "markdown",
   "id": "9cfe7991",
   "metadata": {
    "pycharm": {
     "name": "#%% md\n"
    }
   },
   "source": [
    "### GPU 기반 훈련 방법 (코드 수정 방법, Nvidia GPU 기반)\n",
    "\n",
    "- GPU 사용 가능 환경 설정\n",
    "   - torch.cuda.is_available() 을 통해 Nvidia GPU(+ CUDA 설치) 사용 가능시, device 를 'cuda' 로 설정\n",
    "   - torch.cuda.manual_seed_all(1) 을 통해, 매번 실행시 동일한 결과가 나오도록 random 값 generation seed 를 설정 (옵션)\n",
    "    ```python\n",
    "    device = 'cuda' if torch.cuda.is_available() else 'cpu'\n",
    "    torch.manual_seed(1)\n",
    "    if device == 'cuda':\n",
    "        torch.cuda.manual_seed_all(1)\n",
    "    ```\n",
    "- model 객체 GPU 내 생성\n",
    "    ```python\n",
    "    model = CNNModel().to(device)\n",
    "    ```\n",
    "- 학습을 위한 Training 함수내 텐서를 GPU 로 보냄\n",
    "    ```python\n",
    "    for x_minibatch, y_minibatch in train_batches:\n",
    "        x_minibatch = x_minibatch.to(device)\n",
    "        y_minibatch = y_minibatch.to(device)\n",
    "        y_minibatch_pred = model(x_minibatch)\n",
    "    ```"
   ]
  },
  {
   "cell_type": "markdown",
   "id": "a3e46fa3",
   "metadata": {
    "pycharm": {
     "name": "#%% md\n"
    }
   },
   "source": [
    "### 훈련 실행\n",
    "<div class=\"alert alert-block\" style=\"border: 2px solid #E65100;background-color:#FFF3E0;padding:10px\">\n",
    "<font size=\"4em\" style=\"color:#BF360C;\">Overfitting 문제를 해결하기 위해, Dropout() 과 함께 적용</font><br>\n",
    "    <font size=\"4em\" style=\"color:#BF360C;\">colab 을 통한 테스트 추천 (12_CNN_MNIST_GPU_DROPOUT.ipynb) 파일 기반</font>\n",
    "</div>\n",
    "\n",
    "```\n",
    "CNNModel(\n",
    "  (conv_layers): Sequential(\n",
    "    (0): Conv2d(1, 32, kernel_size=(3, 3), stride=(1, 1), padding=(1, 1))\n",
    "    (1): LeakyReLU(negative_slope=0.1)\n",
    "    (2): BatchNorm2d(32, eps=1e-05, momentum=0.1, affine=True, track_running_stats=True)\n",
    "    (3): Conv2d(32, 32, kernel_size=(3, 3), stride=(1, 1), padding=(1, 1))\n",
    "    (4): LeakyReLU(negative_slope=0.1)\n",
    "    (5): BatchNorm2d(32, eps=1e-05, momentum=0.1, affine=True, track_running_stats=True)\n",
    "    (6): MaxPool2d(kernel_size=2, stride=2, padding=0, dilation=1, ceil_mode=False)\n",
    "    (7): Dropout(p=0.25, inplace=False)\n",
    "    (8): Conv2d(32, 64, kernel_size=(3, 3), stride=(1, 1), padding=(1, 1))\n",
    "    (9): LeakyReLU(negative_slope=0.1)\n",
    "    (10): BatchNorm2d(64, eps=1e-05, momentum=0.1, affine=True, track_running_stats=True)\n",
    "    (11): Conv2d(64, 64, kernel_size=(3, 3), stride=(1, 1), padding=(1, 1))\n",
    "    (12): LeakyReLU(negative_slope=0.1)\n",
    "    (13): BatchNorm2d(64, eps=1e-05, momentum=0.1, affine=True, track_running_stats=True)\n",
    "    (14): MaxPool2d(kernel_size=2, stride=2, padding=0, dilation=1, ceil_mode=False)\n",
    "    (15): Dropout(p=0.25, inplace=False)\n",
    "    (16): Conv2d(64, 128, kernel_size=(3, 3), stride=(1, 1), padding=(1, 1))\n",
    "    (17): LeakyReLU(negative_slope=0.1)\n",
    "    (18): BatchNorm2d(128, eps=1e-05, momentum=0.1, affine=True, track_running_stats=True)\n",
    "    (19): MaxPool2d(kernel_size=2, stride=2, padding=0, dilation=1, ceil_mode=False)\n",
    "    (20): Dropout(p=0.25, inplace=False)\n",
    "  )\n",
    "  (linear_layers): Sequential(\n",
    "    (0): Linear(in_features=1152, out_features=128, bias=True)\n",
    "    (1): LeakyReLU(negative_slope=0.1)\n",
    "    (2): BatchNorm1d(128, eps=1e-05, momentum=0.1, affine=True, track_running_stats=True)\n",
    "    (3): Linear(in_features=128, out_features=10, bias=True)\n",
    "    (4): LogSoftmax(dim=-1)\n",
    "  )\n",
    ")\n",
    "```"
   ]
  },
  {
   "cell_type": "markdown",
   "id": "d589cd77",
   "metadata": {
    "pycharm": {
     "name": "#%% md\n"
    }
   },
   "source": [
    "### 테스트셋 기반 Evaluation"
   ]
  },
  {
   "cell_type": "code",
   "execution_count": null,
   "id": "596a2863",
   "metadata": {
    "pycharm": {
     "name": "#%%\n"
    }
   },
   "outputs": [],
   "source": [
    "test_loss = 0\n",
    "correct = 0\n",
    "wrong_samples, wrong_preds, actual_preds = list(), list(), list()\n",
    "\n",
    "model.eval()\n",
    "with torch.no_grad():\n",
    "    for x_minibatch, y_minibatch in test_batches:\n",
    "        y_test_pred = model(x_minibatch)\n",
    "        test_loss += loss_func(y_test_pred, y_minibatch)  \n",
    "        pred = torch.argmax(y_test_pred, dim=1)\n",
    "        correct += pred.eq(y_minibatch).sum().item()\n",
    "        \n",
    "        wrong_idx = pred.ne(y_minibatch).nonzero()[:, 0].cpu().numpy().tolist()\n",
    "        for index in wrong_idx:\n",
    "            wrong_samples.append(x_minibatch[index].cpu())\n",
    "            wrong_preds.append(pred[index].cpu())\n",
    "            actual_preds.append(y_minibatch[index].cpu())\n",
    "            \n",
    "test_loss /= len(test_batches.dataset)\n",
    "print('Average Test Loss: {:.4f}'.format( test_loss ))\n",
    "print('Accuracy: {}/{} ({:.2f}%)'.format( correct, len(test_batches.dataset), 100 * correct / len(test_batches.dataset) ))"
   ]
  },
  {
   "cell_type": "markdown",
   "id": "b22414e9",
   "metadata": {
    "pycharm": {
     "name": "#%% md\n"
    }
   },
   "source": [
    "### incorrect data 만 확인해보기\n",
    "- GPU 로 학습하였을 경우, 텐서.numpy() 는 동작하지 않음 \n",
    "- 다음과 같이 텐서.cpu().numpy() 로 CPU 로 복사해서, numpy() 로 변환해야 함\n",
    "    ```python\n",
    "    wrong_samples[index].cpu().numpy( ).reshape(28,28)\n",
    "    ```"
   ]
  },
  {
   "cell_type": "code",
   "execution_count": null,
   "id": "8a60bc5c",
   "metadata": {
    "pycharm": {
     "name": "#%%\n"
    }
   },
   "outputs": [],
   "source": [
    "# incorrect 데이터 중, 100개 이미지만 출력해보기\n",
    "import matplotlib.pyplot as plt\n",
    "# 주피터 노트북에서 그림을 주피터 노트북 내에 표시하도록 강제하는 명령\n",
    "%matplotlib inline \n",
    "\n",
    "plt.figure(figsize=(18 , 20))\n",
    "\n",
    "for index in range(100):\n",
    "    plt.subplot(10, 10, index + 1)\n",
    "    plt.axis('off')\n",
    "    plt.imshow(wrong_samples[index].numpy().reshape(28,28), cmap = \"gray\")\n",
    "    plt.title(\"Pred\" + str(wrong_preds[index].item()) + \"(\" + str(actual_preds[index].item()) + \")\", color='red')"
   ]
  },
  {
   "cell_type": "markdown",
   "id": "5be5931b",
   "metadata": {},
   "source": [
    "<div class=\"alert alert-block\" style=\"border: 2px solid #1976D2;background-color:#E3F2FD;padding:5px;font-size:0.9em;\">\n",
    "본 자료는 저작권법 제25조 2항에 의해 보호를 받습니다. 본 자료를 외부에 공개하지 말아주세요.<br>\n",
    "<b><a href=\"https://school.fun-coding.org/\">잔재미코딩 (https://school.fun-coding.org/)</a> 에서 본 강의를 포함하는 최적화된 로드맵도 확인하실 수 있습니다</b></div>"
   ]
  }
 ],
 "metadata": {
  "kernelspec": {
   "display_name": "Python 3 (ipykernel)",
   "language": "python",
   "name": "python3"
  },
  "language_info": {
   "codemirror_mode": {
    "name": "ipython",
    "version": 3
   },
   "file_extension": ".py",
   "mimetype": "text/x-python",
   "name": "python",
   "nbconvert_exporter": "python",
   "pygments_lexer": "ipython3",
   "version": "3.11.5"
  }
 },
 "nbformat": 4,
 "nbformat_minor": 5
}
