{
 "cells": [
  {
   "cell_type": "markdown",
   "metadata": {
    "id": "O2SErTDxV654"
   },
   "source": [
    "<div align=\"center\">\n",
    "    <img src=\"https://user-images.githubusercontent.com/65432070/234493730-f0269379-cab5-49a1-a573-0559b0d99c6c.png\" alt=\"제로베이스\" width=\"100%\">\n",
    "    <br>\n",
    "    <a href=\"https://zerobaseschool.notion.site/DS-EDA-Lv-Test-b7d5e895c7cd4dda813c8fe2f2c23f79\"><img src=\"https://user-images.githubusercontent.com/65432070/234474945-06be6002-9d3d-43b0-a6e5-f2d859d0e4e9.png\" alt=\"EDA Lv Test Doc\" width=\"12%\"></a>\n",
    "\n",
    "이 Jupyter Notebook 파일은 <a href=\"https://zero-base.co.kr/category_data_camp/school_DS\">제로베이스</a>에서 제공하는 **EDA Level Test** 문제입니다.<br>\n",
    "지금까지 공부하신 내용으로 데이터 분석에 대해 좀 더 연습할 수 있는 시간이 되셨으면 좋겠습니다.🙂<br>\n",
    "**EDA Level Test**에 대한 안내 사항은 상단 **Open in ZeroBase Notion** 로고를 클릭하여 확인해주세요!<br>\n",
    "반드시 시작 전에 내용을 숙지해주시기를 바랍니다!<br>\n",
    "</div>\n",
    "\n",
    "***"
   ]
  },
  {
   "cell_type": "markdown",
   "metadata": {
    "id": "HsrLhsqBV66A"
   },
   "source": [
    "<h1 style=\"background-color:#9F81F7;color:#D8D8D8;font-weight:bold;display:inline-block;padding: 5px\">EDA Level Test 01 ⭐️</h1>\n",
    "\n",
    "| Week | Data Analysis | Difficulty | This Notebook |\n",
    "|------|---------------|------------|-------|\n",
    "| 1    | 서울시 인구 데이터 | ⭐️ |👈|\n",
    "| 2    | 화장품 성분 데이터 | ⭐️⭐️⭐️ ||\n",
    "| 3    | 올림픽 데이터 | ⭐️⭐️ ||\n",
    "| 4    | 국가별 인터넷 사용률 데이터 |⭐️⭐️ ||\n",
    "| 5    | 전국 박물관/미술관 정보 표준 데이터 | ⭐️⭐️ ||\n",
    "| 6    | 서울시 흡연율 통계 데이터 | ⭐️⭐️ ||\n",
    "| 7    | 웹크롤링 | ⭐️ ||\n",
    "| 8    | 서울시 지하철 호선별 역별 유/무임 승하차 인원 정보 데이터 | ⭐️⭐️ ||\n",
    "| 9    | 서울시 교통사고 현황 (사고유형별) 통계 데이터 | ⭐️⭐️ ||\n",
    "| 10   | 서울시 교통사고 현황 (사고유형별) 통계 + 서울시 차량통행속도 (구별/월별) 통계 + 서울시 인구밀도 (구별) 통계 | ⭐️⭐️⭐️ ||"
   ]
  },
  {
   "cell_type": "markdown",
   "metadata": {
    "id": "jVS7ve7eV66B"
   },
   "source": [
    "## 문제 소개 및 데이터 준비 단계\n",
    "\n",
    "<div style=\"border: 1px solid black; padding: 10px;\">\n",
    "\n",
    "### 📑 문제 소개\n",
    "- 총 3단계 데이터 분석 상황 제시 (총 100점)\n",
    "    - 1단계 DataFrame 불러오기 & 전처리 (30점)\n",
    "    - 2단계 원하는 정보 얻기 (30점)\n",
    "    - 3단계 시각화 (40점)\n",
    "    - 시각화 단계는 채점 코드가 없습니다. 요구 조건에 맞는 그래프를 작성해주신 후 제출해주세요!\n",
    "\n",
    "\n",
    "### 🗃 Download Data\n",
    "\n",
    "#### Data 원본 출처\n",
    "- Source: [서울시 열린데이터](https://data.seoul.go.kr/dataList/419/S/2/datasetView.do)\n",
    "- Data Download: [PinkWink Blog](https://pinkwink.kr/attachment/cfile1.uf@99740C3A5ECB0EA52889B3.txt)\n",
    "\n",
    "#### 참고사항\n",
    "* 데이터는 탭으로 구분하여 TXT 파일 형식으로 제공\n",
    "* 외국인 세대수 제외\n",
    "* 65세이상 고령자 수: 외국인 포함\n",
    "\n",
    "</div>"
   ]
  },
  {
   "cell_type": "markdown",
   "metadata": {
    "id": "vw5OMx1GV66C"
   },
   "source": [
    "## 문제 시작"
   ]
  },
  {
   "cell_type": "markdown",
   "metadata": {
    "id": "lpIzRB9hV66C"
   },
   "source": [
    "### 1단계: DataFrame 불러오기 & 전처리\n",
    "***"
   ]
  },
  {
   "cell_type": "markdown",
   "metadata": {
    "id": "bqov4sk2V66D"
   },
   "source": [
    "### **문제 1-1)** 0, 1, 2번 index의 row를 제거하고 index를 초기화 하세요(기존 index는 삭제(drop)하세요).    (10점)\n",
    "\n",
    "- 예시: 0,1,2번 index 제거\n",
    "<br></br>\n",
    "    <img src=\"./images/01-1-1-001.png\" style=\"margin:auto\" width=130/>\n",
    "    <img src=\"./images/01-1-1-002.png\" style=\"margin:auto\" width=180 height=180/>\n",
    "\n",
    "- 예시: index 초기화\n",
    "<br></br>\n",
    "    <img src=\"./images/01-1-1-002.png\" style=\"margin:auto\" width=150/>\n",
    "    <img src=\"./images/01-1-1-003.png\" style=\"margin:auto\" width=150/>\n",
    "<br></br>\n",
    "- 완료 후 결과 dataframe 변수를 check_01_01 함수에 입력하여 채점하세요."
   ]
  },
  {
   "cell_type": "code",
   "execution_count": null,
   "metadata": {
    "id": "qeOc2_CtV66D",
    "outputId": "54492161-ae00-4e76-f8b7-1f203efb795b"
   },
   "outputs": [
    {
     "data": {
      "text/html": [
       "<div>\n",
       "<style scoped>\n",
       "    .dataframe tbody tr th:only-of-type {\n",
       "        vertical-align: middle;\n",
       "    }\n",
       "\n",
       "    .dataframe tbody tr th {\n",
       "        vertical-align: top;\n",
       "    }\n",
       "\n",
       "    .dataframe thead th {\n",
       "        text-align: right;\n",
       "    }\n",
       "</style>\n",
       "<table border=\"1\" class=\"dataframe\">\n",
       "  <thead>\n",
       "    <tr style=\"text-align: right;\">\n",
       "      <th></th>\n",
       "      <th>기간</th>\n",
       "      <th>자치구</th>\n",
       "      <th>세대</th>\n",
       "      <th>인구</th>\n",
       "      <th>인구.1</th>\n",
       "      <th>인구.2</th>\n",
       "      <th>인구.3</th>\n",
       "      <th>인구.4</th>\n",
       "      <th>인구.5</th>\n",
       "      <th>인구.6</th>\n",
       "      <th>인구.7</th>\n",
       "      <th>인구.8</th>\n",
       "      <th>세대당인구</th>\n",
       "      <th>65세이상고령자</th>\n",
       "    </tr>\n",
       "  </thead>\n",
       "  <tbody>\n",
       "    <tr>\n",
       "      <th>0</th>\n",
       "      <td>기간</td>\n",
       "      <td>자치구</td>\n",
       "      <td>세대</td>\n",
       "      <td>합계</td>\n",
       "      <td>합계</td>\n",
       "      <td>합계</td>\n",
       "      <td>한국인</td>\n",
       "      <td>한국인</td>\n",
       "      <td>한국인</td>\n",
       "      <td>등록외국인</td>\n",
       "      <td>등록외국인</td>\n",
       "      <td>등록외국인</td>\n",
       "      <td>세대당인구</td>\n",
       "      <td>65세이상고령자</td>\n",
       "    </tr>\n",
       "    <tr>\n",
       "      <th>1</th>\n",
       "      <td>기간</td>\n",
       "      <td>자치구</td>\n",
       "      <td>세대</td>\n",
       "      <td>계</td>\n",
       "      <td>남자</td>\n",
       "      <td>여자</td>\n",
       "      <td>계</td>\n",
       "      <td>남자</td>\n",
       "      <td>여자</td>\n",
       "      <td>계</td>\n",
       "      <td>남자</td>\n",
       "      <td>여자</td>\n",
       "      <td>세대당인구</td>\n",
       "      <td>65세이상고령자</td>\n",
       "    </tr>\n",
       "    <tr>\n",
       "      <th>2</th>\n",
       "      <td>2020.1/4</td>\n",
       "      <td>합계</td>\n",
       "      <td>4,354,006</td>\n",
       "      <td>10,013,781</td>\n",
       "      <td>4,874,995</td>\n",
       "      <td>5,138,786</td>\n",
       "      <td>9,733,655</td>\n",
       "      <td>4,742,217</td>\n",
       "      <td>4,991,438</td>\n",
       "      <td>280,126</td>\n",
       "      <td>132,778</td>\n",
       "      <td>147,348</td>\n",
       "      <td>2.24</td>\n",
       "      <td>1,518,239</td>\n",
       "    </tr>\n",
       "    <tr>\n",
       "      <th>3</th>\n",
       "      <td>2020.1/4</td>\n",
       "      <td>종로구</td>\n",
       "      <td>74,151</td>\n",
       "      <td>161,984</td>\n",
       "      <td>78,271</td>\n",
       "      <td>83,713</td>\n",
       "      <td>151,217</td>\n",
       "      <td>73,704</td>\n",
       "      <td>77,513</td>\n",
       "      <td>10,767</td>\n",
       "      <td>4,567</td>\n",
       "      <td>6,200</td>\n",
       "      <td>2.04</td>\n",
       "      <td>28,073</td>\n",
       "    </tr>\n",
       "    <tr>\n",
       "      <th>4</th>\n",
       "      <td>2020.1/4</td>\n",
       "      <td>중구</td>\n",
       "      <td>63,045</td>\n",
       "      <td>136,469</td>\n",
       "      <td>66,769</td>\n",
       "      <td>69,700</td>\n",
       "      <td>126,175</td>\n",
       "      <td>61,839</td>\n",
       "      <td>64,336</td>\n",
       "      <td>10,294</td>\n",
       "      <td>4,930</td>\n",
       "      <td>5,364</td>\n",
       "      <td>2</td>\n",
       "      <td>23,794</td>\n",
       "    </tr>\n",
       "  </tbody>\n",
       "</table>\n",
       "</div>"
      ],
      "text/plain": [
       "         기간  자치구         세대          인구       인구.1       인구.2       인구.3  \\\n",
       "0        기간  자치구         세대          합계         합계         합계        한국인   \n",
       "1        기간  자치구         세대           계         남자         여자          계   \n",
       "2  2020.1/4   합계  4,354,006  10,013,781  4,874,995  5,138,786  9,733,655   \n",
       "3  2020.1/4  종로구     74,151     161,984     78,271     83,713    151,217   \n",
       "4  2020.1/4   중구     63,045     136,469     66,769     69,700    126,175   \n",
       "\n",
       "        인구.4       인구.5     인구.6     인구.7     인구.8  세대당인구   65세이상고령자  \n",
       "0        한국인        한국인    등록외국인    등록외국인    등록외국인  세대당인구   65세이상고령자  \n",
       "1         남자         여자        계       남자       여자  세대당인구   65세이상고령자  \n",
       "2  4,742,217  4,991,438  280,126  132,778  147,348   2.24  1,518,239  \n",
       "3     73,704     77,513   10,767    4,567    6,200   2.04     28,073  \n",
       "4     61,839     64,336   10,294    4,930    5,364      2     23,794  "
      ]
     },
     "execution_count": 21,
     "metadata": {},
     "output_type": "execute_result"
    }
   ],
   "source": [
    "import pandas as pd\n",
    "# 채점을 위한 코드입니다. 반드시 실행해주세요.\n",
    "from grading import *\n",
    "\n",
    "df_target = pd.read_csv('./datas/report.txt', sep='\\t')\n",
    "df_target.head()"
   ]
  },
  {
   "cell_type": "code",
   "execution_count": null,
   "metadata": {
    "id": "M4C1x-8eV66H",
    "outputId": "77699a42-6bcd-4e8d-990b-13cbb1a5e753"
   },
   "outputs": [
    {
     "name": "stdout",
     "output_type": "stream",
     "text": [
      "정답입니다! 10점 누적 되었습니다!\n",
      "현재 누적 점수: 60 / 60\n"
     ]
    }
   ],
   "source": [
    "# 1-1\n",
    "df_target.drop(labels=[0,1,2], axis=0, inplace=True)\n",
    "df_target.reset_index(inplace=True, drop=True)\n",
    "check_01_01(df_target)"
   ]
  },
  {
   "cell_type": "markdown",
   "metadata": {
    "id": "-HUiqIm3V66H"
   },
   "source": [
    "### **문제 1-2)** 현재의 컬럼명(current_columns)을 아래 new_columns와 같이 변경하세요.      (10점)\n",
    "\n",
    "- current_columns = ['기간', '자치구', '세대', '인구', '인구.1', '인구.2', '인구.3', '인구.4', '인구.5', '인구.6', '인구.7', '인구.8', '세대당인구', '65세이상고령자']\n",
    "<br></br>\n",
    "- new_columns = ['기간', '자치구', '세대', '합계', '남자', '여자', '한국인 계', '한국인 남자', '한국인 여자', '등록외국인 계', '등록외국인 남자', '등록외국인 여자', '세대당인구', '65세이상고령자']\n",
    "<br></br>\n",
    "- 예시\n",
    "<br></br>\n",
    "    <img src=\"./images/01-1-2-001.png\" style=\"margin:auto\" width=150/>\n",
    "    <img src=\"./images/01-1-2-002.png\" style=\"margin:auto\" width=150/>\n",
    "<br></br>\n",
    "- 완료 후 결과 dataframe 변수를 check_01_02 함수에 입력하여 채점하세요."
   ]
  },
  {
   "cell_type": "code",
   "execution_count": null,
   "metadata": {
    "id": "IFDD0EdGV66I",
    "outputId": "ce22e358-4b9e-41df-c347-e15ad8a2f9ae"
   },
   "outputs": [
    {
     "name": "stdout",
     "output_type": "stream",
     "text": [
      "정답입니다! 10점 누적 되었습니다!\n",
      "현재 누적 점수: 60 / 60\n"
     ]
    }
   ],
   "source": [
    "# 1-2\n",
    "new_columns = ['기간', '자치구', '세대', '합계', '남자', '여자', '한국인 계', '한국인 남자', '한국인 여자', '등록외국인 계', '등록외국인 남자', '등록외국인 여자', '세대당인구', '65세이상고령자']\n",
    "df_target.columns = new_columns\n",
    "check_01_02(df_target)"
   ]
  },
  {
   "cell_type": "code",
   "execution_count": null,
   "metadata": {
    "id": "PJiyO6n5V66I",
    "outputId": "73113c78-3c12-474d-ae95-d09d7de39012"
   },
   "outputs": [
    {
     "data": {
      "text/html": [
       "<div>\n",
       "<style scoped>\n",
       "    .dataframe tbody tr th:only-of-type {\n",
       "        vertical-align: middle;\n",
       "    }\n",
       "\n",
       "    .dataframe tbody tr th {\n",
       "        vertical-align: top;\n",
       "    }\n",
       "\n",
       "    .dataframe thead th {\n",
       "        text-align: right;\n",
       "    }\n",
       "</style>\n",
       "<table border=\"1\" class=\"dataframe\">\n",
       "  <thead>\n",
       "    <tr style=\"text-align: right;\">\n",
       "      <th></th>\n",
       "      <th>기간</th>\n",
       "      <th>자치구</th>\n",
       "      <th>세대</th>\n",
       "      <th>합계</th>\n",
       "      <th>남자</th>\n",
       "      <th>여자</th>\n",
       "      <th>한국인 계</th>\n",
       "      <th>한국인 남자</th>\n",
       "      <th>한국인 여자</th>\n",
       "      <th>등록외국인 계</th>\n",
       "      <th>등록외국인 남자</th>\n",
       "      <th>등록외국인 여자</th>\n",
       "      <th>세대당인구</th>\n",
       "      <th>65세이상고령자</th>\n",
       "    </tr>\n",
       "  </thead>\n",
       "  <tbody>\n",
       "    <tr>\n",
       "      <th>20</th>\n",
       "      <td>2020.1/4</td>\n",
       "      <td>관악구</td>\n",
       "      <td>270,760</td>\n",
       "      <td>516,662</td>\n",
       "      <td>258,982</td>\n",
       "      <td>257,680</td>\n",
       "      <td>499,374</td>\n",
       "      <td>250,743</td>\n",
       "      <td>248,631</td>\n",
       "      <td>17,288</td>\n",
       "      <td>8,239</td>\n",
       "      <td>9,049</td>\n",
       "      <td>1.84</td>\n",
       "      <td>76,664</td>\n",
       "    </tr>\n",
       "    <tr>\n",
       "      <th>21</th>\n",
       "      <td>2020.1/4</td>\n",
       "      <td>서초구</td>\n",
       "      <td>173,580</td>\n",
       "      <td>434,801</td>\n",
       "      <td>207,877</td>\n",
       "      <td>226,924</td>\n",
       "      <td>430,568</td>\n",
       "      <td>205,787</td>\n",
       "      <td>224,781</td>\n",
       "      <td>4,233</td>\n",
       "      <td>2,090</td>\n",
       "      <td>2,143</td>\n",
       "      <td>2.48</td>\n",
       "      <td>58,332</td>\n",
       "    </tr>\n",
       "    <tr>\n",
       "      <th>22</th>\n",
       "      <td>2020.1/4</td>\n",
       "      <td>강남구</td>\n",
       "      <td>233,624</td>\n",
       "      <td>549,898</td>\n",
       "      <td>263,163</td>\n",
       "      <td>286,735</td>\n",
       "      <td>544,804</td>\n",
       "      <td>260,654</td>\n",
       "      <td>284,150</td>\n",
       "      <td>5,094</td>\n",
       "      <td>2,509</td>\n",
       "      <td>2,585</td>\n",
       "      <td>2.33</td>\n",
       "      <td>72,602</td>\n",
       "    </tr>\n",
       "    <tr>\n",
       "      <th>23</th>\n",
       "      <td>2020.1/4</td>\n",
       "      <td>송파구</td>\n",
       "      <td>279,301</td>\n",
       "      <td>680,883</td>\n",
       "      <td>329,058</td>\n",
       "      <td>351,825</td>\n",
       "      <td>674,095</td>\n",
       "      <td>325,859</td>\n",
       "      <td>348,236</td>\n",
       "      <td>6,788</td>\n",
       "      <td>3,199</td>\n",
       "      <td>3,589</td>\n",
       "      <td>2.41</td>\n",
       "      <td>89,539</td>\n",
       "    </tr>\n",
       "    <tr>\n",
       "      <th>24</th>\n",
       "      <td>2020.1/4</td>\n",
       "      <td>강동구</td>\n",
       "      <td>190,019</td>\n",
       "      <td>457,042</td>\n",
       "      <td>225,226</td>\n",
       "      <td>231,816</td>\n",
       "      <td>452,646</td>\n",
       "      <td>223,189</td>\n",
       "      <td>229,457</td>\n",
       "      <td>4,396</td>\n",
       "      <td>2,037</td>\n",
       "      <td>2,359</td>\n",
       "      <td>2.38</td>\n",
       "      <td>66,401</td>\n",
       "    </tr>\n",
       "  </tbody>\n",
       "</table>\n",
       "</div>"
      ],
      "text/plain": [
       "          기간  자치구       세대       합계       남자       여자    한국인 계   한국인 남자  \\\n",
       "20  2020.1/4  관악구  270,760  516,662  258,982  257,680  499,374  250,743   \n",
       "21  2020.1/4  서초구  173,580  434,801  207,877  226,924  430,568  205,787   \n",
       "22  2020.1/4  강남구  233,624  549,898  263,163  286,735  544,804  260,654   \n",
       "23  2020.1/4  송파구  279,301  680,883  329,058  351,825  674,095  325,859   \n",
       "24  2020.1/4  강동구  190,019  457,042  225,226  231,816  452,646  223,189   \n",
       "\n",
       "     한국인 여자 등록외국인 계 등록외국인 남자 등록외국인 여자 세대당인구 65세이상고령자  \n",
       "20  248,631  17,288    8,239    9,049  1.84   76,664  \n",
       "21  224,781   4,233    2,090    2,143  2.48   58,332  \n",
       "22  284,150   5,094    2,509    2,585  2.33   72,602  \n",
       "23  348,236   6,788    3,199    3,589  2.41   89,539  \n",
       "24  229,457   4,396    2,037    2,359  2.38   66,401  "
      ]
     },
     "execution_count": 24,
     "metadata": {},
     "output_type": "execute_result"
    }
   ],
   "source": [
    "df_target.tail()"
   ]
  },
  {
   "cell_type": "markdown",
   "metadata": {
    "id": "icHLxgLjV66J"
   },
   "source": [
    "### **문제 1-3)** 천단위 구분자 \" , \"를 제거하고, data의 type을 int 또는 float으로 변경하세요.   (10점)\n",
    "- 기간, 자치구: 변경 없음\n",
    "<br></br>\n",
    "- '세대', '합계', '남자', '여자', '한국인 계', '한국인 남자', '한국인 여자', '등록외국인 계', '등록외국인 남자', '등록외국인 여자', '65세이상고령자': 천단위 구분자 \",\" 제거 및 int로 타입 변경\n",
    "<br></br>\n",
    "    - 예시\n",
    "<br></br>\n",
    "    <img src=\"./images/01-1-3-001.png\" style=\"margin:auto\" width=150/>\n",
    "    <img src=\"./images/01-1-3-002.png\" style=\"margin:auto\" width=150/>\n",
    "<br></br>\n",
    "- '세대당인구': float으로 타입 변경\n",
    "<br></br>\n",
    "    - 예시\n",
    "<br></br>\n",
    "    <img src=\"./images/01-1-3-003.png\" style=\"margin:auto\" width=150/>\n",
    "    <img src=\"./images/01-1-3-004.png\" style=\"margin:auto\" width=150/>\n",
    "<br></br>\n",
    "- 완료 후 결과 dataframe 변수를 check_01_03 함수에 입력하여 채점하세요."
   ]
  },
  {
   "cell_type": "code",
   "execution_count": null,
   "metadata": {
    "id": "DhqHf-udV66J",
    "outputId": "cebc0818-ef32-4d63-93b8-6c02d7cedcee"
   },
   "outputs": [
    {
     "name": "stdout",
     "output_type": "stream",
     "text": [
      "정답입니다! 10점 누적 되었습니다!\n",
      "현재 누적 점수: 60 / 60\n"
     ]
    }
   ],
   "source": [
    "# 1-3\n",
    "target_cols = ['세대', '합계', '남자', '여자', '한국인 계', '한국인 남자', '한국인 여자', '등록외국인 계', '등록외국인 남자', '등록외국인 여자', '65세이상고령자']\n",
    "df_target[target_cols] = df_target[target_cols].apply(axis=1, func=lambda col: col.str.replace(',', '').astype(int))\n",
    "df_target['세대당인구'] = df_target['세대당인구'].astype(float)\n",
    "check_01_03(df_target)"
   ]
  },
  {
   "cell_type": "code",
   "execution_count": null,
   "metadata": {
    "id": "BdlRhQhLV66K",
    "outputId": "23ea8e3b-565c-4102-9cd3-36da0d1bfce0"
   },
   "outputs": [
    {
     "data": {
      "text/html": [
       "<div>\n",
       "<style scoped>\n",
       "    .dataframe tbody tr th:only-of-type {\n",
       "        vertical-align: middle;\n",
       "    }\n",
       "\n",
       "    .dataframe tbody tr th {\n",
       "        vertical-align: top;\n",
       "    }\n",
       "\n",
       "    .dataframe thead th {\n",
       "        text-align: right;\n",
       "    }\n",
       "</style>\n",
       "<table border=\"1\" class=\"dataframe\">\n",
       "  <thead>\n",
       "    <tr style=\"text-align: right;\">\n",
       "      <th></th>\n",
       "      <th>기간</th>\n",
       "      <th>자치구</th>\n",
       "      <th>세대</th>\n",
       "      <th>합계</th>\n",
       "      <th>남자</th>\n",
       "      <th>여자</th>\n",
       "      <th>한국인 계</th>\n",
       "      <th>한국인 남자</th>\n",
       "      <th>한국인 여자</th>\n",
       "      <th>등록외국인 계</th>\n",
       "      <th>등록외국인 남자</th>\n",
       "      <th>등록외국인 여자</th>\n",
       "      <th>세대당인구</th>\n",
       "      <th>65세이상고령자</th>\n",
       "    </tr>\n",
       "  </thead>\n",
       "  <tbody>\n",
       "    <tr>\n",
       "      <th>20</th>\n",
       "      <td>2020.1/4</td>\n",
       "      <td>관악구</td>\n",
       "      <td>270760</td>\n",
       "      <td>516662</td>\n",
       "      <td>258982</td>\n",
       "      <td>257680</td>\n",
       "      <td>499374</td>\n",
       "      <td>250743</td>\n",
       "      <td>248631</td>\n",
       "      <td>17288</td>\n",
       "      <td>8239</td>\n",
       "      <td>9049</td>\n",
       "      <td>1.84</td>\n",
       "      <td>76664</td>\n",
       "    </tr>\n",
       "    <tr>\n",
       "      <th>21</th>\n",
       "      <td>2020.1/4</td>\n",
       "      <td>서초구</td>\n",
       "      <td>173580</td>\n",
       "      <td>434801</td>\n",
       "      <td>207877</td>\n",
       "      <td>226924</td>\n",
       "      <td>430568</td>\n",
       "      <td>205787</td>\n",
       "      <td>224781</td>\n",
       "      <td>4233</td>\n",
       "      <td>2090</td>\n",
       "      <td>2143</td>\n",
       "      <td>2.48</td>\n",
       "      <td>58332</td>\n",
       "    </tr>\n",
       "    <tr>\n",
       "      <th>22</th>\n",
       "      <td>2020.1/4</td>\n",
       "      <td>강남구</td>\n",
       "      <td>233624</td>\n",
       "      <td>549898</td>\n",
       "      <td>263163</td>\n",
       "      <td>286735</td>\n",
       "      <td>544804</td>\n",
       "      <td>260654</td>\n",
       "      <td>284150</td>\n",
       "      <td>5094</td>\n",
       "      <td>2509</td>\n",
       "      <td>2585</td>\n",
       "      <td>2.33</td>\n",
       "      <td>72602</td>\n",
       "    </tr>\n",
       "    <tr>\n",
       "      <th>23</th>\n",
       "      <td>2020.1/4</td>\n",
       "      <td>송파구</td>\n",
       "      <td>279301</td>\n",
       "      <td>680883</td>\n",
       "      <td>329058</td>\n",
       "      <td>351825</td>\n",
       "      <td>674095</td>\n",
       "      <td>325859</td>\n",
       "      <td>348236</td>\n",
       "      <td>6788</td>\n",
       "      <td>3199</td>\n",
       "      <td>3589</td>\n",
       "      <td>2.41</td>\n",
       "      <td>89539</td>\n",
       "    </tr>\n",
       "    <tr>\n",
       "      <th>24</th>\n",
       "      <td>2020.1/4</td>\n",
       "      <td>강동구</td>\n",
       "      <td>190019</td>\n",
       "      <td>457042</td>\n",
       "      <td>225226</td>\n",
       "      <td>231816</td>\n",
       "      <td>452646</td>\n",
       "      <td>223189</td>\n",
       "      <td>229457</td>\n",
       "      <td>4396</td>\n",
       "      <td>2037</td>\n",
       "      <td>2359</td>\n",
       "      <td>2.38</td>\n",
       "      <td>66401</td>\n",
       "    </tr>\n",
       "  </tbody>\n",
       "</table>\n",
       "</div>"
      ],
      "text/plain": [
       "          기간  자치구      세대      합계      남자      여자   한국인 계  한국인 남자  한국인 여자  \\\n",
       "20  2020.1/4  관악구  270760  516662  258982  257680  499374  250743  248631   \n",
       "21  2020.1/4  서초구  173580  434801  207877  226924  430568  205787  224781   \n",
       "22  2020.1/4  강남구  233624  549898  263163  286735  544804  260654  284150   \n",
       "23  2020.1/4  송파구  279301  680883  329058  351825  674095  325859  348236   \n",
       "24  2020.1/4  강동구  190019  457042  225226  231816  452646  223189  229457   \n",
       "\n",
       "    등록외국인 계  등록외국인 남자  등록외국인 여자  세대당인구  65세이상고령자  \n",
       "20    17288      8239      9049   1.84     76664  \n",
       "21     4233      2090      2143   2.48     58332  \n",
       "22     5094      2509      2585   2.33     72602  \n",
       "23     6788      3199      3589   2.41     89539  \n",
       "24     4396      2037      2359   2.38     66401  "
      ]
     },
     "execution_count": 26,
     "metadata": {},
     "output_type": "execute_result"
    }
   ],
   "source": [
    "df_target.tail()"
   ]
  },
  {
   "cell_type": "markdown",
   "metadata": {
    "id": "5CsZ38nFV66K"
   },
   "source": [
    "## 2단계: 원하는 정보 얻기"
   ]
  },
  {
   "cell_type": "markdown",
   "metadata": {
    "id": "6V3jwB-9V66K"
   },
   "source": [
    "### *Pandas DataFrame의 기능을 이용하여 아래 문제의 답을 구하세요.*\n",
    "***\n",
    "#### 서울시는 아래와 같이 5개의 권역으로 구분됩니다.\n",
    "![서울시 권역생활권](https://www.seoulsolution.kr/sites/default/files/images/%EC%B2%B4%EA%B3%846.jpg)\n",
    "- ref: [서울시-도시계획체계](https://www.seoulsolution.kr/ko/content/서울시-도시계획체계)\n",
    "\n",
    "- 도심권: ['종로구', '중구', '용산구']\n",
    "- 동북권: ['성동구', '광진구', '동대문구', '중랑구', '성북구', '강북구', '도봉구', '노원구']\n",
    "- 서북권: ['은평구', '서대문구', '마포구']\n",
    "- 서남권: ['양천구', '강서구', '구로구', '금천구', '영등포구', '동작구', '관악구']\n",
    "- 동남권: ['서초구', '강남구', '송파구', '강동구']\n",
    "***"
   ]
  },
  {
   "cell_type": "code",
   "execution_count": null,
   "metadata": {
    "id": "eDwr2NjsV66K"
   },
   "outputs": [],
   "source": [
    "region_dict = {'도심권': ['종로구', '중구', '용산구'],\n",
    "               '동북권': ['성동구', '광진구', '동대문구', '중랑구', '성북구', '강북구', '도봉구', '노원구'],\n",
    "               '서북권': ['은평구', '서대문구', '마포구'],\n",
    "               '서남권': ['양천구', '강서구', '구로구', '금천구', '영등포구', '동작구', '관악구'],\n",
    "               '동남권': ['서초구', '강남구', '송파구', '강동구']\n",
    "               }"
   ]
  },
  {
   "cell_type": "markdown",
   "metadata": {
    "id": "5hQinvpWV66L"
   },
   "source": [
    "### **문제 2-1)** 1단계에서 구한 DataFrame에 '권역' column을 추가하여 해당 구에 맞는 권역을 입력하세요.    (5점)\n",
    "\n",
    "- 예시\n",
    "<br></br>\n",
    "    <img src=\"./images/01-2-1-001.png\" style=\"margin:auto\" width=150/>\n",
    "    <img src=\"./images/01-2-1-002.png\" style=\"margin:auto\" width=200/>\n",
    "\n",
    "- 완료 후 결과 dataframe 변수를 check_02_01 함수에 입력하여 채점하세요."
   ]
  },
  {
   "cell_type": "code",
   "execution_count": null,
   "metadata": {
    "id": "IqmknbukV66L",
    "outputId": "5bcf6c52-0051-4c65-a498-af0d7e5180b1"
   },
   "outputs": [
    {
     "name": "stdout",
     "output_type": "stream",
     "text": [
      "정답입니다! 5점 누적 되었습니다!\n",
      "현재 누적 점수: 60 / 60\n"
     ]
    }
   ],
   "source": [
    "# 2-1\n",
    "\n",
    "gu_dict = {gu: region for region, gu_list in region_dict.items() for gu in gu_list}\n",
    "\n",
    "for idx, row in df_target.iterrows():\n",
    "    df_target.loc[idx, '권역'] = gu_dict[row['자치구']]\n",
    "check_02_01(df_target)"
   ]
  },
  {
   "cell_type": "markdown",
   "metadata": {
    "id": "-sSGxq47V66L"
   },
   "source": [
    "### **문제 2-2)** 2-1에서 만든 DataFrame을 이용하여 Pandas의 pivot_table 메소드를 활용하여 각 권역별 아래 값의 합을 구하고, '합계'를 기준으로 내림차순 정렬하세요.      (5점)\n",
    "\n",
    "- 구할 값: ['합계', '세대', '여자', '한국인 계', '등록외국인 계', '65세이상고령자']\n",
    "\n",
    "- 참고: [Pivot Table](https://pandas.pydata.org/docs/reference/api/pandas.pivot_table.html)\n",
    "<br></br>\n",
    "    - 예시\n",
    "<br></br>\n",
    "    <img src=\"./images/01-2-2-001.png\" style=\"margin:auto\" width=150/>\n",
    "    <img src=\"./images/01-2-2-002.png\" style=\"margin:auto\" width=150/>\n",
    "<br></br>\n",
    "- 완료 후 결과 dataframe 변수를 check_02_02 함수에 입력하여 채점하세요."
   ]
  },
  {
   "cell_type": "code",
   "execution_count": null,
   "metadata": {
    "id": "6-9SV-GbV66L",
    "outputId": "20a3c385-9383-4a43-a727-176e78352ecf"
   },
   "outputs": [
    {
     "name": "stdout",
     "output_type": "stream",
     "text": [
      "정답입니다! 5점 누적 되었습니다!\n",
      "현재 누적 점수: 60 / 60\n"
     ]
    }
   ],
   "source": [
    "# 2-2\n",
    "df_pivot = df_target.pivot_table(index='권역', values=['합계', '세대', '여자', '한국인 계', '등록외국인 계', '65세이상고령자'], aggfunc='sum')\n",
    "df_pivot.sort_values(by='합계', ascending=False, inplace=True)\n",
    "check_02_02(df_pivot)"
   ]
  },
  {
   "cell_type": "code",
   "execution_count": null,
   "metadata": {
    "id": "kUcg970qV66M",
    "outputId": "e3a65b2d-4109-42e3-effe-9565ff3d8fbf"
   },
   "outputs": [
    {
     "data": {
      "text/html": [
       "<div>\n",
       "<style scoped>\n",
       "    .dataframe tbody tr th:only-of-type {\n",
       "        vertical-align: middle;\n",
       "    }\n",
       "\n",
       "    .dataframe tbody tr th {\n",
       "        vertical-align: top;\n",
       "    }\n",
       "\n",
       "    .dataframe thead th {\n",
       "        text-align: right;\n",
       "    }\n",
       "</style>\n",
       "<table border=\"1\" class=\"dataframe\">\n",
       "  <thead>\n",
       "    <tr style=\"text-align: right;\">\n",
       "      <th></th>\n",
       "      <th>65세이상고령자</th>\n",
       "      <th>등록외국인 계</th>\n",
       "      <th>세대</th>\n",
       "      <th>여자</th>\n",
       "      <th>한국인 계</th>\n",
       "      <th>합계</th>\n",
       "    </tr>\n",
       "    <tr>\n",
       "      <th>권역</th>\n",
       "      <th></th>\n",
       "      <th></th>\n",
       "      <th></th>\n",
       "      <th></th>\n",
       "      <th></th>\n",
       "      <th></th>\n",
       "    </tr>\n",
       "  </thead>\n",
       "  <tbody>\n",
       "    <tr>\n",
       "      <th>동북권</th>\n",
       "      <td>497385</td>\n",
       "      <td>67938</td>\n",
       "      <td>1342778</td>\n",
       "      <td>1580313</td>\n",
       "      <td>3008988</td>\n",
       "      <td>3076926</td>\n",
       "    </tr>\n",
       "    <tr>\n",
       "      <th>서남권</th>\n",
       "      <td>454108</td>\n",
       "      <td>124791</td>\n",
       "      <td>1360162</td>\n",
       "      <td>1554745</td>\n",
       "      <td>2950352</td>\n",
       "      <td>3075143</td>\n",
       "    </tr>\n",
       "    <tr>\n",
       "      <th>동남권</th>\n",
       "      <td>286874</td>\n",
       "      <td>20511</td>\n",
       "      <td>876524</td>\n",
       "      <td>1097300</td>\n",
       "      <td>2102113</td>\n",
       "      <td>2122624</td>\n",
       "    </tr>\n",
       "    <tr>\n",
       "      <th>서북권</th>\n",
       "      <td>188566</td>\n",
       "      <td>29239</td>\n",
       "      <td>526451</td>\n",
       "      <td>626811</td>\n",
       "      <td>1165231</td>\n",
       "      <td>1194470</td>\n",
       "    </tr>\n",
       "    <tr>\n",
       "      <th>도심권</th>\n",
       "      <td>91306</td>\n",
       "      <td>37647</td>\n",
       "      <td>248091</td>\n",
       "      <td>279617</td>\n",
       "      <td>506971</td>\n",
       "      <td>544618</td>\n",
       "    </tr>\n",
       "  </tbody>\n",
       "</table>\n",
       "</div>"
      ],
      "text/plain": [
       "     65세이상고령자  등록외국인 계       세대       여자    한국인 계       합계\n",
       "권역                                                        \n",
       "동북권    497385    67938  1342778  1580313  3008988  3076926\n",
       "서남권    454108   124791  1360162  1554745  2950352  3075143\n",
       "동남권    286874    20511   876524  1097300  2102113  2122624\n",
       "서북권    188566    29239   526451   626811  1165231  1194470\n",
       "도심권     91306    37647   248091   279617   506971   544618"
      ]
     },
     "execution_count": 30,
     "metadata": {},
     "output_type": "execute_result"
    }
   ],
   "source": [
    "df_pivot"
   ]
  },
  {
   "cell_type": "markdown",
   "metadata": {
    "id": "kaKR1ak8V66M"
   },
   "source": [
    "### **문제 2-3)** 2-2에서 만든 Pivot Table을 이용하여 각 권역별 ['고령자비율', '외국인비율', '여성비율', '세대당인구'] 컬럼을 만들어 아래와 같이 값을 입력하고 '외국인비율'을 기준으로 오름차순 정렬하세요.  (5점)\n",
    "\n",
    "- 고령자비율: 65세이상고령자 / 합계 * 100\n",
    "\n",
    "- 외국인비율: 등록외국인 계 / 합계 * 100\n",
    "\n",
    "- 여성비율: 여자 / 합계 * 100\n",
    "\n",
    "- 세대당인구: (합계 - 등록외국인 계) / 세대\n",
    "<br></br>\n",
    "- 예시: B/C 비율 및  B 기준 오름차순 정렬\n",
    "<br></br>\n",
    "    <img src=\"./images/01-2-2-002.png\" style=\"margin:auto\" width=150/>\n",
    "    <img src=\"./images/01-2-3-001.png\" style=\"margin:auto\" width=230/>\n",
    "<br></br>\n",
    "- 완료 후 결과 dataframe 변수를 check_02_03 함수에 입력하여 채점하세요."
   ]
  },
  {
   "cell_type": "code",
   "execution_count": null,
   "metadata": {
    "id": "O3ianDGzV66M",
    "outputId": "a1c377a6-e25f-420f-8270-8ad03565ad95"
   },
   "outputs": [
    {
     "name": "stdout",
     "output_type": "stream",
     "text": [
      "정답입니다! 5점 누적 되었습니다!\n",
      "현재 누적 점수: 60 / 60\n"
     ]
    }
   ],
   "source": [
    "# 2-3\n",
    "df_pivot['고령자비율'] = df_pivot['65세이상고령자'] / df_pivot['합계'] * 100\n",
    "df_pivot['외국인비율'] = df_pivot['등록외국인 계'] / df_pivot['합계'] * 100\n",
    "df_pivot['여성비율'] = df_pivot['여자'] / df_pivot['합계'] * 100\n",
    "df_pivot['세대당인구'] = (df_pivot['합계'] - df_pivot['등록외국인 계']) / df_pivot['세대']\n",
    "\n",
    "df_pivot.sort_values(by='외국인비율', ascending=True, inplace=True)\n",
    "check_02_03(df_pivot)"
   ]
  },
  {
   "cell_type": "code",
   "execution_count": null,
   "metadata": {
    "id": "HYQjxqJoV66N",
    "outputId": "d146a8a6-f6e4-4232-8636-22602a4f753b"
   },
   "outputs": [
    {
     "data": {
      "text/html": [
       "<div>\n",
       "<style scoped>\n",
       "    .dataframe tbody tr th:only-of-type {\n",
       "        vertical-align: middle;\n",
       "    }\n",
       "\n",
       "    .dataframe tbody tr th {\n",
       "        vertical-align: top;\n",
       "    }\n",
       "\n",
       "    .dataframe thead th {\n",
       "        text-align: right;\n",
       "    }\n",
       "</style>\n",
       "<table border=\"1\" class=\"dataframe\">\n",
       "  <thead>\n",
       "    <tr style=\"text-align: right;\">\n",
       "      <th></th>\n",
       "      <th>65세이상고령자</th>\n",
       "      <th>등록외국인 계</th>\n",
       "      <th>세대</th>\n",
       "      <th>여자</th>\n",
       "      <th>한국인 계</th>\n",
       "      <th>합계</th>\n",
       "      <th>고령자비율</th>\n",
       "      <th>외국인비율</th>\n",
       "      <th>여성비율</th>\n",
       "      <th>세대당인구</th>\n",
       "    </tr>\n",
       "    <tr>\n",
       "      <th>권역</th>\n",
       "      <th></th>\n",
       "      <th></th>\n",
       "      <th></th>\n",
       "      <th></th>\n",
       "      <th></th>\n",
       "      <th></th>\n",
       "      <th></th>\n",
       "      <th></th>\n",
       "      <th></th>\n",
       "      <th></th>\n",
       "    </tr>\n",
       "  </thead>\n",
       "  <tbody>\n",
       "    <tr>\n",
       "      <th>동남권</th>\n",
       "      <td>286874</td>\n",
       "      <td>20511</td>\n",
       "      <td>876524</td>\n",
       "      <td>1097300</td>\n",
       "      <td>2102113</td>\n",
       "      <td>2122624</td>\n",
       "      <td>13.515064</td>\n",
       "      <td>0.966304</td>\n",
       "      <td>51.695449</td>\n",
       "      <td>2.398238</td>\n",
       "    </tr>\n",
       "    <tr>\n",
       "      <th>동북권</th>\n",
       "      <td>497385</td>\n",
       "      <td>67938</td>\n",
       "      <td>1342778</td>\n",
       "      <td>1580313</td>\n",
       "      <td>3008988</td>\n",
       "      <td>3076926</td>\n",
       "      <td>16.164997</td>\n",
       "      <td>2.207983</td>\n",
       "      <td>51.360124</td>\n",
       "      <td>2.240868</td>\n",
       "    </tr>\n",
       "    <tr>\n",
       "      <th>서북권</th>\n",
       "      <td>188566</td>\n",
       "      <td>29239</td>\n",
       "      <td>526451</td>\n",
       "      <td>626811</td>\n",
       "      <td>1165231</td>\n",
       "      <td>1194470</td>\n",
       "      <td>15.786583</td>\n",
       "      <td>2.447864</td>\n",
       "      <td>52.476077</td>\n",
       "      <td>2.213370</td>\n",
       "    </tr>\n",
       "    <tr>\n",
       "      <th>서남권</th>\n",
       "      <td>454108</td>\n",
       "      <td>124791</td>\n",
       "      <td>1360162</td>\n",
       "      <td>1554745</td>\n",
       "      <td>2950352</td>\n",
       "      <td>3075143</td>\n",
       "      <td>14.767053</td>\n",
       "      <td>4.058055</td>\n",
       "      <td>50.558462</td>\n",
       "      <td>2.169118</td>\n",
       "    </tr>\n",
       "    <tr>\n",
       "      <th>도심권</th>\n",
       "      <td>91306</td>\n",
       "      <td>37647</td>\n",
       "      <td>248091</td>\n",
       "      <td>279617</td>\n",
       "      <td>506971</td>\n",
       "      <td>544618</td>\n",
       "      <td>16.765145</td>\n",
       "      <td>6.912552</td>\n",
       "      <td>51.341858</td>\n",
       "      <td>2.043488</td>\n",
       "    </tr>\n",
       "  </tbody>\n",
       "</table>\n",
       "</div>"
      ],
      "text/plain": [
       "     65세이상고령자  등록외국인 계       세대       여자    한국인 계       합계      고령자비율  \\\n",
       "권역                                                                      \n",
       "동남권    286874    20511   876524  1097300  2102113  2122624  13.515064   \n",
       "동북권    497385    67938  1342778  1580313  3008988  3076926  16.164997   \n",
       "서북권    188566    29239   526451   626811  1165231  1194470  15.786583   \n",
       "서남권    454108   124791  1360162  1554745  2950352  3075143  14.767053   \n",
       "도심권     91306    37647   248091   279617   506971   544618  16.765145   \n",
       "\n",
       "        외국인비율       여성비율     세대당인구  \n",
       "권역                                  \n",
       "동남권  0.966304  51.695449  2.398238  \n",
       "동북권  2.207983  51.360124  2.240868  \n",
       "서북권  2.447864  52.476077  2.213370  \n",
       "서남권  4.058055  50.558462  2.169118  \n",
       "도심권  6.912552  51.341858  2.043488  "
      ]
     },
     "execution_count": 32,
     "metadata": {},
     "output_type": "execute_result"
    }
   ],
   "source": [
    "df_pivot"
   ]
  },
  {
   "cell_type": "markdown",
   "metadata": {
    "id": "OTpci-FmV66N"
   },
   "source": [
    "### **문제 2-4)** 2-1에서 만든 DataFrame을 이용하여 각 구별 ['고령자비율', '외국인비율', '여성비율'] 컬럼을 만들어 아래와 같이 값을 입력하고 '세대당인구'을 기준으로 내림차순 정렬하세요.  (5점)\n",
    "- 고령자비율: 65세이상고령자 / 합계 * 100\n",
    "- 외국인비율: 등록외국인 계 / 합계 * 100\n",
    "- 여성비율: 여자 / 합계 * 100\n",
    "- 완료 후 결과 dataframe 변수를 check_02_04 함수에 입력하여 채점하세요."
   ]
  },
  {
   "cell_type": "code",
   "execution_count": null,
   "metadata": {
    "id": "fsWcWwgGV66N",
    "outputId": "b48cab61-11dc-4060-d8ba-c62a08ed559b"
   },
   "outputs": [
    {
     "name": "stdout",
     "output_type": "stream",
     "text": [
      "정답입니다! 5점 누적 되었습니다!\n",
      "현재 누적 점수: 60 / 60\n"
     ]
    }
   ],
   "source": [
    "# 2-4\n",
    "df_target['고령자비율'] = df_target['65세이상고령자'] / df_target['합계'] * 100\n",
    "df_target['외국인비율'] = df_target['등록외국인 계'] / df_target['합계'] * 100\n",
    "df_target['여성비율'] = df_target['여자'] / df_target['합계'] * 100\n",
    "\n",
    "df_target.sort_values(by='세대당인구', ascending=False, inplace=True)\n",
    "\n",
    "check_02_04(df_target)"
   ]
  },
  {
   "cell_type": "code",
   "execution_count": null,
   "metadata": {
    "id": "KW28W8jXV66N",
    "outputId": "c4d12ca6-8236-4fe3-bbea-ef13e597ecd7"
   },
   "outputs": [
    {
     "data": {
      "text/html": [
       "<div>\n",
       "<style scoped>\n",
       "    .dataframe tbody tr th:only-of-type {\n",
       "        vertical-align: middle;\n",
       "    }\n",
       "\n",
       "    .dataframe tbody tr th {\n",
       "        vertical-align: top;\n",
       "    }\n",
       "\n",
       "    .dataframe thead th {\n",
       "        text-align: right;\n",
       "    }\n",
       "</style>\n",
       "<table border=\"1\" class=\"dataframe\">\n",
       "  <thead>\n",
       "    <tr style=\"text-align: right;\">\n",
       "      <th></th>\n",
       "      <th>기간</th>\n",
       "      <th>자치구</th>\n",
       "      <th>세대</th>\n",
       "      <th>합계</th>\n",
       "      <th>남자</th>\n",
       "      <th>여자</th>\n",
       "      <th>한국인 계</th>\n",
       "      <th>한국인 남자</th>\n",
       "      <th>한국인 여자</th>\n",
       "      <th>등록외국인 계</th>\n",
       "      <th>등록외국인 남자</th>\n",
       "      <th>등록외국인 여자</th>\n",
       "      <th>세대당인구</th>\n",
       "      <th>65세이상고령자</th>\n",
       "      <th>권역</th>\n",
       "      <th>고령자비율</th>\n",
       "      <th>외국인비율</th>\n",
       "      <th>여성비율</th>\n",
       "    </tr>\n",
       "  </thead>\n",
       "  <tbody>\n",
       "    <tr>\n",
       "      <th>1</th>\n",
       "      <td>2020.1/4</td>\n",
       "      <td>중구</td>\n",
       "      <td>63045</td>\n",
       "      <td>136469</td>\n",
       "      <td>66769</td>\n",
       "      <td>69700</td>\n",
       "      <td>126175</td>\n",
       "      <td>61839</td>\n",
       "      <td>64336</td>\n",
       "      <td>10294</td>\n",
       "      <td>4930</td>\n",
       "      <td>5364</td>\n",
       "      <td>2.00</td>\n",
       "      <td>23794</td>\n",
       "      <td>도심권</td>\n",
       "      <td>17.435462</td>\n",
       "      <td>7.543105</td>\n",
       "      <td>51.073870</td>\n",
       "    </tr>\n",
       "    <tr>\n",
       "      <th>20</th>\n",
       "      <td>2020.1/4</td>\n",
       "      <td>관악구</td>\n",
       "      <td>270760</td>\n",
       "      <td>516662</td>\n",
       "      <td>258982</td>\n",
       "      <td>257680</td>\n",
       "      <td>499374</td>\n",
       "      <td>250743</td>\n",
       "      <td>248631</td>\n",
       "      <td>17288</td>\n",
       "      <td>8239</td>\n",
       "      <td>9049</td>\n",
       "      <td>1.84</td>\n",
       "      <td>76664</td>\n",
       "      <td>서남권</td>\n",
       "      <td>14.838328</td>\n",
       "      <td>3.346095</td>\n",
       "      <td>49.873999</td>\n",
       "    </tr>\n",
       "  </tbody>\n",
       "</table>\n",
       "</div>"
      ],
      "text/plain": [
       "          기간  자치구      세대      합계      남자      여자   한국인 계  한국인 남자  한국인 여자  \\\n",
       "1   2020.1/4   중구   63045  136469   66769   69700  126175   61839   64336   \n",
       "20  2020.1/4  관악구  270760  516662  258982  257680  499374  250743  248631   \n",
       "\n",
       "    등록외국인 계  등록외국인 남자  등록외국인 여자  세대당인구  65세이상고령자   권역      고령자비율     외국인비율  \\\n",
       "1     10294      4930      5364   2.00     23794  도심권  17.435462  7.543105   \n",
       "20    17288      8239      9049   1.84     76664  서남권  14.838328  3.346095   \n",
       "\n",
       "         여성비율  \n",
       "1   51.073870  \n",
       "20  49.873999  "
      ]
     },
     "execution_count": 34,
     "metadata": {},
     "output_type": "execute_result"
    }
   ],
   "source": [
    "df_target.tail(2)"
   ]
  },
  {
   "cell_type": "markdown",
   "metadata": {
    "id": "-ptIJL9hV66O"
   },
   "source": [
    "### **문제 2-5)** 2-3에서 만든 DataFrame을 이용하여 ['고령자비율', '외국인비율', '여성비율', '세대당인구']간의 피어슨 상관계수 행렬(Correlation matrix)를 구하세요. (10점)\n",
    "\n",
    "- 참고\n",
    "    - 상관계수(correlation coefficient): 두 변수가 함께 변하는 정도를 -1 ~ +1 범위의 수로 나타낸 것\n",
    "\n",
    "    - 피어슨 상관계수: 칼 피어슨(Karl Pearson)이 개발한 상관계수로, 일반적으로 상관계수라고 하면 피어슨 상관계수를 말함\n",
    "        - Standard Correlation Coefficient\n",
    "        - r(상관계수) = X와 Y가 함께 변하는 정도 / X와 Y가 각각 변하는 정도\n",
    "<br></br>\n",
    "    - 상관계수 행렬(Correlation Matrix): 변수간 상관계수를 보여주는 행렬\n",
    "<br></br>\n",
    "        - 예시: dog와 cat간의 상관계수 행렬\n",
    "<br></br>\n",
    "        <img src='./images/01-2-5-001.png' width=150>\n",
    "        <img src='./images/01-2-5-002.png' width=350>\n",
    "<br></br>\n",
    "- 완료 후 결과 dataframe 변수를 check_02_05 함수에 입력하여 채점하세요."
   ]
  },
  {
   "cell_type": "code",
   "execution_count": null,
   "metadata": {
    "id": "Ye2GhhvYV66O",
    "outputId": "9be44d02-f1f7-406b-9de5-0fb8b3164df4"
   },
   "outputs": [
    {
     "name": "stdout",
     "output_type": "stream",
     "text": [
      "정답입니다! 10점 누적 되었습니다!\n",
      "현재 누적 점수: 60 / 60\n"
     ]
    },
    {
     "data": {
      "text/html": [
       "<div>\n",
       "<style scoped>\n",
       "    .dataframe tbody tr th:only-of-type {\n",
       "        vertical-align: middle;\n",
       "    }\n",
       "\n",
       "    .dataframe tbody tr th {\n",
       "        vertical-align: top;\n",
       "    }\n",
       "\n",
       "    .dataframe thead th {\n",
       "        text-align: right;\n",
       "    }\n",
       "</style>\n",
       "<table border=\"1\" class=\"dataframe\">\n",
       "  <thead>\n",
       "    <tr style=\"text-align: right;\">\n",
       "      <th></th>\n",
       "      <th>고령자비율</th>\n",
       "      <th>외국인비율</th>\n",
       "      <th>여성비율</th>\n",
       "      <th>세대당인구</th>\n",
       "    </tr>\n",
       "  </thead>\n",
       "  <tbody>\n",
       "    <tr>\n",
       "      <th>고령자비율</th>\n",
       "      <td>1.000000</td>\n",
       "      <td>0.655428</td>\n",
       "      <td>0.079476</td>\n",
       "      <td>-0.809536</td>\n",
       "    </tr>\n",
       "    <tr>\n",
       "      <th>외국인비율</th>\n",
       "      <td>0.655428</td>\n",
       "      <td>1.000000</td>\n",
       "      <td>-0.380941</td>\n",
       "      <td>-0.943776</td>\n",
       "    </tr>\n",
       "    <tr>\n",
       "      <th>여성비율</th>\n",
       "      <td>0.079476</td>\n",
       "      <td>-0.380941</td>\n",
       "      <td>1.000000</td>\n",
       "      <td>0.283602</td>\n",
       "    </tr>\n",
       "    <tr>\n",
       "      <th>세대당인구</th>\n",
       "      <td>-0.809536</td>\n",
       "      <td>-0.943776</td>\n",
       "      <td>0.283602</td>\n",
       "      <td>1.000000</td>\n",
       "    </tr>\n",
       "  </tbody>\n",
       "</table>\n",
       "</div>"
      ],
      "text/plain": [
       "          고령자비율     외국인비율      여성비율     세대당인구\n",
       "고령자비율  1.000000  0.655428  0.079476 -0.809536\n",
       "외국인비율  0.655428  1.000000 -0.380941 -0.943776\n",
       "여성비율   0.079476 -0.380941  1.000000  0.283602\n",
       "세대당인구 -0.809536 -0.943776  0.283602  1.000000"
      ]
     },
     "execution_count": 35,
     "metadata": {},
     "output_type": "execute_result"
    }
   ],
   "source": [
    "# 2-5\n",
    "pivot_corr = df_pivot[['고령자비율', '외국인비율', '여성비율', '세대당인구']].corr()\n",
    "check_02_05(pivot_corr)\n",
    "pivot_corr"
   ]
  },
  {
   "cell_type": "markdown",
   "metadata": {
    "id": "UN45TK_xV66O"
   },
   "source": [
    "## 3단계: 시각화"
   ]
  },
  {
   "cell_type": "markdown",
   "metadata": {
    "id": "ycFBq1cmV66P"
   },
   "source": [
    "### *Pandas DataFrame의 Plot기능, Matplotlib.pyplot, Seaborn 등 시각화 Library를 이용하여 문제에서 제시하는 조건에 맞게 시각화하세요.*\n",
    "***"
   ]
  },
  {
   "cell_type": "code",
   "execution_count": null,
   "metadata": {
    "id": "3WsPt9vkV66P"
   },
   "outputs": [],
   "source": [
    "# 한글 설정\n",
    "import matplotlib.pyplot as plt\n",
    "import seaborn as sns\n",
    "import platform\n",
    "from matplotlib import font_manager, rc\n",
    "\n",
    "get_ipython().run_line_magic(\"matplotlib\", \"inline\")\n",
    "# %matplotlib inline\n",
    "\n",
    "path = \"C:/Windows/Fonts/malgun.ttf\"\n",
    "\n",
    "if platform.system() == \"Darwin\":\n",
    "    rc(\"font\", family=\"Arial Unicode MS\")\n",
    "elif platform.system == \"Windows\":\n",
    "    font_name = font_manager.Fontproperties(fname=path).get_name()\n",
    "    rc(\"font\", family=font_name)\n",
    "else:\n",
    "    print(\"Unkown system. sorry~~\")"
   ]
  },
  {
   "cell_type": "markdown",
   "metadata": {
    "id": "GFTVy0eGV66P"
   },
   "source": [
    "### **문제 3-1)** 자치구별 고령자비율을 내림차순에 따라 barh 그래프로 시각화 하세요.    (10점)\n",
    "\n",
    "- 예시\n",
    "<br></br>\n",
    "    <img src=\"./images/01-3-1-001.png\" style=\"margin:auto\" width=400/>"
   ]
  },
  {
   "cell_type": "code",
   "execution_count": null,
   "metadata": {
    "id": "bCvWRSCKV66P",
    "outputId": "e53356f0-f116-49bb-a87b-340adc61399a"
   },
   "outputs": [
    {
     "data": {
      "image/png": "[encoded data removed]",
      "text/plain": [
       "<Figure size 1000x1000 with 1 Axes>"
      ]
     },
     "metadata": {},
     "output_type": "display_data"
    }
   ],
   "source": [
    "# 3-1: barh\n",
    "df_target.sort_values(by='고령자비율', ascending=True).plot(x='자치구', y='고령자비율', kind='barh', grid=True, figsize=(10,10));"
   ]
  },
  {
   "cell_type": "markdown",
   "metadata": {
    "id": "QXRFWqeiV66Q"
   },
   "source": [
    "### **문제 3-2)** 권역별 등록외국인 계를 PIE chart로 시각화 하세요.    (10점)\n",
    "\n",
    "- 예시\n",
    "<br></br>\n",
    "    <img src=\"./images/01-3-2-001.png\" style=\"margin:auto\" width=400/>"
   ]
  },
  {
   "cell_type": "code",
   "execution_count": null,
   "metadata": {
    "id": "QJgDDn2JV66Q",
    "outputId": "917d84aa-5861-4865-f89e-38cd26da2806"
   },
   "outputs": [
    {
     "data": {
      "image/png": "[encoded data removed]",
      "text/plain": [
       "<Figure size 1000x1000 with 1 Axes>"
      ]
     },
     "metadata": {},
     "output_type": "display_data"
    }
   ],
   "source": [
    "# 3-2: Pie\n",
    "df_pivot.sort_values(by='등록외국인 계', ascending=True).plot(y='등록외국인 계', kind='pie', grid=True, figsize=(10,10));"
   ]
  },
  {
   "cell_type": "markdown",
   "metadata": {
    "id": "IqRfaC6UV66Q"
   },
   "source": [
    "### **문제 3-3)** 권역별 외국인비율을 Box plot으로 시각화 하세요.    (10점)\n",
    "\n",
    "- 예시\n",
    "<br></br>\n",
    "    <img src=\"./images/01-3-3-001.png\" style=\"margin:auto\" width=400/>"
   ]
  },
  {
   "cell_type": "code",
   "execution_count": null,
   "metadata": {
    "id": "h9GGoTyJV66Q",
    "outputId": "bf9ac00d-15a2-4aca-81b5-fe7e4a131608"
   },
   "outputs": [
    {
     "data": {
      "image/png": "[encoded data removed]",
      "text/plain": [
       "<Figure size 1000x1000 with 1 Axes>"
      ]
     },
     "metadata": {},
     "output_type": "display_data"
    }
   ],
   "source": [
    "# 3-3: Boxplot\n",
    "df_target.boxplot(by='권역', column='외국인비율', fontsize=15, figsize=(10,10));"
   ]
  },
  {
   "cell_type": "markdown",
   "metadata": {
    "id": "pNQOePJAV66a"
   },
   "source": [
    "### **문제 3-4)** 자치구별 외국인비율-세대당인구를 Scatter plot에 나타내고, 상관관계에 따른 Regression Line을 시각화 하세요.    (10점)\n",
    "\n",
    "- 예시\n",
    "<br></br>\n",
    "    <img src=\"./images/01-3-4-001.png\" style=\"margin:auto\" width=400/>"
   ]
  },
  {
   "cell_type": "code",
   "execution_count": null,
   "metadata": {
    "id": "xnBmwQdVV66a",
    "outputId": "8c47cb53-5388-4006-886b-6dbce1b7bc6d"
   },
   "outputs": [
    {
     "data": {
      "image/png": "[encoded data removed]",
      "text/plain": [
       "<Figure size 900x900 with 1 Axes>"
      ]
     },
     "metadata": {},
     "output_type": "display_data"
    }
   ],
   "source": [
    "# 3-4: scatterplot + regression\n",
    "import seaborn as sns\n",
    "sns.lmplot(data=df_target, x='외국인비율', y='세대당인구', fit_reg=True, height=9);"
   ]
  }
 ],
 "metadata": {
  "colab": {
   "provenance": []
  },
  "interpreter": {
   "hash": "46e27ede752268be201d36b7fbc2802b29a11b0bb095abacecc6c0428b93624a"
  },
  "kernelspec": {
   "display_name": "Python 3 (ipykernel)",
   "language": "python",
   "name": "python3"
  },
  "language_info": {
   "codemirror_mode": {
    "name": "ipython",
    "version": 3
   },
   "file_extension": ".py",
   "mimetype": "text/x-python",
   "name": "python",
   "nbconvert_exporter": "python",
   "pygments_lexer": "ipython3",
   "version": "3.11.5"
  }
 },
 "nbformat": 4,
 "nbformat_minor": 4
}
