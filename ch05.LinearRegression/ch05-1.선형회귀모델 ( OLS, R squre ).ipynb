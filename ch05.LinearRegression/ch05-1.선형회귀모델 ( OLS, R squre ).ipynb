{
 "cells": [
  {
   "cell_type": "markdown",
   "id": "91a90174",
   "metadata": {},
   "source": [
    "# OLS : Ordinary Linear Least Square"
   ]
  },
  {
   "cell_type": "markdown",
   "id": "611ffea8",
   "metadata": {},
   "source": [
    "### 5개의 (xi, yi) 점을 나타내는 데이터프레임 정의"
   ]
  },
  {
   "cell_type": "code",
   "execution_count": 2,
   "id": "862a90bf",
   "metadata": {},
   "outputs": [
    {
     "data": {
      "text/html": [
       "<div>\n",
       "<style scoped>\n",
       "    .dataframe tbody tr th:only-of-type {\n",
       "        vertical-align: middle;\n",
       "    }\n",
       "\n",
       "    .dataframe tbody tr th {\n",
       "        vertical-align: top;\n",
       "    }\n",
       "\n",
       "    .dataframe thead th {\n",
       "        text-align: right;\n",
       "    }\n",
       "</style>\n",
       "<table border=\"1\" class=\"dataframe\">\n",
       "  <thead>\n",
       "    <tr style=\"text-align: right;\">\n",
       "      <th></th>\n",
       "      <th>x</th>\n",
       "      <th>y</th>\n",
       "    </tr>\n",
       "  </thead>\n",
       "  <tbody>\n",
       "    <tr>\n",
       "      <th>0</th>\n",
       "      <td>1.0</td>\n",
       "      <td>1.0</td>\n",
       "    </tr>\n",
       "    <tr>\n",
       "      <th>1</th>\n",
       "      <td>2.0</td>\n",
       "      <td>3.0</td>\n",
       "    </tr>\n",
       "    <tr>\n",
       "      <th>2</th>\n",
       "      <td>3.0</td>\n",
       "      <td>4.0</td>\n",
       "    </tr>\n",
       "    <tr>\n",
       "      <th>3</th>\n",
       "      <td>4.0</td>\n",
       "      <td>6.0</td>\n",
       "    </tr>\n",
       "    <tr>\n",
       "      <th>4</th>\n",
       "      <td>5.0</td>\n",
       "      <td>5.0</td>\n",
       "    </tr>\n",
       "  </tbody>\n",
       "</table>\n",
       "</div>"
      ],
      "text/plain": [
       "     x    y\n",
       "0  1.0  1.0\n",
       "1  2.0  3.0\n",
       "2  3.0  4.0\n",
       "3  4.0  6.0\n",
       "4  5.0  5.0"
      ]
     },
     "execution_count": 2,
     "metadata": {},
     "output_type": "execute_result"
    }
   ],
   "source": [
    "import pandas as pd\n",
    "\n",
    "data = {'x': [1., 2., 3., 4., 5.], 'y':[1., 3., 4., 6., 5.]}\n",
    "df = pd.DataFrame(data)\n",
    "df"
   ]
  },
  {
   "cell_type": "markdown",
   "id": "2121213a",
   "metadata": {},
   "source": [
    "### 가설 설정\n",
    "- 5개의 점을 대표하는 직선을 나타내기 위해 ols 이용"
   ]
  },
  {
   "cell_type": "code",
   "execution_count": 5,
   "id": "a3110c98",
   "metadata": {},
   "outputs": [
    {
     "data": {
      "text/plain": [
       "Intercept    0.5\n",
       "x            1.1\n",
       "dtype: float64"
      ]
     },
     "execution_count": 5,
     "metadata": {},
     "output_type": "execute_result"
    }
   ],
   "source": [
    "import statsmodels.formula.api as smf\n",
    "\n",
    "lm_model = smf.ols(formula='y~x', data=df).fit()\n",
    "lm_model.params"
   ]
  },
  {
   "cell_type": "markdown",
   "id": "920b77a1",
   "metadata": {},
   "source": [
    "### seaborn 이용한 시각화 plot"
   ]
  },
  {
   "cell_type": "code",
   "execution_count": 6,
   "id": "47f41362",
   "metadata": {},
   "outputs": [],
   "source": [
    "import matplotlib as plt\n",
    "import seaborn as sns\n",
    "%matplotlib inline"
   ]
  },
  {
   "cell_type": "code",
   "execution_count": 7,
   "id": "15d07669",
   "metadata": {},
   "outputs": [
    {
     "data": {
      "text/plain": [
       "<seaborn.axisgrid.FacetGrid at 0x26b3f295410>"
      ]
     },
     "execution_count": 7,
     "metadata": {},
     "output_type": "execute_result"
    },
    {
     "data": {
      "image/png": "[encoded data removed]",
      "text/plain": [
       "<Figure size 500x500 with 1 Axes>"
      ]
     },
     "metadata": {},
     "output_type": "display_data"
    }
   ],
   "source": [
    "sns.lmplot(x='x', y='y', data=df)"
   ]
  },
  {
   "cell_type": "markdown",
   "id": "5b6397f1",
   "metadata": {},
   "source": [
    "---"
   ]
  },
  {
   "cell_type": "markdown",
   "id": "97c51811",
   "metadata": {},
   "source": [
    "# 잔차 residual\n",
    "- 실제 값과 직선과의 차이 == 오차를 의미한다"
   ]
  },
  {
   "cell_type": "code",
   "execution_count": 8,
   "id": "c75b6dc2",
   "metadata": {},
   "outputs": [
    {
     "data": {
      "text/plain": [
       "0   -0.6\n",
       "1    0.3\n",
       "2    0.2\n",
       "3    1.1\n",
       "4   -1.0\n",
       "dtype: float64"
      ]
     },
     "execution_count": 8,
     "metadata": {},
     "output_type": "execute_result"
    }
   ],
   "source": [
    "resid = lm_model.resid\n",
    "resid"
   ]
  },
  {
   "cell_type": "markdown",
   "id": "8f480b52",
   "metadata": {},
   "source": [
    "### 결정계수 R-squred"
   ]
  },
  {
   "cell_type": "markdown",
   "id": "c208e4a8",
   "metadata": {},
   "source": [
    "![nn](img/r_squre.png)"
   ]
  },
  {
   "cell_type": "markdown",
   "id": "218de550",
   "metadata": {},
   "source": [
    "### R-squred = ssR / ssT\n",
    "- 녹색 선: 실제 값들의 평균\n",
    "\n",
    "- ssE = 예측값과 실제값의 차이\n",
    "- ssR = 예측값과 평균의 차이\n",
    "\n",
    "- ssT = ssE + ssR"
   ]
  },
  {
   "cell_type": "code",
   "execution_count": 11,
   "id": "f6200595",
   "metadata": {},
   "outputs": [
    {
     "data": {
      "text/plain": [
       "0.8175675675675678"
      ]
     },
     "execution_count": 11,
     "metadata": {},
     "output_type": "execute_result"
    }
   ],
   "source": [
    "import numpy as np\n",
    "\n",
    "# 실제 값들의 평균\n",
    "mu = np.mean(df.y)\n",
    "\n",
    "# 실제 y\n",
    "y = df.y\n",
    "\n",
    "# 예측 y_hat\n",
    "y_hat = lm_model.predict()\n",
    "\n",
    "# 수식 표현\n",
    "np.sum((y_hat-mu)**2 / np.sum((y-mu)**2))"
   ]
  },
  {
   "cell_type": "markdown",
   "id": "f79bc228",
   "metadata": {},
   "source": [
    "### 라이브러리 사용하여 R-squared 구할 수 있음"
   ]
  },
  {
   "cell_type": "code",
   "execution_count": 14,
   "id": "6b5f43a5",
   "metadata": {},
   "outputs": [
    {
     "data": {
      "text/plain": [
       "0.8175675675675677"
      ]
     },
     "execution_count": 14,
     "metadata": {},
     "output_type": "execute_result"
    }
   ],
   "source": [
    "lm_model.rsquared"
   ]
  },
  {
   "cell_type": "markdown",
   "id": "c1dad1e7",
   "metadata": {},
   "source": [
    "### 잔차 분포"
   ]
  },
  {
   "cell_type": "code",
   "execution_count": 18,
   "id": "f8e5a171",
   "metadata": {},
   "outputs": [
    {
     "name": "stderr",
     "output_type": "stream",
     "text": [
      "C:\\Users\\User\\AppData\\Local\\Temp\\ipykernel_13612\\1258040113.py:1: UserWarning: \n",
      "\n",
      "`distplot` is a deprecated function and will be removed in seaborn v0.14.0.\n",
      "\n",
      "Please adapt your code to use either `displot` (a figure-level function with\n",
      "similar flexibility) or `histplot` (an axes-level function for histograms).\n",
      "\n",
      "For a guide to updating your code to use the new functions, please see\n",
      "https://gist.github.com/mwaskom/de44147ed2974457ad6372750bbe5751\n",
      "\n",
      "  sns.distplot(resid, color='black');\n"
     ]
    },
    {
     "data": {
      "image/png": "[encoded data removed]",
      "text/plain": [
       "<Figure size 640x480 with 1 Axes>"
      ]
     },
     "metadata": {},
     "output_type": "display_data"
    }
   ],
   "source": [
    "sns.distplot(resid, color='black');"
   ]
  }
 ],
 "metadata": {
  "kernelspec": {
   "display_name": "Python 3 (ipykernel)",
   "language": "python",
   "name": "python3"
  },
  "language_info": {
   "codemirror_mode": {
    "name": "ipython",
    "version": 3
   },
   "file_extension": ".py",
   "mimetype": "text/x-python",
   "name": "python",
   "nbconvert_exporter": "python",
   "pygments_lexer": "ipython3",
   "version": "3.11.3"
  }
 },
 "nbformat": 4,
 "nbformat_minor": 5
}
